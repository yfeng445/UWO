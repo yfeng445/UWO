{
 "cells": [
  {
   "cell_type": "markdown",
   "metadata": {},
   "source": [
    "# Midterm\n",
    "# Student ID: XXXXXXXXX <font color = 'red'> (XX / 100) </font>\n",
    "\n",
    "## General comments \n",
    "This Midterm integrates knowledge and skills acquired in the first half of the semester, especially in the 5 Assignments. You are allowed to use any document and source on your computer and look up documents on the internet. **You or not allowed to share documents, or communicate in any other way with people inside or outside the classroom during the midterm.** To finish the midterm in the alloted 2 hrs, you will have to work efficiently. **Read the entirety of each question carefully.**\n",
    "You need to submit the midterm by the due date (16:20) on OWL under Assignments/Midterm. Late submission will be scored with 0 pts, unless you have received extra accommadation. So please start submission 5 min before the end!  \n",
    "\n",
    "### Additional Guidance\n",
    "\n",
    "If at any point you are asking yourself \"are we supposed to...\", then *write your assumptions clearly in your exam and proceed according to those assumptions.*\n",
    "\n",
    "Good luck!"
   ]
  },
  {
   "cell_type": "code",
   "execution_count": null,
   "metadata": {},
   "outputs": [],
   "source": [
    "## Preliminaries\n",
    "# Sets up the environment by importing \n",
    "# pandas, numpy, matplotlib, and statsmodels.\n",
    "\n",
    "### YOU MAY ADD ADDITIONAL IMPORTS IF YOU WISH\n",
    "\n",
    "import matplotlib\n",
    "import matplotlib.pyplot as plt \n",
    "%matplotlib inline\n",
    "import scipy.stats as ss\n",
    "import pandas as pd \n",
    "import numpy as np\n",
    "import seaborn as sns\n",
    "import statsmodels.formula.api as smf\n",
    "\n",
    "import sklearn as sk \n",
    "from sklearn.model_selection import train_test_split, cross_val_score\n",
    "from sklearn.pipeline import Pipeline\n",
    "from sklearn.linear_model import LinearRegression\n",
    "from sklearn.preprocessing import PolynomialFeatures, StandardScaler\n",
    "from sklearn.metrics import make_scorer, mean_absolute_error"
   ]
  },
  {
   "cell_type": "markdown",
   "metadata": {},
   "source": [
    "---\n",
    "## Data set \n",
    "The Child Health and Development Studies investigate a range of topics. One study considered all pregnancies between 1960 and 1967 among women in the Kaiser Foundation Health Plan in the San Francisco East Bay area.\n",
    "\n",
    "The data frame contains the following data, where each row represents a baby:\n",
    "\n",
    "- bwt: birth weight (ounces)\n",
    "- gestation: length of pregnancy (days)\n",
    "- parity: 0 if mom's first baby, 1 if not mom's first baby\n",
    "- age: mom's age (years)\n",
    "- height: mom's height (inches)\n",
    "- weight: mom's weight (pounds)\n",
    "- smoke: 0 if mom is nonsmoker, 1 if mom is smoker\n",
    "\n",
    "Note that babies that are born with a gestation of less than 37 weeks (259 days) are considered pre-term. The survival rate of babies born before week 22 (154 days) is only 6%.\n",
    "\n",
    "Overall this midterm will focus on building a good predictive model for the **birth weight** of a baby. This is because low birthweight is a strong risk factor for various developement delays and disorders."
   ]
  },
  {
   "cell_type": "code",
   "execution_count": null,
   "metadata": {},
   "outputs": [],
   "source": [
    "# Load the data set and drop the case number, as well as any Missing observations: \n",
    "df = pd.read_csv('babies.csv').drop('case',axis='columns').dropna()"
   ]
  },
  {
   "cell_type": "markdown",
   "metadata": {},
   "source": [
    "---\n",
    "---\n",
    "## Task 1: Choosing a training loss function (35pt)"
   ]
  },
  {
   "cell_type": "markdown",
   "metadata": {},
   "source": [
    "---\n",
    "### Question 1.1 - Warm up (X / 2 pt)\n",
    "Written answer: report the number of observations and the number of variables that you have in the data set. "
   ]
  },
  {
   "cell_type": "code",
   "execution_count": null,
   "metadata": {},
   "outputs": [],
   "source": []
  },
  {
   "cell_type": "markdown",
   "metadata": {},
   "source": [
    "### Question 1.2 - visualization (X / 5pt)\n",
    "Generate a plot that visualizes the joint distribution of gestation and birth weight. Also display plots that show the marginal distributions of gestation and birth weight seperately.  "
   ]
  },
  {
   "cell_type": "code",
   "execution_count": null,
   "metadata": {},
   "outputs": [],
   "source": []
  },
  {
   "cell_type": "markdown",
   "metadata": {},
   "source": [
    "---\n",
    "### Question 1.3 - Outliers (X / 5pt)\n",
    "Written answer: Based on the plot that shows the joint distribution of birth weight and gestation, check for ourliers in the data set. Are there unusual observations in the data set? Would you include or exclude them in the analysis? Please justify your answer. \n",
    "\n",
    "*Please note that independent of your answer, we will actually not remove any observation from the data set for further analysis*"
   ]
  },
  {
   "cell_type": "markdown",
   "metadata": {},
   "source": [
    "Written answer:"
   ]
  },
  {
   "cell_type": "markdown",
   "metadata": {},
   "source": [
    "---\n",
    "### Question 1.4 - Different training losses (X/13pt)\n",
    "We now want to build a good predictive model for birth weight, based on a 3-rd order polynomial expansion on gestation. To do so, we first want to decide whether to build a model using a squared error training loss function, or an absolute deviation training loss function. To do so, take the following steps: \n",
    "\n",
    "* reserve 300 data points as a test set (random_state = 0)\n",
    "* define a model with a 3rd order polynomial expansion of gestation (including linear, quadratic and cubic term) \n",
    "* fit the model (including intercept) using the squared error as training loss\n",
    "* fit the model (including intercept) using the mean absolute deviation as training loss \n",
    "* generate a scatter plot of gestation (x-axis) and birthweight (y-axis) for the trainingg data and superimpose the fit of the two fitted models "
   ]
  },
  {
   "cell_type": "code",
   "execution_count": null,
   "metadata": {},
   "outputs": [],
   "source": []
  },
  {
   "cell_type": "markdown",
   "metadata": {},
   "source": [
    "---\n",
    "### Question 1.5 - Test error (X / 7pt)\n",
    "\n",
    "Report the performance of *both fitted models* from Question 1.4 on the test set, using the mean absolute error as the test loss. Also report the 95% confidence interval of mean absolute error (the test loss) of each model. \n"
   ]
  },
  {
   "cell_type": "code",
   "execution_count": null,
   "metadata": {},
   "outputs": [],
   "source": []
  },
  {
   "cell_type": "markdown",
   "metadata": {},
   "source": [
    "---\n",
    "### Question 1.6 Interpreting differences in test error (X / 3pt)\n",
    "Written answer: Based on these numbers, which training loss would you choose? Does the data provide a strong argument for for using one of these training loss functions? Justify you answer.  "
   ]
  },
  {
   "cell_type": "markdown",
   "metadata": {},
   "source": [
    "Written answer:"
   ]
  },
  {
   "cell_type": "markdown",
   "metadata": {},
   "source": [
    "---\n",
    "---\n",
    "## Task 2: Selecting more features for a better model (30pt)"
   ]
  },
  {
   "cell_type": "markdown",
   "metadata": {},
   "source": [
    "---\n",
    "### Question 2.1 - Selecting features using forward search (23pt)\n",
    "\n",
    "For Task 2, use the same data, and training / test split as in task 1, and use the mean squared error as the training loss function. *Just using the training data*, please select what variables that you want to include in the model (over and above gestation) to make the best possible prediction for the test data. \n",
    "Start with a model that uses the a 3-rd order polynomial expansion on gestation as a base model. Then decide - using forward search - whether to include **age** and/or **smoke** as a variable into the model. Show all the steps of your forward seearch and justify which models you are trying. Note that you could also decide that it's best not to include any new variables.  \n",
    "\n",
    "Written answer: Decide whether to use the (mean squared) training error or the (mean squared) validation error (obtained using 5-fold crossvalidation) to select the best model. Justify why you are using which.\n",
    "\n",
    "Finally report the best model. "
   ]
  },
  {
   "cell_type": "markdown",
   "metadata": {},
   "source": [
    "Written answer:"
   ]
  },
  {
   "cell_type": "code",
   "execution_count": null,
   "metadata": {},
   "outputs": [],
   "source": [
    "#Code answer:"
   ]
  },
  {
   "cell_type": "markdown",
   "metadata": {},
   "source": [
    "---\n",
    "### Question 2.2 Describe your model selection procedure (X / 7pt)\n",
    "Written answer: describe the procedure you used in 2.1, as you would in a method section of a research paper. Note: you do not need to describe specific function, but do not assume that the reader exactly knows what forward search is. You will need to give the reader sufficient information, so he/she could replicate your results.  "
   ]
  },
  {
   "cell_type": "raw",
   "metadata": {},
   "source": [
    "Written answer:"
   ]
  },
  {
   "cell_type": "markdown",
   "metadata": {},
   "source": [
    "---\n",
    "---\n",
    "## Task 3: Regularized models  (35pt)\n",
    "We are now fitting and evaluting a regularized model. To get a better evaluation, we will this time use a test set of size 1000. "
   ]
  },
  {
   "cell_type": "code",
   "execution_count": null,
   "metadata": {},
   "outputs": [],
   "source": [
    "Dtrain,Dtest = train_test_split(df,test_size=1000,random_state=0)"
   ]
  },
  {
   "cell_type": "markdown",
   "metadata": {},
   "source": [
    "---\n",
    "### Question 3.1: Building a complex model (X / 5pt)\n",
    "For the training data, use the following polynomial features expansion to build a model to predict the birth weight (bwt):  \n",
    "\n",
    "* gestation: 3rd order polynomial (as in Question 1.4)\n",
    "* parity: 1st order polynomial\n",
    "* age: 2nd order polynomial \n",
    "* height: 1st order polynomial  \n",
    "* smoke: 1st order polynomial \n",
    "* smoke x age interaction \n",
    "* smoke x gestation interaction \n",
    "\n",
    "z-standardize your regressors. "
   ]
  },
  {
   "cell_type": "code",
   "execution_count": null,
   "metadata": {},
   "outputs": [],
   "source": []
  },
  {
   "cell_type": "markdown",
   "metadata": {},
   "source": [
    "### Question 3.2- More complex? (X / 2 pt) \n",
    "Written answer: Would it make sense to include the 2nd order polynmial of smoke? Justify your answer. \n"
   ]
  },
  {
   "cell_type": "markdown",
   "metadata": {},
   "source": [
    " Written answer:"
   ]
  },
  {
   "cell_type": "markdown",
   "metadata": {},
   "source": [
    "### Question 3.3 - Training and testing error (X / 10pt)\n",
    "Fit the model from 3.1 on the the training data using ridge regression with a regularization coefficient of $exp(-20)$. Evaluate the fit of the model using $R^2$ and also calculate the proportion of variance predicted on the test data. \n",
    "Then repeat the same steps, this time using a regularization coefficient of $exp(-1)$. Again report $R^2$ for training and test set.  \n",
    "\n",
    "Written answer: How do training $R^2$ and test $R^2$ change? Why? "
   ]
  },
  {
   "cell_type": "code",
   "execution_count": null,
   "metadata": {},
   "outputs": [],
   "source": [
    "# Code"
   ]
  },
  {
   "cell_type": "markdown",
   "metadata": {},
   "source": [
    "Written answer:"
   ]
  },
  {
   "cell_type": "markdown",
   "metadata": {},
   "source": [
    "### Question 3.4 - Choosing a ridge coefficient (X / 10pt)\n",
    "Based on the training set alone, use leave-one-out crossvalidation to determine the best value for the ridge coefficient. \n",
    "Vary the ridge coefficient from exp(-15) to exp(5) in 21 steps. Make a plot of the validation error against the log of the ridge coefficient. Which value for the ridge coefficient do you chose? \n"
   ]
  },
  {
   "cell_type": "code",
   "execution_count": null,
   "metadata": {},
   "outputs": [],
   "source": []
  },
  {
   "cell_type": "markdown",
   "metadata": {},
   "source": [
    "### Question 3.5 - A new regression method (X / 8pt)\n",
    "Another researcher suggest to fit the data using a model in which the predicted values for y are:\n",
    "\n",
    "$$ \\hat{y} = exp(\\beta^T \\mathbf{x}_i)$$\n",
    "\n",
    "Where $\\mathbf{x}_i$ are the value for the indepenent variables for observation $i$.\n",
    "The vector of regression coefficients $\\beta$ is fitted by mimimzing the following objective function:  \n",
    "$$ J = \\sum_{i=1}^N\\Bigg(-y_{i}\\cdot \\ln(\\hat{y}_i) + \\hat{y}_i + \\ln(y_i!) \\Bigg) + \\frac{\\lambda}{2} \\|\\beta\\|^2_2.$$\n",
    "\n",
    "Written answer: \n",
    "* What probabilistic model would justify this regression model. Clearly indicate which of the variables ($x, y , \\beta, \\lambda$) are considered random variables in the model and which ones are considered constants. What distribution is assumed for each of the random variables? \n",
    "* Based on the probablistic model, what would be an adequate, self-explanatory name for this new technique?  \n",
    "* Do you think this new method could be appropriately applied to the current data for predicting birth weight? Which aspects would be more adequate than the ridge-regression you have been using? Which aspects would argue it is not a good model for the current problem? "
   ]
  },
  {
   "cell_type": "markdown",
   "metadata": {},
   "source": [
    "Written answer:"
   ]
  }
 ],
 "metadata": {
  "kernelspec": {
   "display_name": "Python 3",
   "language": "python",
   "name": "python3"
  },
  "language_info": {
   "codemirror_mode": {
    "name": "ipython",
    "version": 3
   },
   "file_extension": ".py",
   "mimetype": "text/x-python",
   "name": "python",
   "nbconvert_exporter": "python",
   "pygments_lexer": "ipython3",
   "version": "3.7.1"
  }
 },
 "nbformat": 4,
 "nbformat_minor": 1
}
