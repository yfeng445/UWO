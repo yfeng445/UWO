<!DOCTYPE html>
<html lang="" dir="" class="Mrphs-html">
    <head>
        <meta charset="utf-8">
        <title>Login Required - OWL</title>
        <meta name="viewport" content="width=device-width, initial-scale=1">        
        <link href="/library/skin/morpheus-default/tool.css" type="text/css" rel="stylesheet" media="all" />
        <script src="/library/skin/morpheus-default/js/lib/modernizr.js"></script>
        </head>
    <body class="portalBody Mrphs-portalBody">
    	<form id="Mrphs-xlogin" method="post" action="https://owl.uwo.ca/access/login" >
            <h1>Login Required</h1>
            <aside class="logo"></aside>
                            		<fieldset>	
    			<label for="eid">user id</label>
    			<input name="eid" id="eid" value="" type="text" autocomplete="username" size="15"/>
    			<label for="pw">password</label>
    			<input name="pw" id="pw" value="" type="password" autocomplete="current-password" onfocus="this.passwordfocus = true; " size="15"/>
    			    			<p class="buttons act">
    			    				<input name="submit" type="submit" id="submit" class="active" value="Log In"/>
    			    			</p>
    			    				<p>
    					<a href="https://owl.uwo.ca/portal/site/!gateway/page/0843e7f9-5eb3-4eb1-82c6-8e7720f168e9">Forgot your password?</a>
    				</p>
    			    		</fieldset>
    	</form>
    	    	<script>
    		var portal       = 'body';
    	    var needJQuery   = true;
    	    var secondJQuery = false;
    	    if ( window.jQuery ) {
    	        tver = jQuery.fn.jquery;
    	        if ( tver.indexOf('1.9.') == 0 ) {
    	            needJQuery = false;
    	        } else {
    	            secondJQuery = true;
    	        }
    	    }
    	    if ( needJQuery ) {
    	        document.write('\x3Cscript src="/library/webjars/jquery/1.12.4/jquery.min.js">'+'\x3C/script>')
    	        document.write('\x3Cscript src="/library/webjars/jquery-ui/1.12.1/jquery-ui.min.js">'+'\x3C/script>')
    	        document.write('\x3Cscript src="/library/webjars/jquery-migrate/1.4.1/jquery-migrate.min.js">'+'\x3C/script>')
    	    }
    	</script>
    	<script>
    	    $PBJQ = jQuery; // The Portal's jQuery (also in $ for now)
    	</script>
    	<script src="/library/skin/morpheus-default/js/morpheus.scripts.min.js"></script>
    	<script src="/library/js/caps-lock-checker.js"></script>
    </body>
</html>
