{
 "cells": [
  {
   "cell_type": "markdown",
   "metadata": {
    "id": "Z__Ux3ZqGVmO"
   },
   "source": [
    "# Grade: /100 Marks\n",
    "\n",
    "# Assignment 02: Maximum Likelihood\n",
    "\n",
    "### Follow These Instructions\n",
    "\n",
    "Once you are finished, ensure to complete the following steps.\n",
    "\n",
    "1.  Restart your kernel by clicking 'Kernel' > 'Restart & Run All'.\n",
    "\n",
    "2.  Fix any errors which result from this.\n",
    "\n",
    "3.  Repeat steps 1. and 2. until your notebook runs without errors.\n",
    "\n",
    "4.  Submit your completed notebook to OWL by the deadline.\n",
    "\n",
    "### Maximum Likelihood\n",
    "\n",
    "The [exponential distribution](https://en.wikipedia.org/wiki/Exponential_distribution) is a continuous probability distribution often used to predict time when an event might ocurr, for instance Earthquake.\n",
    "\n",
    "If we know $y$ is influenced by feature $x$, then we can use the maximum likelihood principle to develop a regression model that estimates the mean of $Y$ given $X=x$."
   ]
  },
  {
   "cell_type": "markdown",
   "metadata": {
    "id": "BEF00PqqZq6a"
   },
   "source": [
    "### Global Toolbox"
   ]
  },
  {
   "cell_type": "code",
   "execution_count": null,
   "metadata": {
    "id": "oNR5_78NGVmS",
    "is_executing": true
   },
   "outputs": [],
   "source": [
    "# Packages for this assignment\n",
    "import numpy as np\n",
    "import matplotlib.pyplot as plt\n",
    "import pandas as pd\n",
    "import scipy.optimize as so\n",
    "from sklearn.linear_model import LinearRegression\n",
    "from sklearn.metrics import mean_squared_error\n",
    "from IPython.display import display"
   ]
  },
  {
   "cell_type": "markdown",
   "metadata": {
    "id": "VmUVT942GVmT"
   },
   "source": [
    "### Question 1: /2 Marks\n",
    "\n",
    "The negative log likelihood for a exponential random variable is\n",
    "\n",
    "$$\\ell(\\lambda; \\mathbf{y}) = -\\sum_{i=1}^N\\Bigg(\\ln(\\lambda) - \\lambda y_i \\Bigg)$$\n",
    "\n",
    "Here, $\\mathbf{y}=(y_i) \\in \\mathbb{R^N}$ is a vector  and $\\lambda$ is a scalar value.\n",
    "\n",
    "Define a function called `exponentialNegLogLikelihood` that takes a vector  $\\mathbf{y}$ and a parameter $\\lambda$ and returns the negative log likelihood.\n",
    "\n",
    "Test your function by calling it with `lamb = 2` and `y = np.array([1, 4, 6, 15])`. It should yield a value about 49.23.\n",
    "\n",
    "Test your function by calling it with `lamb = np.array([1, 0.5, 8, 5])` and  `y = np.array([1.5, 0.8, 5.5, 4])`. It should yield a value about 62.90.\n",
    "\n",
    "FYI: The domain of logarithmic function of $\\lambda$ is $\\lambda > 0$."
   ]
  },
  {
   "cell_type": "code",
   "execution_count": null,
   "metadata": {
    "id": "5okkxPQuGVmT"
   },
   "outputs": [],
   "source": [
    "# Write the function\n",
    "\n",
    "\n",
    "def exponentialNegLogLikelihood(lamb, y):\n",
    "    result = 0\n",
    "    if (type(lamb) == type(0)):\n",
    "        for i in range(len(y)):\n",
    "            result += np.log(lamb) - lamb * y[i]\n",
    "        return 0-result\n",
    "    elif (len(lamb) == len(y)):\n",
    "        for i in range(len(y)):\n",
    "            result += np.log(lamb[i]) - lamb[i] * y[i]\n",
    "        return 0-result\n",
    "    else:\n",
    "        return None\n",
    "    \n",
    "\n",
    "# 2 pts"
   ]
  },
  {
   "cell_type": "markdown",
   "metadata": {
    "id": "hLcgtM3gGVmX"
   },
   "source": [
    "---\n",
    "\n",
    "### Question 2: /3 Marks\n",
    "\n",
    "Write a function called `exponentialRegressionNegLogLikelihood` that takes as arguments a vector $\\mathbf{y}$ , a design matrix $\\mathbf{X}$ of features, and a vector $\\mathbf{\\beta}$ of parameters. The function should return the negative log likelihood of this dataset, assuming that each element of  $\\mathbf{y}$ is independent, and exponentially distributed with $\\lambda=\\exp(-\\mathbf{X}\\beta)$.\n",
    "\n",
    "Test your function by calling it with\n",
    "* `b = np.array([2, 1])`\n",
    "* `X = np.array([[1.4, 2, 0.8], [2.2, 1.5, 3]]).T`\n",
    "* `y = np.array([1, 2.5, 12])`\n",
    "\n",
    "It should yield a value about 15.24."
   ]
  },
  {
   "cell_type": "code",
   "execution_count": null,
   "metadata": {
    "id": "5SC8fRojGVmX"
   },
   "outputs": [],
   "source": [
    "# Write the function\n",
    "def exponentialRegressionNegLogLikelihood(b,X,y):\n",
    "    return exponentialNegLogLikelihood(np.exp(-np.dot(X,b)), y)\n",
    "\n",
    "# 3 pts"
   ]
  },
  {
   "cell_type": "markdown",
   "metadata": {
    "id": "G9XV1DaJGVmY"
   },
   "source": [
    "---\n",
    "### Question 3: /2 Marks\n",
    "\n",
    "Answer the questions:\n",
    "\n",
    "1. In `exponentialRegressionNegLogLikelihood`, what problem can happen if we assume that $\\lambda = \\mathbf{X}\\beta$?. [1 pts]\n",
    "\n",
    "\n",
    "2. What property of the exponential distribution is guaranteed when we assume that $\\lambda$ has the form of $\\exp(-\\mathbf{X}\\beta)$? [1 pts]\n",
    "\n",
    "\n",
    "**Written Answer:**\n"
   ]
  },
  {
   "cell_type": "markdown",
   "source": [
    "1. if we calculate the lambda without negative sign, it is possible that we may get a negative value if beta is negative\n",
    "2. to keep the result positive"
   ],
   "metadata": {
    "collapsed": false
   }
  },
  {
   "cell_type": "markdown",
   "metadata": {
    "id": "4euBU8yfGVmZ"
   },
   "source": [
    "---\n",
    "### Question 4: /2 Marks\n",
    "\n",
    "Write a function called `Model_predict` whose arguments are a vector of coefficents $\\beta$ and a design matrix $\\mathbf{X}$, and its outputs are predictions of the form $\\widehat{\\mathbf{y}} = \\exp(\\mathbf{X}\\beta)$.\n",
    "\n",
    "Test your function by calling it with\n",
    "* `b = np.array([2, 1])`\n",
    "* `X = np.array([[1.4, 2, 0.8], [2.2, 1.5, 3]]).T`\n",
    "\n",
    "It should yield an array with elements being about 148.4, 244.7, 99.5."
   ]
  },
  {
   "cell_type": "code",
   "execution_count": null,
   "metadata": {
    "id": "tysS6_lKGVmZ"
   },
   "outputs": [],
   "source": [
    "# Write the function\n",
    "def Model_predict(X, b):\n",
    "    return np.exp(np.dot(X, b))\n",
    "# 2 pts"
   ]
  },
  {
   "cell_type": "markdown",
   "metadata": {
    "id": "xD9sS7SwGVmZ"
   },
   "source": [
    "---\n",
    "### Question 5: /7 Marks\n",
    "\n",
    "Write a function called `Model_fit` which accepts as its first argument a design matrix $\\mathbf{X}$ and as its second argument a vector of $\\mathbf{y}$. Its output should be the maximum likelihood estimates for the coefficients of exponential regression of $\\mathbf{y}$ onto $\\mathbf{X}$.\n",
    "\n",
    "Test your function by calling it with\n",
    "* `X = np.array([[1.4, 2, 0.8], [2.2, 1.5, 3]]).T`\n",
    "* `y = np.array([0, 2.5, 10])`\n",
    "\n",
    "Print the estimated coefficient $b$."
   ]
  },
  {
   "cell_type": "code",
   "execution_count": null,
   "metadata": {
    "id": "Dvcyhi2LGVma"
   },
   "outputs": [],
   "source": [
    "# Write the function\n",
    "def Model_fit(X,y):\n",
    "    # Instantiate a guess for the betas, beta_start, so that the optimizer has somewhere to start\n",
    "    # Keep in mind what shape the beta_start should be. It shoud have the same number of elements as X as columns\n",
    "    X_design = np.hstack([np.ones((X.shape[0], 1)), X])\n",
    "    beta_start = np.zeros(X_design.shape[1])\n",
    "    # Minimize the appropriate likelihood function\n",
    "    mle = so.minimize(exponentialRegressionNegLogLikelihood, beta_start, args=(X_design, y))\n",
    "    # Extract the maximum likelihood estimates from the optimizer.\n",
    "    betas = mle.x\n",
    "    return betas\n",
    "# 5 pts"
   ]
  },
  {
   "cell_type": "code",
   "execution_count": null,
   "metadata": {
    "id": "dpFPecADGVma"
   },
   "outputs": [],
   "source": [
    "# Test the function and print estimated b\n",
    "X = np.array([[1.4, 2, 0.8], [2.2, 1.5, 3]]).T\n",
    "y = np.array([0, 2.5, 10])\n",
    "\n",
    "print(Model_fit(X,y))\n",
    "# 2 pts"
   ]
  },
  {
   "cell_type": "markdown",
   "metadata": {
    "id": "u39d5e41GVma"
   },
   "source": [
    "---\n",
    "### Question 6: /12 Mark(s)\n",
    "\n",
    "Use the data `exponential_regression.csv`, where $y$ represents time units to fit a exponential regression using the functions that you already have created.\n",
    "\n",
    "* Use your function to estimate the coefficients.\n",
    "* Use `mean_squared_error` to calculate the regression error.\n",
    "* Plot a scatterplot of the data as well as the regression curve (plot with the range over $x \\in [-2.15, 2.15]$).\n"
   ]
  },
  {
   "cell_type": "code",
   "execution_count": null,
   "metadata": {
    "id": "Wy9GbqvOGVma"
   },
   "outputs": [],
   "source": [
    "# Load the data\n",
    "# Notice that this file is separated by semicolon (Hint: specify \"sep=\")\n",
    "data = pd.read_csv(\"exponential_regression.csv\")\n",
    "# 1 pts\n",
    "\n",
    "# Get the x and y. Create the design matrix X\n",
    "xlist = []\n",
    "ylist = []\n",
    "for index, row in data.iterrows():\n",
    "    rowData = row[0].split(\";\")\n",
    "    xlist.append(float(rowData[0]))\n",
    "    ylist.append(float(rowData[1]))\n",
    "\n",
    "x = np.array([xlist]).T\n",
    "y = np.array(ylist)\n",
    "# 2 pts\n",
    "\n",
    "# Find the maximum likelihood estimates for the coefficients\n",
    "betas = Model_fit(x, y)\n",
    "print(f'The estimated coefficients are :{betas}')\n",
    "# 2 pts"
   ]
  },
  {
   "cell_type": "code",
   "execution_count": null,
   "metadata": {
    "id": "nPL1f5DRZq6h"
   },
   "outputs": [],
   "source": [
    "# Calculate the mean squared error\n",
    "\n",
    "y_pred = np.exp(np.dot(np.hstack([np.ones((x.shape[0], 1)), x]), betas))\n",
    "mse = mean_squared_error(y, y_pred)\n",
    "print(f\"The mean of sqaured error is {mse}\")\n",
    "# 2 pts"
   ]
  },
  {
   "cell_type": "code",
   "execution_count": null,
   "metadata": {
    "id": "FcGbO0j6Zq6h"
   },
   "outputs": [],
   "source": [
    "# Generate new data for plotting regression curve\n",
    "\n",
    "\n",
    "# Make predictions on the new data\n",
    "\n",
    "\n",
    "# 3 pts"
   ]
  },
  {
   "cell_type": "code",
   "execution_count": null,
   "metadata": {
    "id": "9a842mBdZq6h"
   },
   "outputs": [],
   "source": [
    "# Make the plot\n",
    "plt.scatter(X, y, color='blue')\n",
    "x_range = np.linspace(-2.15, 2.15, 400).reshape(-1, 1)\n",
    "y_range = np.exp(np.dot(np.hstack([np.ones((x_range.shape[0], 1)), x_range]), betas))\n",
    "plt.plot(x_range, y_range, color='red')\n",
    "plt.xlabel('x')\n",
    "plt.ylabel('y')\n",
    "plt.legend()\n",
    "plt.grid(True)\n",
    "plt.show()\n",
    "\n",
    "# 2 pts"
   ]
  },
  {
   "cell_type": "markdown",
   "metadata": {
    "id": "UQxKy5DwGVmb"
   },
   "source": [
    "---\n",
    "### Question 7:  /14 Marks\n",
    "\n",
    "* Fit a linear regression (ordinary least squares) to the data using [`LinearRegression`](https://scikit-learn.org/stable/modules/generated/sklearn.linear_model.LinearRegression.html) from `sklearn` and obtain parameter estimates.\n",
    "* Use `mean_squared_error` to calculate the regression error.\n",
    "* Plot the regression line over the same range.\n",
    "\n"
   ]
  },
  {
   "cell_type": "code",
   "execution_count": null,
   "metadata": {
    "id": "UednfjUlGVmb"
   },
   "outputs": [],
   "source": [
    "# Fit the linear regression model\n",
    "\n",
    "\n",
    "\n",
    "\n",
    "betas_linear =\n",
    "print(f'The estimated coefficients using linear regression are {betas_linear}')\n",
    "# 4 pts\n",
    "\n",
    "\n",
    "# Calculate the mean squared error\n",
    "\n",
    "mse_linear =\n",
    "print(f\"The mean of sqaured error is {mse_linear}\")\n",
    "\n",
    "# 4 pts"
   ]
  },
  {
   "cell_type": "code",
   "execution_count": null,
   "metadata": {
    "id": "z0dow7M9Zq6i"
   },
   "outputs": [],
   "source": [
    "# Make predictions on the new data\n",
    "\n",
    "\n",
    "# 2 pts\n",
    "\n",
    "# Make the plot\n",
    "\n",
    "\n",
    "# 4 pts"
   ]
  },
  {
   "cell_type": "markdown",
   "metadata": {
    "id": "XQSRL4C0Zq6i"
   },
   "source": [
    "---\n",
    "### Question 8:  /16 Marks\n",
    "\n",
    "* Fit a linear regression (ordinary least squares) to the data with a square term, and obtain parameter estimates.\n",
    "* Use `mean_squared_error` to calculate the regression error.\n",
    "* Plot the predictions over the same range.\n",
    "\n",
    "Note that in this case the design matrix X should look like\n",
    "\n",
    "$X =[[1,x_1,x_1^2],[1,x_2,x_2^2],...]$"
   ]
  },
  {
   "cell_type": "code",
   "execution_count": null,
   "metadata": {
    "id": "cAW3GouKZq6i"
   },
   "outputs": [],
   "source": [
    "# Create new design matrix and fit the linear regression model\n",
    "\n",
    "\n",
    "\n",
    "betas_sq =\n",
    "print(f'The estimated coefficients using multiple linear regression are {betas_sq}')\n",
    "# 6 pts\n",
    "\n",
    "# Calculate the mean squared error\n",
    "\n",
    "\n",
    "mse_sq =\n",
    "print(f\"The mean of sqaured error is {mse_sq}\")\n",
    "# 4 pts"
   ]
  },
  {
   "cell_type": "code",
   "execution_count": null,
   "metadata": {
    "id": "Lsg9ddKRZq6i"
   },
   "outputs": [],
   "source": [
    "# Make predictions on the new data\n",
    "\n",
    "\n",
    "# 2 pts\n",
    "\n",
    "# Make the plot\n",
    "\n",
    "\n",
    "# 4 pts"
   ]
  },
  {
   "cell_type": "markdown",
   "metadata": {
    "id": "tyvGOxYDGVmb"
   },
   "source": [
    "---\n",
    "### Question 9: /2 Marks\n",
    "\n",
    "Among the three models, which one would you select? What is the major problem using linear regression? Just a reminder that in this case $y$ is measured in time units.\n"
   ]
  },
  {
   "cell_type": "markdown",
   "metadata": {
    "id": "KpC9kDI4Zq6j"
   },
   "source": [
    "**Written Answer**\n"
   ]
  },
  {
   "cell_type": "markdown",
   "source": [
    "I would ue exp regression. Linear Regression is sensitive to outliers. "
   ],
   "metadata": {
    "collapsed": false
   }
  },
  {
   "cell_type": "markdown",
   "metadata": {
    "id": "kf_jHsJiZq6j"
   },
   "source": [
    "---\n",
    "### Question 10: /20 Marks\n",
    "\n",
    "We wish to do an experiment to determine if ants search for food using a random search or directed search method. To help design the experiment we first will run some simulations. In the experiment, ants are placed inside a 50 mm $\\times$ 50 mm box. They cannot climb the wall, but can escape through an opening of size 5 mm in the wall. Repeated measurements of how far an ant travels in 1 second show an average speed of 2 mm per second. Our simulation needs to determine the probability that an ant escapes the box in 600 seconds (hint: so your main iteration would look like `for t in range(600):`) if their motion is indeed random. Assume the ant is always initially placed in the center of the box and simulate a simple random walk in 2D on discrete time in this fashion: Have the ant live on a discrete lattice. The ant takes 2 mm to the left if a random number $u$ satisfies $u < 0.25$. The ant moves 2 mm to the right if $0.25 \\leq u < 0.5$, the ant moves 2 mm up if $0.5 \\leq u < 0.75$, and 2 mm down if $0.75 \\leq u \\leq 1.0$. $u$ is distributed uniformly between 0 and 1 (hint: use `np.random.uniform(low=0, high=1)` to generate it). If a step would take the ant into a wall, repeat the step until it is successful (result is still one time-step). With `attempts = np.linspace(10, 1000, 19)`, run your main iteration under the loop `for M in attempts:` and construct a dataframe (called \"ant\") with columns for number of attempts (i.e. `M`), number of escapes, and probability of escape for every `M`. Your dataframe would eventually look something like this with 19 rows and real values:\n",
    "\n",
    "attempts | escapes| probability\n",
    "---|---|---\n",
    "10|x1|y1\n",
    "65|x2|y2\n",
    "...|...|...\n",
    "1000|x19|y19"
   ]
  },
  {
   "cell_type": "code",
   "execution_count": null,
   "metadata": {
    "id": "cQT6FpVjZq6j"
   },
   "outputs": [],
   "source": [
    "attempts = np.linspace(10, 1000, 19)\n",
    "\n",
    "x    = 50       # box size in x-direction\n",
    "y    = 50       # box size in y-direction\n",
    "time = 600      # in seconds\n",
    "\n",
    "def simulate_escape(x, y, time):\n",
    "    ant_x, ant_y = x / 2, y / 2\n",
    "    for t in range(time):\n",
    "        move_success = False\n",
    "        while not move_success:\n",
    "            u = np.random.uniform(low=0, high=1)\n",
    "            if u < 0.25:\n",
    "                new_x, new_y = ant_x - 2, ant_y\n",
    "            elif u < 0.5:\n",
    "                new_x, new_y = ant_x + 2, ant_y\n",
    "            elif u < 0.5:\n",
    "                new_x, new_y = ant_x, ant_y + 2\n",
    "            else:\n",
    "                new_x, new_y = ant_x, ant_y - 2\n",
    "                \n",
    "            # Check if new position is inside the box or at the exit\n",
    "            if 0 < new_x < x and 0 < new_y < y:\n",
    "                move_success = True\n",
    "                ant_x, ant_y = new_x, new_y\n",
    "            elif (new_x == 0 or new_x == x or new_y == 0 or new_y == y) and (22.5 <= ant_x <= 27.5 or 22.5 <= ant_y <= 27.5):\n",
    "                # Ant escapes\n",
    "                return True\n",
    "    return False\n",
    "\n",
    "results = []\n",
    "for M in attempts:\n",
    "    escapes = sum([simulate_escape(x, y, time) for _ in range(int(M))])\n",
    "    prob_escape = escapes / M\n",
    "    results.append([M, escapes, prob_escape])\n",
    "\n",
    "ant = pd.DataFrame(results, columns=['Attempts', 'Escapes', 'Probability'])\n",
    "\n",
    "display(ant.head())\n",
    "display(ant.tail())"
   ]
  },
  {
   "cell_type": "markdown",
   "metadata": {
    "id": "KLh3vqnjZq6j"
   },
   "source": [
    "---\n",
    "### Question 11: /5 Marks\n",
    "\n",
    "Plot the trajectory of the ant in the last escape event."
   ]
  },
  {
   "cell_type": "code",
   "execution_count": 1,
   "metadata": {
    "id": "yxAqkaKQZq6j",
    "ExecuteTime": {
     "end_time": "2023-09-29T17:33:33.413879500Z",
     "start_time": "2023-09-29T17:33:16.834094100Z"
    }
   },
   "outputs": [],
   "source": [
    "import numpy as np\n",
    "import pandas as pd\n",
    "import matplotlib.pyplot as plt\n",
    "\n",
    "def simulate_escape(x, y, time):\n",
    "    ant_x, ant_y = x / 2, y / 2\n",
    "    trajectory = [(ant_x, ant_y)]  # Initialize with starting position\n",
    "    \n",
    "    for t in range(time):\n",
    "        move_success = False\n",
    "        while not move_success:\n",
    "            u = np.random.uniform(low=0, high=1)\n",
    "            # Decide movement based on u\n",
    "            if u < 0.25:\n",
    "                new_x, new_y = ant_x - 2, ant_y\n",
    "            elif u < 0.5:\n",
    "                new_x, new_y = ant_x + 2, ant_y\n",
    "            elif u < 0.75:\n",
    "                new_x, new_y = ant_x, ant_y + 2\n",
    "            else:\n",
    "                new_x, new_y = ant_x, ant_y - 2\n",
    "                \n",
    "            if 0 < new_x < x and 0 < new_y < y:\n",
    "                move_success = True\n",
    "                ant_x, ant_y = new_x, new_y\n",
    "                trajectory.append((ant_x, ant_y))\n",
    "            elif (new_x == 0 or new_x == x or new_y == 0 or new_y == y) and (22.5 <= ant_x <= 27.5 or 22.5 <= ant_y <= 27.5):\n",
    "                trajectory.append((new_x, new_y))\n",
    "                return True, trajectory  # Return both the escape status and trajectory\n",
    "            \n",
    "    return False, trajectory\n",
    "\n",
    "last_trajectory = []\n",
    "attempts = np.linspace(10, 1000, 19)\n",
    "x = 50\n",
    "y = 50\n",
    "time = 600\n",
    "results = []\n",
    "\n",
    "for M in attempts:\n",
    "    escapes = 0\n",
    "    for _ in range(int(M)):\n",
    "        escaped, trajectory = simulate_escape(x, y, time)\n",
    "        if escaped:\n",
    "            escapes += 1\n",
    "            last_trajectory = trajectory\n",
    "    \n",
    "    prob_escape = escapes / M\n",
    "    results.append([M, escapes, prob_escape])\n",
    "\n",
    "ant = pd.DataFrame(results, columns=['Number of Attempts', 'Number of Escapes', 'Probability of Escape'])\n",
    "\n",
    "# Plotting the last trajectory\n",
    "if last_trajectory:\n",
    "    plt.figure(figsize=(7, 7))\n",
    "    positions = np.array(last_trajectory)\n",
    "    plt.plot(positions[:, 0], positions[:, 1], marker='o', linestyle='-')\n",
    "    plt.title(\"Trajectory of the Ant in the Last Escape Event\")\n",
    "    plt.xlim(0, x)\n",
    "    plt.ylim(0, y)\n",
    "    plt.xlabel(\"X position (mm)\")\n",
    "    plt.ylabel(\"Y position (mm)\")\n",
    "    plt.grid(True)\n",
    "    plt.show()\n"
   ]
  },
  {
   "cell_type": "markdown",
   "metadata": {
    "id": "CcTiCyICZq6j"
   },
   "source": [
    "---\n",
    "### Question 12: /5 Mark(s)\n",
    "Explore the \"ant\" dataframe. Do you see any trend in probability? What value for probability would you report if you are asked what is the probability of the escape event?"
   ]
  },
  {
   "cell_type": "code",
   "execution_count": null,
   "metadata": {
    "id": "8jdy27S6Zq6k"
   },
   "outputs": [],
   "source": [
    "#"
   ]
  },
  {
   "cell_type": "markdown",
   "metadata": {
    "id": "7ygDpDZuZq6k"
   },
   "source": [
    "#### Written Answer:\n"
   ]
  },
  {
   "cell_type": "markdown",
   "metadata": {
    "id": "IcKrhu0mZq6k"
   },
   "source": [
    "---\n",
    "### Question 13: /5 Mark(s)\n",
    "Now scatter plot `attempts` versus `escapes` and use what you have learned so far to apply linear regression (ordinary least squares) to the data, and plot the predictions over the same range. Report your fit coefficients and compare them against your answer to the previous question and report what you witness and explain why?"
   ]
  },
  {
   "cell_type": "code",
   "execution_count": null,
   "metadata": {
    "id": "BREORPERZq6k"
   },
   "outputs": [],
   "source": [
    "fig, ax = plt.subplots(dpi = 100)\n",
    "\n",
    "\n",
    "\n",
    "\n",
    "\n",
    "\n",
    "plt.legend()\n",
    "plt.show()"
   ]
  },
  {
   "cell_type": "markdown",
   "metadata": {
    "id": "JnIlU01RZq6k"
   },
   "source": [
    "#### Written Answer:\n"
   ]
  },
  {
   "cell_type": "markdown",
   "metadata": {
    "id": "NRpU8NUSZq6k"
   },
   "source": [
    "---\n",
    "### Question 14: /5 Mark(s)\n",
    "You gain 2 dollars every time the ant escapes, otherwise you loose a dollar. What would be the expected value of the bet and how would you interpret it?"
   ]
  },
  {
   "cell_type": "code",
   "execution_count": null,
   "metadata": {
    "id": "w-GVvYFAZq6k"
   },
   "outputs": [],
   "source": [
    "#"
   ]
  }
 ],
 "metadata": {
  "colab": {
   "provenance": []
  },
  "kernelspec": {
   "display_name": "Python 3",
   "language": "python",
   "name": "python3"
  },
  "language_info": {
   "codemirror_mode": {
    "name": "ipython",
    "version": 3
   },
   "file_extension": ".py",
   "mimetype": "text/x-python",
   "name": "python",
   "nbconvert_exporter": "python",
   "pygments_lexer": "ipython3",
   "version": "3.10.12"
  }
 },
 "nbformat": 4,
 "nbformat_minor": 0
}
