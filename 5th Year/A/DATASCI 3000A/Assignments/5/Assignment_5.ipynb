{
 "cells": [
  {
   "cell_type": "markdown",
   "metadata": {
    "id": "KS8_b7ZzQrOQ"
   },
   "source": [
    "# Grade: /100 pts\n",
    "\n",
    "# Assignment 05: Model Selection & Cross Validation\n",
    "\n",
    "### Follow These Instructions\n",
    "\n",
    "Once you are finished, ensure to complete the following steps.\n",
    "\n",
    "1.  Restart your kernel by clicking 'Kernel' > 'Restart & Run All'.\n",
    "\n",
    "2.  Fix any errors which result from this.\n",
    "\n",
    "3.  Repeat steps 1. and 2. until your notebook runs without errors.\n",
    "\n",
    "4.  Submit your completed notebook to OWL by the deadline.\n",
    "\n",
    "\n",
    "\n",
    "#### In this assignment, we will work on the bank loan data. The task is to build a model given the information of clients to predict whether the clients default or not. The data file is `loan_Data.csv`.  The target variable is `loanDefault`, which can be Fully Paid or Charged Off. The data includes some information about the payment behavior and customer characteristics such as job and purpose acquiring the current loan. You could view the description of the variables in `loan_param.xlsx`.\n",
    "\n",
    "\n",
    "\n",
    "---"
   ]
  },
  {
   "cell_type": "markdown",
   "metadata": {},
   "source": [
    "### Global Toolbox"
   ]
  },
  {
   "cell_type": "code",
   "execution_count": null,
   "metadata": {
    "id": "hV01UYGeQrOS"
   },
   "outputs": [],
   "source": [
    "import pandas as pd\n",
    "import numpy as np\n",
    "import matplotlib.pyplot as plt\n",
    "import seaborn as sns\n",
    "from sklearn.model_selection import train_test_split,StratifiedKFold\n",
    "from sklearn.linear_model import LogisticRegression\n",
    "from sklearn.pipeline import Pipeline\n",
    "from sklearn.preprocessing import StandardScaler\n",
    "from sklearn.metrics import roc_curve, auc, roc_auc_score\n",
    "\n",
    "\n",
    "pd.set_option('display.max_columns', 500)\n",
    "%matplotlib inline\n",
    "plt.style.use('ggplot')\n"
   ]
  },
  {
   "cell_type": "markdown",
   "metadata": {
    "id": "P8OR-sYkQrOU"
   },
   "source": [
    "_____"
   ]
  },
  {
   "cell_type": "markdown",
   "metadata": {
    "id": "735oycK-QrOU"
   },
   "source": [
    "## Question 1: /10 pts\n",
    "\n",
    "#### 1.1 Load the data `loan_Data.csv` and display the last 10 rows. How many features and how many obersvations are there in the dataset?"
   ]
  },
  {
   "cell_type": "code",
   "execution_count": null,
   "metadata": {
    "colab": {
     "base_uri": "https://localhost:8080/",
     "height": 339
    },
    "executionInfo": {
     "elapsed": 9,
     "status": "ok",
     "timestamp": 1645217225791,
     "user": {
      "displayName": "Sherly Paola Alfonso Sanchez",
      "photoUrl": "https://lh3.googleusercontent.com/a-/AOh14GijrV5WVdbIJAyqF5INLE4mArbounb3tab5kiCFIw=s64",
      "userId": "17112094500915447092"
     },
     "user_tz": 300
    },
    "id": "4yBYxJe2QrOU",
    "outputId": "a9e8cfac-cea2-483f-d128-5a55c6abb45a"
   },
   "outputs": [],
   "source": [
    "# Load the data and display\n",
    "\n",
    "# 2 pt\n",
    "data = pd.read_csv('loan_Data.csv',on_bad_lines='skip')\n",
    "\n",
    "df = data['loanAmnt;annualInc;application_type;int_rate;revol_bal;revol_util;dti;emp_length;grade;homeOwnership;installment;job;loanDefault;mortAcc;pub_rec_bankruptcies;purpose;term;Year'].str.split(';', expand=True)\n",
    "df.columns = ['loanAmnt', 'annualInc', 'application_type', 'int_rate', 'revol_bal', 'revol_util', 'dti', 'emp_length', 'grade', 'homeOwnership', 'installment', 'job', 'loanDefault', 'mortAcc', 'pub_rec_bankruptcies', 'purpose', 'term', 'Year']\n",
    "\n",
    "df['annualInc'] = np.log(df['annualInc'].astype(float))\n",
    "df['loanAmnt'] = df['loanAmnt'].astype(float)\n",
    "df['int_rate'] = df['int_rate'].astype(float)\n",
    "df['revol_bal'] = df['revol_bal'].astype(float)\n",
    "df['revol_util'] = df['revol_util'].astype(float)\n",
    "df['dti'] = df['dti'].astype(float)\n",
    "df['emp_length'] = df['emp_length'].astype(int)\n",
    "df['installment'] = df['installment'].astype(float)\n",
    "df['mortAcc'] = df['mortAcc'].astype(int)\n",
    "df['term'] = df['term'].astype(int)\n",
    "\n",
    "print(df)\n"
   ]
  },
  {
   "cell_type": "markdown",
   "metadata": {},
   "source": [
    "**Written Answer** [2 pt]: \n",
    "There are 982 observations and 18 features"
   ]
  },
  {
   "cell_type": "markdown",
   "metadata": {},
   "source": [
    "#### 1.2 Create a bar graph to visualize the count of `Charged Off` and `Fully Paid`. Calculate the percentage of `Charged off`, which is the percentage of default."
   ]
  },
  {
   "cell_type": "code",
   "execution_count": null,
   "metadata": {},
   "outputs": [],
   "source": [
    "# Plot\n",
    "\n",
    "df['loanDefault'].value_counts().plot(kind='bar', color=['green', 'red'])\n",
    "plt.title('Loan Status Counts')\n",
    "plt.xlabel('Loan Status')\n",
    "plt.ylabel('Count')\n",
    "plt.show()\n",
    "\n",
    "\n",
    "# 2pts"
   ]
  },
  {
   "cell_type": "code",
   "execution_count": null,
   "metadata": {},
   "outputs": [],
   "source": [
    "# Calculate the percentage\n",
    "FullyPaid = df['loanDefault'].value_counts()['Fully Paid']\n",
    "ChargedOff = df['loanDefault'].value_counts()['Charged Off']\n",
    "Total = FullyPaid+ChargedOff\n",
    "percentage = ChargedOff/Total\n",
    "\n"
   ]
  },
  {
   "cell_type": "markdown",
   "metadata": {
    "id": "hG4NT8m-QrOX"
   },
   "source": [
    "**Written Answer** [2 pt]: 81.87%"
   ]
  },
  {
   "cell_type": "markdown",
   "metadata": {},
   "source": [
    "#### 1.3 Change the values of the column `loanDefault` to 1 if the loan is `Charged Off` and 0 if it is `Fully Paid`. "
   ]
  },
  {
   "cell_type": "code",
   "execution_count": null,
   "metadata": {},
   "outputs": [],
   "source": [
    "# Change the values\n",
    "df['loanDefault'] = np.where(df['loanDefault'] == 'Charged Off', 1, 0)\n",
    "\n",
    "# 2 pts"
   ]
  },
  {
   "cell_type": "markdown",
   "metadata": {
    "id": "qaSULCSLQrOX"
   },
   "source": [
    "_____________"
   ]
  },
  {
   "cell_type": "markdown",
   "metadata": {
    "id": "cEyHXZNTQrOY"
   },
   "source": [
    "## Question 2: /16 pts \n",
    "Here we are interested in if the distribution of income is different between clients who defaulted and those who did not default on their loans."
   ]
  },
  {
   "cell_type": "markdown",
   "metadata": {
    "id": "qORx0OvmQrOY"
   },
   "source": [
    "#### 2.1 First create the histogram of the annual income `annualInc` for all the clients. Do not forget to label the axes."
   ]
  },
  {
   "cell_type": "code",
   "execution_count": null,
   "metadata": {
    "colab": {
     "base_uri": "https://localhost:8080/",
     "height": 316
    },
    "executionInfo": {
     "elapsed": 879,
     "status": "ok",
     "timestamp": 1645217226975,
     "user": {
      "displayName": "Sherly Paola Alfonso Sanchez",
      "photoUrl": "https://lh3.googleusercontent.com/a-/AOh14GijrV5WVdbIJAyqF5INLE4mArbounb3tab5kiCFIw=s64",
      "userId": "17112094500915447092"
     },
     "user_tz": 300
    },
    "id": "Z2zMeeG1QrOY",
    "outputId": "1403d721-703b-4449-eadd-758578209928"
   },
   "outputs": [],
   "source": [
    "# Plot the distribution\n",
    "plt.hist(df['annualInc'], bins=20)\n",
    "plt.title('Distribution of Annual Income')\n",
    "plt.xlabel('Annual Income')\n",
    "plt.ylabel('Number of Clients')\n",
    "plt.show()\n",
    "# 2 pts"
   ]
  },
  {
   "cell_type": "markdown",
   "metadata": {
    "id": "xjGqsJkHQrOY"
   },
   "source": [
    "What do you notice about the distribution of the annual income variable? What transformation would you suggest for it?"
   ]
  },
  {
   "cell_type": "markdown",
   "metadata": {
    "id": "2kNAFum8QrOY"
   },
   "source": [
    "**Witten Answer**[2 pts]: \n",
    "The variation is big. So a log transformation is suggested."
   ]
  },
  {
   "cell_type": "markdown",
   "metadata": {
    "id": "wDMDroMXQrOZ"
   },
   "source": [
    "#### 2.2  Apply the transformation (*i.e.*, based on your answer to the previous question) to annual income and plot the histogram of the transformed version. Update (*i.e.*, overwrite) the original entry values of `annualInc` with the transformed ones."
   ]
  },
  {
   "cell_type": "code",
   "execution_count": null,
   "metadata": {},
   "outputs": [],
   "source": [
    "# Apply transformation and plot distribution\n",
    "plt.hist(np.log(df['annualInc'].astype(float)), bins=20)\n",
    "plt.title('Distribution of Annual Income')\n",
    "plt.xlabel('Annual Income')\n",
    "plt.ylabel('Number of Clients')\n",
    "plt.show()\n",
    "# 4 pts"
   ]
  },
  {
   "cell_type": "code",
   "execution_count": null,
   "metadata": {},
   "outputs": [],
   "source": [
    "# Overwrite\n",
    "df['annualInc'] = np.log(df['annualInc'].astype(float))\n",
    "\n",
    "# 2 pts"
   ]
  },
  {
   "cell_type": "markdown",
   "metadata": {},
   "source": [
    "#### 2.3 Plot the histograms of annual income for clients who defaulted and clients who did not default. Compare to see if there is any noticeable difference. Comment qualitatively."
   ]
  },
  {
   "cell_type": "code",
   "execution_count": null,
   "metadata": {
    "colab": {
     "base_uri": "https://localhost:8080/",
     "height": 317
    },
    "executionInfo": {
     "elapsed": 1336,
     "status": "ok",
     "timestamp": 1645217228306,
     "user": {
      "displayName": "Sherly Paola Alfonso Sanchez",
      "photoUrl": "https://lh3.googleusercontent.com/a-/AOh14GijrV5WVdbIJAyqF5INLE4mArbounb3tab5kiCFIw=s64",
      "userId": "17112094500915447092"
     },
     "user_tz": 300
    },
    "id": "mlOGGi_aQrOZ",
    "outputId": "456c800a-c4c9-4425-9350-4f89d79a94f7",
    "scrolled": true
   },
   "outputs": [],
   "source": [
    "# Plot two distributions overlaid (use the alpha argument to create contrast in overlay plots)\n",
    "# loan Default:\n",
    "plt.hist(df[df['loanDefault'] == 1]['annualInc'], bins = 20)\n",
    "plt.title('Distribution of income')\n",
    "plt.xlabel('loanDefault')\n",
    "plt.ylabel('Number of loanDefault Clients')\n",
    "plt.show()\n",
    "# loan not default:\n",
    "plt.hist(df[df['loanDefault'] == 0]['annualInc'], bins = 20)\n",
    "plt.title('Distribution of income')\n",
    "plt.xlabel('loanDefault')\n",
    "plt.ylabel('Number of loanDefault Clients')\n",
    "plt.show()\n",
    "\n",
    "# 4 pts"
   ]
  },
  {
   "cell_type": "markdown",
   "metadata": {
    "id": "-OvcyJNjQrOa"
   },
   "source": [
    "**Written Answer** [2pts]:  load default has a higher average "
   ]
  },
  {
   "cell_type": "markdown",
   "metadata": {
    "id": "xlUWhfmKQrOb"
   },
   "source": [
    "___________"
   ]
  },
  {
   "cell_type": "markdown",
   "metadata": {
    "id": "GMFFFTPgQrOb"
   },
   "source": [
    "## Question 3: /14 pts\n",
    "\n",
    "Let's build a model and use the annual income to predict the default outcome."
   ]
  },
  {
   "cell_type": "markdown",
   "metadata": {
    "id": "6hLtcB81QrOc"
   },
   "source": [
    "#### 3.1 Create a model pipline to include preprocessing step using `StandardScaler` and a basic logistic regression model (with default penalization and use `solver='lbfgs'`, `max_iter=10000` and `random_state=0`)"
   ]
  },
  {
   "cell_type": "code",
   "execution_count": null,
   "metadata": {
    "id": "VJ7YxoTHQrOc"
   },
   "outputs": [],
   "source": [
    "# Create a model pipline\n",
    "pipe = Pipeline([\n",
    "    ('scaler', StandardScaler()),\n",
    "    ('logreg', LogisticRegression(solver='lbfgs', max_iter=10000, random_state=0))])\n",
    "# 2 pt"
   ]
  },
  {
   "cell_type": "markdown",
   "metadata": {},
   "source": [
    "#### 3.2 Use a 80/20 train-test split of the data and remember to set `random_state=0`. Fit the model and then evaluate this model plotting the ROC curve and reporting the AUC value. "
   ]
  },
  {
   "cell_type": "code",
   "execution_count": null,
   "metadata": {},
   "outputs": [],
   "source": [
    "# Get the X and y\n",
    "X = df[['annualInc']]\n",
    "y = df['loanDefault']\n",
    "\n",
    "# Split the train and test\n",
    "X_train, X_test, y_train, y_test = train_test_split(X, y, test_size=0.2, random_state=0)\n",
    "\n",
    "\n",
    "# Fit the model\n",
    "pipe.fit(X_train, y_train)\n",
    "\n",
    "# 4 pts"
   ]
  },
  {
   "cell_type": "code",
   "execution_count": null,
   "metadata": {},
   "outputs": [],
   "source": [
    "# Use predict_proba to get the probability of default\n",
    "prob = pipe.predict_proba(X_test)\n",
    "\n",
    "# 2 pts\n",
    "\n",
    "# Plot the ROC curve and report AUC\n",
    "fpr, tpr, thresholds = roc_curve(y_test, prob.T[1])\n",
    "auc_value = roc_auc_score(y_test, prob.T[1])\n",
    "plt.figure(figsize=(10, 8))\n",
    "plt.plot(fpr, tpr, color='blue', label='ROC (AUC = {:.2f})'.format(auc_value))\n",
    "plt.plot([0, 1], [0, 1], color='gray', linestyle='--')\n",
    "plt.xlabel('False Positive Rate (FPR)')\n",
    "plt.ylabel('True Positive Rate (TPR)')\n",
    "plt.title('Receiver Operating Characteristic (ROC) Curve')\n",
    "plt.legend(loc='lower right')\n",
    "plt.grid(True)\n",
    "plt.show()\n",
    "print(f\"Area Under the Curve (AUC): {auc_value:.2f}\")\n",
    "\n",
    "# 4 pts"
   ]
  },
  {
   "cell_type": "markdown",
   "metadata": {
    "id": "z5AtryUjQrOd"
   },
   "source": [
    "Is income itself alone good enough to predict the default outcome?\n"
   ]
  },
  {
   "cell_type": "markdown",
   "metadata": {
    "id": "PMwV6zYIQrOe"
   },
   "source": [
    "**Written Answer** [2 pt] No"
   ]
  },
  {
   "cell_type": "markdown",
   "metadata": {
    "id": "_4H1s8aXQrOe"
   },
   "source": [
    "____________"
   ]
  },
  {
   "cell_type": "markdown",
   "metadata": {
    "id": "RNfdL2r1QrOe"
   },
   "source": [
    "## Question 4: /34\n",
    "\n",
    "Here, let's use cross-validation to find how each numeric feature performs to predict the default status.\n"
   ]
  },
  {
   "cell_type": "markdown",
   "metadata": {
    "id": "DhFdgljUQrOe"
   },
   "source": [
    "#### 4.1: Let's write our own function instead of using `cross_val_score` to get the cross-validation AUC score. First, create a function `AUC_calculation` with inputs `(model, X, y, index_train, index_test)`  which calculates the AUC of the model trained on `index_train` and tested on `index_test`. Here we assume that X and y are pandas dataframe."
   ]
  },
  {
   "cell_type": "code",
   "execution_count": null,
   "metadata": {
    "id": "bewwPK00QrOf"
   },
   "outputs": [],
   "source": [
    "def AUC_calculation(model, X, y, index_train, index_test):\n",
    "    # Define Xtrain, ytrain, Xtest, ytest \n",
    "    Xtrain, ytrain = X.iloc[index_train], y.iloc[index_train]\n",
    "    Xtest, ytest = X.iloc[index_test], y.iloc[index_test]\n",
    "\n",
    "    # Fit the model\n",
    "    model.fit(Xtrain, ytrain)\n",
    "    proba_positive_class = model.predict_proba(Xtest)[:, 1]\n",
    "    \n",
    "    # Calculate the auc score\n",
    "    score_auc = roc_auc_score(ytest, proba_positive_class)\n",
    "    return score_auc\n",
    "# 6 pts"
   ]
  },
  {
   "cell_type": "markdown",
   "metadata": {
    "id": "swFFeY9JQrOf"
   },
   "source": [
    "#### 4.2: Create a function named `AUC_cross_validation` which has as input (model, X, y, n_fold) and does a `StratifiedKFold` cross validation with n_fold and its output should be a list with the AUC for each fold. This function will call the above function `AUC_calculation`."
   ]
  },
  {
   "cell_type": "code",
   "execution_count": null,
   "metadata": {
    "id": "90HeM0BBQrOf"
   },
   "outputs": [],
   "source": [
    "def AUC_cross_validation(model, X, y, n_fold):\n",
    "    # Create the stratified folds\n",
    "    skf = StratifiedKFold(n_splits=n_fold, shuffle=True, random_state=42)\n",
    "\n",
    "    # Loop over folds and compute the AUC score for each fold\n",
    "    \n",
    "    list_auc = []\n",
    "    for train_index, test_index in skf.split(X, y):\n",
    "        auc = AUC_calculation(model, X, y, train_index, test_index)\n",
    "        list_auc.append(auc)\n",
    "\n",
    "    return list_auc\n",
    "# 6 pts "
   ]
  },
  {
   "cell_type": "markdown",
   "metadata": {
    "id": "JYOq26FRQrOf"
   },
   "source": [
    "#### 4.3 Now we are ready to estimate and compare through cross validation the performance of all the *simple models* that only use one numeric predictor as input. Here we will apply logarithm transformation for the `loanAmnt` and replace it. We will also exclude `Year` and `installment`."
   ]
  },
  {
   "cell_type": "code",
   "execution_count": null,
   "metadata": {
    "colab": {
     "base_uri": "https://localhost:8080/",
     "height": 206
    },
    "executionInfo": {
     "elapsed": 3,
     "status": "ok",
     "timestamp": 1645217229690,
     "user": {
      "displayName": "Sherly Paola Alfonso Sanchez",
      "photoUrl": "https://lh3.googleusercontent.com/a-/AOh14GijrV5WVdbIJAyqF5INLE4mArbounb3tab5kiCFIw=s64",
      "userId": "17112094500915447092"
     },
     "user_tz": 300
    },
    "id": "8biTXRo5QrOf",
    "outputId": "2c604f33-aaf3-49fe-e82b-6118a237349d"
   },
   "outputs": [],
   "source": [
    "# Extract only the numeric features\n",
    "feau_num = ['int32', 'int64', 'float64']\n",
    "data_num = pd.DataFrame(df.select_dtypes(include=feau_num))\n",
    "\n",
    "\n",
    "# Log transform \n",
    "data_num['loanAmnt'] = np.log(data_num['loanAmnt']) \n",
    "\n",
    "\n",
    "# Drop\n",
    "data_num = data_num.drop(columns=['Year', 'installment']) \n",
    "\n",
    "\n",
    "\n",
    "data_num.head()\n",
    "# 2pts"
   ]
  },
  {
   "cell_type": "markdown",
   "metadata": {
    "id": "gV9fTCLGQrOg"
   },
   "source": [
    "#### 4.4: Use the function `AUC_cross_validation` and the model from Q3.1 to compute cross-validation estimates of the AUC for each single numeric feature model, and use a pandas dataframe (named `AUC_models`) to store the AUC value for each fold and each of the models (use `n_fold=10`).\n",
    "\n",
    "The column names of `AUC_models` have to be in the form `Simple-[numeric predictor variable]`, *e.g.*, `simple-int_rate`."
   ]
  },
  {
   "cell_type": "code",
   "execution_count": null,
   "metadata": {
    "id": "GGFsF5d8QrOg"
   },
   "outputs": [],
   "source": [
    "# Construct AUC_models dataframe\n",
    "AUC_models = pd.DataFrame({})\n",
    "\n",
    "# Run cross-validation for each feature\n",
    "for feature in data_num.columns:\n",
    "    auc_scores = AUC_cross_validation(pipe, data_num[[feature]], y, n_fold=10)  # Using each feature for prediction\n",
    "    AUC_models[f'simple-{feature}'] = auc_scores\n",
    "print(AUC_models)\n",
    "# 8 pts"
   ]
  },
  {
   "cell_type": "code",
   "execution_count": null,
   "metadata": {
    "colab": {
     "base_uri": "https://localhost:8080/",
     "height": 424
    },
    "executionInfo": {
     "elapsed": 4,
     "status": "ok",
     "timestamp": 1645217233490,
     "user": {
      "displayName": "Sherly Paola Alfonso Sanchez",
      "photoUrl": "https://lh3.googleusercontent.com/a-/AOh14GijrV5WVdbIJAyqF5INLE4mArbounb3tab5kiCFIw=s64",
      "userId": "17112094500915447092"
     },
     "user_tz": 300
    },
    "id": "idnPJrUjQrOg",
    "outputId": "838c0f2e-5dca-4cb0-dfdc-6fde2164153d"
   },
   "outputs": [],
   "source": [
    "# Print AUC_models dataframe. The shape should be 10 x number of features\n",
    "print(AUC_models)\n"
   ]
  },
  {
   "cell_type": "markdown",
   "metadata": {
    "id": "0mfBTLfnQrOh"
   },
   "source": [
    "#### 4.5: Let's use a `sns.boxplot`` (without presenting outliers) to show the distribution of the AUC scores for each feature."
   ]
  },
  {
   "cell_type": "code",
   "execution_count": null,
   "metadata": {
    "colab": {
     "base_uri": "https://localhost:8080/",
     "height": 708
    },
    "executionInfo": {
     "elapsed": 1143,
     "status": "ok",
     "timestamp": 1645217234818,
     "user": {
      "displayName": "Sherly Paola Alfonso Sanchez",
      "photoUrl": "https://lh3.googleusercontent.com/a-/AOh14GijrV5WVdbIJAyqF5INLE4mArbounb3tab5kiCFIw=s64",
      "userId": "17112094500915447092"
     },
     "user_tz": 300
    },
    "id": "Jv_oWBViQrOh",
    "outputId": "c094f62f-6ad3-4506-a0ed-ca0675621fd8"
   },
   "outputs": [],
   "source": [
    "# Hint: use data=pd.melt(AUC_models) in boxplot\n",
    "\n",
    "# Melt the dataframe for plotting\n",
    "melted_AUC_models = AUC_models.melt(var_name='Features', value_name='AUC Score')\n",
    "\n",
    "# Create the boxplot\n",
    "plt.figure(figsize=(15, 8))\n",
    "sns.boxplot(x='Features', y='AUC Score', data=melted_AUC_models, showfliers=False)  # showfliers=False to hide outliers\n",
    "plt.xticks(rotation=45)  # Rotate feature names for better visualization\n",
    "plt.title('AUC scores for each feature')\n",
    "plt.tight_layout()\n",
    "plt.show()\n",
    "\n",
    "#5 pts\n"
   ]
  },
  {
   "cell_type": "markdown",
   "metadata": {},
   "source": [
    "What is the feature that yields the best performance?"
   ]
  },
  {
   "cell_type": "markdown",
   "metadata": {},
   "source": [
    "**Written Answer** [1 pt]: int rate"
   ]
  },
  {
   "cell_type": "markdown",
   "metadata": {
    "id": "8Rze33nJQrOh"
   },
   "source": [
    "#### 4.6: Now let's use a model including all the numeric features for training. Again use 10-fold cross-validation to determine if this new model has better performance. Add the results to the previous AUC_models dataframe and visualize again using boxplots."
   ]
  },
  {
   "cell_type": "code",
   "execution_count": null,
   "metadata": {
    "colab": {
     "base_uri": "https://localhost:8080/",
     "height": 424
    },
    "executionInfo": {
     "elapsed": 2873,
     "status": "ok",
     "timestamp": 1645217237689,
     "user": {
      "displayName": "Sherly Paola Alfonso Sanchez",
      "photoUrl": "https://lh3.googleusercontent.com/a-/AOh14GijrV5WVdbIJAyqF5INLE4mArbounb3tab5kiCFIw=s64",
      "userId": "17112094500915447092"
     },
     "user_tz": 300
    },
    "id": "MHGVcfPKQrOh",
    "outputId": "72ec6068-28df-4145-f67a-156f7ce9ad5c"
   },
   "outputs": [],
   "source": [
    "# Get the X and y\n",
    "X = data_num\n",
    "y = data['int_rate']\n",
    "\n",
    "# Calculate the auc scores using cross validation\n",
    "auc_scores_all_numeric = AUC_cross_validation(pipe, X, y, n_fold=10)\n",
    "\n",
    "# 3. Include the auc scores in the AUC_models DataFrame in the column 'All_numeric'\n",
    "AUC_models['All_numeric'] = auc_scores_all_numeric\n",
    "# Print the new data frame\n",
    "print(AUC_models)\n"
   ]
  },
  {
   "cell_type": "code",
   "execution_count": null,
   "metadata": {
    "colab": {
     "base_uri": "https://localhost:8080/",
     "height": 708
    },
    "executionInfo": {
     "elapsed": 1119,
     "status": "ok",
     "timestamp": 1645217238805,
     "user": {
      "displayName": "Sherly Paola Alfonso Sanchez",
      "photoUrl": "https://lh3.googleusercontent.com/a-/AOh14GijrV5WVdbIJAyqF5INLE4mArbounb3tab5kiCFIw=s64",
      "userId": "17112094500915447092"
     },
     "user_tz": 300
    },
    "id": "eFNrEvJ7QrOi",
    "outputId": "ec5e9690-788c-4510-b89d-3619f0b10ff6"
   },
   "outputs": [],
   "source": [
    "# Plot \n",
    "plt.figure(figsize=(15, 8))\n",
    "sns.boxplot(x='Features', y='AUC Score', data=melted_AUC_models, showfliers=False)  # showfliers=False to hide outliers\n",
    "plt.xticks(rotation=45)  # Rotate feature names for better visualization\n",
    "plt.title('Distribution of AUC scores for each feature including All Numeric Features')\n",
    "plt.tight_layout()\n",
    "plt.show()\n",
    "# 2 pts"
   ]
  },
  {
   "cell_type": "markdown",
   "metadata": {
    "id": "Pn8cPzsiQrOi"
   },
   "source": [
    "_____________"
   ]
  },
  {
   "cell_type": "markdown",
   "metadata": {
    "id": "KEK9WRo5QrOi"
   },
   "source": [
    "### Question 5: /10 pts\n",
    "\n",
    "#### 5.1 Let's also include the categorical variable `grade` to the model (in addition to all the all the numeric features). And, again, add the results to the `AUC_models` dataframe."
   ]
  },
  {
   "cell_type": "code",
   "execution_count": null,
   "metadata": {
    "id": "_T2G7kcAQrOi"
   },
   "outputs": [],
   "source": [
    "# Convert category into numerical values\n",
    "\n",
    "\n",
    "# Add this feature to all the numeric variables\n",
    "\n",
    "\n",
    "# Calculate the auc scores using cross validation\n",
    "\n",
    "\n",
    "# Include the auc scores in the AUC_models DataFrame in the column 'All_numeric_&_Grade'\n",
    "AUC_models['All_numeric_&_Grade'] = \n",
    "\n",
    "# 4 pts"
   ]
  },
  {
   "cell_type": "markdown",
   "metadata": {},
   "source": [
    "#### 5.2 Print the AUC mean and AUC standard deviation for each of the models. Which model would you choose and why?"
   ]
  },
  {
   "cell_type": "code",
   "execution_count": null,
   "metadata": {
    "colab": {
     "base_uri": "https://localhost:8080/"
    },
    "executionInfo": {
     "elapsed": 16,
     "status": "ok",
     "timestamp": 1645217242344,
     "user": {
      "displayName": "Sherly Paola Alfonso Sanchez",
      "photoUrl": "https://lh3.googleusercontent.com/a-/AOh14GijrV5WVdbIJAyqF5INLE4mArbounb3tab5kiCFIw=s64",
      "userId": "17112094500915447092"
     },
     "user_tz": 300
    },
    "id": "C1S9ZgsOQrOi",
    "outputId": "ba395cb1-3a60-4b10-8325-6538523aead9"
   },
   "outputs": [],
   "source": [
    "mean_scores = AUC_models.mean()\n",
    "std_scores = AUC_models.std()\n",
    "summary = pd.DataFrame({\n",
    "    'AUC Mean': mean_scores,\n",
    "    'AUC Std Dev': std_scores\n",
    "})\n",
    "print(summary)\n",
    "\n",
    "# 6 pts"
   ]
  },
  {
   "cell_type": "markdown",
   "metadata": {},
   "source": [
    "**Written Answer** [2 pts]: AUC. Since AUC has a "
   ]
  },
  {
   "cell_type": "markdown",
   "metadata": {
    "id": "pyW6s0nGQrOj"
   },
   "source": [
    "______________"
   ]
  },
  {
   "cell_type": "markdown",
   "metadata": {
    "id": "B-o4HnvCQrOk"
   },
   "source": [
    "### Question 6: /14pts\n",
    "Train and test the model you selected using a 80/20 train-test split of the data.\n",
    "- Use boostrap technique without refitting the model to obtain a confidence interval for the test AUC measure\n",
    "- Plot the distribution of the boostrap AUC scores\n"
   ]
  },
  {
   "cell_type": "code",
   "execution_count": null,
   "metadata": {
    "colab": {
     "base_uri": "https://localhost:8080/"
    },
    "executionInfo": {
     "elapsed": 151,
     "status": "ok",
     "timestamp": 1645217247193,
     "user": {
      "displayName": "Sherly Paola Alfonso Sanchez",
      "photoUrl": "https://lh3.googleusercontent.com/a-/AOh14GijrV5WVdbIJAyqF5INLE4mArbounb3tab5kiCFIw=s64",
      "userId": "17112094500915447092"
     },
     "user_tz": 300
    },
    "id": "B-Zb6SFDQrOk",
    "outputId": "71f53d1e-6906-4cb0-ee56-1e4c512f7e2d"
   },
   "outputs": [],
   "source": [
    "# Train test split\n",
    "X_train, X_test, y_train, y_test = train_test_split(X, y, test_size=0.2, random_state=42)\n",
    "\n",
    "\n",
    "#Fit the model\n",
    "pipe.fit(X_train, y_train)\n",
    "#Calculate the predictions on the Test data\n",
    "y_prob = pipe.predict_proba(X_test)[:, 1]\n",
    "\n",
    "\n",
    "# Create the AUC\n",
    "auc = roc_auc_score(y_test, y_prob)\n",
    "print(f'Original AUC: {auc}')\n",
    "# 2 pt"
   ]
  },
  {
   "cell_type": "code",
   "execution_count": null,
   "metadata": {
    "id": "_PprUnpXQrOk"
   },
   "outputs": [],
   "source": [
    "# Boostrap\n",
    "bootstrap_aucs = []\n",
    "n_bootstrap = 1000\n",
    "\n",
    "for _ in range(n_bootstrap):\n",
    "    # Sample with replacement from y_test and y_prob\n",
    "    indices = np.random.choice(len(y_test), len(y_test), replace=True)\n",
    "    y_test_sampled = y_test.iloc[indices].values\n",
    "    y_prob_sampled = y_prob[indices]\n",
    "    bootstrap_aucs.append(roc_auc_score(y_test_sampled, y_prob_sampled))\n",
    "\n",
    "# 4 pts"
   ]
  },
  {
   "cell_type": "code",
   "execution_count": null,
   "metadata": {
    "colab": {
     "base_uri": "https://localhost:8080/",
     "height": 282
    },
    "executionInfo": {
     "elapsed": 782,
     "status": "ok",
     "timestamp": 1645217252492,
     "user": {
      "displayName": "Sherly Paola Alfonso Sanchez",
      "photoUrl": "https://lh3.googleusercontent.com/a-/AOh14GijrV5WVdbIJAyqF5INLE4mArbounb3tab5kiCFIw=s64",
      "userId": "17112094500915447092"
     },
     "user_tz": 300
    },
    "id": "3R44_knBQrOk",
    "outputId": "95313780-63c5-4df5-d4e5-5c8350fb24c1"
   },
   "outputs": [],
   "source": [
    "# Plot\n",
    "plt.figure(figsize=(10, 6))\n",
    "sns.histplot(bootstrap_aucs, kde=True, bins=30)\n",
    "plt.title('Bootstrap Distribution of AUC Scores')\n",
    "plt.xlabel('AUC')\n",
    "plt.ylabel('Frequency')\n",
    "plt.show()\n",
    "# 2 pts"
   ]
  },
  {
   "cell_type": "code",
   "execution_count": null,
   "metadata": {
    "colab": {
     "base_uri": "https://localhost:8080/"
    },
    "executionInfo": {
     "elapsed": 5,
     "status": "ok",
     "timestamp": 1645217252492,
     "user": {
      "displayName": "Sherly Paola Alfonso Sanchez",
      "photoUrl": "https://lh3.googleusercontent.com/a-/AOh14GijrV5WVdbIJAyqF5INLE4mArbounb3tab5kiCFIw=s64",
      "userId": "17112094500915447092"
     },
     "user_tz": 300
    },
    "id": "Afxtsv6EQrOk",
    "outputId": "05e09dfa-dbba-4f0b-ca4e-c67cef547098"
   },
   "outputs": [],
   "source": [
    "# Find the confidence interval\n",
    "alpha = 0.05\n",
    "ci_min = np.percentile(bootstrap_aucs, 100 * alpha / 2.)\n",
    "ci_max = np.percentile(bootstrap_aucs, 100 * (1 - alpha / 2.))\n",
    "\n",
    "print(f'The CI for the AUC of the model is: {(ci_min, ci_max)}')\n",
    "\n",
    "# 6 pts"
   ]
  }
 ],
 "metadata": {
  "colab": {
   "name": "Assignment_5_Solutions.ipynb",
   "provenance": []
  },
  "kernelspec": {
   "display_name": "Python 3",
   "language": "python",
   "name": "python3"
  },
  "language_info": {
   "codemirror_mode": {
    "name": "ipython",
    "version": 3
   },
   "file_extension": ".py",
   "mimetype": "text/x-python",
   "name": "python",
   "nbconvert_exporter": "python",
   "pygments_lexer": "ipython3",
   "version": "3.10.4"
  }
 },
 "nbformat": 4,
 "nbformat_minor": 0
}
