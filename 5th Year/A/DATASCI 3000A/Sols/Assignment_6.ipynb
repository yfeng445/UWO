{
 "cells": [
  {
   "cell_type": "markdown",
   "id": "f5a4bd37",
   "metadata": {},
   "source": [
    "# Assignment 6: Feature selection and regularization\n",
    "\n",
    "# Total: /100\n",
    "\n",
    "## Instructions\n",
    "\n",
    "* Complete the assignment\n",
    "\n",
    "* Once the notebook is complete, **restart** your kernel and **rerun** your cells\n",
    "\n",
    "* Submit your completed notebook to owl by the deadline\n",
    "\n",
    "* You may use any python library functions you wish to complete the assignment"
   ]
  },
  {
   "cell_type": "code",
   "execution_count": null,
   "id": "d2d5c58f",
   "metadata": {
    "is_executing": true
   },
   "outputs": [],
   "source": [
    "# You may need these\n",
    "import pandas as pd\n",
    "import numpy as np\n",
    "import seaborn as sns\n",
    "import sklearn as sk\n",
    "import sklearn.linear_model as skl\n",
    "from sklearn import preprocessing\n",
    "from sklearn import metrics\n",
    "from sklearn.preprocessing import PolynomialFeatures\n",
    "from sklearn.preprocessing import StandardScaler \n",
    "from sklearn.model_selection import train_test_split, cross_val_score\n",
    "from sklearn.feature_selection import SelectFromModel\n",
    "import matplotlib.pyplot as plt\n",
    "from IPython.display import display\n",
    "\n",
    "# To get geo info of IP addresses:\n",
    "#!pip install maxminddb-geolite2\n",
    "from geolite2 import geolite2\n",
    "\n",
    "seed = 2023\n",
    "np.random.seed(seed)\n",
    "import sys\n",
    "np.set_printoptions(threshold=sys.maxsize)"
   ]
  },
  {
   "cell_type": "markdown",
   "id": "824fc0a9",
   "metadata": {},
   "source": [
    "## Question 1: /20 pts\n",
    "\n",
    "The dataset `customer_data.csv` lists certain attributes providing valuable insights into customer behavior and demographics:\n",
    "\n",
    "- **full.name**: Customer's full name\n",
    "- **ip.address**: Customer's IP address\n",
    "- **region**: Customer's geographical region\n",
    "- **age**: Customer's age\n",
    "- **items**: Number of items purchased by the customer\n",
    "- **amount**: The total amount spent by the customer\n",
    "\n",
    "Businesses can leverage this dataset to make data-driven decisions, understand customer preferences, and tailor their strategies to meet customer needs and interests.\n"
   ]
  },
  {
   "cell_type": "markdown",
   "id": "d89159c2",
   "metadata": {},
   "source": [
    "### 1.1 Load the dataset and display the first 5 rows."
   ]
  },
  {
   "cell_type": "code",
   "execution_count": 87,
   "id": "8d464a7c",
   "metadata": {
    "is_executing": true
   },
   "outputs": [
    {
     "data": {
      "text/html": [
       "<div>\n",
       "<style scoped>\n",
       "    .dataframe tbody tr th:only-of-type {\n",
       "        vertical-align: middle;\n",
       "    }\n",
       "\n",
       "    .dataframe tbody tr th {\n",
       "        vertical-align: top;\n",
       "    }\n",
       "\n",
       "    .dataframe thead th {\n",
       "        text-align: right;\n",
       "    }\n",
       "</style>\n",
       "<table border=\"1\" class=\"dataframe\">\n",
       "  <thead>\n",
       "    <tr style=\"text-align: right;\">\n",
       "      <th></th>\n",
       "      <th>full.name</th>\n",
       "      <th>ip.address</th>\n",
       "      <th>region</th>\n",
       "      <th>in.store</th>\n",
       "      <th>age</th>\n",
       "      <th>items</th>\n",
       "      <th>amount</th>\n",
       "    </tr>\n",
       "  </thead>\n",
       "  <tbody>\n",
       "    <tr>\n",
       "      <th>0</th>\n",
       "      <td>Carter Stokes</td>\n",
       "      <td>NaN</td>\n",
       "      <td>2</td>\n",
       "      <td>0</td>\n",
       "      <td>37</td>\n",
       "      <td>4</td>\n",
       "      <td>281.03</td>\n",
       "    </tr>\n",
       "    <tr>\n",
       "      <th>1</th>\n",
       "      <td>Jacob Jerde</td>\n",
       "      <td>NaN</td>\n",
       "      <td>2</td>\n",
       "      <td>0</td>\n",
       "      <td>35</td>\n",
       "      <td>2</td>\n",
       "      <td>219.51</td>\n",
       "    </tr>\n",
       "    <tr>\n",
       "      <th>2</th>\n",
       "      <td>Tressa Ratke</td>\n",
       "      <td>192.90.208.202</td>\n",
       "      <td>4</td>\n",
       "      <td>1</td>\n",
       "      <td>45</td>\n",
       "      <td>3</td>\n",
       "      <td>1525.70</td>\n",
       "    </tr>\n",
       "    <tr>\n",
       "      <th>3</th>\n",
       "      <td>Rudolf Abshire</td>\n",
       "      <td>251.55.128.164</td>\n",
       "      <td>3</td>\n",
       "      <td>1</td>\n",
       "      <td>46</td>\n",
       "      <td>3</td>\n",
       "      <td>715.25</td>\n",
       "    </tr>\n",
       "    <tr>\n",
       "      <th>4</th>\n",
       "      <td>Theresa Davis</td>\n",
       "      <td>182.19.192.186</td>\n",
       "      <td>1</td>\n",
       "      <td>1</td>\n",
       "      <td>33</td>\n",
       "      <td>4</td>\n",
       "      <td>1937.50</td>\n",
       "    </tr>\n",
       "  </tbody>\n",
       "</table>\n",
       "</div>"
      ],
      "text/plain": [
       "        full.name      ip.address  region  in.store  age  items   amount\n",
       "0   Carter Stokes             NaN       2         0   37      4   281.03\n",
       "1     Jacob Jerde             NaN       2         0   35      2   219.51\n",
       "2    Tressa Ratke  192.90.208.202       4         1   45      3  1525.70\n",
       "3  Rudolf Abshire  251.55.128.164       3         1   46      3   715.25\n",
       "4   Theresa Davis  182.19.192.186       1         1   33      4  1937.50"
      ]
     },
     "execution_count": 87,
     "metadata": {},
     "output_type": "execute_result"
    }
   ],
   "source": [
    "#your code here\n",
    "df = pd.read_csv(\"customer_data.csv\")\n",
    "df.head()"
   ]
  },
  {
   "cell_type": "markdown",
   "id": "230d3aac",
   "metadata": {},
   "source": [
    "### 1.2 First, remove any rows where the entry of \"Age\" column is below 18 or above 80, and then extract two new features from `ip.address`: one called `latitude` and the other `longitude`. Use the package `geolite2` for the conversion of the IP addresses to latitude and longitude. Use [pandas.DataFrame.apply](https://pandas.pydata.org/docs/reference/api/pandas.DataFrame.apply.html) to do the conversion (in a vectorized way) in one go for each new feature. Avoid using `for` loops. At the end, drop the column `ip.address` as well as any rows with a missing value. Display the first 5 rows of the new dataframe and report its shape."
   ]
  },
  {
   "cell_type": "code",
   "execution_count": 88,
   "id": "cc0b8076",
   "metadata": {
    "is_executing": true
   },
   "outputs": [],
   "source": [
    "#your code here\n",
    "df = df.drop(df[df['age']>80].index).drop(df[df['age']<18].index)"
   ]
  },
  {
   "cell_type": "code",
   "execution_count": 89,
   "id": "c1e20b5c7fb3190b",
   "metadata": {
    "collapsed": false,
    "is_executing": true
   },
   "outputs": [
    {
     "data": {
      "text/html": [
       "<div>\n",
       "<style scoped>\n",
       "    .dataframe tbody tr th:only-of-type {\n",
       "        vertical-align: middle;\n",
       "    }\n",
       "\n",
       "    .dataframe tbody tr th {\n",
       "        vertical-align: top;\n",
       "    }\n",
       "\n",
       "    .dataframe thead th {\n",
       "        text-align: right;\n",
       "    }\n",
       "</style>\n",
       "<table border=\"1\" class=\"dataframe\">\n",
       "  <thead>\n",
       "    <tr style=\"text-align: right;\">\n",
       "      <th></th>\n",
       "      <th>full.name</th>\n",
       "      <th>region</th>\n",
       "      <th>in.store</th>\n",
       "      <th>age</th>\n",
       "      <th>items</th>\n",
       "      <th>amount</th>\n",
       "      <th>latitude</th>\n",
       "      <th>longitude</th>\n",
       "    </tr>\n",
       "  </thead>\n",
       "  <tbody>\n",
       "    <tr>\n",
       "      <th>2</th>\n",
       "      <td>Tressa Ratke</td>\n",
       "      <td>4</td>\n",
       "      <td>1</td>\n",
       "      <td>45</td>\n",
       "      <td>3</td>\n",
       "      <td>1525.70</td>\n",
       "      <td>42.5879</td>\n",
       "      <td>-71.3498</td>\n",
       "    </tr>\n",
       "    <tr>\n",
       "      <th>4</th>\n",
       "      <td>Theresa Davis</td>\n",
       "      <td>1</td>\n",
       "      <td>1</td>\n",
       "      <td>33</td>\n",
       "      <td>4</td>\n",
       "      <td>1937.50</td>\n",
       "      <td>1.2931</td>\n",
       "      <td>103.8558</td>\n",
       "    </tr>\n",
       "    <tr>\n",
       "      <th>7</th>\n",
       "      <td>Keitha Mosciski</td>\n",
       "      <td>3</td>\n",
       "      <td>1</td>\n",
       "      <td>66</td>\n",
       "      <td>5</td>\n",
       "      <td>819.98</td>\n",
       "      <td>40.0842</td>\n",
       "      <td>-82.9378</td>\n",
       "    </tr>\n",
       "    <tr>\n",
       "      <th>8</th>\n",
       "      <td>Hortense Streich</td>\n",
       "      <td>1</td>\n",
       "      <td>1</td>\n",
       "      <td>51</td>\n",
       "      <td>5</td>\n",
       "      <td>908.31</td>\n",
       "      <td>37.7510</td>\n",
       "      <td>-97.8220</td>\n",
       "    </tr>\n",
       "    <tr>\n",
       "      <th>9</th>\n",
       "      <td>Carl Price</td>\n",
       "      <td>1</td>\n",
       "      <td>1</td>\n",
       "      <td>47</td>\n",
       "      <td>3</td>\n",
       "      <td>767.54</td>\n",
       "      <td>41.3969</td>\n",
       "      <td>-87.3274</td>\n",
       "    </tr>\n",
       "  </tbody>\n",
       "</table>\n",
       "</div>"
      ],
      "text/plain": [
       "          full.name  region  in.store  age  items   amount  latitude  \\\n",
       "2      Tressa Ratke       4         1   45      3  1525.70   42.5879   \n",
       "4     Theresa Davis       1         1   33      4  1937.50    1.2931   \n",
       "7   Keitha Mosciski       3         1   66      5   819.98   40.0842   \n",
       "8  Hortense Streich       1         1   51      5   908.31   37.7510   \n",
       "9        Carl Price       1         1   47      3   767.54   41.3969   \n",
       "\n",
       "   longitude  \n",
       "2   -71.3498  \n",
       "4   103.8558  \n",
       "7   -82.9378  \n",
       "8   -97.8220  \n",
       "9   -87.3274  "
      ]
     },
     "execution_count": 89,
     "metadata": {},
     "output_type": "execute_result"
    }
   ],
   "source": [
    "# extract ip.address\n",
    "def getLoc(ip):\n",
    "    try:\n",
    "        location = geolite2.reader().get(ip)\n",
    "        if location and 'location' in location:\n",
    "            return pd.Series([location['location']['latitude'], location['location']['longitude']])\n",
    "        else:\n",
    "            return pd.Series([None, None])\n",
    "    except Exception:\n",
    "        return pd.Series([None, None])\n",
    "df[['latitude', 'longitude']] = df['ip.address'].apply(getLoc)\n",
    "df = df.drop(columns=['ip.address'])\n",
    "df = df.dropna()\n",
    "df.head()\n",
    "\n"
   ]
  },
  {
   "cell_type": "markdown",
   "id": "d08a7f1d",
   "metadata": {},
   "source": [
    "### 1.3 Perform one-hot encoding on the `region` column using pd.get_dummies(). Display the first 5 rows of the encoded dataframe."
   ]
  },
  {
   "cell_type": "code",
   "execution_count": 90,
   "id": "f7cae6d0",
   "metadata": {
    "is_executing": true
   },
   "outputs": [
    {
     "data": {
      "text/html": [
       "<div>\n",
       "<style scoped>\n",
       "    .dataframe tbody tr th:only-of-type {\n",
       "        vertical-align: middle;\n",
       "    }\n",
       "\n",
       "    .dataframe tbody tr th {\n",
       "        vertical-align: top;\n",
       "    }\n",
       "\n",
       "    .dataframe thead th {\n",
       "        text-align: right;\n",
       "    }\n",
       "</style>\n",
       "<table border=\"1\" class=\"dataframe\">\n",
       "  <thead>\n",
       "    <tr style=\"text-align: right;\">\n",
       "      <th></th>\n",
       "      <th>full.name</th>\n",
       "      <th>in.store</th>\n",
       "      <th>age</th>\n",
       "      <th>items</th>\n",
       "      <th>amount</th>\n",
       "      <th>latitude</th>\n",
       "      <th>longitude</th>\n",
       "      <th>region_1</th>\n",
       "      <th>region_3</th>\n",
       "      <th>region_4</th>\n",
       "    </tr>\n",
       "  </thead>\n",
       "  <tbody>\n",
       "    <tr>\n",
       "      <th>2</th>\n",
       "      <td>Tressa Ratke</td>\n",
       "      <td>1</td>\n",
       "      <td>45</td>\n",
       "      <td>3</td>\n",
       "      <td>1525.70</td>\n",
       "      <td>42.5879</td>\n",
       "      <td>-71.3498</td>\n",
       "      <td>False</td>\n",
       "      <td>False</td>\n",
       "      <td>True</td>\n",
       "    </tr>\n",
       "    <tr>\n",
       "      <th>4</th>\n",
       "      <td>Theresa Davis</td>\n",
       "      <td>1</td>\n",
       "      <td>33</td>\n",
       "      <td>4</td>\n",
       "      <td>1937.50</td>\n",
       "      <td>1.2931</td>\n",
       "      <td>103.8558</td>\n",
       "      <td>True</td>\n",
       "      <td>False</td>\n",
       "      <td>False</td>\n",
       "    </tr>\n",
       "    <tr>\n",
       "      <th>7</th>\n",
       "      <td>Keitha Mosciski</td>\n",
       "      <td>1</td>\n",
       "      <td>66</td>\n",
       "      <td>5</td>\n",
       "      <td>819.98</td>\n",
       "      <td>40.0842</td>\n",
       "      <td>-82.9378</td>\n",
       "      <td>False</td>\n",
       "      <td>True</td>\n",
       "      <td>False</td>\n",
       "    </tr>\n",
       "    <tr>\n",
       "      <th>8</th>\n",
       "      <td>Hortense Streich</td>\n",
       "      <td>1</td>\n",
       "      <td>51</td>\n",
       "      <td>5</td>\n",
       "      <td>908.31</td>\n",
       "      <td>37.7510</td>\n",
       "      <td>-97.8220</td>\n",
       "      <td>True</td>\n",
       "      <td>False</td>\n",
       "      <td>False</td>\n",
       "    </tr>\n",
       "    <tr>\n",
       "      <th>9</th>\n",
       "      <td>Carl Price</td>\n",
       "      <td>1</td>\n",
       "      <td>47</td>\n",
       "      <td>3</td>\n",
       "      <td>767.54</td>\n",
       "      <td>41.3969</td>\n",
       "      <td>-87.3274</td>\n",
       "      <td>True</td>\n",
       "      <td>False</td>\n",
       "      <td>False</td>\n",
       "    </tr>\n",
       "  </tbody>\n",
       "</table>\n",
       "</div>"
      ],
      "text/plain": [
       "          full.name  in.store  age  items   amount  latitude  longitude  \\\n",
       "2      Tressa Ratke         1   45      3  1525.70   42.5879   -71.3498   \n",
       "4     Theresa Davis         1   33      4  1937.50    1.2931   103.8558   \n",
       "7   Keitha Mosciski         1   66      5   819.98   40.0842   -82.9378   \n",
       "8  Hortense Streich         1   51      5   908.31   37.7510   -97.8220   \n",
       "9        Carl Price         1   47      3   767.54   41.3969   -87.3274   \n",
       "\n",
       "   region_1  region_3  region_4  \n",
       "2     False     False      True  \n",
       "4      True     False     False  \n",
       "7     False      True     False  \n",
       "8      True     False     False  \n",
       "9      True     False     False  "
      ]
     },
     "execution_count": 90,
     "metadata": {},
     "output_type": "execute_result"
    }
   ],
   "source": [
    "#your code here\n",
    "encoded_df = pd.get_dummies(df, columns=['region'])\n",
    "encoded_df.head()"
   ]
  },
  {
   "cell_type": "markdown",
   "id": "e161881e",
   "metadata": {},
   "source": [
    "### 1.4 Calculate the natural logarithm of the column reporting clients' total amount spent and store it as a new column `log_amount`. Create your design matrix `X` and target vector `y` with `log_amount` as target (No training/test splitting yet).\n",
    "\n"
   ]
  },
  {
   "cell_type": "code",
   "execution_count": 91,
   "id": "a06992d0",
   "metadata": {
    "is_executing": true
   },
   "outputs": [],
   "source": [
    "#your code here\n",
    "encoded_df[\"log_amount\"] = np.log(encoded_df[\"amount\"])\n",
    "X = encoded_df.drop(columns=[\"amount\", 'log_amount'])\n",
    "y = encoded_df[\"log_amount\"]"
   ]
  },
  {
   "cell_type": "markdown",
   "id": "c8ba9bf0",
   "metadata": {},
   "source": [
    "### 1.5 Build a new design matrix by applying polynomial expansion using `PolynomialFeatures()` on `X` with degree=2. Do not include the column with power 0 (*i.e.*, the column with all elements being 1) and make sure to not set the argument `interaction_only` to `True`.\n"
   ]
  },
  {
   "cell_type": "code",
   "execution_count": 92,
   "id": "cc1b1e18",
   "metadata": {
    "is_executing": true
   },
   "outputs": [],
   "source": [
    "#your code here\n",
    "poly_X = PolynomialFeatures(degree=2, interaction_only=False)\n",
    "Xtmp = X.loc[:, X.ne(1).any()].drop(columns=['full.name'])\n",
    "poly_X = poly_X.fit_transform(Xtmp)"
   ]
  },
  {
   "cell_type": "markdown",
   "id": "489a1499",
   "metadata": {},
   "source": [
    "\n",
    "### 1.6 Standardize your design matrix from Question 1.5 using `StandardScaler()`, and store the result as a Pandas dataframe."
   ]
  },
  {
   "cell_type": "code",
   "execution_count": 93,
   "id": "0838eebc",
   "metadata": {
    "is_executing": true
   },
   "outputs": [],
   "source": [
    "#your code here\n",
    "scaler = StandardScaler()\n",
    "scaler.fit(poly_X)\n",
    "scaler = scaler.transform(poly_X)"
   ]
  },
  {
   "cell_type": "markdown",
   "id": "2821829e",
   "metadata": {},
   "source": [
    "## Question 2: /7 pts\n",
    "\n"
   ]
  },
  {
   "cell_type": "markdown",
   "id": "065a772c",
   "metadata": {},
   "source": [
    "### 2.1 Split the data into training and test sets. Hold out 30% of observations as the test set. How many observations are in your training dataset? What is the average value of the target variable in the training dataset (rounded to 2 decimal places)?"
   ]
  },
  {
   "cell_type": "code",
   "execution_count": 94,
   "id": "dfe16088",
   "metadata": {
    "is_executing": true
   },
   "outputs": [
    {
     "data": {
      "text/plain": [
       "((24012, 36), 6.38)"
      ]
     },
     "execution_count": 94,
     "metadata": {},
     "output_type": "execute_result"
    }
   ],
   "source": [
    "#your code here\n",
    "X_train, X_test, y_train, y_test = train_test_split(poly_X,y , random_state=seed,  test_size=0.3)\n",
    "np.shape(X_train), np.round(np.average(y_train), 2)"
   ]
  },
  {
   "cell_type": "markdown",
   "id": "16e97106",
   "metadata": {},
   "source": [
    "## Question 3: /23 pts\n",
    "\n"
   ]
  },
  {
   "cell_type": "markdown",
   "id": "84e1e843",
   "metadata": {},
   "source": [
    "### 3.1 Create a SciKit Learn `Ridge` regression object. Train it on the training data using an `alpha` of $4.0$ and do fit the intercept."
   ]
  },
  {
   "cell_type": "code",
   "execution_count": 95,
   "id": "b7aa3cad",
   "metadata": {
    "is_executing": true
   },
   "outputs": [
    {
     "data": {
      "text/plain": [
       "0.09912420162829139"
      ]
     },
     "execution_count": 95,
     "metadata": {},
     "output_type": "execute_result"
    }
   ],
   "source": [
    "#your code here\n",
    "ridgeReg = skl.Ridge(alpha = 4.0, fit_intercept=True)\n",
    "ridgeReg = ridgeReg.fit(X_train, y_train)\n",
    "ridgeReg.score(X_test, y_test)"
   ]
  },
  {
   "cell_type": "markdown",
   "id": "afc897ff",
   "metadata": {},
   "source": [
    "### 3.2 Now use `RidgeCV` to find the best `alpha` for the penalty term through a 5-fold cross-validation. As input for `alpha`, your code must try integer values from 30 to 50 inclusive. Report the `alpha` that yields the smallest loss."
   ]
  },
  {
   "cell_type": "code",
   "execution_count": 96,
   "id": "83c84bc3",
   "metadata": {
    "is_executing": true
   },
   "outputs": [
    {
     "data": {
      "text/plain": [
       "30"
      ]
     },
     "execution_count": 96,
     "metadata": {},
     "output_type": "execute_result"
    }
   ],
   "source": [
    "#your code here\n",
    "alphaList = list(range(30,51,1))\n",
    "ridgeReg = skl.RidgeCV(alphas=alphaList, cv=5, fit_intercept=True).fit(X_train, y_train)\n",
    "best_alpha = ridgeReg.alpha_\n",
    "best_alpha\n"
   ]
  },
  {
   "cell_type": "markdown",
   "id": "c0a89b5d",
   "metadata": {},
   "source": [
    "### 3.3 Fit a `Ridge` regression on the training data with the best `alpha` found in the previous question."
   ]
  },
  {
   "cell_type": "code",
   "execution_count": 97,
   "id": "16da9e9f",
   "metadata": {
    "is_executing": true
   },
   "outputs": [
    {
     "data": {
      "text/plain": [
       "0.09915329344122359"
      ]
     },
     "execution_count": 97,
     "metadata": {},
     "output_type": "execute_result"
    }
   ],
   "source": [
    "#your code here\n",
    "bestAlpha_reg = skl.Ridge(alpha = best_alpha, fit_intercept=True)\n",
    "ridgeReg = ridgeReg.fit(X_train, y_train)\n",
    "ridgeReg.score(X_test, y_test)"
   ]
  },
  {
   "cell_type": "markdown",
   "id": "c9db12d9",
   "metadata": {},
   "source": [
    "### 3.4 Fit a simple `LinearRegression` without any penalty using the training data (again, `fit_intercept=True`). Compare the regression coefficients obtained in questions 3.1, 3.3 and 3.4. How do they compare?"
   ]
  },
  {
   "cell_type": "code",
   "execution_count": 98,
   "id": "b37a30c3",
   "metadata": {
    "is_executing": true
   },
   "outputs": [
    {
     "data": {
      "text/plain": [
       "0.09907518880735766"
      ]
     },
     "execution_count": 98,
     "metadata": {},
     "output_type": "execute_result"
    }
   ],
   "source": [
    "#your code here\n",
    "\n",
    "linearReg = skl.LinearRegression(fit_intercept=True)\n",
    "linearReg = linearReg.fit(X_train, y_train)\n",
    "linearReg.score(X_test, y_test)\n"
   ]
  },
  {
   "cell_type": "markdown",
   "id": "47c04c40",
   "metadata": {},
   "source": [
    "#### YOUR ANSWER HERE\n",
    "\n",
    "Ridge regression has the highest score, and the ridge model with best alpha has a highest score."
   ]
  },
  {
   "cell_type": "markdown",
   "id": "600cf777",
   "metadata": {},
   "source": [
    "\n",
    "### 3.5 Use your trained linear regression models in Q3.3 and Q3.4 to predict over the test set and print the median of their perdictions."
   ]
  },
  {
   "cell_type": "code",
   "execution_count": 99,
   "id": "538d0546",
   "metadata": {
    "is_executing": true
   },
   "outputs": [
    {
     "data": {
      "text/plain": [
       "6.388824455672875"
      ]
     },
     "execution_count": 99,
     "metadata": {},
     "output_type": "execute_result"
    }
   ],
   "source": [
    "#your code here\n",
    "linear_y_pred = linearReg.predict(X_test)\n",
    "np.median(linear_y_pred)"
   ]
  },
  {
   "cell_type": "markdown",
   "id": "58a650cb",
   "metadata": {},
   "source": [
    "## Question 4: /25 pts\n",
    "\n"
   ]
  },
  {
   "cell_type": "markdown",
   "id": "4e235cb4",
   "metadata": {},
   "source": [
    "### 4.1 Fit a Lasso regression to the train dataset using lasso_path(). Show the full path of the first 20 coefficients of the Lasso regression. Include eps=8e-3 and n_alphas=50. Describe the trends you see in the figure."
   ]
  },
  {
   "cell_type": "code",
   "execution_count": 100,
   "id": "4bd44ee6",
   "metadata": {
    "is_executing": true
   },
   "outputs": [
    {
     "name": "stderr",
     "output_type": "stream",
     "text": [
      "No artists with labels found to put in legend.  Note that artists whose label start with an underscore are ignored when legend() is called with no argument.\n"
     ]
    },
    {
     "data": {
      "image/png": "[encoded data removed]",
      "text/plain": [
       "<Figure size 640x480 with 1 Axes>"
      ]
     },
     "metadata": {},
     "output_type": "display_data"
    }
   ],
   "source": [
    "#your code here\n",
    "lasso_alpha, lasso_coef, _ = skl.lasso_path(X_train, y_train, eps=8e-3, n_alphas=50)\n",
    "plt.figure()\n",
    "for i in range(20):  \n",
    "    plt.plot(np.log(lasso_alpha), lasso_coef[i])\n",
    "plt.xlabel('alpha')\n",
    "plt.ylabel('Coefficients')\n",
    "plt.title(\"alpha - coef\")\n",
    "plt.legend()\n",
    "plt.show()\n"
   ]
  },
  {
   "cell_type": "markdown",
   "id": "ad660b66",
   "metadata": {},
   "source": [
    "The coefficient converges to zero as alpha increase"
   ]
  },
  {
   "cell_type": "markdown",
   "id": "d6f68d84",
   "metadata": {},
   "source": [
    "### 4.2 Use Scikit Learn's cross-validated LASSO to automatically search for the best alpha of the LASSO regression on the training set with intercept. Include arguments `eps=8e-3`, `n_alphas=30`, `tol=0.001`, `cv=5`, and `random_state=seed`. Report the best tuning parameters and the number of coefficients that the model shrinks to zero."
   ]
  },
  {
   "cell_type": "code",
   "execution_count": 101,
   "id": "d96736cc",
   "metadata": {
    "is_executing": true
   },
   "outputs": [
    {
     "data": {
      "text/plain": [
       "(1.5075114078835974, 30)"
      ]
     },
     "execution_count": 101,
     "metadata": {},
     "output_type": "execute_result"
    }
   ],
   "source": [
    "#your code here\n",
    "lassoReg = skl.LassoCV(eps=8e-3, n_alphas=30, tol=0.001, cv=5, random_state=seed)\n",
    "lassoReg = lassoReg.fit(X_train, y_train)\n",
    "lassoReg.alpha_, sum(lassoReg.coef_ == 0)"
   ]
  },
  {
   "cell_type": "markdown",
   "id": "97093359",
   "metadata": {},
   "source": [
    "\n",
    "### 4.3 Use Scikit Learn's cross-validated ElasticNet to automatically search for the best tuning parameters of the ElasticNet regression (with intercept) on the training set. Include the same arguments as in question 4.2 as well as `l1_ratio=[0.7, 0.9, 0.95, 0.99, 1]`. Report the best tuning parameters. Is the ElasticNet regression model equivalent to the Lasso regression? Briefly describe how they defer and under what circumstances they become the same."
   ]
  },
  {
   "cell_type": "code",
   "execution_count": 102,
   "id": "e8a8d72a",
   "metadata": {
    "is_executing": true
   },
   "outputs": [
    {
     "data": {
      "text/plain": [
       "(1.5075114078835974, 1.0)"
      ]
     },
     "execution_count": 102,
     "metadata": {},
     "output_type": "execute_result"
    }
   ],
   "source": [
    "#your code here\n",
    "elasticReg = skl.ElasticNetCV(eps=8e-3, n_alphas=30, tol=0.001, cv=5, random_state=seed, l1_ratio=[0.7, 0.9, 0.95, 0.99, 1])\n",
    "elasticReg.fit(X_train, y_train)\n",
    "elasticReg.alpha_,elasticReg.l1_ratio_"
   ]
  },
  {
   "cell_type": "markdown",
   "id": "a7fdd82a",
   "metadata": {},
   "source": [
    "#### YOUR ANSWER HERE\n",
    "\n",
    "No. Elastic Net is equivelent to Lasso only if L1 = 1."
   ]
  },
  {
   "cell_type": "markdown",
   "id": "1cf52d72",
   "metadata": {},
   "source": [
    "## Question 5 : /16 pts\n",
    "\n"
   ]
  },
  {
   "cell_type": "markdown",
   "id": "9ff07cf4",
   "metadata": {},
   "source": [
    "### 5.1 Use `SequentialFeatureSelector()` to conduct forward selection for the features of the Ridge model tuned in Q 3.3. Include the argument `n_features_to_select=20`. Report the indices of the selected features."
   ]
  },
  {
   "cell_type": "code",
   "execution_count": null,
   "id": "18a57650",
   "metadata": {
    "is_executing": true
   },
   "outputs": [],
   "source": [
    "#your code here\n",
    "sfs = sk.feature_selection.SequentialFeatureSelector(ridgeReg, n_features_to_select=20)\n",
    "sfs.fit(X_train, y_train)\n",
    "selected_features_indices = sfs.get_support(indices=True)\n",
    "selected_features_indices\n"
   ]
  },
  {
   "cell_type": "markdown",
   "id": "dfac786b",
   "metadata": {},
   "source": [
    "### 5.2 Fit a regular `LinearRegression` (with `fit_intercept=True`) on the training set using the selected features from the previous question. Print the first 3 coefficients of your model."
   ]
  },
  {
   "cell_type": "code",
   "execution_count": null,
   "id": "3dd0af24",
   "metadata": {
    "is_executing": true
   },
   "outputs": [
    {
     "data": {
      "text/plain": [
       "array([0.        , 0.00239144, 0.1218949 ])"
      ]
     },
     "execution_count": 78,
     "metadata": {},
     "output_type": "execute_result"
    }
   ],
   "source": [
    "#your code here\n",
    "X_train_selected = X_train[:, selected_features_indices]\n",
    "selected_linReg = skl.LinearRegression(fit_intercept=True)\n",
    "selected_linReg.fit(X_train_selected, y_train)\n",
    "coeffs = selected_linReg.coef_\n",
    "coeffs[:3]"
   ]
  },
  {
   "cell_type": "markdown",
   "id": "c49f2f7c",
   "metadata": {},
   "source": [
    "## Question 6: /9 pts\n",
    "\n"
   ]
  },
  {
   "cell_type": "markdown",
   "id": "a675e822",
   "metadata": {},
   "source": [
    "### 6.1 Make predictions on the test set using models from questions 3.3, 4.2, 4.3, and 5.2, respectively. Create a DataFrame with  predicted values obtained from the different models. Name the columns of the dataframe consistent with the names used for the models, or their question number. Display the first 5 rows of this dataframe."
   ]
  },
  {
   "cell_type": "code",
   "execution_count": null,
   "id": "e45d5aec",
   "metadata": {
    "is_executing": true
   },
   "outputs": [
    {
     "data": {
      "text/html": [
       "<div>\n",
       "<style scoped>\n",
       "    .dataframe tbody tr th:only-of-type {\n",
       "        vertical-align: middle;\n",
       "    }\n",
       "\n",
       "    .dataframe tbody tr th {\n",
       "        vertical-align: top;\n",
       "    }\n",
       "\n",
       "    .dataframe thead th {\n",
       "        text-align: right;\n",
       "    }\n",
       "</style>\n",
       "<table border=\"1\" class=\"dataframe\">\n",
       "  <thead>\n",
       "    <tr style=\"text-align: right;\">\n",
       "      <th></th>\n",
       "      <th>Ridge</th>\n",
       "      <th>Lasso</th>\n",
       "      <th>ElasticNet</th>\n",
       "      <th>SelectedLinear</th>\n",
       "    </tr>\n",
       "  </thead>\n",
       "  <tbody>\n",
       "    <tr>\n",
       "      <th>0</th>\n",
       "      <td>6.050352</td>\n",
       "      <td>6.114141</td>\n",
       "      <td>6.114141</td>\n",
       "      <td>6.066551</td>\n",
       "    </tr>\n",
       "    <tr>\n",
       "      <th>1</th>\n",
       "      <td>5.975529</td>\n",
       "      <td>6.037253</td>\n",
       "      <td>6.037253</td>\n",
       "      <td>5.999697</td>\n",
       "    </tr>\n",
       "    <tr>\n",
       "      <th>2</th>\n",
       "      <td>6.041700</td>\n",
       "      <td>5.950847</td>\n",
       "      <td>5.950847</td>\n",
       "      <td>6.012180</td>\n",
       "    </tr>\n",
       "    <tr>\n",
       "      <th>3</th>\n",
       "      <td>6.068506</td>\n",
       "      <td>6.026278</td>\n",
       "      <td>6.026278</td>\n",
       "      <td>6.063514</td>\n",
       "    </tr>\n",
       "    <tr>\n",
       "      <th>4</th>\n",
       "      <td>6.348587</td>\n",
       "      <td>6.324437</td>\n",
       "      <td>6.324437</td>\n",
       "      <td>6.324854</td>\n",
       "    </tr>\n",
       "  </tbody>\n",
       "</table>\n",
       "</div>"
      ],
      "text/plain": [
       "      Ridge     Lasso  ElasticNet  SelectedLinear\n",
       "0  6.050352  6.114141    6.114141        6.066551\n",
       "1  5.975529  6.037253    6.037253        5.999697\n",
       "2  6.041700  5.950847    5.950847        6.012180\n",
       "3  6.068506  6.026278    6.026278        6.063514\n",
       "4  6.348587  6.324437    6.324437        6.324854"
      ]
     },
     "execution_count": 81,
     "metadata": {},
     "output_type": "execute_result"
    }
   ],
   "source": [
    "#your code here\n",
    "ridge_preds = ridgeReg.predict(X_test)\n",
    "lasso_preds = lassoReg.predict(X_test)\n",
    "elastic_preds = elasticReg.predict(X_test)\n",
    "lin_reg_selected_preds = selected_linReg.predict(X_test[:, selected_features_indices])\n",
    "predictions = pd.DataFrame({'Ridge': ridge_preds,\n",
    "                            'Lasso': lasso_preds,\n",
    "                            'ElasticNet': elastic_preds,\n",
    "                            'SelectedLinear': lin_reg_selected_preds}) \n",
    "predictions.head()  "
   ]
  },
  {
   "cell_type": "markdown",
   "id": "a1e175b5",
   "metadata": {},
   "source": [
    "### 6.2 Use `mean_squared_error` as your scorer to assess the performance of the different models (those reported in the previous question) based on all the predicted values over test set. Based on this scorer which model is the best?"
   ]
  },
  {
   "cell_type": "code",
   "execution_count": null,
   "id": "ce2a5e08",
   "metadata": {
    "is_executing": true
   },
   "outputs": [
    {
     "data": {
      "text/plain": [
       "{'Ridge': 0.6026518792858427,\n",
       " 'Lasso': 0.6180425773764266,\n",
       " 'ElasticNet': 0.6180425773764266,\n",
       " 'LinRegSelected': 0.6024416778063885}"
      ]
     },
     "execution_count": 85,
     "metadata": {},
     "output_type": "execute_result"
    }
   ],
   "source": [
    "#your code here\n",
    "ridge_mse = metrics.mean_squared_error(y_test, ridge_preds)\n",
    "lasso_mse = metrics.mean_squared_error(y_test, lasso_preds)\n",
    "elastic_mse = metrics.mean_squared_error(y_test, elastic_preds)\n",
    "lin_reg_selected_mse = metrics.mean_squared_error(y_test, lin_reg_selected_preds)\n",
    "\n",
    "mse_values = {\n",
    "    'Ridge': ridge_mse,\n",
    "    'Lasso': lasso_mse,\n",
    "    'ElasticNet': elastic_mse,\n",
    "    'LinRegSelected': lin_reg_selected_mse\n",
    "}\n",
    "\n",
    "mse_values\n"
   ]
  },
  {
   "cell_type": "markdown",
   "id": "18fb8c15",
   "metadata": {},
   "source": [
    "#### YOUR ANSWER HERE\n",
    "\n",
    "ElasticNet has best performance."
   ]
  }
 ],
 "metadata": {
  "kernelspec": {
   "display_name": "Python 3 (ipykernel)",
   "language": "python",
   "name": "python3"
  },
  "language_info": {
   "codemirror_mode": {
    "name": "ipython",
    "version": 3
   },
   "file_extension": ".py",
   "mimetype": "text/x-python",
   "name": "python",
   "nbconvert_exporter": "python",
   "pygments_lexer": "ipython3",
   "version": "3.11.6"
  }
 },
 "nbformat": 4,
 "nbformat_minor": 5
}
