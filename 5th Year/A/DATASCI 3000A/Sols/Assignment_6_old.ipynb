{
 "cells": [
  {
   "cell_type": "markdown",
   "id": "f5a4bd37",
   "metadata": {},
   "source": [
    "# Assignment 6: Feature selection and regularization\n",
    "\n",
    "# Total: /100\n",
    "\n",
    "## Instructions\n",
    "\n",
    "* Complete the assignment\n",
    "\n",
    "* Once the notebook is complete, **restart** your kernel and **rerun** your cells\n",
    "\n",
    "* Submit your completed notebook to owl by the deadline\n",
    "\n",
    "* You may use any python library functions you wish to complete the assignment"
   ]
  },
  {
   "cell_type": "code",
   "execution_count": 1,
   "id": "d2d5c58f",
   "metadata": {
    "ExecuteTime": {
     "end_time": "2023-10-31T15:56:03.264753200Z",
     "start_time": "2023-10-31T15:56:01.208860800Z"
    }
   },
   "outputs": [],
   "source": [
    "# You may need these\n",
    "import pandas as pd\n",
    "import numpy as np\n",
    "import seaborn as sns\n",
    "import sklearn as sk\n",
    "import sklearn.linear_model as skl\n",
    "from sklearn import preprocessing\n",
    "from sklearn import metrics\n",
    "from sklearn.preprocessing import PolynomialFeatures\n",
    "from sklearn.preprocessing import StandardScaler \n",
    "from sklearn.model_selection import train_test_split, cross_val_score\n",
    "from sklearn.feature_selection import SelectFromModel\n",
    "import matplotlib.pyplot as plt\n",
    "from IPython.display import display\n",
    "\n",
    "# To get geo info of IP addresses:\n",
    "#!pip install maxminddb-geolite2\n",
    "from geolite2 import geolite2\n",
    "\n",
    "seed = 2023\n",
    "np.random.seed(seed)"
   ]
  },
  {
   "cell_type": "markdown",
   "id": "824fc0a9",
   "metadata": {},
   "source": [
    "## Question 1: /20 pts\n",
    "\n",
    "The dataset `customer_data.csv` lists certain attributes providing valuable insights into customer behavior and demographics:\n",
    "\n",
    "- **full.name**: Customer's full name\n",
    "- **ip.address**: Customer's IP address\n",
    "- **region**: Customer's geographical region\n",
    "- **age**: Customer's age\n",
    "- **items**: Number of items purchased by the customer\n",
    "- **amount**: The total amount spent by the customer\n",
    "\n",
    "Businesses can leverage this dataset to make data-driven decisions, understand customer preferences, and tailor their strategies to meet customer needs and interests.\n"
   ]
  },
  {
   "cell_type": "markdown",
   "id": "d89159c2",
   "metadata": {},
   "source": [
    "### 1.1 Load the dataset and display the first 5 rows."
   ]
  },
  {
   "cell_type": "code",
   "execution_count": 2,
   "id": "8d464a7c",
   "metadata": {
    "ExecuteTime": {
     "end_time": "2023-10-31T15:56:17.595345300Z",
     "start_time": "2023-10-31T15:56:17.475186200Z"
    }
   },
   "outputs": [
    {
     "data": {
      "text/plain": "        full.name      ip.address  region  in.store  age  items   amount\n0   Carter Stokes             NaN       2         0   37      4   281.03\n1     Jacob Jerde             NaN       2         0   35      2   219.51\n2    Tressa Ratke  192.90.208.202       4         1   45      3  1525.70\n3  Rudolf Abshire  251.55.128.164       3         1   46      3   715.25\n4   Theresa Davis  182.19.192.186       1         1   33      4  1937.50",
      "text/html": "<div>\n<style scoped>\n    .dataframe tbody tr th:only-of-type {\n        vertical-align: middle;\n    }\n\n    .dataframe tbody tr th {\n        vertical-align: top;\n    }\n\n    .dataframe thead th {\n        text-align: right;\n    }\n</style>\n<table border=\"1\" class=\"dataframe\">\n  <thead>\n    <tr style=\"text-align: right;\">\n      <th></th>\n      <th>full.name</th>\n      <th>ip.address</th>\n      <th>region</th>\n      <th>in.store</th>\n      <th>age</th>\n      <th>items</th>\n      <th>amount</th>\n    </tr>\n  </thead>\n  <tbody>\n    <tr>\n      <th>0</th>\n      <td>Carter Stokes</td>\n      <td>NaN</td>\n      <td>2</td>\n      <td>0</td>\n      <td>37</td>\n      <td>4</td>\n      <td>281.03</td>\n    </tr>\n    <tr>\n      <th>1</th>\n      <td>Jacob Jerde</td>\n      <td>NaN</td>\n      <td>2</td>\n      <td>0</td>\n      <td>35</td>\n      <td>2</td>\n      <td>219.51</td>\n    </tr>\n    <tr>\n      <th>2</th>\n      <td>Tressa Ratke</td>\n      <td>192.90.208.202</td>\n      <td>4</td>\n      <td>1</td>\n      <td>45</td>\n      <td>3</td>\n      <td>1525.70</td>\n    </tr>\n    <tr>\n      <th>3</th>\n      <td>Rudolf Abshire</td>\n      <td>251.55.128.164</td>\n      <td>3</td>\n      <td>1</td>\n      <td>46</td>\n      <td>3</td>\n      <td>715.25</td>\n    </tr>\n    <tr>\n      <th>4</th>\n      <td>Theresa Davis</td>\n      <td>182.19.192.186</td>\n      <td>1</td>\n      <td>1</td>\n      <td>33</td>\n      <td>4</td>\n      <td>1937.50</td>\n    </tr>\n  </tbody>\n</table>\n</div>"
     },
     "execution_count": 2,
     "metadata": {},
     "output_type": "execute_result"
    }
   ],
   "source": [
    "#your code here\n",
    "df = pd.read_csv(\"customer_data.csv\")\n",
    "df.head()"
   ]
  },
  {
   "cell_type": "markdown",
   "id": "230d3aac",
   "metadata": {},
   "source": [
    "### 1.2 First, remove any rows where the entry of \"Age\" column is below 18 or above 80, and then extract two new features from `ip.address`: one called `latitude` and the other `longitude`. Use the package `geolite2` for the conversion of the IP addresses to latitude and longitude. Use [pandas.DataFrame.apply](https://pandas.pydata.org/docs/reference/api/pandas.DataFrame.apply.html) to do the conversion (in a vectorized way) in one go for each new feature. Avoid using `for` loops. At the end, drop the column `ip.address` as well as any rows with a missing value. Display the first 5 rows of the new dataframe and report its shape."
   ]
  },
  {
   "cell_type": "code",
   "execution_count": 30,
   "id": "cc0b8076",
   "metadata": {
    "ExecuteTime": {
     "end_time": "2023-10-25T16:36:41.272603200Z",
     "start_time": "2023-10-25T16:36:41.258570100Z"
    }
   },
   "outputs": [],
   "source": [
    "#your code here\n",
    "df = df.drop(df[df.age < 18].index)\n",
    "df = df.drop(df[df.age > 80].index)"
   ]
  },
  {
   "cell_type": "code",
   "execution_count": 31,
   "id": "62efca75cc50e418",
   "metadata": {
    "ExecuteTime": {
     "end_time": "2023-10-25T16:36:57.282170700Z",
     "start_time": "2023-10-25T16:36:44.235477500Z"
    },
    "collapsed": false
   },
   "outputs": [
    {
     "data": {
      "text/plain": [
       "(34303, 8)"
      ]
     },
     "execution_count": 31,
     "metadata": {},
     "output_type": "execute_result"
    }
   ],
   "source": [
    "def get_lat_lon(ip):\n",
    "    try:\n",
    "        location = geolite2.reader().get(ip)\n",
    "        if location and 'location' in location:\n",
    "            return pd.Series([location['location']['latitude'], location['location']['longitude']])\n",
    "        else:\n",
    "            return pd.Series([None, None])\n",
    "    except Exception:\n",
    "        return pd.Series([None, None])\n",
    "\n",
    "\n",
    "df[['latitude', 'longitude']] = df['ip.address'].apply(get_lat_lon)\n",
    "df = df.drop(columns=['ip.address'])\n",
    "df = df.dropna()\n",
    "\n",
    "df.head()\n",
    "df.shape\n"
   ]
  },
  {
   "cell_type": "code",
   "execution_count": null,
   "id": "933a23892712fe43",
   "metadata": {
    "collapsed": false
   },
   "outputs": [],
   "source": []
  },
  {
   "cell_type": "markdown",
   "id": "d08a7f1d",
   "metadata": {},
   "source": [
    "### 1.3 Perform one-hot encoding on the `region` column using pd.get_dummies(). Display the first 5 rows of the encoded dataframe."
   ]
  },
  {
   "cell_type": "code",
   "execution_count": 38,
   "id": "f7cae6d0",
   "metadata": {
    "ExecuteTime": {
     "end_time": "2023-10-25T17:03:17.147161200Z",
     "start_time": "2023-10-25T17:03:17.136977400Z"
    }
   },
   "outputs": [
    {
     "data": {
      "text/html": [
       "<div>\n",
       "<style scoped>\n",
       "    .dataframe tbody tr th:only-of-type {\n",
       "        vertical-align: middle;\n",
       "    }\n",
       "\n",
       "    .dataframe tbody tr th {\n",
       "        vertical-align: top;\n",
       "    }\n",
       "\n",
       "    .dataframe thead th {\n",
       "        text-align: right;\n",
       "    }\n",
       "</style>\n",
       "<table border=\"1\" class=\"dataframe\">\n",
       "  <thead>\n",
       "    <tr style=\"text-align: right;\">\n",
       "      <th></th>\n",
       "      <th>1</th>\n",
       "      <th>3</th>\n",
       "      <th>4</th>\n",
       "    </tr>\n",
       "  </thead>\n",
       "  <tbody>\n",
       "    <tr>\n",
       "      <th>2</th>\n",
       "      <td>False</td>\n",
       "      <td>False</td>\n",
       "      <td>True</td>\n",
       "    </tr>\n",
       "    <tr>\n",
       "      <th>4</th>\n",
       "      <td>True</td>\n",
       "      <td>False</td>\n",
       "      <td>False</td>\n",
       "    </tr>\n",
       "    <tr>\n",
       "      <th>7</th>\n",
       "      <td>False</td>\n",
       "      <td>True</td>\n",
       "      <td>False</td>\n",
       "    </tr>\n",
       "    <tr>\n",
       "      <th>8</th>\n",
       "      <td>True</td>\n",
       "      <td>False</td>\n",
       "      <td>False</td>\n",
       "    </tr>\n",
       "    <tr>\n",
       "      <th>9</th>\n",
       "      <td>True</td>\n",
       "      <td>False</td>\n",
       "      <td>False</td>\n",
       "    </tr>\n",
       "  </tbody>\n",
       "</table>\n",
       "</div>"
      ],
      "text/plain": [
       "       1      3      4\n",
       "2  False  False   True\n",
       "4   True  False  False\n",
       "7  False   True  False\n",
       "8   True  False  False\n",
       "9   True  False  False"
      ]
     },
     "execution_count": 38,
     "metadata": {},
     "output_type": "execute_result"
    }
   ],
   "source": [
    "#your code here\n",
    "df_encoded = pd.get_dummies(df['region'])\n",
    "df_encoded.head()"
   ]
  },
  {
   "cell_type": "markdown",
   "id": "e161881e",
   "metadata": {},
   "source": [
    "### 1.4 Calculate the natural logarithm of the column reporting clients' total amount spent and store it as a new column `log_amount`. Create your design matrix `X` and target vector `y` with `log_amount` as target (No training/test splitting yet).\n",
    "\n"
   ]
  },
  {
   "cell_type": "code",
   "execution_count": 49,
   "id": "a06992d0",
   "metadata": {
    "ExecuteTime": {
     "end_time": "2023-10-25T17:15:34.213744200Z",
     "start_time": "2023-10-25T17:15:34.168900500Z"
    }
   },
   "outputs": [
    {
     "data": {
      "text/html": [
       "<div>\n",
       "<style scoped>\n",
       "    .dataframe tbody tr th:only-of-type {\n",
       "        vertical-align: middle;\n",
       "    }\n",
       "\n",
       "    .dataframe tbody tr th {\n",
       "        vertical-align: top;\n",
       "    }\n",
       "\n",
       "    .dataframe thead th {\n",
       "        text-align: right;\n",
       "    }\n",
       "</style>\n",
       "<table border=\"1\" class=\"dataframe\">\n",
       "  <thead>\n",
       "    <tr style=\"text-align: right;\">\n",
       "      <th></th>\n",
       "      <th>full.name</th>\n",
       "      <th>region</th>\n",
       "      <th>in.store</th>\n",
       "      <th>age</th>\n",
       "      <th>items</th>\n",
       "      <th>latitude</th>\n",
       "      <th>longitude</th>\n",
       "    </tr>\n",
       "  </thead>\n",
       "  <tbody>\n",
       "    <tr>\n",
       "      <th>2</th>\n",
       "      <td>Tressa Ratke</td>\n",
       "      <td>4</td>\n",
       "      <td>1</td>\n",
       "      <td>45</td>\n",
       "      <td>3</td>\n",
       "      <td>42.5879</td>\n",
       "      <td>-71.3498</td>\n",
       "    </tr>\n",
       "    <tr>\n",
       "      <th>4</th>\n",
       "      <td>Theresa Davis</td>\n",
       "      <td>1</td>\n",
       "      <td>1</td>\n",
       "      <td>33</td>\n",
       "      <td>4</td>\n",
       "      <td>1.2931</td>\n",
       "      <td>103.8558</td>\n",
       "    </tr>\n",
       "    <tr>\n",
       "      <th>7</th>\n",
       "      <td>Keitha Mosciski</td>\n",
       "      <td>3</td>\n",
       "      <td>1</td>\n",
       "      <td>66</td>\n",
       "      <td>5</td>\n",
       "      <td>40.0842</td>\n",
       "      <td>-82.9378</td>\n",
       "    </tr>\n",
       "    <tr>\n",
       "      <th>8</th>\n",
       "      <td>Hortense Streich</td>\n",
       "      <td>1</td>\n",
       "      <td>1</td>\n",
       "      <td>51</td>\n",
       "      <td>5</td>\n",
       "      <td>37.7510</td>\n",
       "      <td>-97.8220</td>\n",
       "    </tr>\n",
       "    <tr>\n",
       "      <th>9</th>\n",
       "      <td>Carl Price</td>\n",
       "      <td>1</td>\n",
       "      <td>1</td>\n",
       "      <td>47</td>\n",
       "      <td>3</td>\n",
       "      <td>41.3969</td>\n",
       "      <td>-87.3274</td>\n",
       "    </tr>\n",
       "    <tr>\n",
       "      <th>...</th>\n",
       "      <td>...</td>\n",
       "      <td>...</td>\n",
       "      <td>...</td>\n",
       "      <td>...</td>\n",
       "      <td>...</td>\n",
       "      <td>...</td>\n",
       "      <td>...</td>\n",
       "    </tr>\n",
       "    <tr>\n",
       "      <th>79986</th>\n",
       "      <td>Carey Turner</td>\n",
       "      <td>4</td>\n",
       "      <td>1</td>\n",
       "      <td>43</td>\n",
       "      <td>8</td>\n",
       "      <td>28.0087</td>\n",
       "      <td>-82.7454</td>\n",
       "    </tr>\n",
       "    <tr>\n",
       "      <th>79993</th>\n",
       "      <td>Liana Swift</td>\n",
       "      <td>3</td>\n",
       "      <td>1</td>\n",
       "      <td>47</td>\n",
       "      <td>3</td>\n",
       "      <td>48.2000</td>\n",
       "      <td>16.3667</td>\n",
       "    </tr>\n",
       "    <tr>\n",
       "      <th>79995</th>\n",
       "      <td>Hien Kertzmann</td>\n",
       "      <td>1</td>\n",
       "      <td>1</td>\n",
       "      <td>71</td>\n",
       "      <td>3</td>\n",
       "      <td>37.3042</td>\n",
       "      <td>-122.0946</td>\n",
       "    </tr>\n",
       "    <tr>\n",
       "      <th>79998</th>\n",
       "      <td>Mallie Schaden</td>\n",
       "      <td>1</td>\n",
       "      <td>1</td>\n",
       "      <td>49</td>\n",
       "      <td>4</td>\n",
       "      <td>45.3548</td>\n",
       "      <td>-75.5773</td>\n",
       "    </tr>\n",
       "    <tr>\n",
       "      <th>79999</th>\n",
       "      <td>Latonia Shanahan</td>\n",
       "      <td>3</td>\n",
       "      <td>1</td>\n",
       "      <td>30</td>\n",
       "      <td>1</td>\n",
       "      <td>56.4977</td>\n",
       "      <td>84.9744</td>\n",
       "    </tr>\n",
       "  </tbody>\n",
       "</table>\n",
       "<p>34303 rows × 7 columns</p>\n",
       "</div>"
      ],
      "text/plain": [
       "              full.name  region  in.store  age  items  latitude  longitude\n",
       "2          Tressa Ratke       4         1   45      3   42.5879   -71.3498\n",
       "4         Theresa Davis       1         1   33      4    1.2931   103.8558\n",
       "7       Keitha Mosciski       3         1   66      5   40.0842   -82.9378\n",
       "8      Hortense Streich       1         1   51      5   37.7510   -97.8220\n",
       "9            Carl Price       1         1   47      3   41.3969   -87.3274\n",
       "...                 ...     ...       ...  ...    ...       ...        ...\n",
       "79986      Carey Turner       4         1   43      8   28.0087   -82.7454\n",
       "79993       Liana Swift       3         1   47      3   48.2000    16.3667\n",
       "79995    Hien Kertzmann       1         1   71      3   37.3042  -122.0946\n",
       "79998    Mallie Schaden       1         1   49      4   45.3548   -75.5773\n",
       "79999  Latonia Shanahan       3         1   30      1   56.4977    84.9744\n",
       "\n",
       "[34303 rows x 7 columns]"
      ]
     },
     "execution_count": 49,
     "metadata": {},
     "output_type": "execute_result"
    }
   ],
   "source": [
    "#your code here\n",
    "df['log_amount'] = np.log(df['amount'])\n",
    "y = df['log_amount']\n",
    "X = df.drop('amount', axis=1).drop('log_amount', axis=1)"
   ]
  },
  {
   "cell_type": "markdown",
   "id": "c8ba9bf0",
   "metadata": {},
   "source": [
    "### 1.5 Build a new design matrix by applying polynomial expansion using `PolynomialFeatures()` on `X` with degree=2. Do not include the column with power 0 (*i.e.*, the column with all elements being 1) and make sure to not set the argument `interaction_only` to `True`.\n"
   ]
  },
  {
   "cell_type": "code",
   "execution_count": 96,
   "id": "cc1b1e18",
   "metadata": {
    "ExecuteTime": {
     "end_time": "2023-10-25T19:28:56.824928800Z",
     "start_time": "2023-10-25T19:28:56.789733800Z"
    }
   },
   "outputs": [
    {
     "data": {
      "text/plain": [
       "array([[ 4.00000000e+00,  4.50000000e+01,  3.00000000e+00, ...,\n",
       "         1.81372923e+03, -3.03863815e+03,  5.09079396e+03],\n",
       "       [ 1.00000000e+00,  3.30000000e+01,  4.00000000e+00, ...,\n",
       "         1.67210761e+00,  1.34295935e+02,  1.07860272e+04],\n",
       "       [ 3.00000000e+00,  6.60000000e+01,  5.00000000e+00, ...,\n",
       "         1.60674309e+03, -3.32449536e+03,  6.87867867e+03],\n",
       "       ...,\n",
       "       [ 1.00000000e+00,  7.10000000e+01,  3.00000000e+00, ...,\n",
       "         1.39160334e+03, -4.55464138e+03,  1.49070913e+04],\n",
       "       [ 1.00000000e+00,  4.90000000e+01,  4.00000000e+00, ...,\n",
       "         2.05705788e+03, -3.42779333e+03,  5.71192828e+03],\n",
       "       [ 3.00000000e+00,  3.00000000e+01,  1.00000000e+00, ...,\n",
       "         3.19199011e+03,  4.80085816e+03,  7.22064866e+03]])"
      ]
     },
     "execution_count": 96,
     "metadata": {},
     "output_type": "execute_result"
    }
   ],
   "source": [
    "#your code here\n",
    "from sklearn.preprocessing import PolynomialFeatures\n",
    "\n",
    "# Assuming X is already defined\n",
    "\n",
    "# Initialize the PolynomialFeatures transformer\n",
    "poly = PolynomialFeatures(degree=2, include_bias=False, interaction_only=False)\n",
    "\n",
    "# Transform X to get the new design matrix\n",
    "X_poly = poly.fit_transform(X)\n",
    "cols_to_remove = np.all(X_poly == 1, axis=0)\n",
    "X_poly = X_poly[:, ~cols_to_remove]\n",
    "\n",
    "# If you want to see the names of the new features\n",
    "X_poly\n",
    "\n"
   ]
  },
  {
   "cell_type": "markdown",
   "id": "489a1499",
   "metadata": {},
   "source": [
    "\n",
    "### 1.6 Standardize your design matrix from Question 1.5 using `StandardScaler()`, and store the result as a Pandas dataframe."
   ]
  },
  {
   "cell_type": "code",
   "execution_count": 97,
   "id": "0838eebc",
   "metadata": {
    "ExecuteTime": {
     "end_time": "2023-10-25T19:28:59.809881600Z",
     "start_time": "2023-10-25T19:28:59.774944100Z"
    }
   },
   "outputs": [
    {
     "data": {
      "text/html": [
       "<div>\n",
       "<style scoped>\n",
       "    .dataframe tbody tr th:only-of-type {\n",
       "        vertical-align: middle;\n",
       "    }\n",
       "\n",
       "    .dataframe tbody tr th {\n",
       "        vertical-align: top;\n",
       "    }\n",
       "\n",
       "    .dataframe thead th {\n",
       "        text-align: right;\n",
       "    }\n",
       "</style>\n",
       "<table border=\"1\" class=\"dataframe\">\n",
       "  <thead>\n",
       "    <tr style=\"text-align: right;\">\n",
       "      <th></th>\n",
       "      <th>region</th>\n",
       "      <th>age</th>\n",
       "      <th>items</th>\n",
       "      <th>latitude</th>\n",
       "      <th>longitude</th>\n",
       "      <th>region^2</th>\n",
       "      <th>region in.store</th>\n",
       "      <th>region age</th>\n",
       "      <th>region items</th>\n",
       "      <th>region latitude</th>\n",
       "      <th>...</th>\n",
       "      <th>age^2</th>\n",
       "      <th>age items</th>\n",
       "      <th>age latitude</th>\n",
       "      <th>age longitude</th>\n",
       "      <th>items^2</th>\n",
       "      <th>items latitude</th>\n",
       "      <th>items longitude</th>\n",
       "      <th>latitude^2</th>\n",
       "      <th>latitude longitude</th>\n",
       "      <th>longitude^2</th>\n",
       "    </tr>\n",
       "  </thead>\n",
       "  <tbody>\n",
       "    <tr>\n",
       "      <th>0</th>\n",
       "      <td>1.129328</td>\n",
       "      <td>0.145816</td>\n",
       "      <td>-0.725372</td>\n",
       "      <td>0.444623</td>\n",
       "      <td>-0.647114</td>\n",
       "      <td>1.240759</td>\n",
       "      <td>1.129328</td>\n",
       "      <td>1.208860</td>\n",
       "      <td>0.078593</td>\n",
       "      <td>1.204979</td>\n",
       "      <td>...</td>\n",
       "      <td>-0.011433</td>\n",
       "      <td>-0.518434</td>\n",
       "      <td>0.458696</td>\n",
       "      <td>-0.649334</td>\n",
       "      <td>-0.814143</td>\n",
       "      <td>-0.227157</td>\n",
       "      <td>-0.343764</td>\n",
       "      <td>0.405456</td>\n",
       "      <td>-0.736243</td>\n",
       "      <td>-0.517981</td>\n",
       "    </tr>\n",
       "    <tr>\n",
       "      <th>1</th>\n",
       "      <td>-1.173660</td>\n",
       "      <td>-0.718845</td>\n",
       "      <td>-0.240069</td>\n",
       "      <td>-1.770476</td>\n",
       "      <td>1.307583</td>\n",
       "      <td>-1.112765</td>\n",
       "      <td>-1.173660</td>\n",
       "      <td>-1.196881</td>\n",
       "      <td>-0.888490</td>\n",
       "      <td>-1.231739</td>\n",
       "      <td>...</td>\n",
       "      <td>-0.745849</td>\n",
       "      <td>-0.545209</td>\n",
       "      <td>-1.488030</td>\n",
       "      <td>0.985281</td>\n",
       "      <td>-0.445230</td>\n",
       "      <td>-1.282489</td>\n",
       "      <td>1.074220</td>\n",
       "      <td>-2.130086</td>\n",
       "      <td>0.259804</td>\n",
       "      <td>0.427101</td>\n",
       "    </tr>\n",
       "    <tr>\n",
       "      <th>2</th>\n",
       "      <td>0.361665</td>\n",
       "      <td>1.658972</td>\n",
       "      <td>0.245233</td>\n",
       "      <td>0.310322</td>\n",
       "      <td>-0.776396</td>\n",
       "      <td>0.142448</td>\n",
       "      <td>0.361665</td>\n",
       "      <td>1.503440</td>\n",
       "      <td>0.441249</td>\n",
       "      <td>0.482879</td>\n",
       "      <td>...</td>\n",
       "      <td>1.817545</td>\n",
       "      <td>1.221924</td>\n",
       "      <td>1.216180</td>\n",
       "      <td>-1.206640</td>\n",
       "      <td>0.029086</td>\n",
       "      <td>0.398315</td>\n",
       "      <td>-0.795736</td>\n",
       "      <td>0.115829</td>\n",
       "      <td>-0.825979</td>\n",
       "      <td>-0.221295</td>\n",
       "    </tr>\n",
       "    <tr>\n",
       "      <th>3</th>\n",
       "      <td>-1.173660</td>\n",
       "      <td>0.578146</td>\n",
       "      <td>0.245233</td>\n",
       "      <td>0.185166</td>\n",
       "      <td>-0.942453</td>\n",
       "      <td>-1.112765</td>\n",
       "      <td>-1.173660</td>\n",
       "      <td>-0.902300</td>\n",
       "      <td>-0.767604</td>\n",
       "      <td>-0.706255</td>\n",
       "      <td>...</td>\n",
       "      <td>0.440515</td>\n",
       "      <td>0.552555</td>\n",
       "      <td>0.467886</td>\n",
       "      <td>-1.087215</td>\n",
       "      <td>0.029086</td>\n",
       "      <td>0.297888</td>\n",
       "      <td>-0.963381</td>\n",
       "      <td>-0.138285</td>\n",
       "      <td>-0.941622</td>\n",
       "      <td>0.225168</td>\n",
       "    </tr>\n",
       "    <tr>\n",
       "      <th>4</th>\n",
       "      <td>-1.173660</td>\n",
       "      <td>0.289926</td>\n",
       "      <td>-0.725372</td>\n",
       "      <td>0.380736</td>\n",
       "      <td>-0.825369</td>\n",
       "      <td>-1.112765</td>\n",
       "      <td>-1.173660</td>\n",
       "      <td>-0.967762</td>\n",
       "      <td>-1.009375</td>\n",
       "      <td>-0.653705</td>\n",
       "      <td>...</td>\n",
       "      <td>0.132939</td>\n",
       "      <td>-0.464884</td>\n",
       "      <td>0.489031</td>\n",
       "      <td>-0.869397</td>\n",
       "      <td>-0.814143</td>\n",
       "      <td>-0.257916</td>\n",
       "      <td>-0.451740</td>\n",
       "      <td>0.265494</td>\n",
       "      <td>-0.917200</td>\n",
       "      <td>-0.097270</td>\n",
       "    </tr>\n",
       "    <tr>\n",
       "      <th>...</th>\n",
       "      <td>...</td>\n",
       "      <td>...</td>\n",
       "      <td>...</td>\n",
       "      <td>...</td>\n",
       "      <td>...</td>\n",
       "      <td>...</td>\n",
       "      <td>...</td>\n",
       "      <td>...</td>\n",
       "      <td>...</td>\n",
       "      <td>...</td>\n",
       "      <td>...</td>\n",
       "      <td>...</td>\n",
       "      <td>...</td>\n",
       "      <td>...</td>\n",
       "      <td>...</td>\n",
       "      <td>...</td>\n",
       "      <td>...</td>\n",
       "      <td>...</td>\n",
       "      <td>...</td>\n",
       "      <td>...</td>\n",
       "      <td>...</td>\n",
       "    </tr>\n",
       "    <tr>\n",
       "      <th>34298</th>\n",
       "      <td>1.129328</td>\n",
       "      <td>0.001706</td>\n",
       "      <td>1.701141</td>\n",
       "      <td>-0.337422</td>\n",
       "      <td>-0.774250</td>\n",
       "      <td>1.240759</td>\n",
       "      <td>1.129328</td>\n",
       "      <td>1.077935</td>\n",
       "      <td>2.496301</td>\n",
       "      <td>0.364432</td>\n",
       "      <td>...</td>\n",
       "      <td>-0.149528</td>\n",
       "      <td>1.346872</td>\n",
       "      <td>-0.281105</td>\n",
       "      <td>-0.734860</td>\n",
       "      <td>2.084457</td>\n",
       "      <td>0.601895</td>\n",
       "      <td>-1.352759</td>\n",
       "      <td>-1.034723</td>\n",
       "      <td>-0.509892</td>\n",
       "      <td>-0.226585</td>\n",
       "    </tr>\n",
       "    <tr>\n",
       "      <th>34299</th>\n",
       "      <td>0.361665</td>\n",
       "      <td>0.289926</td>\n",
       "      <td>-0.725372</td>\n",
       "      <td>0.745662</td>\n",
       "      <td>0.331503</td>\n",
       "      <td>0.142448</td>\n",
       "      <td>0.361665</td>\n",
       "      <td>0.570602</td>\n",
       "      <td>-0.284063</td>\n",
       "      <td>0.833809</td>\n",
       "      <td>...</td>\n",
       "      <td>0.132939</td>\n",
       "      <td>-0.464884</td>\n",
       "      <td>0.821224</td>\n",
       "      <td>0.330742</td>\n",
       "      <td>-0.814143</td>\n",
       "      <td>-0.082221</td>\n",
       "      <td>0.249021</td>\n",
       "      <td>1.118395</td>\n",
       "      <td>0.465289</td>\n",
       "      <td>-1.318310</td>\n",
       "    </tr>\n",
       "    <tr>\n",
       "      <th>34300</th>\n",
       "      <td>-1.173660</td>\n",
       "      <td>2.019248</td>\n",
       "      <td>-0.725372</td>\n",
       "      <td>0.161199</td>\n",
       "      <td>-1.213252</td>\n",
       "      <td>-1.112765</td>\n",
       "      <td>-1.173660</td>\n",
       "      <td>-0.574989</td>\n",
       "      <td>-1.009375</td>\n",
       "      <td>-0.712695</td>\n",
       "      <td>...</td>\n",
       "      <td>2.355019</td>\n",
       "      <td>0.177709</td>\n",
       "      <td>1.219339</td>\n",
       "      <td>-1.993371</td>\n",
       "      <td>-0.814143</td>\n",
       "      <td>-0.363612</td>\n",
       "      <td>-0.686696</td>\n",
       "      <td>-0.185208</td>\n",
       "      <td>-1.212146</td>\n",
       "      <td>1.110961</td>\n",
       "    </tr>\n",
       "    <tr>\n",
       "      <th>34301</th>\n",
       "      <td>-1.173660</td>\n",
       "      <td>0.434036</td>\n",
       "      <td>-0.240069</td>\n",
       "      <td>0.593043</td>\n",
       "      <td>-0.694278</td>\n",
       "      <td>-1.112765</td>\n",
       "      <td>-1.173660</td>\n",
       "      <td>-0.935031</td>\n",
       "      <td>-0.888490</td>\n",
       "      <td>-0.596658</td>\n",
       "      <td>...</td>\n",
       "      <td>0.283589</td>\n",
       "      <td>0.025986</td>\n",
       "      <td>0.776535</td>\n",
       "      <td>-0.770625</td>\n",
       "      <td>-0.445230</td>\n",
       "      <td>0.234738</td>\n",
       "      <td>-0.542583</td>\n",
       "      <td>0.745937</td>\n",
       "      <td>-0.858406</td>\n",
       "      <td>-0.414908</td>\n",
       "    </tr>\n",
       "    <tr>\n",
       "      <th>34302</th>\n",
       "      <td>0.361665</td>\n",
       "      <td>-0.935010</td>\n",
       "      <td>-1.695977</td>\n",
       "      <td>1.190760</td>\n",
       "      <td>1.096931</td>\n",
       "      <td>0.142448</td>\n",
       "      <td>0.361665</td>\n",
       "      <td>-0.264042</td>\n",
       "      <td>-1.009375</td>\n",
       "      <td>1.192605</td>\n",
       "      <td>...</td>\n",
       "      <td>-0.894145</td>\n",
       "      <td>-1.455550</td>\n",
       "      <td>0.228548</td>\n",
       "      <td>0.769070</td>\n",
       "      <td>-1.235757</td>\n",
       "      <td>-0.840653</td>\n",
       "      <td>0.329833</td>\n",
       "      <td>2.334004</td>\n",
       "      <td>1.724730</td>\n",
       "      <td>-0.164548</td>\n",
       "    </tr>\n",
       "  </tbody>\n",
       "</table>\n",
       "<p>34303 rows × 25 columns</p>\n",
       "</div>"
      ],
      "text/plain": [
       "         region       age     items  latitude  longitude  region^2  \\\n",
       "0      1.129328  0.145816 -0.725372  0.444623  -0.647114  1.240759   \n",
       "1     -1.173660 -0.718845 -0.240069 -1.770476   1.307583 -1.112765   \n",
       "2      0.361665  1.658972  0.245233  0.310322  -0.776396  0.142448   \n",
       "3     -1.173660  0.578146  0.245233  0.185166  -0.942453 -1.112765   \n",
       "4     -1.173660  0.289926 -0.725372  0.380736  -0.825369 -1.112765   \n",
       "...         ...       ...       ...       ...        ...       ...   \n",
       "34298  1.129328  0.001706  1.701141 -0.337422  -0.774250  1.240759   \n",
       "34299  0.361665  0.289926 -0.725372  0.745662   0.331503  0.142448   \n",
       "34300 -1.173660  2.019248 -0.725372  0.161199  -1.213252 -1.112765   \n",
       "34301 -1.173660  0.434036 -0.240069  0.593043  -0.694278 -1.112765   \n",
       "34302  0.361665 -0.935010 -1.695977  1.190760   1.096931  0.142448   \n",
       "\n",
       "       region in.store  region age  region items  region latitude  ...  \\\n",
       "0             1.129328    1.208860      0.078593         1.204979  ...   \n",
       "1            -1.173660   -1.196881     -0.888490        -1.231739  ...   \n",
       "2             0.361665    1.503440      0.441249         0.482879  ...   \n",
       "3            -1.173660   -0.902300     -0.767604        -0.706255  ...   \n",
       "4            -1.173660   -0.967762     -1.009375        -0.653705  ...   \n",
       "...                ...         ...           ...              ...  ...   \n",
       "34298         1.129328    1.077935      2.496301         0.364432  ...   \n",
       "34299         0.361665    0.570602     -0.284063         0.833809  ...   \n",
       "34300        -1.173660   -0.574989     -1.009375        -0.712695  ...   \n",
       "34301        -1.173660   -0.935031     -0.888490        -0.596658  ...   \n",
       "34302         0.361665   -0.264042     -1.009375         1.192605  ...   \n",
       "\n",
       "          age^2  age items  age latitude  age longitude   items^2  \\\n",
       "0     -0.011433  -0.518434      0.458696      -0.649334 -0.814143   \n",
       "1     -0.745849  -0.545209     -1.488030       0.985281 -0.445230   \n",
       "2      1.817545   1.221924      1.216180      -1.206640  0.029086   \n",
       "3      0.440515   0.552555      0.467886      -1.087215  0.029086   \n",
       "4      0.132939  -0.464884      0.489031      -0.869397 -0.814143   \n",
       "...         ...        ...           ...            ...       ...   \n",
       "34298 -0.149528   1.346872     -0.281105      -0.734860  2.084457   \n",
       "34299  0.132939  -0.464884      0.821224       0.330742 -0.814143   \n",
       "34300  2.355019   0.177709      1.219339      -1.993371 -0.814143   \n",
       "34301  0.283589   0.025986      0.776535      -0.770625 -0.445230   \n",
       "34302 -0.894145  -1.455550      0.228548       0.769070 -1.235757   \n",
       "\n",
       "       items latitude  items longitude  latitude^2  latitude longitude  \\\n",
       "0           -0.227157        -0.343764    0.405456           -0.736243   \n",
       "1           -1.282489         1.074220   -2.130086            0.259804   \n",
       "2            0.398315        -0.795736    0.115829           -0.825979   \n",
       "3            0.297888        -0.963381   -0.138285           -0.941622   \n",
       "4           -0.257916        -0.451740    0.265494           -0.917200   \n",
       "...               ...              ...         ...                 ...   \n",
       "34298        0.601895        -1.352759   -1.034723           -0.509892   \n",
       "34299       -0.082221         0.249021    1.118395            0.465289   \n",
       "34300       -0.363612        -0.686696   -0.185208           -1.212146   \n",
       "34301        0.234738        -0.542583    0.745937           -0.858406   \n",
       "34302       -0.840653         0.329833    2.334004            1.724730   \n",
       "\n",
       "       longitude^2  \n",
       "0        -0.517981  \n",
       "1         0.427101  \n",
       "2        -0.221295  \n",
       "3         0.225168  \n",
       "4        -0.097270  \n",
       "...            ...  \n",
       "34298    -0.226585  \n",
       "34299    -1.318310  \n",
       "34300     1.110961  \n",
       "34301    -0.414908  \n",
       "34302    -0.164548  \n",
       "\n",
       "[34303 rows x 25 columns]"
      ]
     },
     "execution_count": 97,
     "metadata": {},
     "output_type": "execute_result"
    }
   ],
   "source": [
    "#your code here\n",
    "scaler = StandardScaler()\n",
    "feature_names = poly.get_feature_names_out()\n",
    "# Fit the scaler to the polynomial design matrix and transform it\n",
    "X_poly_standardized = scaler.fit_transform(X_poly)\n",
    "filtered_feature_names = [name for i, name in enumerate(feature_names) if not cols_to_remove[i]]\n",
    "\n",
    "# Convert the standardized design matrix to a DataFrame\n",
    "X_poly_standardized_df = pd.DataFrame(X_poly_standardized, columns=filtered_feature_names)\n",
    "\n",
    "X_poly_standardized_df"
   ]
  },
  {
   "cell_type": "markdown",
   "id": "2821829e",
   "metadata": {},
   "source": [
    "## Question 2: /7 pts\n",
    "\n"
   ]
  },
  {
   "cell_type": "code",
   "execution_count": 87,
   "id": "473bfe30268785b2",
   "metadata": {
    "ExecuteTime": {
     "end_time": "2023-10-25T19:19:14.573731300Z",
     "start_time": "2023-10-25T19:19:14.547097Z"
    },
    "collapsed": false
   },
   "outputs": [
    {
     "data": {
      "text/plain": [
       "2        7.330209\n",
       "4        7.569154\n",
       "7        6.709280\n",
       "8        6.811586\n",
       "9        6.643191\n",
       "           ...   \n",
       "79986    6.293234\n",
       "79993    5.821684\n",
       "79995    6.325827\n",
       "79998    5.815085\n",
       "79999    6.267428\n",
       "Name: log_amount, Length: 34303, dtype: float64"
      ]
     },
     "execution_count": 87,
     "metadata": {},
     "output_type": "execute_result"
    }
   ],
   "source": []
  },
  {
   "cell_type": "markdown",
   "id": "065a772c",
   "metadata": {},
   "source": [
    "### 2.1 Split the data into training and test sets. Hold out 30% of observations as the test set. How many observations are in your training dataset? What is the average value of the target variable in the training dataset (rounded to 2 decimal places)?"
   ]
  },
  {
   "cell_type": "code",
   "execution_count": 102,
   "id": "dfe16088",
   "metadata": {
    "ExecuteTime": {
     "end_time": "2023-10-25T19:29:25.058876800Z",
     "start_time": "2023-10-25T19:29:25.023666900Z"
    }
   },
   "outputs": [
    {
     "data": {
      "text/plain": [
       "6.38"
      ]
     },
     "execution_count": 102,
     "metadata": {},
     "output_type": "execute_result"
    }
   ],
   "source": [
    "#your code here\n",
    "X_train, X_test, y_train, y_test = train_test_split(X_poly_standardized_df, y, random_state=seed, test_size=0.3)\n",
    "round(np.average(y_train), 2)"
   ]
  },
  {
   "cell_type": "markdown",
   "id": "16e97106",
   "metadata": {},
   "source": [
    "## Question 3: /23 pts\n",
    "\n"
   ]
  },
  {
   "cell_type": "markdown",
   "id": "84e1e843",
   "metadata": {},
   "source": [
    "### 3.1 Create a SciKit Learn `Ridge` regression object. Train it on the training data using an `alpha` of $4.0$ and do fit the intercept."
   ]
  },
  {
   "cell_type": "code",
   "execution_count": 103,
   "id": "b7aa3cad",
   "metadata": {
    "ExecuteTime": {
     "end_time": "2023-10-25T19:29:28.513489900Z",
     "start_time": "2023-10-25T19:29:28.491665600Z"
    }
   },
   "outputs": [
    {
     "data": {
      "text/plain": [
       "0.09843874099043826"
      ]
     },
     "execution_count": 103,
     "metadata": {},
     "output_type": "execute_result"
    }
   ],
   "source": [
    "#your code here\n",
    "ridge_reg = skl.Ridge(alpha=4.0, fit_intercept=True)\n",
    "ridge_reg.fit(X_train, y_train)"
   ]
  },
  {
   "cell_type": "markdown",
   "id": "afc897ff",
   "metadata": {},
   "source": [
    "### 3.2 Now use `RidgeCV` to find the best `alpha` for the penalty term through a 5-fold cross-validation. As input for `alpha`, your code must try integer values from 30 to 50 inclusive. Report the `alpha` that yields the smallest loss."
   ]
  },
  {
   "cell_type": "code",
   "execution_count": 104,
   "id": "83c84bc3",
   "metadata": {
    "ExecuteTime": {
     "end_time": "2023-10-25T19:29:33.880589Z",
     "start_time": "2023-10-25T19:29:32.741804Z"
    }
   },
   "outputs": [
    {
     "data": {
      "text/plain": [
       "30"
      ]
     },
     "execution_count": 104,
     "metadata": {},
     "output_type": "execute_result"
    }
   ],
   "source": [
    "#your code here\n",
    "alphas = np.arange(30, 51)\n",
    "ridge_cv = skl.RidgeCV(alphas=alphas, cv=5, fit_intercept=True)\n",
    "ridge_cv.fit(X_train, y_train)\n",
    "best_alpha = ridge_cv.alpha_\n",
    "best_alpha"
   ]
  },
  {
   "cell_type": "markdown",
   "id": "c0a89b5d",
   "metadata": {},
   "source": [
    "### 3.3 Fit a `Ridge` regression on the training data with the best `alpha` found in the previous question."
   ]
  },
  {
   "cell_type": "code",
   "execution_count": 105,
   "id": "16da9e9f",
   "metadata": {
    "ExecuteTime": {
     "end_time": "2023-10-25T19:29:36.986677800Z",
     "start_time": "2023-10-25T19:29:36.972096400Z"
    }
   },
   "outputs": [
    {
     "data": {
      "text/plain": [
       "0.09816755987063375"
      ]
     },
     "execution_count": 105,
     "metadata": {},
     "output_type": "execute_result"
    }
   ],
   "source": [
    "#your code here\n",
    "clf = skl.Ridge(alpha=best_alpha, fit_intercept=True)\n",
    "clf.fit(X_train, y_train)"
   ]
  },
  {
   "cell_type": "markdown",
   "id": "c9db12d9",
   "metadata": {},
   "source": [
    "### 3.4 Fit a simple `LinearRegression` without any penalty using the training data (again, `fit_intercept=True`). Compare the regression coefficients obtained in questions 3.1, 3.3 and 3.4. How do they compare?"
   ]
  },
  {
   "cell_type": "code",
   "execution_count": 107,
   "id": "b37a30c3",
   "metadata": {
    "ExecuteTime": {
     "end_time": "2023-10-25T19:32:24.635431300Z",
     "start_time": "2023-10-25T19:32:24.608254500Z"
    }
   },
   "outputs": [
    {
     "data": {
      "text/plain": [
       "0.09823942908079053"
      ]
     },
     "execution_count": 107,
     "metadata": {},
     "output_type": "execute_result"
    }
   ],
   "source": [
    "#your code here\n",
    "reg = skl.LinearRegression()\n",
    "reg.fit(X_train, y_train)"
   ]
  },
  {
   "cell_type": "markdown",
   "id": "47c04c40",
   "metadata": {},
   "source": [
    "#### YOUR ANSWER HERE\n",
    "\n",
    "Compare using "
   ]
  },
  {
   "cell_type": "markdown",
   "id": "600cf777",
   "metadata": {},
   "source": [
    "\n",
    "### 3.5 Use your trained linear regression models in Q3.3 and Q3.4 to predict over the test set and print the median of their perdictions."
   ]
  },
  {
   "cell_type": "code",
   "execution_count": 111,
   "id": "538d0546",
   "metadata": {
    "ExecuteTime": {
     "end_time": "2023-10-25T19:34:14.380593600Z",
     "start_time": "2023-10-25T19:34:14.346354Z"
    }
   },
   "outputs": [
    {
     "data": {
      "text/plain": [
       "(6.374304410079556, 6.381113693024313)"
      ]
     },
     "execution_count": 111,
     "metadata": {},
     "output_type": "execute_result"
    }
   ],
   "source": [
    "#your code here\n",
    "clf_pred = clf.predict(X_train)\n",
    "reg_pred = reg.predict(X_train)\n",
    "np.median(clf_pred), np.median(reg_pred)\n"
   ]
  },
  {
   "cell_type": "markdown",
   "id": "58a650cb",
   "metadata": {},
   "source": [
    "## Question 4: /25 pts\n",
    "\n"
   ]
  },
  {
   "cell_type": "markdown",
   "id": "4e235cb4",
   "metadata": {},
   "source": [
    "### 4.1 Fit a Lasso regression to the train dataset using lasso_path(). Show the full path of the first 20 coefficients of the Lasso regression. Include eps=8e-3 and n_alphas=50. Describe the trends you see in the figure."
   ]
  },
  {
   "cell_type": "code",
   "execution_count": 113,
   "id": "4bd44ee6",
   "metadata": {
    "ExecuteTime": {
     "end_time": "2023-10-25T19:39:26.808020500Z",
     "start_time": "2023-10-25T19:39:26.474087900Z"
    }
   },
   "outputs": [
    {
     "data": {
      "image/png": "[encoded data removed]",
      "text/plain": [
       "<Figure size 1000x600 with 1 Axes>"
      ]
     },
     "metadata": {},
     "output_type": "display_data"
    }
   ],
   "source": [
    "#your code here\n",
    "import numpy as np\n",
    "import matplotlib.pyplot as plt\n",
    "from sklearn.linear_model import lasso_path\n",
    "\n",
    "# Assuming X_poly_standardized_df and y are your design matrix and target vector respectively\n",
    "X = X_poly_standardized_df.values  # Convert DataFrame to numpy array if it isn't already\n",
    "\n",
    "# Compute the Lasso path using lasso_path\n",
    "alphas_lasso, coefs_lasso, _ = lasso_path(X, y, eps=8e-3, n_alphas=50)\n",
    "\n",
    "# Plot the Lasso paths\n",
    "plt.figure(figsize=(10, 6))\n",
    "for i in range(20):  # Plot the paths for the first 20 coefficients\n",
    "    plt.plot(np.log10(alphas_lasso), coefs_lasso[i])\n",
    "\n",
    "plt.xlabel('Log(alpha)')\n",
    "plt.ylabel('Coefficients')\n",
    "plt.title('Lasso Paths - First 20 Coefficients')\n",
    "plt.axvline(np.log10(alphas_lasso[0]), linestyle='--', color='k', label='Largest alpha')\n",
    "plt.axvline(np.log10(alphas_lasso[-1]), linestyle='--', color='k', label='Smallest alpha')\n",
    "plt.legend()\n",
    "plt.show()\n"
   ]
  },
  {
   "cell_type": "markdown",
   "id": "d6f68d84",
   "metadata": {},
   "source": [
    "### 4.2 Use Scikit Learn's cross-validated LASSO to automatically search for the best alpha of the LASSO regression on the training set with intercept. Include arguments `eps=8e-3`, `n_alphas=30`, `tol=0.001`, `cv=5`, and `random_state=seed`. Report the best tuning parameters and the number of coefficients that the model shrinks to zero."
   ]
  },
  {
   "cell_type": "code",
   "execution_count": null,
   "id": "d96736cc",
   "metadata": {},
   "outputs": [],
   "source": [
    "#your code here\n"
   ]
  },
  {
   "cell_type": "markdown",
   "id": "97093359",
   "metadata": {},
   "source": [
    "\n",
    "### 4.3 Use Scikit Learn's cross-validated ElasticNet to automatically search for the best tuning parameters of the ElasticNet regression (with intercept) on the training set. Include the same arguments as in question 4.2 as well as `l1_ratio=[0.7, 0.9, 0.95, 0.99, 1]`. Report the best tuning parameters. Is the ElasticNet regression model equivalent to the Lasso regression? Briefly describe how they defer and under what circumstances they become the same."
   ]
  },
  {
   "cell_type": "code",
   "execution_count": null,
   "id": "e8a8d72a",
   "metadata": {},
   "outputs": [],
   "source": [
    "#your code here\n"
   ]
  },
  {
   "cell_type": "markdown",
   "id": "a7fdd82a",
   "metadata": {},
   "source": [
    "#### YOUR ANSWER HERE\n",
    "\n",
    "Here"
   ]
  },
  {
   "cell_type": "markdown",
   "id": "1cf52d72",
   "metadata": {},
   "source": [
    "## Question 5 : /16 pts\n",
    "\n"
   ]
  },
  {
   "cell_type": "markdown",
   "id": "9ff07cf4",
   "metadata": {},
   "source": [
    "### 5.1 Use `SequentialFeatureSelector()` to conduct forward selection for the features of the Ridge model tuned in Q 3.3. Include the argument `n_features_to_select=20`. Report the indices of the selected features."
   ]
  },
  {
   "cell_type": "code",
   "execution_count": null,
   "id": "18a57650",
   "metadata": {},
   "outputs": [],
   "source": [
    "#your code here\n"
   ]
  },
  {
   "cell_type": "markdown",
   "id": "dfac786b",
   "metadata": {},
   "source": [
    "### 5.2 Fit a regular `LinearRegression` (with `fit_intercept=True`) on the training set using the selected features from the previous question. Print the first 3 coefficients of your model."
   ]
  },
  {
   "cell_type": "code",
   "execution_count": null,
   "id": "3dd0af24",
   "metadata": {},
   "outputs": [],
   "source": [
    "#your code here\n"
   ]
  },
  {
   "cell_type": "markdown",
   "id": "c49f2f7c",
   "metadata": {},
   "source": [
    "## Question 6: /9 pts\n",
    "\n"
   ]
  },
  {
   "cell_type": "markdown",
   "id": "a675e822",
   "metadata": {},
   "source": [
    "### 6.1 Make predictions on the test set using models from questions 3.3, 4.2, 4.3, and 5.2, respectively. Create a DataFrame with  predicted values obtained from the different models. Name the columns of the dataframe consistent with the names used for the models, or their question number. Display the first 5 rows of this dataframe."
   ]
  },
  {
   "cell_type": "code",
   "execution_count": null,
   "id": "e45d5aec",
   "metadata": {},
   "outputs": [],
   "source": [
    "#your code here\n"
   ]
  },
  {
   "cell_type": "markdown",
   "id": "a1e175b5",
   "metadata": {},
   "source": [
    "### 6.2 Use `mean_squared_error` as your scorer to assess the performance of the different models (those reported in the previous question) based on all the predicted values over test set. Based on this scorer which model is the best?"
   ]
  },
  {
   "cell_type": "code",
   "execution_count": null,
   "id": "ce2a5e08",
   "metadata": {},
   "outputs": [],
   "source": [
    "#your code here\n"
   ]
  },
  {
   "cell_type": "markdown",
   "id": "18fb8c15",
   "metadata": {},
   "source": [
    "#### YOUR ANSWER HERE\n",
    "\n",
    "Here"
   ]
  }
 ],
 "metadata": {
  "kernelspec": {
   "display_name": "Python 3 (ipykernel)",
   "language": "python",
   "name": "python3"
  },
  "language_info": {
   "codemirror_mode": {
    "name": "ipython",
    "version": 3
   },
   "file_extension": ".py",
   "mimetype": "text/x-python",
   "name": "python",
   "nbconvert_exporter": "python",
   "pygments_lexer": "ipython3",
   "version": "3.10.12"
  }
 },
 "nbformat": 4,
 "nbformat_minor": 5
}
