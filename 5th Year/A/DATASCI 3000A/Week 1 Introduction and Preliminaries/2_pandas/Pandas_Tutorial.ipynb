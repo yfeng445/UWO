{
 "cells": [
  {
   "cell_type": "markdown",
   "metadata": {},
   "source": [
    "# Pandas Tutorial\n",
    "\n",
    "`pandas` (short for Panel Data) is a python library which allows users to use R-like dataframes.  The functions mimic R's `data.frame` closely as they were the inspiration for `pandas`.\n",
    "\n",
    "In this short tutorial, we'll go through some of the basic functionality of pandas.  **The library is very expansive, and you are encouraged to explore the documentation on your own**. I'm discovering new things about the library every day! At the end of this tutorial, you'll be able to work in data in pandas at a very basic level."
   ]
  },
  {
   "cell_type": "markdown",
   "metadata": {},
   "source": [
    "# Reading Data\n",
    "\n",
    "Pandas offers lots of ways to read data into python. The most ubiqutous is likely `read_csv` which does what it says it does.\n",
    "\n",
    "You can also read data from...:\n",
    "\n",
    "* text files\n",
    "* SQL databases \n",
    "* JSON files\n",
    "* Google Big Query\n",
    "\n",
    "and more.\n",
    "\n",
    "Check out the documentation on I/O for more on reading and writing data.  See here: https://pandas.pydata.org/pandas-docs/stable/user_guide/io.html"
   ]
  },
  {
   "cell_type": "code",
   "execution_count": null,
   "metadata": {},
   "outputs": [],
   "source": [
    "import pandas as pd\n",
    "import numpy as np\n",
    "from IPython.display import display\n",
    "import matplotlib.pyplot as plt\n",
    "\n",
    "df = pd.read_csv('2018_data.csv', parse_dates=['created_at'])\n",
    "\n",
    "#Display the top 5 rows of the dataframe in HTML\n",
    "display(df.head())"
   ]
  },
  {
   "cell_type": "markdown",
   "metadata": {},
   "source": [
    "# The Basics of Data Manipulation\n",
    "\n",
    "Dataframes are like numpy arrays but with more functionality.  If we want to access a column, we can use the `.iloc` or `.loc` method.\n",
    "\n",
    "For more, see here: https://pandas.pydata.org/pandas-docs/stable/user_guide/indexing.html"
   ]
  },
  {
   "cell_type": "code",
   "execution_count": null,
   "metadata": {
    "scrolled": false
   },
   "outputs": [],
   "source": [
    "#Get the first column\n",
    "df.iloc[:,0]\n",
    "\n",
    "\n",
    "#Get the first row\n",
    "df.iloc[0,:]\n",
    "\n",
    "#Get first column by name\n",
    "df.loc[:, 'created_at']\n",
    "\n",
    "#Get multiple columns by name\n",
    "df.loc[:, ['created_at','wr']]"
   ]
  },
  {
   "cell_type": "markdown",
   "metadata": {},
   "source": [
    "We can also access columns as a method.  So to access the `wr` column, we can perform `df.wr`"
   ]
  },
  {
   "cell_type": "code",
   "execution_count": null,
   "metadata": {},
   "outputs": [],
   "source": [
    "#Get the wr column as a Series by accessing the column name as a method\n",
    "df.wr"
   ]
  },
  {
   "cell_type": "markdown",
   "metadata": {},
   "source": [
    "# Summarizing Data\n",
    "\n",
    "Dataframes and Series have their own methods for summary.  let's take a look!\n",
    "\n",
    "Lot's of methods of summary exist, including but not limited to:\n",
    "\n",
    "* Mean\n",
    "* Median\n",
    "* Min/Max\n",
    "* Quantile\n",
    "\n",
    "There are also a multitude of functions to compute between-column statistics.  See here: https://pandas.pydata.org/pandas-docs/stable/user_guide/cookbook.html#computation\n",
    "\n"
   ]
  },
  {
   "cell_type": "code",
   "execution_count": null,
   "metadata": {},
   "outputs": [],
   "source": [
    "#Take the mean of the wr column\n",
    "df.wr.mean()\n",
    "\n",
    "#But, we can also call functions on the columns\n",
    "np.mean(df.wr)\n",
    "\n",
    "\n",
    "#How well correlated are apparentTemperature and wr?\n",
    "\n",
    "df.loc[:, ['apparentTemperature','wr']].corr()\n"
   ]
  },
  {
   "cell_type": "markdown",
   "metadata": {},
   "source": [
    "# Other Methods on Non-Numeric Data\n",
    "\n",
    "The `created_at` column contains dates.  We can extract different parts of those dates with some other methods!\n",
    "\n",
    "Let's creat columns for the month and time the data was observed.\n",
    "\n",
    "You can read more on timeedeltas and timestamps here: https://pandas.pydata.org/pandas-docs/stable/user_guide/timeseries.html"
   ]
  },
  {
   "cell_type": "code",
   "execution_count": null,
   "metadata": {},
   "outputs": [],
   "source": [
    "#Create a new column for time\n",
    "df['time'] = df.created_at.dt.hour\n",
    "\n",
    "\n",
    "#Create a new column for month\n",
    "df['month'] = df.created_at.dt.month_name()\n"
   ]
  },
  {
   "cell_type": "markdown",
   "metadata": {},
   "source": [
    "# Aggregation\n",
    "\n",
    "Sometimes, you want to know a summary of the data per group.  The average number of people in th weight room changes by month.  Let's use `groupby` to summarize by month.\n",
    "\n",
    "You can learn more about aggregation here: https://pandas.pydata.org/pandas-docs/stable/user_guide/groupby.html\n"
   ]
  },
  {
   "cell_type": "code",
   "execution_count": null,
   "metadata": {},
   "outputs": [],
   "source": [
    "#Aggregate by month to find mean number of people in weight room\n",
    "\n",
    "df.groupby('month').wr.mean()\n"
   ]
  },
  {
   "cell_type": "markdown",
   "metadata": {},
   "source": [
    "# Don't Loop With Pandas, Always Vectorize\n",
    "\n",
    "Looping through dataframes is not the most elegant or efficient way to do things.  Most computation in pandas can be done via vectorization so do it!"
   ]
  },
  {
   "cell_type": "code",
   "execution_count": null,
   "metadata": {},
   "outputs": [],
   "source": [
    "def count_months(df):\n",
    "    months = {}\n",
    "    for m in df.month:\n",
    "        if m in months:\n",
    "            months[m]+=1\n",
    "        else:\n",
    "            months[m]=1\n",
    "            \n",
    "    return months\n",
    "\n",
    "\n",
    "count_months(df)"
   ]
  },
  {
   "cell_type": "markdown",
   "metadata": {},
   "source": [
    "# Working With Categorical Data\n",
    "\n",
    "Inspired by `factors` in R, `pandas` uses `pd.Categorical` to turn categorical variables into a `CategoricalDtype` column.\n",
    "\n",
    "You can read more about categorical data here: https://pandas.pydata.org/pandas-docs/stable/user_guide/categorical.html"
   ]
  },
  {
   "cell_type": "code",
   "execution_count": null,
   "metadata": {},
   "outputs": [],
   "source": [
    "#Turn months into an ORDERED categorical variable\n",
    "months = ['January','February','March','April','May','June','July','August','September','October','November','December']\n",
    "df['month'] = pd.Categorical(df.month, ordered = True, categories=months)\n",
    "#Watch what happens when we group by an ordered categorical variable\n",
    "df.groupby('month').wr.mean()"
   ]
  },
  {
   "cell_type": "markdown",
   "metadata": {},
   "source": [
    "Categorical columns become really important when you are transforming data for learning.  A lot of analyses will have you one-hot-encode a categorical variable.  You can do this with pandas if your column is categorical."
   ]
  },
  {
   "cell_type": "code",
   "execution_count": null,
   "metadata": {},
   "outputs": [],
   "source": [
    "#One Hot Encode Months\n",
    "pd.get_dummies(df.month)\n"
   ]
  },
  {
   "cell_type": "markdown",
   "metadata": {},
   "source": [
    "# Plotting\n",
    "\n",
    "Though you can pass columns to `matplotlib` just like you would arrays, pandas offers it's own API for plotting.\n",
    "\n",
    "For more, see here: https://pandas.pydata.org/pandas-docs/stable/user_guide/visualization.html"
   ]
  },
  {
   "cell_type": "code",
   "execution_count": null,
   "metadata": {},
   "outputs": [],
   "source": [
    "#A simple histogram\n",
    "fig, ax = plt.subplots(dpi = 120)\n",
    "\n",
    "df.wr.hist(ax = ax, edgecolor = 'white', bins = 25)\n",
    "ax.grid(False)\n",
    "ax.set_xlabel('WR Numbers')\n",
    "ax.set_ylabel('Frequency')\n",
    "ax.set_title('Histogram of WR numbers')\n",
    "\n",
    "#A simple scatter plot\n",
    "fig2, ax2 = plt.subplots(dpi = 120)\n",
    "df['time'] = df.created_at.dt.hour + df.created_at.dt.minute/60\n",
    "df.plot.scatter(x = 'time', y = 'wr', alpha = 0.05, ax = ax2)\n",
    "\n",
    "#You can combine multiple plots as well!\n",
    "fig3, ax3 = plt.subplots(dpi = 120)\n",
    "\n",
    "month_group = df.groupby('month')\n",
    "monthly_mean = month_group.wr.mean()\n",
    "monthly_sd = month_group.wr.std()\n",
    "\n",
    "monthly_mean.plot(marker = 'o', linestyle = 'None',color = 'k')\n",
    "monthly_mean.plot.bar(ax = ax3, yerr = monthly_sd, capsize = 5)\n"
   ]
  }
 ],
 "metadata": {
  "kernelspec": {
   "display_name": "Python 3",
   "language": "python",
   "name": "python3"
  },
  "language_info": {
   "codemirror_mode": {
    "name": "ipython",
    "version": 3
   },
   "file_extension": ".py",
   "mimetype": "text/x-python",
   "name": "python",
   "nbconvert_exporter": "python",
   "pygments_lexer": "ipython3",
   "version": "3.7.6"
  }
 },
 "nbformat": 4,
 "nbformat_minor": 2
}
