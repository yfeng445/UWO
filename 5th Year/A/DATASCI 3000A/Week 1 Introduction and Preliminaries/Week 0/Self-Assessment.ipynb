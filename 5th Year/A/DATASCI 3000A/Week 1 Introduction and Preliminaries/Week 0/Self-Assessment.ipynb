{
 "cells": [
  {
   "attachments": {},
   "cell_type": "markdown",
   "metadata": {},
   "source": [
    "# <span style=\"color:purple\">Prerequisite Knowledge Check</span>\n",
    "\n",
    "This is a short self-assessment to help you decide if you have the prerequisite knowledge for the course. This is not a timed test nor there are passing or failing scores. Feel free to use the internet (especially existing StackOverflow answers and package documentation) to help you get through this assessment. If you can answer all of these questions, you will have the appropriate prerequisite knowledge to be successful in the course."
   ]
  },
  {
   "cell_type": "raw",
   "source": [
    "---\n",
    "# <span style=\"color:orange\">Section 1: Python Programming Questions</span>\n",
    "\n",
    "The class requires basic programming skills in Python and some familiarity with a number of Python libraries. Among these are: \n",
    "\n",
    "- Basic Python syntax: Data Types, Lists, Dictionaries, Operators (http://openbookproject.net/thinkcs/python/english3e/index.html)\n",
    "- Flow control: Loops, conditional statements, Function (http://openbookproject.net/thinkcs/python/english3e/index.html)\n",
    "- Numpy: Arrays, indexing, slicing, vectorization of operations (http://openbookproject.net/thinkcs/python/english3e/index.html)\n",
    "- Pandas: Data Frames, FileIO, Selection, Statistics, Grouping, Tables (https://pandas.pydata.org/getting_started.html) \n",
    "- Plotting with [Matplotlib](https://matplotlib.org/) and [Seaborn](https://seaborn.pydata.org/)\n",
    "- [Scipy](https://scipy.org/): Probability functions (`scipy.stats`), Optimization (`optim`)\n",
    "\n",
    "If you need a python installation, we recommend [Anaconda](https://www.anaconda.com/).\n",
    "\n",
    "---"
   ],
   "metadata": {
    "collapsed": false
   }
  },
  {
   "attachments": {},
   "cell_type": "markdown",
   "metadata": {},
   "source": [
    "## <span style=\"color:red\">Question 1.1</span>\n",
    "\n",
    "Below is some sample data about students selling different types of fruit. `sales` is a list of lists.  The lists in `sales` contain the name of the student who sold the fruit and the type of fruit which was sold.  So if Bernard sold an apple, then `([\"Bernard\",\"Apple\"] in sales)==True`. Turn the data into a pandas dataframe and then use pandas to answer the following:\n",
    "\n",
    "* How many apples did Anna sell? 79\n",
    "\n",
    "* Who sold more Watermelons: Bernard or Daisy?  Daisy sells more\n",
    "\n",
    "* Who sold the most fruit? Daisy\n",
    "\n",
    "* Which fruit was sold the most? Peach"
   ]
  },
  {
   "cell_type": "code",
   "execution_count": 1,
   "metadata": {
    "vscode": {
     "languageId": "python"
    }
   },
   "outputs": [],
   "source": [
    "import numpy as np\n",
    "np.random.seed(0)\n",
    "N = 1000\n",
    "students = ['Anna','Bernard','Charlie','Daisy']\n",
    "fruits = ['Apple','Peach','Watermelon']\n",
    "sales = [ [np.random.choice(students), np.random.choice(fruits)] for j in range(N)]"
   ]
  },
  {
   "attachments": {},
   "cell_type": "markdown",
   "metadata": {},
   "source": [
    "## <span style=\"color:red\">Question 1.2</span>\n",
    "\n",
    "Shown below is data relating to the position of a car in meters. The data was recorded at the indicated times below (so at time = 1, the car was 1 meter from the starting position).  Load the data as a numpy array. Calculate the average speed at which the car was traveling between time points.  Do this with a loop and again using array slicing.   1.7557\n",
    "\n",
    "Hint: Speed = (Distance Traveled)/(Time To Travel Distance)\n",
    "\n",
    "speeds: [0, 1, 1.2, 1.8, 2.0, 1.7, 1.5, 1.9, 2.1, 2.3]\n",
    "\n",
    "times:  [0, 1, 1.5, 1.9, 2.3, 2.7, 3.8, 4.8, 5.4, 7.0]"
   ]
  },
  {
   "attachments": {},
   "cell_type": "markdown",
   "metadata": {},
   "source": [
    "## <span style=\"color:red\">Question 1.3</span>\n",
    "\n",
    "Generate a random 100-by-100 2-dimensional array of integers using `numpy.random.randint` ranging from 1 to 100.  To ensure your answer is the same as ours, set the random seed to `19920908`. \n",
    "\n",
    "Which row has the largest mean? 36\n",
    "\n",
    "Which column has the smallest sum?  27\n",
    "\n",
    "Which is the first column (from left to right) to have sum exceding 600?\n",
    "\n",
    "Answer these questions without the use of a loop.\n",
    "\n",
    "Hint: The `argmin`, `argmax`, and `argwhere` functions may be useful.\n"
   ]
  },
  {
   "cell_type": "code",
   "execution_count": 2,
   "outputs": [
    {
     "name": "stdout",
     "output_type": "stream",
     "text": [
      "27\n"
     ]
    }
   ],
   "source": [
    "import numpy as np\n",
    "import pandas as pd\n",
    "\n",
    "np.random.seed(19920908)\n",
    "\n",
    "arr = np.arange(0, 100*100, 1)\n",
    "for i in range (len(arr)):\n",
    "    arr[i] = np.random.randint(1,100)\n",
    "arr = arr.reshape(100,100)\n",
    "\n",
    "means = arr.mean(axis=1)\n",
    "\n",
    "print(np.argmin(means))"
   ],
   "metadata": {
    "collapsed": false,
    "ExecuteTime": {
     "end_time": "2023-09-10T14:06:25.445618500Z",
     "start_time": "2023-09-10T14:06:24.482954300Z"
    }
   }
  },
  {
   "cell_type": "markdown",
   "source": [
    "## <span style=\"color:red\">Question 1.4</span>\n",
    "\n",
    "Newton's method is a numerical method finding the roots of a function.  Newton's method is\n",
    "\n",
    "$$ x_{n+1} = x_{n} - \\dfrac{f(x_n)}{f'(x_n)} $$\n",
    "\n",
    "Below, I've written a function to try to use Newton's method to find the two roots of the function $f(x) = \\exp(-x)\\ln(x+1) - 0.25$.\n",
    "\n",
    "My function should:\n",
    "\n",
    "* Terminate when $\\vert f(x_n) \\vert < 1\\times10^{-8}$ or when the number of iterations exceeds 1000.\n",
    "\n",
    "* Take as its first argument the starting point for the method (i.e $x_0$)\n",
    "\n",
    "* Take as its second argument the function $f$\n",
    "\n",
    "* Take as its third argument the function $f'$\n",
    "\n",
    "My code, as it stands, does not return the right answer.  Look through the code and debug the function so that it returns answers similar to `scipy.optimize.newton`.  Please don't completely rewrite the code (I spent a long time on it and want to learn what I messed up!).\n",
    "\n",
    "\n",
    "Don't worry about `f` and `fprime`.  I've ensured those are correct.\n"
   ],
   "metadata": {
    "collapsed": false
   }
  },
  {
   "cell_type": "markdown",
   "source": [
    "f = lambda x: np.exp(-x)*np.log(x+1) - 0.25\n",
    "fprime = lambda x: -np.exp(-x)*np.log(x+1) + np.exp(-x)/(x+1)\n",
    "\n",
    "def broken_newtons_method(x0,f, fprime, tol = 1e-8, maxiter = 1000):\n",
    "    \n",
    "    res = float('inf')\n",
    "    iters = 0\n",
    "    x_n = x0\n",
    "    \n",
    "    while (res<tol) and (iters<maxiter):\n",
    "        \n",
    "        x_n -= f(x_n)\\fprime(x_n)\n",
    "        \n",
    "        res = abs(f(x_n))\n",
    "        \n",
    "    return x_n\n",
    "        \n",
    "    \n",
    "print('My algorithm, starting at 0.01, yields answer: ',broken_newtons_method(0.01,f,fprime))\n",
    "print('My algorithm, starting at 2, yields answer: ', broken_newtons_method(2,f,fprime))\n",
    "        \n",
    "\n",
    "#compare with scipy\n",
    "from scipy.optimize import newton\n",
    "\n",
    "print('scipy.optimize.newton starting at 0.01 returns ',newton(f,0.01))\n",
    "print('scipy.optimize.newton returns at 2 returns ', newton(f,2))"
   ],
   "metadata": {
    "collapsed": false
   }
  },
  {
   "attachments": {},
   "cell_type": "markdown",
   "metadata": {},
   "source": [
    "## <span style=\"color:red\">Question 1.5</span>\n",
    "\n",
    "Estimate through simulation the probability that a baseball player with a 0.300 batting average (that is, makes 300 hits for every 1000 at bats) hits fewer hits than a baseball player with a 0.275 batting average in 45 at bats.\n",
    "\n",
    "Hint: Use the binomial distribution from `scipy.stats`.\n"
   ]
  },
  {
   "attachments": {},
   "cell_type": "markdown",
   "metadata": {},
   "source": [
    "## <span style=\"color:red\">Question 1.6</span>\n",
    "\n",
    "The file `data.csv` lists the soccer players participated in the Soccer World Cup 2022. It contains attributes such as age, overall performance score, wage etc. Load this dataset as a pandas dataframe and use pandas methods to query it to find `Nationality`, `Wage`, `Value`, `Skill Moves`, `Overall` of `L. Messi`. "
   ]
  },
  {
   "cell_type": "code",
   "execution_count": 6,
   "outputs": [
    {
     "name": "stdout",
     "output_type": "stream",
     "text": [
      "ID                                                                    158023\n",
      "Age                                                                       35\n",
      "Photo                       https://cdn.sofifa.net/players/158/023/23_60.png\n",
      "Nationality                                                        Argentina\n",
      "Flag                                     https://cdn.sofifa.net/flags/ar.png\n",
      "Overall                                                                   91\n",
      "Potential                                                                 91\n",
      "Club                                                     Paris Saint-Germain\n",
      "Club Logo                             https://cdn.sofifa.net/teams/73/30.png\n",
      "Value                                                                   €54M\n",
      "Wage                                                                   €195K\n",
      "Special                                                                 2190\n",
      "Preferred Foot                                                          Left\n",
      "International Reputation                                                 5.0\n",
      "Weak Foot                                                                4.0\n",
      "Skill Moves                                                              4.0\n",
      "Work Rate                                                           Low/ Low\n",
      "Body Type                                                             Unique\n",
      "Real Face                                                                Yes\n",
      "Position                                                                  RW\n",
      "Joined                                                          Aug 10, 2021\n",
      "Loaned From                                                              NaN\n",
      "Contract Valid Until                                                    2023\n",
      "Height                                                                 169cm\n",
      "Weight                                                                  67kg\n",
      "Release Clause                                                        €99.9M\n",
      "Kit Number                                                              30.0\n",
      "Best Overall Rating                                                      NaN\n",
      "Name: L. Messi, dtype: object\n"
     ]
    }
   ],
   "source": [
    "import pandas as pd\n",
    "import warnings\n",
    "warnings.simplefilter(action='ignore', category=FutureWarning)\n",
    "\n",
    "df = pd.read_csv(\"data.csv\").set_index(\"Name\")\n",
    "\"\"\"Nationality`, `Wage`, `Value`, `Skill Moves`, `Overall`\"\"\"\n",
    "messi = df.loc[\"L. Messi\"]\n",
    "nationality = messi[3]\n",
    "wage = messi[10]\n",
    "value = messi[9]\n",
    "skill_moves = messi[15]\n",
    "overall = messi[5]\n",
    "#print(messi)\n",
    "print(\"Nationality: \", nationality, \", Value: \", value, \", Skill Moves: \", skill_moves, \", Overall: \", overall)"
   ],
   "metadata": {
    "collapsed": false,
    "ExecuteTime": {
     "end_time": "2023-09-10T14:25:55.485339700Z",
     "start_time": "2023-09-10T14:25:55.358998500Z"
    }
   }
  },
  {
   "attachments": {},
   "cell_type": "markdown",
   "metadata": {},
   "source": [
    "## <span style=\"color:red\">Question 1.7</span>\n",
    "\n",
    "The feature `Overall` indicates player's overall performance score, which normally ranges from 0 to 100. Plot the smoothed distribution of `Overall`. Your plot must also include three vertical lines: one for mean, one for median, and one for 99th percentile of the distribution. Your plot must have a legend."
   ]
  },
  {
   "cell_type": "code",
   "execution_count": null,
   "outputs": [],
   "source": [
    "import pandas as pd\n",
    "import numpy as np\n",
    "import warnings\n",
    "warnings.simplefilter(action='ignore', category=FutureWarning)\n",
    "import matplotlib.pyplot as plt\n",
    "\"\"\"\n",
    "The feature `Overall` indicates player's overall performance score, which normally ranges from 0 to 100. \n",
    "Plot the smoothed distribution of `Overall`. \n",
    "Your plot must also include three vertical lines: one for mean, one for median, and one for 99th percentile of the distribution. \n",
    "Your plot must have a legend.\n",
    "\"\"\"\n",
    "\n",
    "df = pd.read_csv(\"data.csv\")\n",
    "plt.hist(df[\"Overall\"], color='#AABBCC')\n",
    "\n",
    "mean_value = df['Overall'].mean()\n",
    "median_value = df['Overall'].median()\n",
    "percentile_99 = np.percentile(df['Overall'], 99)\n",
    "\n",
    "plt.axvline(mean_value, color='r')\n",
    "plt.axvline(median_value, color='g')\n",
    "plt.axvline(percentile_99, color='purple')\n",
    "\n",
    "plt.legend({\n",
    "    f'Mean: {mean_value:.2f}': mean_value,\n",
    "    f'Median: {median_value}': median_value,\n",
    "    f'99th Percentile: {percentile_99:.2f}': percentile_99\n",
    "})\n",
    "\n",
    "plt.title('Overall')\n",
    "plt.xlabel('Overall Score')\n",
    "plt.ylabel('Frequency')\n",
    "\n",
    "plt.show()\n",
    "\n",
    "\n",
    "\n"
   ],
   "metadata": {
    "collapsed": false
   }
  },
  {
   "attachments": {},
   "cell_type": "markdown",
   "metadata": {},
   "source": [
    "## <span style=\"color:red\">Question 1.8</span>\n",
    "\n",
    "What is `Name`, `Nationality`, `Wage`, `Value`, `Skill Moves`, and `Overall` of the top 0.06% players of the `Overall` distribution?"
   ]
  },
  {
   "attachments": {},
   "cell_type": "markdown",
   "metadata": {},
   "source": [
    "## <span style=\"color:red\">Question 1.9</span>\n",
    "\n",
    "Attributes `Value` and `Wage` appear to be categorical attributes, but we need pure numbers for them. Do the following:\n",
    "-   remove any possible white spaces as well as the \"€\" symbol from their entries,\n",
    "-   some of their entries contain a \"K\" and some an \"M\". Multiply the \"K\" ones by 1e+3 and the \"M\" ones by 1e+6."
   ]
  },
  {
   "attachments": {},
   "cell_type": "markdown",
   "metadata": {},
   "source": [
    "---\n",
    "# <span style=\"color:orange\">Section 2: Statistics Questions</span>\n",
    "\n",
    "Students should be familiar with the following concepts: \n",
    "- Events and probability   \n",
    "- Discrete and continuous random variables \n",
    "- Probability mass, probability density, and cumulative distribution functions \n",
    "- Joint, marginal, and conditional probability distributions\n",
    "- Prior and posterior probability, Bayes rule \n",
    "- Maximum likelihood estimation\n",
    "- Central limit theorem and normal approximation\n",
    "- Confidence intervals \n",
    "- Mean, median, variance, standard deviation \n",
    "- Linear regression \n",
    "\n",
    "---"
   ]
  },
  {
   "attachments": {},
   "cell_type": "markdown",
   "metadata": {},
   "source": [
    "## <span style=\"color:red\">Question 2.1</span>\n",
    "\n",
    "What is the correct interpretation of the 95% confidence interval?\n",
    "\n",
    "A. There is a 95% probability the true mean lies outside your interval.\n",
    "\n",
    "B. The probability of the alternative hypothesis being true is 95%.\n",
    "\n",
    "C. There is a 95% probability that the mean is the midpoint of the interval\n",
    "\n",
    "D. Upon repeated construction, the longterm relative frequency of 95% confidence intervals containing the true mean is 95%."
   ]
  },
  {
   "attachments": {},
   "cell_type": "markdown",
   "metadata": {},
   "source": [
    "## <span style=\"color:red\">Question 2.2</span>\n",
    "\n",
    "Bill James is credited with creating sabermetrics (baseball analytics). In one of his early \"Baseball Abstracts\", Bill writes:\n",
    "\n",
    "\"If you see 15 games a year, there is a 40% chance that a .275 hitter will have more hits than a .300 hitter.\"\n",
    "\n",
    "Bill refers to players by their *batting average* (i.e. .275 means the hitter will hit the ball 275 times for every 1000 times they come at bat).  The actual probability is quite smaller than that. Bill wrote this in the late 1970s without the ubiquity of computers to perform the simulations we can.  It is quite plausible that Bill used a Normal approximation to arrive at this conclusion.\n",
    "\n",
    "Assuming that every batter appears 3 times per game for 15 games (for a total of 45 at bats), use a Normal approximation to estimate the probability that a .275 batter hits more hits than a .300 batter.  Assume the batters are independent.  You can use python to evaluate any complicated functions, but do not estimate the probability via simulation."
   ]
  },
  {
   "attachments": {},
   "cell_type": "markdown",
   "metadata": {},
   "source": [
    "## <span style=\"color:red\">Question 2.3</span>\n",
    "\n",
    "A diagnostic test has a 99% chance of correctly labeling a person as sick if they are truly sick.  The probability that the test labels someone as sick, regardless of disease status is 50%.  Approximately 1% of the population has the disease. \n",
    "\n",
    "a) what is the joint probability of having the disease and a positive test? \n",
    "\n",
    "b) what is the marginal probability that a test comes back positive? \n",
    "\n",
    "c) what is the conditional probability that a person has the disease if their test comes back positive?"
   ]
  },
  {
   "attachments": {},
   "cell_type": "markdown",
   "metadata": {},
   "source": [
    "## <span style=\"color:red\">Question 2.4</span>\n",
    "\n",
    "Why might someone want to know the median rather than the mean of their data?"
   ]
  },
  {
   "attachments": {},
   "cell_type": "markdown",
   "metadata": {},
   "source": [
    "## <span style=\"color:red\">Question 2.5</span>\n",
    "\n",
    "You obtain a dataset with $n$ rows and $n$ columns (the same number of rows and columns). Each column houses numeric data (no categories, just numbers). You're asked to perform a linear regression this data (the outcome is in a different file.  It is not one of the $n$ columns).  Assume that the data matrix is full rank.\n",
    "\n",
    "What will the $R^2$ of this regression be?"
   ]
  },
  {
   "attachments": {},
   "cell_type": "markdown",
   "metadata": {},
   "source": [
    "---\n",
    "# <span style=\"color:orange\">Section 3: Linear Algebra Questions</span>\n",
    "\n",
    "For the class we require some basic linear algebra\n",
    "- Vectors, matrices, inner products, outer products, matrix multiplication\n",
    "- Eigenvectors, eigenvalues, rank \n",
    "- Matrix inversion \n",
    "- Norms \n",
    "\n",
    "Gilbert Strang's book (http://math.mit.edu/~gs/linearalgebra/) might be a good refresher should you need it. Here (http://vmls-book.stanford.edu/vmls.pdf) is another book which may cover the topics you need, though we have not verified its quality.  If you have taken MATH 1600 and/or AMATH 2811, that should be enough.\n",
    "\n",
    "---"
   ]
  },
  {
   "attachments": {},
   "cell_type": "markdown",
   "metadata": {},
   "source": [
    "## <span style=\"color:red\">Question 3.1</span>\n",
    "\n",
    "If $A$ $n \\times n$ is a matrix, and $A$ has full rank, is $A$ invertible?"
   ]
  },
  {
   "attachments": {},
   "cell_type": "markdown",
   "metadata": {},
   "source": [
    "## <span style=\"color:red\">Question 3.2</span>\n",
    "\n",
    "If a matrix, $A$, is positive definite, which of the following is false:\n",
    "\n",
    "A) $\\mathbf{x}^T A \\mathbf{x} >0 $ for every vector which is not 0\n",
    "\n",
    "B) Every element of A is positive\n",
    "\n",
    "C) The Eigenvalues of A are positive\n",
    "\n",
    "D) A is symmetric"
   ]
  },
  {
   "attachments": {},
   "cell_type": "markdown",
   "metadata": {},
   "source": [
    "## <span style=\"color:red\">Question 3.3</span>\n",
    "\n",
    "Let $x$ and $y$ be vectors such that $\\vert x \\vert = 3$ and $\\vert y \\vert = 4$.  Use the triangle inequality to put an upper bound on the length of $\\vert x+y \\vert$.\n"
   ]
  },
  {
   "attachments": {},
   "cell_type": "markdown",
   "metadata": {},
   "source": [
    "## <span style=\"color:red\">Question 3.4</span>\n",
    "\n",
    "Let $A$ be a matrix, and let $\\mathbf{x},\\mathbf{y}$ be vectors.  If $A\\mathbf{x} = [4,3,2]^T$ and $A\\mathbf{y} = [-1,2,0]^T$ what is $A(2\\mathbf{x} - \\mathbf{y})$?"
   ]
  }
 ],
 "metadata": {
  "kernelspec": {
   "display_name": "Python 3 (ipykernel)",
   "language": "python",
   "name": "python3"
  }
 },
 "nbformat": 4,
 "nbformat_minor": 2
}
