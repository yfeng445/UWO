{
 "cells": [
  {
   "attachments": {},
   "cell_type": "markdown",
   "metadata": {},
   "source": [
    "# <span style=\"color:purple\">Prerequisite Knowledge Check</span>\n",
    "\n",
    "This is a short self-assessment to help you decide if you have the prerequisite knowledge for the course. This is not a timed test nor there are passing or failing scores. Feel free to use the internet (especially existing StackOverflow answers and package documentation) to help you get through this assessment. If you can answer all of these questions, you will have the appropriate prerequisite knowledge to be successful in the course."
   ]
  },
  {
   "attachments": {},
   "cell_type": "markdown",
   "metadata": {},
   "source": [
    "---\n",
    "# <span style=\"color:orange\">Section 1: Python Programming Questions</span>\n",
    "\n",
    "The class requires basic programming skills in Python and some familiarity with a number of Python libraries. Among these are: \n",
    "\n",
    "- Basic Python syntax: Data Types, Lists, Dictionaries, Operators (http://openbookproject.net/thinkcs/python/english3e/index.html)\n",
    "- Flow control: Loops, conditional statements, Function (http://openbookproject.net/thinkcs/python/english3e/index.html)\n",
    "- Numpy: Arrays, indexing, slicing, vectorization of operations (http://openbookproject.net/thinkcs/python/english3e/index.html)\n",
    "- Pandas: Data Frames, FileIO, Selection, Statistics, Grouping, Tables (https://pandas.pydata.org/getting_started.html) \n",
    "- Plotting with [Matplotlib](https://matplotlib.org/) and [Seaborn](https://seaborn.pydata.org/)\n",
    "- [Scipy](https://scipy.org/): Probability functions (`scipy.stats`), Optimization (`optim`)\n",
    "\n",
    "If you need a python installation, we recommend [Anaconda](https://www.anaconda.com/).\n",
    "\n",
    "---"
   ]
  },
  {
   "attachments": {},
   "cell_type": "markdown",
   "metadata": {},
   "source": [
    "## <span style=\"color:red\">Question 1.1</span>\n",
    "\n",
    "Below is some sample data about students selling different types of fruit. `sales` is a list of lists.  The lists in `sales` contain the name of the student who sold the fruit and the type of fruit which was sold.  So if Bernard sold an apple, then `([\"Bernard\",\"Apple\"] in sales)==True`. Turn the data into a pandas dataframe and then use pandas to answer the following:\n",
    "\n",
    "* How many apples did Anna sell?\n",
    "\n",
    "* Who sold more Watermelons: Bernard or Daisy\n",
    "\n",
    "* Who sold the most fruit?\n",
    "\n",
    "* Which fruit was sold the most?"
   ]
  },
  {
   "cell_type": "code",
   "execution_count": 1,
   "metadata": {},
   "outputs": [],
   "source": [
    "import numpy as np\n",
    "np.random.seed(0)\n",
    "N = 1000\n",
    "students = ['Anna','Bernard','Charlie','Daisy']\n",
    "fruits = ['Apple','Peach','Watermelon']\n",
    "sales = [ [np.random.choice(students), np.random.choice(fruits)] for j in range(N)]"
   ]
  },
  {
   "attachments": {},
   "cell_type": "markdown",
   "metadata": {},
   "source": [
    "## <span style=\"color:green\">Solution</span>"
   ]
  },
  {
   "cell_type": "code",
   "execution_count": 2,
   "metadata": {},
   "outputs": [
    {
     "data": {
      "text/html": [
       "<div>\n",
       "<style scoped>\n",
       "    .dataframe tbody tr th:only-of-type {\n",
       "        vertical-align: middle;\n",
       "    }\n",
       "\n",
       "    .dataframe tbody tr th {\n",
       "        vertical-align: top;\n",
       "    }\n",
       "\n",
       "    .dataframe thead th {\n",
       "        text-align: right;\n",
       "    }\n",
       "</style>\n",
       "<table border=\"1\" class=\"dataframe\">\n",
       "  <thead>\n",
       "    <tr style=\"text-align: right;\">\n",
       "      <th>fruit</th>\n",
       "      <th>Apple</th>\n",
       "      <th>Peach</th>\n",
       "      <th>Watermelon</th>\n",
       "    </tr>\n",
       "    <tr>\n",
       "      <th>students</th>\n",
       "      <th></th>\n",
       "      <th></th>\n",
       "      <th></th>\n",
       "    </tr>\n",
       "  </thead>\n",
       "  <tbody>\n",
       "    <tr>\n",
       "      <th>Anna</th>\n",
       "      <td>79</td>\n",
       "      <td>97</td>\n",
       "      <td>85</td>\n",
       "    </tr>\n",
       "    <tr>\n",
       "      <th>Bernard</th>\n",
       "      <td>77</td>\n",
       "      <td>87</td>\n",
       "      <td>80</td>\n",
       "    </tr>\n",
       "    <tr>\n",
       "      <th>Charlie</th>\n",
       "      <td>89</td>\n",
       "      <td>79</td>\n",
       "      <td>62</td>\n",
       "    </tr>\n",
       "    <tr>\n",
       "      <th>Daisy</th>\n",
       "      <td>84</td>\n",
       "      <td>83</td>\n",
       "      <td>98</td>\n",
       "    </tr>\n",
       "  </tbody>\n",
       "</table>\n",
       "</div>"
      ],
      "text/plain": [
       "fruit     Apple  Peach  Watermelon\n",
       "students                          \n",
       "Anna         79     97          85\n",
       "Bernard      77     87          80\n",
       "Charlie      89     79          62\n",
       "Daisy        84     83          98"
      ]
     },
     "metadata": {},
     "output_type": "display_data"
    },
    {
     "data": {
      "text/plain": [
       "students\n",
       "Anna       261\n",
       "Bernard    244\n",
       "Charlie    230\n",
       "Daisy      265\n",
       "dtype: int64"
      ]
     },
     "metadata": {},
     "output_type": "display_data"
    },
    {
     "data": {
      "text/plain": [
       "fruit\n",
       "Apple         329\n",
       "Peach         346\n",
       "Watermelon    325\n",
       "dtype: int64"
      ]
     },
     "metadata": {},
     "output_type": "display_data"
    }
   ],
   "source": [
    "import pandas as pd\n",
    "from IPython.display import display\n",
    "df = pd.DataFrame(sales, columns=['students','fruit'])\n",
    "ctabed = df.groupby(['students','fruit']).size().unstack()\n",
    "display(ctabed)\n",
    "display(ctabed.sum(axis = 1))\n",
    "display(ctabed.sum(axis = 0))"
   ]
  },
  {
   "attachments": {},
   "cell_type": "markdown",
   "metadata": {},
   "source": [
    "## <span style=\"color:red\">Question 1.2</span>\n",
    "\n",
    "Shown below is data relating to the position of a car in meters. The data was recorded at the indicated times below (so at time = 1, the car was 1 meter from the starting position).  Load the data as a numpy array. Calculate the average speed at which the car was traveling between time points.  Do this with a loop and again using array slicing.\n",
    "\n",
    "Hint: Speed = (Distance Traveled)/(Time To Travel Distance)\n",
    "\n",
    "speeds: [0, 1, 1.2, 1.8, 2.0, 1.7, 1.5, 1.9, 2.1, 2.3]\n",
    "\n",
    "times:  [0, 1, 1.5, 1.9, 2.3, 2.7, 3.8, 4.8, 5.4, 7.0]"
   ]
  },
  {
   "attachments": {},
   "cell_type": "markdown",
   "metadata": {},
   "source": [
    "## <span style=\"color:green\">Solution</span>"
   ]
  },
  {
   "cell_type": "code",
   "execution_count": 3,
   "metadata": {},
   "outputs": [
    {
     "data": {
      "text/plain": [
       "True"
      ]
     },
     "execution_count": 3,
     "metadata": {},
     "output_type": "execute_result"
    }
   ],
   "source": [
    "import numpy as np\n",
    "\n",
    "position = np.array([0, 1, 1.2, 1.8, 2.0, 1.7, 1.5, 1.9, 2.1, 2.3])\n",
    "times = np.array([0, 1, 1.5, 1.9, 2.3, 2.7, 3.8, 4.8, 5.4, 7.0])\n",
    "\n",
    "#With slicing\n",
    "speed_vectorized = (position[1:] - position[:-1])/(times[1:] - times[:-1])\n",
    "\n",
    "#Without slicing\n",
    "speed = np.zeros(position.size - 1)\n",
    "for i in range(speed.size):\n",
    "    speed[i] = (position[i+1] - position[i])/(times[i+1] - times[i])\n",
    "    \n",
    "#Both are equivalent\n",
    "np.isclose(speed,speed_vectorized, rtol = 1e-8).all()"
   ]
  },
  {
   "attachments": {},
   "cell_type": "markdown",
   "metadata": {},
   "source": [
    "## <span style=\"color:red\">Question 1.3</span>\n",
    "\n",
    "Generate a random 100-by-100 2-dimensional array of integers using `numpy.random.randint` ranging from 1 to 100.  To ensure your answer is the same as ours, set the random seed to `19920908`. \n",
    "\n",
    "Which row has the largest mean?\n",
    "\n",
    "Which column has the smallest sum?\n",
    "\n",
    "Which is the first column (from left to right) to have sum exceding 600?\n",
    "\n",
    "Answer these questions without the use of a loop.\n",
    "\n",
    "Hint: The `argmin`, `argmax`, and `argwhere` functions may be useful.\n"
   ]
  },
  {
   "attachments": {},
   "cell_type": "markdown",
   "metadata": {},
   "source": [
    "## <span style=\"color:green\">Solution</span>"
   ]
  },
  {
   "cell_type": "code",
   "execution_count": 4,
   "metadata": {},
   "outputs": [
    {
     "name": "stdout",
     "output_type": "stream",
     "text": [
      "73\n",
      "92\n",
      "13\n"
     ]
    }
   ],
   "source": [
    "np.random.seed(19920908)\n",
    "\n",
    "#The plus 1 here is tricky.\n",
    "X = np.random.randint(low = 1, high = 10+1, size = (100,100))\n",
    "\n",
    "#Which row has largest mean?\n",
    "\n",
    "print(X.mean(axis = 1).argmax())\n",
    "\n",
    "#Which column has smallest sum?\n",
    "\n",
    "print(X.sum(axis = 0).argmin())\n",
    "\n",
    "#Which is the first column (from left to right) to have sum exceeding 600?\n",
    "\n",
    "print(np.argwhere((X.sum(axis = 0)>600)).min())"
   ]
  },
  {
   "attachments": {},
   "cell_type": "markdown",
   "metadata": {},
   "source": [
    "## <span style=\"color:red\">Question 1.4</span>\n",
    "\n",
    "Newton's method is a numerical method finding the roots of a function.  Newton's method is\n",
    "\n",
    "$$ x_{n+1} = x_{n} - \\dfrac{f(x_n)}{f'(x_n)} $$\n",
    "\n",
    "Below, I've written a function to try to use Newton's method to find the two roots of the function $f(x) = \\exp(-x)\\ln(x+1) - 0.25$.\n",
    "\n",
    "My function should:\n",
    "\n",
    "* Terminate when $\\vert f(x_n) \\vert < 1\\times10^{-8}$ or when the number of iterations exceeds 1000.\n",
    "\n",
    "* Take as its first argument the starting point for the method (i.e $x_0$)\n",
    "\n",
    "* Take as its second argument the function $f$\n",
    "\n",
    "* Take as its third argument the function $f'$\n",
    "\n",
    "My code, as it stands, does not return the right answer.  Look through the code and debug the function so that it returns answers similar to `scipy.optimize.newton`.  Please don't completely rewrite the code (I spent a long time on it and want to learn what I messed up!).\n",
    "\n",
    "\n",
    "Don't worry about `f` and `fprime`.  I've ensured those are correct.\n"
   ]
  },
  {
   "cell_type": "code",
   "execution_count": 5,
   "metadata": {},
   "outputs": [
    {
     "ename": "SyntaxError",
     "evalue": "unexpected character after line continuation character (1473487198.py, line 12)",
     "output_type": "error",
     "traceback": [
      "\u001b[0;36m  Cell \u001b[0;32mIn [5], line 12\u001b[0;36m\u001b[0m\n\u001b[0;31m    x_n -= f(x_n)\\fprime(x_n)\u001b[0m\n\u001b[0m                             ^\u001b[0m\n\u001b[0;31mSyntaxError\u001b[0m\u001b[0;31m:\u001b[0m unexpected character after line continuation character\n"
     ]
    }
   ],
   "source": [
    "f = lambda x: np.exp(-x)*np.log(x+1) - 0.25\n",
    "fprime = lambda x: -np.exp(-x)*np.log(x+1) + np.exp(-x)/(x+1)\n",
    "\n",
    "def broken_newtons_method(x0,f, fprime, tol = 1e-8, maxiter = 1000):\n",
    "    \n",
    "    res = float('inf')\n",
    "    iters = 0\n",
    "    x_n = x0\n",
    "    \n",
    "    while (res<tol) and (iters<maxiter):\n",
    "        \n",
    "        x_n -= f(x_n)\\fprime(x_n)\n",
    "        \n",
    "        res = abs(f(x_n))\n",
    "        \n",
    "    return x_n\n",
    "        \n",
    "    \n",
    "print('My algorithm, starting at 0.01, yields answer: ',broken_newtons_method(0.01,f,fprime))\n",
    "print('My algorithm, starting at 2, yields answer: ', broken_newtons_method(2,f,fprime))\n",
    "        \n",
    "\n",
    "#compare with scipy\n",
    "from scipy.optimize import newton\n",
    "\n",
    "print('scipy.optimize.newton starting at 0.01 returns ',newton(f,0.01))\n",
    "print('scipy.optimize.newton returns at 2 returns ', newton(f,2))"
   ]
  },
  {
   "attachments": {},
   "cell_type": "markdown",
   "metadata": {},
   "source": [
    "## <span style=\"color:green\">Solution</span>"
   ]
  },
  {
   "cell_type": "code",
   "execution_count": 6,
   "metadata": {},
   "outputs": [
    {
     "name": "stdout",
     "output_type": "stream",
     "text": [
      "0.5276739085063745\n",
      "0.5276739085613994\n",
      "1.0646697551062072\n",
      "1.064669755082568\n"
     ]
    }
   ],
   "source": [
    "#Solution\n",
    "f = lambda x: np.exp(-x)*np.log(x+1) - 0.25\n",
    "fprime = lambda x: -np.exp(-x)*np.log(x+1) + np.exp(-x)/(x+1)\n",
    "\n",
    "\n",
    "def true_newtons_method(x0,f, fprime, tol = 1e-8, maxiter = 1000):\n",
    "    \n",
    "    res = float('inf')\n",
    "    iters = 0\n",
    "    x_n = x0\n",
    "    \n",
    "    #Had the wrong sign in first  logical\n",
    "    while (res>tol) and (iters<maxiter):\n",
    "        \n",
    "        #Wrong division \n",
    "        x_n -= f(x_n)/fprime(x_n)\n",
    "        #No iteration update\n",
    "        iters+=1\n",
    "        res = abs(f(x_n))\n",
    "    return x_n\n",
    "        \n",
    "from scipy.optimize import newton\n",
    "\n",
    "print(true_newtons_method(0.01,f,fprime))\n",
    "print(newton(f,0.01))\n",
    "\n",
    "print(true_newtons_method(2,f,fprime))\n",
    "print(newton(f,2))"
   ]
  },
  {
   "attachments": {},
   "cell_type": "markdown",
   "metadata": {},
   "source": [
    "## <span style=\"color:red\">Question 1.5</span>\n",
    "\n",
    "Estimate through simulation the probability that a baseball player with a 0.300 batting average (that is, makes 300 hits for every 1000 at bats) hits fewer hits than a baseball player with a 0.275 batting average in 45 at bats.\n",
    "\n",
    "Hint: Use the binomial distribution from `scipy.stats`.\n"
   ]
  },
  {
   "attachments": {},
   "cell_type": "markdown",
   "metadata": {},
   "source": [
    "## <span style=\"color:green\">Solution</span>"
   ]
  },
  {
   "cell_type": "code",
   "execution_count": 7,
   "metadata": {},
   "outputs": [
    {
     "data": {
      "text/plain": [
       "0.351645"
      ]
     },
     "execution_count": 7,
     "metadata": {},
     "output_type": "execute_result"
    }
   ],
   "source": [
    "from scipy.stats import binom\n",
    "np.mean(binom(n = 45, p = .3).rvs(1_000_000) < binom(n = 45, p = 0.275).rvs(1_000_000))"
   ]
  },
  {
   "attachments": {},
   "cell_type": "markdown",
   "metadata": {},
   "source": [
    "## <span style=\"color:red\">Question 1.6</span>\n",
    "\n",
    "The file `data.csv` lists the soccer players participated in the Soccer World Cup 2022. It contains attributes such as age, overall performance score, wage etc. Load this dataset as a pandas dataframe and use pandas methods to query it to find `Nationality`, `Wage`, `Value`, `Skill Moves`, `Overall` of `L. Messi`. "
   ]
  },
  {
   "attachments": {},
   "cell_type": "markdown",
   "metadata": {},
   "source": [
    "## <span style=\"color:green\">Solution</span>"
   ]
  },
  {
   "cell_type": "code",
   "execution_count": 18,
   "metadata": {},
   "outputs": [
    {
     "data": {
      "text/html": [
       "<div>\n",
       "<style scoped>\n",
       "    .dataframe tbody tr th:only-of-type {\n",
       "        vertical-align: middle;\n",
       "    }\n",
       "\n",
       "    .dataframe tbody tr th {\n",
       "        vertical-align: top;\n",
       "    }\n",
       "\n",
       "    .dataframe thead th {\n",
       "        text-align: right;\n",
       "    }\n",
       "</style>\n",
       "<table border=\"1\" class=\"dataframe\">\n",
       "  <thead>\n",
       "    <tr style=\"text-align: right;\">\n",
       "      <th></th>\n",
       "      <th>Name</th>\n",
       "      <th>Nationality</th>\n",
       "      <th>Wage</th>\n",
       "      <th>Value</th>\n",
       "      <th>Skill Moves</th>\n",
       "      <th>Overall</th>\n",
       "    </tr>\n",
       "  </thead>\n",
       "  <tbody>\n",
       "    <tr>\n",
       "      <th>56</th>\n",
       "      <td>L. Messi</td>\n",
       "      <td>Argentina</td>\n",
       "      <td>€195K</td>\n",
       "      <td>€54M</td>\n",
       "      <td>4.0</td>\n",
       "      <td>91</td>\n",
       "    </tr>\n",
       "  </tbody>\n",
       "</table>\n",
       "</div>"
      ],
      "text/plain": [
       "        Name Nationality   Wage Value  Skill Moves  Overall\n",
       "56  L. Messi   Argentina  €195K  €54M          4.0       91"
      ]
     },
     "execution_count": 18,
     "metadata": {},
     "output_type": "execute_result"
    }
   ],
   "source": [
    "data = pd.read_csv(\"data.csv\")\n",
    "player = 'L. Messi'\n",
    "data[data.Name.str.contains(player)].get([\"Name\", \"Nationality\", \"Wage\", \"Value\", \"Skill Moves\", \"Overall\"])"
   ]
  },
  {
   "attachments": {},
   "cell_type": "markdown",
   "metadata": {},
   "source": [
    "## <span style=\"color:red\">Question 1.7</span>\n",
    "\n",
    "The feature `Overall` indicates player's overall performance score, which normally ranges from 0 to 100. Plot the smoothed distribution of `Overall`. Your plot must also include three vertical lines: one for mean, one for median, and one for 99th percentile of the distribution. Your plot must have a legend."
   ]
  },
  {
   "attachments": {},
   "cell_type": "markdown",
   "metadata": {},
   "source": [
    "## <span style=\"color:green\">Solution</span>"
   ]
  },
  {
   "cell_type": "code",
   "execution_count": 12,
   "metadata": {},
   "outputs": [
    {
     "data": {
      "image/png": "[encoded data removed]",
      "text/plain": [
       "<Figure size 500x500 with 1 Axes>"
      ]
     },
     "metadata": {},
     "output_type": "display_data"
    }
   ],
   "source": [
    "import seaborn as sns\n",
    "import matplotlib.pyplot as plt\n",
    "\n",
    "sns.displot(data.Overall, kind='kde', fill=True, rug = True)\n",
    "\n",
    "plt.axvline(data.Overall.mean(), color='green', label='Mean')\n",
    "plt.axvline(data.Overall.median(), color='orange', label='Median')\n",
    "\n",
    "percentile = 99\n",
    "quantile=percentile/100\n",
    "\n",
    "plt.axvline(data.Overall.quantile(quantile), color='r', ls='--', label=str(percentile)+'th percentile')\n",
    "plt.legend(loc='upper right')\n",
    "plt.show()"
   ]
  },
  {
   "attachments": {},
   "cell_type": "markdown",
   "metadata": {},
   "source": [
    "## <span style=\"color:red\">Question 1.8</span>\n",
    "\n",
    "What is `Name`, `Nationality`, `Wage`, `Value`, `Skill Moves`, and `Overall` of the top 0.06% players of the `Overall` distribution?"
   ]
  },
  {
   "attachments": {},
   "cell_type": "markdown",
   "metadata": {},
   "source": [
    "## <span style=\"color:green\">Solution</span>"
   ]
  },
  {
   "cell_type": "code",
   "execution_count": 13,
   "metadata": {},
   "outputs": [
    {
     "name": "stdout",
     "output_type": "stream",
     "text": [
      "Top players are:\n"
     ]
    },
    {
     "data": {
      "text/html": [
       "<div>\n",
       "<style scoped>\n",
       "    .dataframe tbody tr th:only-of-type {\n",
       "        vertical-align: middle;\n",
       "    }\n",
       "\n",
       "    .dataframe tbody tr th {\n",
       "        vertical-align: top;\n",
       "    }\n",
       "\n",
       "    .dataframe thead th {\n",
       "        text-align: right;\n",
       "    }\n",
       "</style>\n",
       "<table border=\"1\" class=\"dataframe\">\n",
       "  <thead>\n",
       "    <tr style=\"text-align: right;\">\n",
       "      <th></th>\n",
       "      <th>Name</th>\n",
       "      <th>Age</th>\n",
       "      <th>Nationality</th>\n",
       "      <th>Wage</th>\n",
       "      <th>Value</th>\n",
       "      <th>Position</th>\n",
       "      <th>Overall</th>\n",
       "    </tr>\n",
       "  </thead>\n",
       "  <tbody>\n",
       "    <tr>\n",
       "      <th>3</th>\n",
       "      <td>K. De Bruyne</td>\n",
       "      <td>31</td>\n",
       "      <td>Belgium</td>\n",
       "      <td>€350K</td>\n",
       "      <td>€107.5M</td>\n",
       "      <td>RCM</td>\n",
       "      <td>91</td>\n",
       "    </tr>\n",
       "    <tr>\n",
       "      <th>25</th>\n",
       "      <td>M. Salah</td>\n",
       "      <td>30</td>\n",
       "      <td>Egypt</td>\n",
       "      <td>€270K</td>\n",
       "      <td>€115.5M</td>\n",
       "      <td>RW</td>\n",
       "      <td>90</td>\n",
       "    </tr>\n",
       "    <tr>\n",
       "      <th>41</th>\n",
       "      <td>R. Lewandowski</td>\n",
       "      <td>33</td>\n",
       "      <td>Poland</td>\n",
       "      <td>€420K</td>\n",
       "      <td>€84M</td>\n",
       "      <td>ST</td>\n",
       "      <td>91</td>\n",
       "    </tr>\n",
       "    <tr>\n",
       "      <th>56</th>\n",
       "      <td>L. Messi</td>\n",
       "      <td>35</td>\n",
       "      <td>Argentina</td>\n",
       "      <td>€195K</td>\n",
       "      <td>€54M</td>\n",
       "      <td>RW</td>\n",
       "      <td>91</td>\n",
       "    </tr>\n",
       "    <tr>\n",
       "      <th>75</th>\n",
       "      <td>K. Mbappé</td>\n",
       "      <td>23</td>\n",
       "      <td>France</td>\n",
       "      <td>€230K</td>\n",
       "      <td>€190.5M</td>\n",
       "      <td>ST</td>\n",
       "      <td>91</td>\n",
       "    </tr>\n",
       "    <tr>\n",
       "      <th>100</th>\n",
       "      <td>Cristiano Ronaldo</td>\n",
       "      <td>37</td>\n",
       "      <td>Portugal</td>\n",
       "      <td>€220K</td>\n",
       "      <td>€41M</td>\n",
       "      <td>ST</td>\n",
       "      <td>90</td>\n",
       "    </tr>\n",
       "    <tr>\n",
       "      <th>124</th>\n",
       "      <td>K. Benzema</td>\n",
       "      <td>34</td>\n",
       "      <td>France</td>\n",
       "      <td>€450K</td>\n",
       "      <td>€64M</td>\n",
       "      <td>CF</td>\n",
       "      <td>91</td>\n",
       "    </tr>\n",
       "    <tr>\n",
       "      <th>192</th>\n",
       "      <td>V. van Dijk</td>\n",
       "      <td>30</td>\n",
       "      <td>Netherlands</td>\n",
       "      <td>€230K</td>\n",
       "      <td>€98M</td>\n",
       "      <td>LCB</td>\n",
       "      <td>90</td>\n",
       "    </tr>\n",
       "    <tr>\n",
       "      <th>9151</th>\n",
       "      <td>M. Neuer</td>\n",
       "      <td>36</td>\n",
       "      <td>Germany</td>\n",
       "      <td>€72K</td>\n",
       "      <td>€13.5M</td>\n",
       "      <td>GK</td>\n",
       "      <td>90</td>\n",
       "    </tr>\n",
       "    <tr>\n",
       "      <th>14357</th>\n",
       "      <td>T. Courtois</td>\n",
       "      <td>30</td>\n",
       "      <td>Belgium</td>\n",
       "      <td>€250K</td>\n",
       "      <td>€90M</td>\n",
       "      <td>GK</td>\n",
       "      <td>90</td>\n",
       "    </tr>\n",
       "  </tbody>\n",
       "</table>\n",
       "</div>"
      ],
      "text/plain": [
       "                    Name  Age  Nationality   Wage    Value Position  Overall\n",
       "3           K. De Bruyne   31      Belgium  €350K  €107.5M      RCM       91\n",
       "25              M. Salah   30        Egypt  €270K  €115.5M       RW       90\n",
       "41        R. Lewandowski   33       Poland  €420K     €84M       ST       91\n",
       "56              L. Messi   35    Argentina  €195K     €54M       RW       91\n",
       "75             K. Mbappé   23       France  €230K  €190.5M       ST       91\n",
       "100    Cristiano Ronaldo   37     Portugal  €220K     €41M       ST       90\n",
       "124           K. Benzema   34       France  €450K     €64M       CF       91\n",
       "192          V. van Dijk   30  Netherlands  €230K     €98M      LCB       90\n",
       "9151            M. Neuer   36      Germany   €72K   €13.5M       GK       90\n",
       "14357        T. Courtois   30      Belgium  €250K     €90M       GK       90"
      ]
     },
     "execution_count": 13,
     "metadata": {},
     "output_type": "execute_result"
    }
   ],
   "source": [
    "print('Top players are:')\n",
    "percentile = 100-0.06\n",
    "quantile=percentile/100\n",
    "data[data.Overall > data.Overall.quantile(quantile)].get([\"Name\", \"Age\", \"Nationality\", \"Wage\", \"Value\", \"Position\", \"Overall\"])"
   ]
  },
  {
   "attachments": {},
   "cell_type": "markdown",
   "metadata": {},
   "source": [
    "## <span style=\"color:red\">Question 1.9</span>\n",
    "\n",
    "Attributes `Value` and `Wage` appear to be categorical attributes, but we need pure numbers for them. Do the following:\n",
    "-   remove any possible white spaces as well as the \"€\" symbol from their entries,\n",
    "-   some of their entries contain a \"K\" and some an \"M\". Multiply the \"K\" ones by 1e+3 and the \"M\" ones by 1e+6."
   ]
  },
  {
   "attachments": {},
   "cell_type": "markdown",
   "metadata": {},
   "source": [
    "## <span style=\"color:green\">Solution</span>"
   ]
  },
  {
   "cell_type": "code",
   "execution_count": 19,
   "metadata": {},
   "outputs": [
    {
     "data": {
      "text/html": [
       "<div>\n",
       "<style scoped>\n",
       "    .dataframe tbody tr th:only-of-type {\n",
       "        vertical-align: middle;\n",
       "    }\n",
       "\n",
       "    .dataframe tbody tr th {\n",
       "        vertical-align: top;\n",
       "    }\n",
       "\n",
       "    .dataframe thead th {\n",
       "        text-align: right;\n",
       "    }\n",
       "</style>\n",
       "<table border=\"1\" class=\"dataframe\">\n",
       "  <thead>\n",
       "    <tr style=\"text-align: right;\">\n",
       "      <th></th>\n",
       "      <th>Wage</th>\n",
       "      <th>Value</th>\n",
       "    </tr>\n",
       "  </thead>\n",
       "  <tbody>\n",
       "    <tr>\n",
       "      <th>0</th>\n",
       "      <td>115000.0</td>\n",
       "      <td>91000000.0</td>\n",
       "    </tr>\n",
       "    <tr>\n",
       "      <th>1</th>\n",
       "      <td>190000.0</td>\n",
       "      <td>78500000.0</td>\n",
       "    </tr>\n",
       "    <tr>\n",
       "      <th>2</th>\n",
       "      <td>46000.0</td>\n",
       "      <td>46500000.0</td>\n",
       "    </tr>\n",
       "    <tr>\n",
       "      <th>3</th>\n",
       "      <td>350000.0</td>\n",
       "      <td>107500000.0</td>\n",
       "    </tr>\n",
       "    <tr>\n",
       "      <th>4</th>\n",
       "      <td>110000.0</td>\n",
       "      <td>89500000.0</td>\n",
       "    </tr>\n",
       "  </tbody>\n",
       "</table>\n",
       "</div>"
      ],
      "text/plain": [
       "       Wage        Value\n",
       "0  115000.0   91000000.0\n",
       "1  190000.0   78500000.0\n",
       "2   46000.0   46500000.0\n",
       "3  350000.0  107500000.0\n",
       "4  110000.0   89500000.0"
      ]
     },
     "execution_count": 19,
     "metadata": {},
     "output_type": "execute_result"
    }
   ],
   "source": [
    "monetary = ['Value','Wage']\n",
    "for c in monetary:\n",
    "    data[c] = data[c].str.replace(' ', '_')\n",
    "    data[c] = data[c].str.replace('€', '')\n",
    "    ind_K = data[data[c].str.contains('K', regex=False)].index\n",
    "    ind_M = data[data[c].str.contains('M', regex=False)].index\n",
    "    data[c] = data[c].str.replace('K', '')\n",
    "    data[c] = data[c].str.replace('M', '')\n",
    "    data[c] = data[c].astype(float)\n",
    "\n",
    "    data.loc[ind_K, c] = data[c].apply(lambda x: x*1e+3)\n",
    "    data.loc[ind_M, c] = data[c].apply(lambda x: x*1e+6)\n",
    "\n",
    "data.get([\"Wage\", \"Value\"]).head()"
   ]
  },
  {
   "attachments": {},
   "cell_type": "markdown",
   "metadata": {},
   "source": [
    "---\n",
    "# <span style=\"color:orange\">Section 2: Statistics Questions</span>\n",
    "\n",
    "Students should be familiar with the following concepts: \n",
    "- Events and probability   \n",
    "- Discrete and continuous random variables \n",
    "- Probability mass, probability density, and cumulative distribution functions \n",
    "- Joint, marginal, and conditional probability distributions\n",
    "- Prior and posterior probability, Bayes rule \n",
    "- Maximum likelihood estimation\n",
    "- Central limit theorem and normal approximation\n",
    "- Confidence intervals \n",
    "- Mean, median, variance, standard deviation \n",
    "- Linear regression \n",
    "\n",
    "---"
   ]
  },
  {
   "attachments": {},
   "cell_type": "markdown",
   "metadata": {},
   "source": [
    "## <span style=\"color:red\">Question 2.1</span>\n",
    "\n",
    "What is the correct interpretation of the 95% confidence interval?\n",
    "\n",
    "A. There is a 95% probability the true mean lies outside your interval.\n",
    "\n",
    "B. The probability of the alternative hypothesis being true is 95%.\n",
    "\n",
    "C. There is a 95% probability that the mean is the midpoint of the interval\n",
    "\n",
    "D. Upon repeated construction, the longterm relative frequency of 95% confidence intervals containing the true mean is 95%."
   ]
  },
  {
   "attachments": {},
   "cell_type": "markdown",
   "metadata": {},
   "source": [
    "## <span style=\"color:green\">Solution</span>\n",
    "\n",
    "D"
   ]
  },
  {
   "attachments": {},
   "cell_type": "markdown",
   "metadata": {},
   "source": [
    "## <span style=\"color:red\">Question 2.2</span>\n",
    "\n",
    "Bill James is credited with creating sabermetrics (baseball analytics). In one of his early \"Baseball Abstracts\", Bill writes:\n",
    "\n",
    "\"If you see 15 games a year, there is a 40% chance that a .275 hitter will have more hits than a .300 hitter.\"\n",
    "\n",
    "Bill refers to players by their *batting average* (i.e. .275 means the hitter will hit the ball 275 times for every 1000 times they come at bat).  The actual probability is quite smaller than that. Bill wrote this in the late 1970s without the ubiquity of computers to perform the simulations we can.  It is quite plausible that Bill used a Normal approximation to arrive at this conclusion.\n",
    "\n",
    "Assuming that every batter appears 3 times per game for 15 games (for a total of 45 at bats), use a Normal approximation to estimate the probability that a .275 batter hits more hits than a .300 batter.  Assume the batters are independent.  You can use python to evaluate any complicated functions, but do not estimate the probability via simulation."
   ]
  },
  {
   "attachments": {},
   "cell_type": "markdown",
   "metadata": {},
   "source": [
    "## <span style=\"color:green\">Solution</span>\n",
    "\n",
    "Let $A \\sim Binom(0.275,45)$ and $B \\sim Binom(0.300,45)$.  \n",
    "\n",
    "We are looking for $p(A>B)$ or alternatively $p(0<A-B)$.\n",
    "\n",
    "The expectation of $A-B$ is $E(A-B) = E(A) - E(B)  \\approx 1.12$\n",
    "\n",
    "The variance of $A-B$ is $\\operatorname{Var}(A-B) = \\operatorname{Var}(A) + \\operatorname{Var}(B) - 2\\operatorname{Cov}(A,B)$.\n",
    "\n",
    "Since batters are assumed to be independent, $\\operatorname{Cov}(A,B) = 0$.\n",
    "\n",
    "So the variance is then $\\operatorname{Var}(A) + \\operatorname{Var}(B) \\approx 18.42$\n",
    "\n",
    "The Normal approximation is then $A-B \\sim \\mathcal{N}(1.12, 18.42)$\n",
    "\n",
    "and so the probability that $A-B>0$ is $1- \\mathbf{\\Phi}(0) \\approx 0.4$\n",
    "\n",
    "Where $\\mathbf{\\Phi}$ is the CDF for our normal approximation.\n",
    "\n"
   ]
  },
  {
   "cell_type": "code",
   "execution_count": null,
   "metadata": {},
   "outputs": [],
   "source": [
    "from scipy.stats import norm\n",
    "\n",
    "\n",
    "norm(loc = 1.12, scale = np.sqrt(18.42)).cdf(0)"
   ]
  },
  {
   "attachments": {},
   "cell_type": "markdown",
   "metadata": {},
   "source": [
    "## <span style=\"color:red\">Question 2.3</span>\n",
    "\n",
    "A diagnostic test has a 99% chance of correctly labeling a person as sick if they are truly sick.  The probability that the test labels someone as sick, regardless of disease status is 50%.  Approximately 1% of the population has the disease. \n",
    "\n",
    "a) what is the joint probability of having the disease and a positive test? \n",
    "\n",
    "b) what is the marginal probability that a test comes back positive? \n",
    "\n",
    "c) what is the conditional probability that a person has the disease if their test comes back positive?"
   ]
  },
  {
   "attachments": {},
   "cell_type": "markdown",
   "metadata": {},
   "source": [
    "## <span style=\"color:green\">Solution</span>\n",
    "\n",
    "a) The joint probability of two events happening is $p(A,B) = p(A)p(B|A)$\n",
    "\n",
    "$$ p(D+ , T+)  = p(D+) p(T+ \\vert D+) = 0.01 \\times 0.99 =  0.0099 $$\n",
    "\n",
    "b) The marginal probability is \n",
    "\n",
    "$$ p(T+) = p(D+)p(T+|D+) + p(D-) p(T+|D-) = 0.5049$$\n",
    "\n",
    "c) The conditional probability of this even can be obtained by Bayes Rule: \n",
    "\n",
    "$$ p(D+ \\vert T+)  = \\dfrac{p(T+ \\vert D+) p(D+) }{p(T+)} = \\dfrac{0.0099}{0.5049} = 0.0196$$\n",
    "\n",
    "The probability of a positive disease state after a positive test is $~1.96\\%$ "
   ]
  },
  {
   "attachments": {},
   "cell_type": "markdown",
   "metadata": {},
   "source": [
    "## <span style=\"color:red\">Question 2.4</span>\n",
    "\n",
    "Why might someone want to know the median rather than the mean of their data?"
   ]
  },
  {
   "attachments": {},
   "cell_type": "markdown",
   "metadata": {},
   "source": [
    "## <span style=\"color:green\">Solution</span>\n",
    "\n",
    "The median is far less sensitive to outliers than the mean.  If the data have many outliers, then the mean might not be a good measure of central tendency."
   ]
  },
  {
   "attachments": {},
   "cell_type": "markdown",
   "metadata": {},
   "source": [
    "## <span style=\"color:red\">Question 2.5</span>\n",
    "\n",
    "You obtain a dataset with $n$ rows and $n$ columns (the same number of rows and columns). Each column houses numeric data (no categories, just numbers). You're asked to perform a linear regression this data (the outcome is in a different file.  It is not one of the $n$ columns).  Assume that the data matrix is full rank.\n",
    "\n",
    "What will the $R^2$ of this regression be?"
   ]
  },
  {
   "attachments": {},
   "cell_type": "markdown",
   "metadata": {},
   "source": [
    "## <span style=\"color:green\">Solution</span>\n",
    "\n",
    "$R^2$ will be one since the problem is perfectly determined."
   ]
  },
  {
   "attachments": {},
   "cell_type": "markdown",
   "metadata": {},
   "source": [
    "---\n",
    "# <span style=\"color:orange\">Section 3: Linear Algebra Questions</span>\n",
    "\n",
    "For the class we require some basic linear algebra\n",
    "- Vectors, matrices, inner products, outer products, matrix multiplication\n",
    "- Eigenvectors, eigenvalues, rank \n",
    "- Matrix inversion \n",
    "- Norms \n",
    "\n",
    "Gilbert Strang's book (http://math.mit.edu/~gs/linearalgebra/) might be a good refresher should you need it. Here (http://vmls-book.stanford.edu/vmls.pdf) is another book which may cover the topics you need, though we have not verified its quality.  If you have taken MATH 1600 and/or AMATH 2811, that should be enough.\n",
    "\n",
    "---"
   ]
  },
  {
   "attachments": {},
   "cell_type": "markdown",
   "metadata": {},
   "source": [
    "## <span style=\"color:red\">Question 3.1</span>\n",
    "\n",
    "If $A$ $n \\times n$ is a matrix, and $A$ has full rank, is $A$ invertible?"
   ]
  },
  {
   "attachments": {},
   "cell_type": "markdown",
   "metadata": {},
   "source": [
    "## <span style=\"color:green\">Solution</span>\n",
    "\n",
    "Yes."
   ]
  },
  {
   "attachments": {},
   "cell_type": "markdown",
   "metadata": {},
   "source": [
    "## <span style=\"color:red\">Question 3.2</span>\n",
    "\n",
    "If a matrix, $A$, is positive definite, which of the following is false:\n",
    "\n",
    "A) $\\mathbf{x}^T A \\mathbf{x} >0 $ for every vector which is not 0\n",
    "\n",
    "B) Every element of A is positive\n",
    "\n",
    "C) The Eigenvalues of A are positive\n",
    "\n",
    "D) A is symmetric"
   ]
  },
  {
   "attachments": {},
   "cell_type": "markdown",
   "metadata": {},
   "source": [
    "## <span style=\"color:green\">Solution</span>\n",
    "\n",
    "B"
   ]
  },
  {
   "attachments": {},
   "cell_type": "markdown",
   "metadata": {},
   "source": [
    "## <span style=\"color:red\">Question 3.3</span>\n",
    "\n",
    "Let $x$ and $y$ be vectors such that $\\vert x \\vert = 3$ and $\\vert y \\vert = 4$.  Use the triangle inequality to put an upper bound on the length of $\\vert x+y \\vert$.\n"
   ]
  },
  {
   "attachments": {},
   "cell_type": "markdown",
   "metadata": {},
   "source": [
    "## <span style=\"color:green\">Solution</span>\n",
    "\n",
    "$\\vert x+y \\vert \\leq \\vert x \\vert + \\vert y \\vert =7$"
   ]
  },
  {
   "attachments": {},
   "cell_type": "markdown",
   "metadata": {},
   "source": [
    "## <span style=\"color:red\">Question 3.4</span>\n",
    "\n",
    "Let $A$ be a matrix, and let $\\mathbf{x},\\mathbf{y}$ be vectors.  If $A\\mathbf{x} = [4,3,2]^T$ and $A\\mathbf{y} = [-1,2,0]^T$ what is $A(2\\mathbf{x} - \\mathbf{y})$?"
   ]
  },
  {
   "attachments": {},
   "cell_type": "markdown",
   "metadata": {},
   "source": [
    "## <span style=\"color:green\">Solution</span>\n",
    "\n",
    "$A(2\\mathbf{x} - \\mathbf{y}) = 2A\\mathbf{x} - A\\mathbf{y} = [8,6,4]^T - [-1,2,0]^T = [9,8,4]^T$\n",
    "\n",
    "---"
   ]
  }
 ],
 "metadata": {
  "kernelspec": {
   "display_name": "Python 3 (ipykernel)",
   "language": "python",
   "name": "python3"
  },
  "language_info": {
   "codemirror_mode": {
    "name": "ipython",
    "version": 3
   },
   "file_extension": ".py",
   "mimetype": "text/x-python",
   "name": "python",
   "nbconvert_exporter": "python",
   "pygments_lexer": "ipython3",
   "version": "3.8.10"
  }
 },
 "nbformat": 4,
 "nbformat_minor": 2
}
