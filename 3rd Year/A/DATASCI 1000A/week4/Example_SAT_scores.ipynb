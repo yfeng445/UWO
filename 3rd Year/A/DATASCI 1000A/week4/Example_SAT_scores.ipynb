{
 "cells": [
  {
   "cell_type": "code",
   "execution_count": 1,
   "id": "bcfb2a2d",
   "metadata": {},
   "outputs": [],
   "source": [
    "import numpy as np\n",
    "import pandas as pd\n",
    "import seaborn as sns\n",
    "import matplotlib.pyplot as plt\n",
    "from scipy.stats import norm "
   ]
  },
  {
   "cell_type": "markdown",
   "id": "e32e66d4",
   "metadata": {},
   "source": [
    "Example 3.5 of the textbook"
   ]
  },
  {
   "cell_type": "code",
   "execution_count": 2,
   "id": "4e5fcb89",
   "metadata": {},
   "outputs": [
    {
     "data": {
      "text/plain": [
       "0.35338764759507846"
      ]
     },
     "execution_count": 2,
     "metadata": {},
     "output_type": "execute_result"
    }
   ],
   "source": [
    "norm.cdf(980, loc = 1059, scale = 210) ## this gives the proportion below 980"
   ]
  },
  {
   "cell_type": "code",
   "execution_count": 3,
   "id": "7e961ead",
   "metadata": {},
   "outputs": [
    {
     "data": {
      "text/plain": [
       "0.6466123524049215"
      ]
     },
     "execution_count": 3,
     "metadata": {},
     "output_type": "execute_result"
    }
   ],
   "source": [
    "1 - norm.cdf(980, loc = 1059, scale = 210) ## this gives the desired proportion of students above 980"
   ]
  },
  {
   "cell_type": "code",
   "execution_count": 4,
   "id": "4d7ce520",
   "metadata": {},
   "outputs": [
    {
     "data": {
      "text/plain": [
       "-0.3761904761904762"
      ]
     },
     "execution_count": 4,
     "metadata": {},
     "output_type": "execute_result"
    }
   ],
   "source": [
    "z = (980-1059)/210\n",
    "z"
   ]
  },
  {
   "cell_type": "code",
   "execution_count": 5,
   "id": "4c1b7695",
   "metadata": {},
   "outputs": [
    {
     "data": {
      "text/plain": [
       "0.35338764759507846"
      ]
     },
     "execution_count": 5,
     "metadata": {},
     "output_type": "execute_result"
    }
   ],
   "source": [
    "norm.cdf(z) "
   ]
  },
  {
   "cell_type": "code",
   "execution_count": 6,
   "id": "5da8ee83",
   "metadata": {},
   "outputs": [
    {
     "data": {
      "text/plain": [
       "0.6466123524049215"
      ]
     },
     "execution_count": 6,
     "metadata": {},
     "output_type": "execute_result"
    }
   ],
   "source": [
    "1 - norm.cdf(z)"
   ]
  },
  {
   "cell_type": "markdown",
   "id": "e28947f1",
   "metadata": {},
   "source": [
    "Example 3.9 of the textbook"
   ]
  },
  {
   "cell_type": "markdown",
   "id": "6988763b",
   "metadata": {},
   "source": [
    "Now we want to find the SAT score 𝑥 with area 0.1 to its right under the Normal curve with mean 531 and standard deviation 104. "
   ]
  },
  {
   "cell_type": "code",
   "execution_count": 1,
   "id": "a6040a8c",
   "metadata": {},
   "outputs": [],
   "source": [
    "from scipy.stats import norm"
   ]
  },
  {
   "cell_type": "code",
   "execution_count": 2,
   "id": "8384915e",
   "metadata": {},
   "outputs": [
    {
     "data": {
      "text/plain": [
       "664.2813628166384"
      ]
     },
     "execution_count": 2,
     "metadata": {},
     "output_type": "execute_result"
    }
   ],
   "source": [
    "# this gives you the value x corresponding to a proportion of 0.9 to its left (lower tail)\n",
    "# which also corresponds to a proportion of 0.1 to its right \n",
    "norm.ppf(0.9,loc=531,scale=104) "
   ]
  },
  {
   "cell_type": "code",
   "execution_count": 9,
   "id": "1435d141",
   "metadata": {},
   "outputs": [],
   "source": [
    "#help(norm.ppf)"
   ]
  },
  {
   "cell_type": "code",
   "execution_count": null,
   "id": "10790e53",
   "metadata": {},
   "outputs": [],
   "source": []
  }
 ],
 "metadata": {
  "kernelspec": {
   "display_name": "Python 3",
   "language": "python",
   "name": "python3"
  },
  "language_info": {
   "codemirror_mode": {
    "name": "ipython",
    "version": 3
   },
   "file_extension": ".py",
   "mimetype": "text/x-python",
   "name": "python",
   "nbconvert_exporter": "python",
   "pygments_lexer": "ipython3",
   "version": "3.8.8"
  }
 },
 "nbformat": 4,
 "nbformat_minor": 5
}
