{
 "cells": [
  {
   "cell_type": "markdown",
   "id": "19b17b63",
   "metadata": {},
   "source": [
    "# Lab 8"
   ]
  },
  {
   "cell_type": "markdown",
   "id": "d9215686",
   "metadata": {},
   "source": [
    "In this lab we discuss simple random sampling, systematic sampling, and stratified random sampling."
   ]
  },
  {
   "cell_type": "markdown",
   "id": "de1db6b8",
   "metadata": {},
   "source": [
    "## Simple Random Sampling"
   ]
  },
  {
   "cell_type": "markdown",
   "id": "893ba2e3",
   "metadata": {},
   "source": [
    "**random.sample:** https://www.w3schools.com/python/ref_random_sample.asp"
   ]
  },
  {
   "cell_type": "code",
   "execution_count": 1,
   "id": "4fb5c75a",
   "metadata": {},
   "outputs": [],
   "source": [
    "import numpy as np\n",
    "import pandas as pd\n",
    "import random"
   ]
  },
  {
   "cell_type": "code",
   "execution_count": 2,
   "id": "29000c36",
   "metadata": {},
   "outputs": [
    {
     "name": "stdout",
     "output_type": "stream",
     "text": [
      "['Laura', 'Roger', 'Mariya']\n"
     ]
    }
   ],
   "source": [
    "# Random sampling using random.sample()\n",
    "# random.sample returns unique random elements from a sequence or set. This is sampling without replacement.\n",
    "random.seed(52) ## setting the seed so that we all get the same sample\n",
    "names = [\"Roger\", \"Jack\", \"John\", \"Jason\", \"Laura\", \"Mariya\", \"Martina\", \"Lauren\"]\n",
    "sampled_list1 = random.sample(names, 3)\n",
    "print(sampled_list1)"
   ]
  },
  {
   "cell_type": "code",
   "execution_count": 3,
   "id": "002682c7",
   "metadata": {},
   "outputs": [
    {
     "name": "stdout",
     "output_type": "stream",
     "text": [
      "['Martina', 'Lauren', 'John']\n"
     ]
    }
   ],
   "source": [
    "# if we change the seed another sample is obtained\n",
    "random.seed(17) \n",
    "sampled_list2 = random.sample(names, 3)\n",
    "print(sampled_list2)"
   ]
  },
  {
   "cell_type": "code",
   "execution_count": 4,
   "id": "e1841f4b",
   "metadata": {},
   "outputs": [
    {
     "name": "stdout",
     "output_type": "stream",
     "text": [
      "[0, 1, 2, 3, 4, 5, 6, 7]\n",
      "[6, 7, 2]\n"
     ]
    }
   ],
   "source": [
    "# an alternative way to sample is to assign a number to each name (or ID) in the list and then sample the numbers\n",
    "# generating 8 consecutive numbers corresponding to the positions of each name in the list:\n",
    "sequence_numbers = list(range(8)) \n",
    "print(sequence_numbers) # Python starts with zero\n",
    "random.seed(17) # same seed as before to obtain the same sample of names as in the code cell above\n",
    "sample_list3 = random.sample(sequence_numbers,3) # randomly sampling 3 number positions\n",
    "print(sample_list3)\n"
   ]
  },
  {
   "cell_type": "code",
   "execution_count": 5,
   "id": "99b8b8d1",
   "metadata": {},
   "outputs": [
    {
     "data": {
      "text/plain": [
       "['Martina', 'Lauren', 'John']"
      ]
     },
     "execution_count": 5,
     "metadata": {},
     "output_type": "execute_result"
    }
   ],
   "source": [
    "[names[i] for i in sample_list3 ] # getting the names corresponding to the sampled number positions"
   ]
  },
  {
   "cell_type": "code",
   "execution_count": 6,
   "id": "4f93fb9b",
   "metadata": {},
   "outputs": [
    {
     "name": "stdout",
     "output_type": "stream",
     "text": [
      "2D array \n",
      " [[ 2  5  7]\n",
      " [ 5 11 16]\n",
      " [ 6 13 19]\n",
      " [ 7 15 22]\n",
      " [ 8 17 25]]\n"
     ]
    }
   ],
   "source": [
    "# Getting a sample array from a multidimensional array\n",
    "array = np.array([[2, 5, 7], [5, 11, 16], [6, 13, 19], [7, 15, 22], [8, 17, 25]])\n",
    "print(\"2D array \\n\", array)"
   ]
  },
  {
   "cell_type": "code",
   "execution_count": 7,
   "id": "0999f316",
   "metadata": {},
   "outputs": [
    {
     "name": "stdout",
     "output_type": "stream",
     "text": [
      "[4, 2]\n"
     ]
    }
   ],
   "source": [
    "random.seed(48)\n",
    "random_rows = random.sample(range(5), 2) # randomly selecting two row indices, without replacement\n",
    "print(random_rows)"
   ]
  },
  {
   "cell_type": "code",
   "execution_count": 8,
   "id": "4855e486",
   "metadata": {},
   "outputs": [
    {
     "data": {
      "text/plain": [
       "array([[ 8, 17, 25],\n",
       "       [ 6, 13, 19]])"
      ]
     },
     "execution_count": 8,
     "metadata": {},
     "output_type": "execute_result"
    }
   ],
   "source": [
    "array[random_rows, :]"
   ]
  },
  {
   "cell_type": "markdown",
   "id": "9f3f1f5b",
   "metadata": {},
   "source": [
    "## Systematic Sampling"
   ]
  },
  {
   "cell_type": "markdown",
   "id": "938b3d73",
   "metadata": {},
   "source": [
    "Systematic sampling is a type of sampling where we obtain a sample by going through a list of the population at fixed intervals from a randomly chosen starting point."
   ]
  },
  {
   "cell_type": "markdown",
   "id": "32f53f4f",
   "metadata": {},
   "source": [
    "**np.arange:** https://numpy.org/doc/stable/reference/generated/numpy.arange.html"
   ]
  },
  {
   "cell_type": "code",
   "execution_count": 9,
   "id": "bc915af2",
   "metadata": {},
   "outputs": [
    {
     "data": {
      "text/html": [
       "<div>\n",
       "<style scoped>\n",
       "    .dataframe tbody tr th:only-of-type {\n",
       "        vertical-align: middle;\n",
       "    }\n",
       "\n",
       "    .dataframe tbody tr th {\n",
       "        vertical-align: top;\n",
       "    }\n",
       "\n",
       "    .dataframe thead th {\n",
       "        text-align: right;\n",
       "    }\n",
       "</style>\n",
       "<table border=\"1\" class=\"dataframe\">\n",
       "  <thead>\n",
       "    <tr style=\"text-align: right;\">\n",
       "      <th></th>\n",
       "      <th>ID</th>\n",
       "    </tr>\n",
       "  </thead>\n",
       "  <tbody>\n",
       "    <tr>\n",
       "      <th>0</th>\n",
       "      <td>1</td>\n",
       "    </tr>\n",
       "    <tr>\n",
       "      <th>1</th>\n",
       "      <td>2</td>\n",
       "    </tr>\n",
       "    <tr>\n",
       "      <th>2</th>\n",
       "      <td>3</td>\n",
       "    </tr>\n",
       "    <tr>\n",
       "      <th>3</th>\n",
       "      <td>4</td>\n",
       "    </tr>\n",
       "    <tr>\n",
       "      <th>4</th>\n",
       "      <td>5</td>\n",
       "    </tr>\n",
       "    <tr>\n",
       "      <th>5</th>\n",
       "      <td>6</td>\n",
       "    </tr>\n",
       "    <tr>\n",
       "      <th>6</th>\n",
       "      <td>7</td>\n",
       "    </tr>\n",
       "    <tr>\n",
       "      <th>7</th>\n",
       "      <td>8</td>\n",
       "    </tr>\n",
       "    <tr>\n",
       "      <th>8</th>\n",
       "      <td>9</td>\n",
       "    </tr>\n",
       "    <tr>\n",
       "      <th>9</th>\n",
       "      <td>10</td>\n",
       "    </tr>\n",
       "    <tr>\n",
       "      <th>10</th>\n",
       "      <td>11</td>\n",
       "    </tr>\n",
       "    <tr>\n",
       "      <th>11</th>\n",
       "      <td>12</td>\n",
       "    </tr>\n",
       "    <tr>\n",
       "      <th>12</th>\n",
       "      <td>13</td>\n",
       "    </tr>\n",
       "    <tr>\n",
       "      <th>13</th>\n",
       "      <td>14</td>\n",
       "    </tr>\n",
       "    <tr>\n",
       "      <th>14</th>\n",
       "      <td>15</td>\n",
       "    </tr>\n",
       "  </tbody>\n",
       "</table>\n",
       "</div>"
      ],
      "text/plain": [
       "    ID\n",
       "0    1\n",
       "1    2\n",
       "2    3\n",
       "3    4\n",
       "4    5\n",
       "5    6\n",
       "6    7\n",
       "7    8\n",
       "8    9\n",
       "9   10\n",
       "10  11\n",
       "11  12\n",
       "12  13\n",
       "13  14\n",
       "14  15"
      ]
     },
     "execution_count": 9,
     "metadata": {},
     "output_type": "execute_result"
    }
   ],
   "source": [
    "# Let's assume we are interested in sampling from a population of 15 students with the following ID list:\n",
    "df = pd.DataFrame({'ID':np.arange(1, 16).tolist()})\n",
    "df"
   ]
  },
  {
   "cell_type": "code",
   "execution_count": 10,
   "id": "6e25bd12",
   "metadata": {},
   "outputs": [
    {
     "name": "stdout",
     "output_type": "stream",
     "text": [
      "2\n"
     ]
    },
    {
     "data": {
      "text/html": [
       "<div>\n",
       "<style scoped>\n",
       "    .dataframe tbody tr th:only-of-type {\n",
       "        vertical-align: middle;\n",
       "    }\n",
       "\n",
       "    .dataframe tbody tr th {\n",
       "        vertical-align: top;\n",
       "    }\n",
       "\n",
       "    .dataframe thead th {\n",
       "        text-align: right;\n",
       "    }\n",
       "</style>\n",
       "<table border=\"1\" class=\"dataframe\">\n",
       "  <thead>\n",
       "    <tr style=\"text-align: right;\">\n",
       "      <th></th>\n",
       "      <th>ID</th>\n",
       "    </tr>\n",
       "  </thead>\n",
       "  <tbody>\n",
       "    <tr>\n",
       "      <th>2</th>\n",
       "      <td>3</td>\n",
       "    </tr>\n",
       "    <tr>\n",
       "      <th>5</th>\n",
       "      <td>6</td>\n",
       "    </tr>\n",
       "    <tr>\n",
       "      <th>8</th>\n",
       "      <td>9</td>\n",
       "    </tr>\n",
       "    <tr>\n",
       "      <th>11</th>\n",
       "      <td>12</td>\n",
       "    </tr>\n",
       "    <tr>\n",
       "      <th>14</th>\n",
       "      <td>15</td>\n",
       "    </tr>\n",
       "  </tbody>\n",
       "</table>\n",
       "</div>"
      ],
      "text/plain": [
       "    ID\n",
       "2    3\n",
       "5    6\n",
       "8    9\n",
       "11  12\n",
       "14  15"
      ]
     },
     "execution_count": 10,
     "metadata": {},
     "output_type": "execute_result"
    }
   ],
   "source": [
    "# Defining the function for systematic sampling\n",
    "def systematic_sampling(df, starting_index, step):\n",
    "    indices = np.arange(starting_index, len(df), step = step)\n",
    "    systematic_sample = df.iloc[indices]\n",
    "    return systematic_sample\n",
    "\n",
    "# Obtaining a systematic sample of size 5 \n",
    "# Because 15/3=5, choose one of the first 3 IDs on the list at random and then every 3rd ID after that. \n",
    "random.seed(68)\n",
    "random_start = random.randint(0,2) \n",
    "print(random_start)\n",
    "# another way\n",
    "# random.seed(68)\n",
    "# random_start = random.sample(range(3),1)\n",
    "# print(random_start)\n",
    "systematic_sample = systematic_sampling(df, random_start, 3) \n",
    "systematic_sample # recall that Python starts at position 0, so position 2 corresponds to ID = 3"
   ]
  },
  {
   "cell_type": "markdown",
   "id": "61c34a52",
   "metadata": {},
   "source": [
    "## Stratified Random Sampling"
   ]
  },
  {
   "cell_type": "markdown",
   "id": "5ed32ae7",
   "metadata": {},
   "source": [
    "Another type of sampling is stratified random sampling, in which a population is split into groups and a certain number of members from each group are randomly selected to be included in the sample."
   ]
  },
  {
   "cell_type": "markdown",
   "id": "dae5ac9b",
   "metadata": {},
   "source": [
    "### Stratified Random Sampling Using Counts"
   ]
  },
  {
   "cell_type": "code",
   "execution_count": 11,
   "id": "1db48401",
   "metadata": {},
   "outputs": [
    {
     "data": {
      "text/html": [
       "<div>\n",
       "<style scoped>\n",
       "    .dataframe tbody tr th:only-of-type {\n",
       "        vertical-align: middle;\n",
       "    }\n",
       "\n",
       "    .dataframe tbody tr th {\n",
       "        vertical-align: top;\n",
       "    }\n",
       "\n",
       "    .dataframe thead th {\n",
       "        text-align: right;\n",
       "    }\n",
       "</style>\n",
       "<table border=\"1\" class=\"dataframe\">\n",
       "  <thead>\n",
       "    <tr style=\"text-align: right;\">\n",
       "      <th></th>\n",
       "      <th>ID</th>\n",
       "      <th>program</th>\n",
       "    </tr>\n",
       "  </thead>\n",
       "  <tbody>\n",
       "    <tr>\n",
       "      <th>0</th>\n",
       "      <td>1</td>\n",
       "      <td>Stats</td>\n",
       "    </tr>\n",
       "    <tr>\n",
       "      <th>1</th>\n",
       "      <td>2</td>\n",
       "      <td>Stats</td>\n",
       "    </tr>\n",
       "    <tr>\n",
       "      <th>2</th>\n",
       "      <td>3</td>\n",
       "      <td>Stats</td>\n",
       "    </tr>\n",
       "    <tr>\n",
       "      <th>3</th>\n",
       "      <td>4</td>\n",
       "      <td>Stats</td>\n",
       "    </tr>\n",
       "    <tr>\n",
       "      <th>4</th>\n",
       "      <td>5</td>\n",
       "      <td>Math</td>\n",
       "    </tr>\n",
       "    <tr>\n",
       "      <th>5</th>\n",
       "      <td>6</td>\n",
       "      <td>Math</td>\n",
       "    </tr>\n",
       "    <tr>\n",
       "      <th>6</th>\n",
       "      <td>7</td>\n",
       "      <td>Math</td>\n",
       "    </tr>\n",
       "    <tr>\n",
       "      <th>7</th>\n",
       "      <td>8</td>\n",
       "      <td>Math</td>\n",
       "    </tr>\n",
       "  </tbody>\n",
       "</table>\n",
       "</div>"
      ],
      "text/plain": [
       "   ID program\n",
       "0   1   Stats\n",
       "1   2   Stats\n",
       "2   3   Stats\n",
       "3   4   Stats\n",
       "4   5    Math\n",
       "5   6    Math\n",
       "6   7    Math\n",
       "7   8    Math"
      ]
     },
     "execution_count": 11,
     "metadata": {},
     "output_type": "execute_result"
    }
   ],
   "source": [
    "# Suppose we have the following dataframe containing the ID of 8 students from 2 different undergrad programs.\n",
    "# This is our population list. \n",
    "df = pd.DataFrame({'ID':np.arange(1, 9).tolist(),\n",
    "                   'program':['Stats']*4 + ['Math']*4}) # 4 students in Stats, 4 students in Math\n",
    "df"
   ]
  },
  {
   "cell_type": "code",
   "execution_count": 12,
   "id": "dec38e10",
   "metadata": {},
   "outputs": [
    {
     "name": "stdout",
     "output_type": "stream",
     "text": [
      "   ID program\n",
      "3   4   Stats\n",
      "2   3   Stats\n"
     ]
    }
   ],
   "source": [
    "# random sample of Stats students\n",
    "df_Stats = df[df['program'] == 'Stats']\n",
    "df_Stats\n",
    "random_rows = random.sample(range(4), 2) #randomly selecting 2 students from the 4 Stats students in the population\n",
    "print(df_Stats.iloc[random_rows])\n"
   ]
  },
  {
   "cell_type": "code",
   "execution_count": 13,
   "id": "bda8ad3e",
   "metadata": {},
   "outputs": [
    {
     "name": "stdout",
     "output_type": "stream",
     "text": [
      "   ID program\n",
      "4   5    Math\n",
      "6   7    Math\n"
     ]
    }
   ],
   "source": [
    "# random sample of Math students\n",
    "df_Math = df[df['program'] == 'Math']\n",
    "df_Math\n",
    "random_rows = random.sample(range(4), 2) #randomly selecting 2 students from the 4 Math students in the population\n",
    "print(df_Math.iloc[random_rows])"
   ]
  },
  {
   "cell_type": "code",
   "execution_count": 14,
   "id": "d22f5756",
   "metadata": {},
   "outputs": [],
   "source": [
    "# Alternative way using one line of code and additional Python functions"
   ]
  },
  {
   "cell_type": "markdown",
   "id": "045afa10",
   "metadata": {},
   "source": [
    "**DataFrame.groupby:** https://pandas.pydata.org/docs/reference/api/pandas.DataFrame.groupby.html"
   ]
  },
  {
   "cell_type": "markdown",
   "id": "f9e93ffd",
   "metadata": {},
   "source": [
    "**DataFrame.apply:** https://pandas.pydata.org/docs/reference/api/pandas.DataFrame.apply.html"
   ]
  },
  {
   "cell_type": "markdown",
   "id": "adfdb2bc",
   "metadata": {},
   "source": [
    "**DataFrame.sample:** https://pandas.pydata.org/docs/reference/api/pandas.DataFrame.sample.html"
   ]
  },
  {
   "cell_type": "code",
   "execution_count": 15,
   "id": "9cea8f17",
   "metadata": {},
   "outputs": [
    {
     "data": {
      "text/html": [
       "<div>\n",
       "<style scoped>\n",
       "    .dataframe tbody tr th:only-of-type {\n",
       "        vertical-align: middle;\n",
       "    }\n",
       "\n",
       "    .dataframe tbody tr th {\n",
       "        vertical-align: top;\n",
       "    }\n",
       "\n",
       "    .dataframe thead th {\n",
       "        text-align: right;\n",
       "    }\n",
       "</style>\n",
       "<table border=\"1\" class=\"dataframe\">\n",
       "  <thead>\n",
       "    <tr style=\"text-align: right;\">\n",
       "      <th></th>\n",
       "      <th>ID</th>\n",
       "      <th>program</th>\n",
       "    </tr>\n",
       "  </thead>\n",
       "  <tbody>\n",
       "    <tr>\n",
       "      <th>6</th>\n",
       "      <td>7</td>\n",
       "      <td>Math</td>\n",
       "    </tr>\n",
       "    <tr>\n",
       "      <th>4</th>\n",
       "      <td>5</td>\n",
       "      <td>Math</td>\n",
       "    </tr>\n",
       "    <tr>\n",
       "      <th>1</th>\n",
       "      <td>2</td>\n",
       "      <td>Stats</td>\n",
       "    </tr>\n",
       "    <tr>\n",
       "      <th>2</th>\n",
       "      <td>3</td>\n",
       "      <td>Stats</td>\n",
       "    </tr>\n",
       "  </tbody>\n",
       "</table>\n",
       "</div>"
      ],
      "text/plain": [
       "   ID program\n",
       "6   7    Math\n",
       "4   5    Math\n",
       "1   2   Stats\n",
       "2   3   Stats"
      ]
     },
     "execution_count": 15,
     "metadata": {},
     "output_type": "execute_result"
    }
   ],
   "source": [
    "# Stratified random sampling by randomly selecting 2 students from each program to be included in the sample\n",
    "df.groupby('program', group_keys = False).apply(lambda x:x.sample(2))"
   ]
  },
  {
   "cell_type": "markdown",
   "id": "9fe39c2a",
   "metadata": {},
   "source": [
    "### Stratified Random Sampling Using Proportions"
   ]
  },
  {
   "cell_type": "code",
   "execution_count": 16,
   "id": "944c19ea",
   "metadata": {},
   "outputs": [
    {
     "data": {
      "text/html": [
       "<div>\n",
       "<style scoped>\n",
       "    .dataframe tbody tr th:only-of-type {\n",
       "        vertical-align: middle;\n",
       "    }\n",
       "\n",
       "    .dataframe tbody tr th {\n",
       "        vertical-align: top;\n",
       "    }\n",
       "\n",
       "    .dataframe thead th {\n",
       "        text-align: right;\n",
       "    }\n",
       "</style>\n",
       "<table border=\"1\" class=\"dataframe\">\n",
       "  <thead>\n",
       "    <tr style=\"text-align: right;\">\n",
       "      <th></th>\n",
       "      <th>ID</th>\n",
       "      <th>program</th>\n",
       "    </tr>\n",
       "  </thead>\n",
       "  <tbody>\n",
       "    <tr>\n",
       "      <th>0</th>\n",
       "      <td>1</td>\n",
       "      <td>Stats</td>\n",
       "    </tr>\n",
       "    <tr>\n",
       "      <th>1</th>\n",
       "      <td>2</td>\n",
       "      <td>Stats</td>\n",
       "    </tr>\n",
       "    <tr>\n",
       "      <th>2</th>\n",
       "      <td>3</td>\n",
       "      <td>Math</td>\n",
       "    </tr>\n",
       "    <tr>\n",
       "      <th>3</th>\n",
       "      <td>4</td>\n",
       "      <td>Math</td>\n",
       "    </tr>\n",
       "    <tr>\n",
       "      <th>4</th>\n",
       "      <td>5</td>\n",
       "      <td>Math</td>\n",
       "    </tr>\n",
       "    <tr>\n",
       "      <th>5</th>\n",
       "      <td>6</td>\n",
       "      <td>Math</td>\n",
       "    </tr>\n",
       "    <tr>\n",
       "      <th>6</th>\n",
       "      <td>7</td>\n",
       "      <td>Math</td>\n",
       "    </tr>\n",
       "    <tr>\n",
       "      <th>7</th>\n",
       "      <td>8</td>\n",
       "      <td>Math</td>\n",
       "    </tr>\n",
       "  </tbody>\n",
       "</table>\n",
       "</div>"
      ],
      "text/plain": [
       "   ID program\n",
       "0   1   Stats\n",
       "1   2   Stats\n",
       "2   3    Math\n",
       "3   4    Math\n",
       "4   5    Math\n",
       "5   6    Math\n",
       "6   7    Math\n",
       "7   8    Math"
      ]
     },
     "execution_count": 16,
     "metadata": {},
     "output_type": "execute_result"
    }
   ],
   "source": [
    "# Now suppose we have the following population dataframe with 25% Stats and 75% Math students.\n",
    "df = pd.DataFrame({'ID':np.arange(1, 9).tolist(),\n",
    "                   'program':['Stats']*2 + ['Math']*6}) # 2 students in Stats, 6 students in Math\n",
    "df"
   ]
  },
  {
   "cell_type": "markdown",
   "id": "72c8ae5b",
   "metadata": {},
   "source": [
    "**np.rint:** https://numpy.org/doc/stable/reference/generated/numpy.rint.html"
   ]
  },
  {
   "cell_type": "code",
   "execution_count": 17,
   "id": "d9fd7b74",
   "metadata": {},
   "outputs": [],
   "source": [
    "# Stratified random sampling such that the proportion of students in each program sample\n",
    "# matches the proportion of students from each program in the population dataframe\n",
    "N = 4 # sample size\n",
    "# So, the sample must contain 1 random student from Stats and 3 from Math to maintain the population proportions "
   ]
  },
  {
   "cell_type": "code",
   "execution_count": 18,
   "id": "98ddb58e",
   "metadata": {},
   "outputs": [
    {
     "name": "stdout",
     "output_type": "stream",
     "text": [
      "   ID program\n",
      "0   1   Stats\n"
     ]
    }
   ],
   "source": [
    "# random sample of Stats students\n",
    "df_Stats = df[df['program'] == 'Stats']\n",
    "df_Stats\n",
    "random_rows = random.sample(range(2), 1) #sampling 1 student from the 2 Stats students in the population\n",
    "print(df_Stats.iloc[random_rows])\n"
   ]
  },
  {
   "cell_type": "code",
   "execution_count": 19,
   "id": "ef3e3030",
   "metadata": {},
   "outputs": [
    {
     "name": "stdout",
     "output_type": "stream",
     "text": [
      "   ID program\n",
      "5   6    Math\n",
      "7   8    Math\n",
      "4   5    Math\n"
     ]
    }
   ],
   "source": [
    "# random sample of Math students\n",
    "df_Math = df[df['program'] == 'Math']\n",
    "df_Math\n",
    "random_rows = random.sample(range(6), 3) #sampling 3 students from the 6 Math students in the population\n",
    "print(df_Math.iloc[random_rows])"
   ]
  },
  {
   "cell_type": "markdown",
   "id": "846e98be",
   "metadata": {},
   "source": [
    "Alternative way: \n",
    "\n",
    "**np.rint:** https://numpy.org/doc/stable/reference/generated/numpy.rint.html"
   ]
  },
  {
   "cell_type": "code",
   "execution_count": 20,
   "id": "b408c222",
   "metadata": {},
   "outputs": [
    {
     "data": {
      "text/html": [
       "<div>\n",
       "<style scoped>\n",
       "    .dataframe tbody tr th:only-of-type {\n",
       "        vertical-align: middle;\n",
       "    }\n",
       "\n",
       "    .dataframe tbody tr th {\n",
       "        vertical-align: top;\n",
       "    }\n",
       "\n",
       "    .dataframe thead th {\n",
       "        text-align: right;\n",
       "    }\n",
       "</style>\n",
       "<table border=\"1\" class=\"dataframe\">\n",
       "  <thead>\n",
       "    <tr style=\"text-align: right;\">\n",
       "      <th></th>\n",
       "      <th>ID</th>\n",
       "      <th>program</th>\n",
       "    </tr>\n",
       "  </thead>\n",
       "  <tbody>\n",
       "    <tr>\n",
       "      <th>3</th>\n",
       "      <td>4</td>\n",
       "      <td>Math</td>\n",
       "    </tr>\n",
       "    <tr>\n",
       "      <th>6</th>\n",
       "      <td>7</td>\n",
       "      <td>Math</td>\n",
       "    </tr>\n",
       "    <tr>\n",
       "      <th>7</th>\n",
       "      <td>8</td>\n",
       "      <td>Math</td>\n",
       "    </tr>\n",
       "    <tr>\n",
       "      <th>0</th>\n",
       "      <td>1</td>\n",
       "      <td>Stats</td>\n",
       "    </tr>\n",
       "  </tbody>\n",
       "</table>\n",
       "</div>"
      ],
      "text/plain": [
       "   ID program\n",
       "3   4    Math\n",
       "6   7    Math\n",
       "7   8    Math\n",
       "0   1   Stats"
      ]
     },
     "execution_count": 20,
     "metadata": {},
     "output_type": "execute_result"
    }
   ],
   "source": [
    "df.groupby('program', group_keys = False).apply(lambda x:x.sample(int(np.rint(N * len(x) / len(df)))))"
   ]
  },
  {
   "cell_type": "code",
   "execution_count": null,
   "id": "20cc72bc",
   "metadata": {},
   "outputs": [],
   "source": []
  }
 ],
 "metadata": {
  "kernelspec": {
   "display_name": "Python 3",
   "language": "python",
   "name": "python3"
  },
  "language_info": {
   "codemirror_mode": {
    "name": "ipython",
    "version": 3
   },
   "file_extension": ".py",
   "mimetype": "text/x-python",
   "name": "python",
   "nbconvert_exporter": "python",
   "pygments_lexer": "ipython3",
   "version": "3.8.8"
  }
 },
 "nbformat": 4,
 "nbformat_minor": 5
}
