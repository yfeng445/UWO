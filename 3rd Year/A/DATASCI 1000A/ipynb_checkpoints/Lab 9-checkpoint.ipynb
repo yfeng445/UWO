{
 "cells": [
  {
   "cell_type": "markdown",
   "id": "manual-visibility",
   "metadata": {},
   "source": [
    "# Lab 9"
   ]
  },
  {
   "cell_type": "markdown",
   "id": "bibliographic-accountability",
   "metadata": {},
   "source": [
    "In this lab we discuss some basic probability rules and Venn diagram."
   ]
  },
  {
   "cell_type": "markdown",
   "id": "sharing-victorian",
   "metadata": {},
   "source": [
    "## Basic Probability Rules"
   ]
  },
  {
   "cell_type": "code",
   "execution_count": 1,
   "id": "explicit-black",
   "metadata": {},
   "outputs": [],
   "source": [
    "# Uncomment the line below to install the package in the terminal if you are running the code for the first time.\n",
    "# pip install matplotlib-venn"
   ]
  },
  {
   "cell_type": "code",
   "execution_count": 2,
   "id": "dangerous-earthquake",
   "metadata": {},
   "outputs": [],
   "source": [
    "import pandas as pd\n",
    "from matplotlib import pyplot as plt\n",
    "from matplotlib_venn import venn2, venn2_circles, venn3, venn3_circles"
   ]
  },
  {
   "cell_type": "markdown",
   "id": "cooperative-integrity",
   "metadata": {},
   "source": [
    "### Addition Rule"
   ]
  },
  {
   "cell_type": "markdown",
   "id": "positive-equation",
   "metadata": {},
   "source": [
    "The addition rule states the probability of two events is the sum of the probability that either will happen minus the probability that both will happen.\n",
    "\n",
    "<center>$P(B \\cup C) = P(B) + P(C) - P(B \\cap C)$"
   ]
  },
  {
   "cell_type": "code",
   "execution_count": 1,
   "id": "suburban-istanbul",
   "metadata": {},
   "outputs": [
    {
     "data": {
      "text/plain": [
       "{1, 2, 3, 4, 5, 6, 7, 8, 9, 10, 11, 12, 13, 14, 15, 16, 17, 18, 19, 20}"
      ]
     },
     "execution_count": 1,
     "metadata": {},
     "output_type": "execute_result"
    }
   ],
   "source": [
    "# Let's assume we have the universal set A as follows:\n",
    "A = set([1, 2, 3, 4, 5, 6, 7, 8, 9, 10, 11, 12, 13, 14, 15, 16, 17, 18, 19, 20])\n",
    "A"
   ]
  },
  {
   "cell_type": "code",
   "execution_count": 4,
   "id": "moral-departure",
   "metadata": {},
   "outputs": [
    {
     "name": "stdout",
     "output_type": "stream",
     "text": [
      "P(B) = 0.4\n"
     ]
    }
   ],
   "source": [
    "# Let's consider set B below. We know B is a subset of A.\n",
    "B = set([1, 2, 3, 4, 5, 6, 7, 8])\n",
    "print('P(B) =', round(len(B) / len(A), 2))"
   ]
  },
  {
   "cell_type": "code",
   "execution_count": 2,
   "id": "mediterranean-halifax",
   "metadata": {},
   "outputs": [
    {
     "name": "stdout",
     "output_type": "stream",
     "text": [
      "P(C) = 0.5\n"
     ]
    }
   ],
   "source": [
    "# Let's consider set C below. We know C is a subset of A.\n",
    "C = set([4, 5, 6, 7, 8, 9, 10, 11, 12, 13])\n",
    "print('P(C) =', round(len(C) / len(A), 2))"
   ]
  },
  {
   "cell_type": "code",
   "execution_count": 3,
   "id": "effective-inventory",
   "metadata": {},
   "outputs": [
    {
     "ename": "NameError",
     "evalue": "name 'B' is not defined",
     "output_type": "error",
     "traceback": [
      "\u001b[1;31m---------------------------------------------------------------------------\u001b[0m",
      "\u001b[1;31mNameError\u001b[0m                                 Traceback (most recent call last)",
      "\u001b[1;32m<ipython-input-3-af1e77351e93>\u001b[0m in \u001b[0;36m<module>\u001b[1;34m\u001b[0m\n\u001b[0;32m      1\u001b[0m \u001b[1;31m# Finding the intersection of B and C\u001b[0m\u001b[1;33m\u001b[0m\u001b[1;33m\u001b[0m\u001b[1;33m\u001b[0m\u001b[0m\n\u001b[1;32m----> 2\u001b[1;33m \u001b[0mB_and_C\u001b[0m \u001b[1;33m=\u001b[0m \u001b[0mB\u001b[0m\u001b[1;33m.\u001b[0m\u001b[0mintersection\u001b[0m\u001b[1;33m(\u001b[0m\u001b[0mC\u001b[0m\u001b[1;33m)\u001b[0m\u001b[1;33m\u001b[0m\u001b[1;33m\u001b[0m\u001b[0m\n\u001b[0m\u001b[0;32m      3\u001b[0m \u001b[0mB_and_C\u001b[0m\u001b[1;33m\u001b[0m\u001b[1;33m\u001b[0m\u001b[0m\n",
      "\u001b[1;31mNameError\u001b[0m: name 'B' is not defined"
     ]
    }
   ],
   "source": [
    "# Finding the intersection of B and C\n",
    "B_and_C = B.intersection(C)\n",
    "B_and_C"
   ]
  },
  {
   "cell_type": "code",
   "execution_count": 7,
   "id": "democratic-essay",
   "metadata": {},
   "outputs": [
    {
     "name": "stdout",
     "output_type": "stream",
     "text": [
      "P(B & C) = 0.25\n"
     ]
    }
   ],
   "source": [
    "print('P(B & C) =', round(len(B_and_C) / len(A), 2))"
   ]
  },
  {
   "cell_type": "code",
   "execution_count": 8,
   "id": "corrected-dictionary",
   "metadata": {},
   "outputs": [
    {
     "data": {
      "text/plain": [
       "{1, 2, 3, 4, 5, 6, 7, 8, 9, 10, 11, 12, 13}"
      ]
     },
     "execution_count": 8,
     "metadata": {},
     "output_type": "execute_result"
    }
   ],
   "source": [
    "# Finding the union of B and C\n",
    "B_U_C = B.union(C)\n",
    "B_U_C"
   ]
  },
  {
   "cell_type": "code",
   "execution_count": 9,
   "id": "funky-small",
   "metadata": {},
   "outputs": [
    {
     "name": "stdout",
     "output_type": "stream",
     "text": [
      "P(B U C) = 0.65\n"
     ]
    }
   ],
   "source": [
    "print('P(B U C) =', round(len(B_U_C) / len(A), 2))"
   ]
  },
  {
   "cell_type": "code",
   "execution_count": 10,
   "id": "designing-pacific",
   "metadata": {},
   "outputs": [
    {
     "name": "stdout",
     "output_type": "stream",
     "text": [
      "P(B U C) = P(B) + P(C) - P(B & C) = 0.65\n"
     ]
    }
   ],
   "source": [
    "# We see that the addition rule holds!\n",
    "print('P(B U C) = P(B) + P(C) - P(B & C) =', 0.4 + 0.5 - 0.25)"
   ]
  },
  {
   "cell_type": "markdown",
   "id": "8783937e",
   "metadata": {},
   "source": [
    "### Conditional probability"
   ]
  },
  {
   "cell_type": "markdown",
   "id": "sudden-centre",
   "metadata": {},
   "source": [
    "The conditional probability that B occurs given that C occurs is equal to the probability that B and C both occur divided by the probability that C occurs.\n",
    "\n",
    "\n",
    "<center>$P(B|C) = \\dfrac{P(B \\cap C)}{P(C)}$"
   ]
  },
  {
   "cell_type": "code",
   "execution_count": 11,
   "id": "specific-leather",
   "metadata": {},
   "outputs": [
    {
     "name": "stdout",
     "output_type": "stream",
     "text": [
      "P(B|C) = 0.5\n"
     ]
    }
   ],
   "source": [
    "# Finding the conditional probability P(B|C)\n",
    "print('P(B|C) =', round(0.25 / 0.5, 2))"
   ]
  },
  {
   "cell_type": "markdown",
   "id": "hourly-indie",
   "metadata": {},
   "source": [
    "## Venn Diagram"
   ]
  },
  {
   "cell_type": "markdown",
   "id": "allied-incentive",
   "metadata": {},
   "source": [
    "**matplotlib_venn:** https://pypi.org/project/matplotlib-venn/"
   ]
  },
  {
   "cell_type": "markdown",
   "id": "continuous-collins",
   "metadata": {},
   "source": [
    "### Venn Diagram with Two Events"
   ]
  },
  {
   "cell_type": "code",
   "execution_count": 12,
   "id": "anonymous-princess",
   "metadata": {},
   "outputs": [
    {
     "data": {
      "image/png": "[encoded data removed]",
      "text/plain": [
       "<Figure size 432x288 with 1 Axes>"
      ]
     },
     "metadata": {},
     "output_type": "display_data"
    }
   ],
   "source": [
    "# Depicting the Venn diagram for B and C\n",
    "# Note that the input argument is a 3-element list containing subset sizes.\n",
    "# The first element is the size of the set on the left.\n",
    "# The second element is the size of the set on the right.\n",
    "# The third element is the size of the overlap between the two sets.\n",
    "venn2(subsets = (3, 5, 5), set_labels = ('B', 'C'), set_colors = (\"orange\", \"blue\"), alpha = 0.7)\n",
    "venn2_circles(subsets = (3, 5, 5), linestyle = \"-\", linewidth = 1)\n",
    "plt.title(\"Venn diagram with two events\")\n",
    "plt.show()"
   ]
  },
  {
   "cell_type": "markdown",
   "id": "worthy-grammar",
   "metadata": {},
   "source": [
    "### Venn Diagram with Three Events"
   ]
  },
  {
   "cell_type": "code",
   "execution_count": 13,
   "id": "unknown-error",
   "metadata": {},
   "outputs": [
    {
     "data": {
      "text/plain": [
       "{1, 4, 5, 9, 10, 11, 14, 15, 16, 17, 18, 19}"
      ]
     },
     "execution_count": 13,
     "metadata": {},
     "output_type": "execute_result"
    }
   ],
   "source": [
    "# Let's consider set D below. We know D is a subset of A.\n",
    "D = set([1, 4, 5, 9, 10, 11, 14, 15, 16, 17, 18, 19])\n",
    "D"
   ]
  },
  {
   "cell_type": "code",
   "execution_count": 14,
   "id": "opened-handbook",
   "metadata": {},
   "outputs": [
    {
     "data": {
      "image/png": "[encoded data removed]",
      "text/plain": [
       "<Figure size 432x288 with 1 Axes>"
      ]
     },
     "metadata": {},
     "output_type": "display_data"
    }
   ],
   "source": [
    "# Depicting the Venn diagram for B, C, and D\n",
    "# Note that the input argument is a 7-element list containing subset sizes.\n",
    "# The first element is the size of the set on the left.\n",
    "# The second element is the size of the set on the right.\n",
    "# The third element is the size of the overlap between the left and right sets.\n",
    "# The fourth element is the size of the set on the bottom.\n",
    "# The fifth element is the size of the overlap between the left and bottom sets.\n",
    "# The sixth element is the size of the overlap between the right and bottom sets.\n",
    "# The seventh element is the size of the overlap between all three sets.\n",
    "venn3(subsets = (2, 2, 3, 6, 1, 3, 2), set_labels = ('B', 'C', 'D'), set_colors = (\"orange\", \"blue\", \"red\"), alpha = 0.7)\n",
    "venn3_circles(subsets = (2, 2, 3, 6, 1, 3, 2), linestyle = \"dashed\", linewidth = 2)\n",
    "plt.title(\"Venn diagram with three events\")\n",
    "plt.show()"
   ]
  },
  {
   "cell_type": "markdown",
   "id": "noted-morning",
   "metadata": {},
   "source": [
    "### Another Example"
   ]
  },
  {
   "cell_type": "code",
   "execution_count": 15,
   "id": "demonstrated-connecticut",
   "metadata": {},
   "outputs": [
    {
     "data": {
      "text/html": [
       "<div>\n",
       "<style scoped>\n",
       "    .dataframe tbody tr th:only-of-type {\n",
       "        vertical-align: middle;\n",
       "    }\n",
       "\n",
       "    .dataframe tbody tr th {\n",
       "        vertical-align: top;\n",
       "    }\n",
       "\n",
       "    .dataframe thead th {\n",
       "        text-align: right;\n",
       "    }\n",
       "</style>\n",
       "<table border=\"1\" class=\"dataframe\">\n",
       "  <thead>\n",
       "    <tr style=\"text-align: right;\">\n",
       "      <th></th>\n",
       "      <th>Engineering</th>\n",
       "      <th>Medical</th>\n",
       "      <th>Arts</th>\n",
       "    </tr>\n",
       "  </thead>\n",
       "  <tbody>\n",
       "    <tr>\n",
       "      <th>0</th>\n",
       "      <td>Math</td>\n",
       "      <td>Math</td>\n",
       "      <td>Literature</td>\n",
       "    </tr>\n",
       "    <tr>\n",
       "      <th>1</th>\n",
       "      <td>Physics</td>\n",
       "      <td>Chemistry</td>\n",
       "      <td>History</td>\n",
       "    </tr>\n",
       "    <tr>\n",
       "      <th>2</th>\n",
       "      <td>Chemistry</td>\n",
       "      <td>Biology</td>\n",
       "      <td>Music</td>\n",
       "    </tr>\n",
       "    <tr>\n",
       "      <th>3</th>\n",
       "      <td>Literature</td>\n",
       "      <td>History</td>\n",
       "      <td>Painting</td>\n",
       "    </tr>\n",
       "  </tbody>\n",
       "</table>\n",
       "</div>"
      ],
      "text/plain": [
       "  Engineering    Medical        Arts\n",
       "0        Math       Math  Literature\n",
       "1     Physics  Chemistry     History\n",
       "2   Chemistry    Biology       Music\n",
       "3  Literature    History    Painting"
      ]
     },
     "execution_count": 15,
     "metadata": {},
     "output_type": "execute_result"
    }
   ],
   "source": [
    "# Suppose we have the following dataframe that displays the required courses for 3 different programs.\n",
    "df = pd.DataFrame({'Engineering':['Math', 'Physics', 'Chemistry', 'Literature'],\n",
    "                   'Medical':['Math', 'Chemistry', 'Biology', 'History'],\n",
    "                   'Arts':['Literature', 'History', 'Music', 'Painting']})\n",
    "df"
   ]
  },
  {
   "cell_type": "code",
   "execution_count": 16,
   "id": "checked-exclusive",
   "metadata": {},
   "outputs": [
    {
     "data": {
      "image/png": "[encoded data removed]",
      "text/plain": [
       "<Figure size 432x288 with 1 Axes>"
      ]
     },
     "metadata": {},
     "output_type": "display_data"
    }
   ],
   "source": [
    "# Depicting the Venn diagram for Engineering, Medical, and Arts\n",
    "venn3([set(df['Engineering'].to_list()), set(df['Medical'].to_list()), set(df['Arts'].to_list())],\n",
    "      set_labels = ('Engineering', 'Medical', 'Arts'), set_colors = (\"yellow\", \"red\", \"green\"), alpha = 0.7)\n",
    "plt.show()"
   ]
  }
 ],
 "metadata": {
  "kernelspec": {
   "display_name": "Python 3",
   "language": "python",
   "name": "python3"
  },
  "language_info": {
   "codemirror_mode": {
    "name": "ipython",
    "version": 3
   },
   "file_extension": ".py",
   "mimetype": "text/x-python",
   "name": "python",
   "nbconvert_exporter": "python",
   "pygments_lexer": "ipython3",
   "version": "3.8.8"
  }
 },
 "nbformat": 4,
 "nbformat_minor": 5
}
