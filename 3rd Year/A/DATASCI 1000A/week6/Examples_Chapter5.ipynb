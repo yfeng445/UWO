{
 "cells": [
  {
   "cell_type": "markdown",
   "id": "6c2bbcc5",
   "metadata": {},
   "source": [
    "# Example 5.1 of the textbook"
   ]
  },
  {
   "cell_type": "code",
   "execution_count": 1,
   "id": "underlying-briefing",
   "metadata": {},
   "outputs": [],
   "source": [
    "import numpy as np\n",
    "import pandas as pd\n",
    "import seaborn as sns\n",
    "import matplotlib.pyplot as plt\n",
    "from scipy import stats"
   ]
  },
  {
   "cell_type": "code",
   "execution_count": 2,
   "id": "classified-verification",
   "metadata": {},
   "outputs": [
    {
     "data": {
      "text/html": [
       "<div>\n",
       "<style scoped>\n",
       "    .dataframe tbody tr th:only-of-type {\n",
       "        vertical-align: middle;\n",
       "    }\n",
       "\n",
       "    .dataframe tbody tr th {\n",
       "        vertical-align: top;\n",
       "    }\n",
       "\n",
       "    .dataframe thead th {\n",
       "        text-align: right;\n",
       "    }\n",
       "</style>\n",
       "<table border=\"1\" class=\"dataframe\">\n",
       "  <thead>\n",
       "    <tr style=\"text-align: right;\">\n",
       "      <th></th>\n",
       "      <th>NEA</th>\n",
       "      <th>Fat</th>\n",
       "    </tr>\n",
       "  </thead>\n",
       "  <tbody>\n",
       "    <tr>\n",
       "      <th>0</th>\n",
       "      <td>-94</td>\n",
       "      <td>4.2</td>\n",
       "    </tr>\n",
       "    <tr>\n",
       "      <th>1</th>\n",
       "      <td>-57</td>\n",
       "      <td>3.0</td>\n",
       "    </tr>\n",
       "    <tr>\n",
       "      <th>2</th>\n",
       "      <td>-29</td>\n",
       "      <td>3.7</td>\n",
       "    </tr>\n",
       "    <tr>\n",
       "      <th>3</th>\n",
       "      <td>135</td>\n",
       "      <td>2.7</td>\n",
       "    </tr>\n",
       "    <tr>\n",
       "      <th>4</th>\n",
       "      <td>143</td>\n",
       "      <td>3.2</td>\n",
       "    </tr>\n",
       "  </tbody>\n",
       "</table>\n",
       "</div>"
      ],
      "text/plain": [
       "   NEA  Fat\n",
       "0  -94  4.2\n",
       "1  -57  3.0\n",
       "2  -29  3.7\n",
       "3  135  2.7\n",
       "4  143  3.2"
      ]
     },
     "execution_count": 2,
     "metadata": {},
     "output_type": "execute_result"
    }
   ],
   "source": [
    "fatgain = pd.read_csv(\"eg05-01fatgain.csv\")\n",
    "fatgain.head()"
   ]
  },
  {
   "cell_type": "code",
   "execution_count": 3,
   "id": "sweet-destiny",
   "metadata": {},
   "outputs": [
    {
     "data": {
      "image/png": "[encoded data removed]",
      "text/plain": [
       "<Figure size 432x288 with 1 Axes>"
      ]
     },
     "metadata": {
      "needs_background": "light"
     },
     "output_type": "display_data"
    }
   ],
   "source": [
    "sns.scatterplot(x = \"NEA\", y = \"Fat\", data = fatgain)\n",
    "plt.xlabel(\"Nonexercise activity change (calories)\")\n",
    "plt.ylabel(\"Fat gain (kilograms)\")\n",
    "plt.show()"
   ]
  },
  {
   "cell_type": "code",
   "execution_count": 4,
   "id": "72e4e8f1",
   "metadata": {},
   "outputs": [
    {
     "data": {
      "image/png": "[encoded data removed]",
      "text/plain": [
       "<Figure size 360x360 with 1 Axes>"
      ]
     },
     "metadata": {
      "needs_background": "light"
     },
     "output_type": "display_data"
    }
   ],
   "source": [
    "# sns.lmplot adds to a scatterplot the regression line that best fits the data points\n",
    "sns.lmplot(x = \"NEA\", y = \"Fat\", data = fatgain, ci=None)\n",
    "plt.xlabel(\"Nonexercise activity change (calories)\")\n",
    "plt.ylabel(\"Fat gain (kilograms)\")\n",
    "plt.show()"
   ]
  },
  {
   "cell_type": "code",
   "execution_count": 5,
   "id": "0e93a686",
   "metadata": {},
   "outputs": [
    {
     "data": {
      "text/plain": [
       "3.5051229156310724"
      ]
     },
     "execution_count": 5,
     "metadata": {},
     "output_type": "execute_result"
    }
   ],
   "source": [
    "lm = stats.linregress(x=fatgain['NEA'],y=fatgain['Fat'])\n",
    "lm.intercept # intercept"
   ]
  },
  {
   "cell_type": "code",
   "execution_count": 6,
   "id": "cb775268",
   "metadata": {},
   "outputs": [
    {
     "data": {
      "text/plain": [
       "-0.0034414870381249342"
      ]
     },
     "execution_count": 6,
     "metadata": {},
     "output_type": "execute_result"
    }
   ],
   "source": [
    "lm.slope # slope"
   ]
  },
  {
   "cell_type": "code",
   "execution_count": 7,
   "id": "4dd508da",
   "metadata": {},
   "outputs": [
    {
     "data": {
      "text/plain": [
       "-0.7785558457058473"
      ]
     },
     "execution_count": 7,
     "metadata": {},
     "output_type": "execute_result"
    }
   ],
   "source": [
    "lm.rvalue # correlation "
   ]
  },
  {
   "cell_type": "code",
   "execution_count": 8,
   "id": "250f49e3",
   "metadata": {},
   "outputs": [
    {
     "data": {
      "text/plain": [
       "0.6061492048827472"
      ]
     },
     "execution_count": 8,
     "metadata": {},
     "output_type": "execute_result"
    }
   ],
   "source": [
    "lm.rvalue**2 # r^2"
   ]
  },
  {
   "cell_type": "code",
   "execution_count": 9,
   "id": "57f0a3b1",
   "metadata": {},
   "outputs": [
    {
     "data": {
      "text/plain": [
       "2.1285281003810987"
      ]
     },
     "execution_count": 9,
     "metadata": {},
     "output_type": "execute_result"
    }
   ],
   "source": [
    "# what would be the fat gain for someone with 400 calories in NEA change?\n",
    "yhat = lm.intercept + lm.slope*400\n",
    "yhat"
   ]
  },
  {
   "cell_type": "markdown",
   "id": "54af5c85",
   "metadata": {},
   "source": [
    "# Example 5.5 of the textbook"
   ]
  },
  {
   "cell_type": "code",
   "execution_count": 10,
   "id": "63126753",
   "metadata": {},
   "outputs": [
    {
     "data": {
      "text/html": [
       "<div>\n",
       "<style scoped>\n",
       "    .dataframe tbody tr th:only-of-type {\n",
       "        vertical-align: middle;\n",
       "    }\n",
       "\n",
       "    .dataframe tbody tr th {\n",
       "        vertical-align: top;\n",
       "    }\n",
       "\n",
       "    .dataframe thead th {\n",
       "        text-align: right;\n",
       "    }\n",
       "</style>\n",
       "<table border=\"1\" class=\"dataframe\">\n",
       "  <thead>\n",
       "    <tr style=\"text-align: right;\">\n",
       "      <th></th>\n",
       "      <th>Subject</th>\n",
       "      <th>CPM/d</th>\n",
       "      <th>EnergyExpenditure</th>\n",
       "    </tr>\n",
       "  </thead>\n",
       "  <tbody>\n",
       "    <tr>\n",
       "      <th>0</th>\n",
       "      <td>1</td>\n",
       "      <td>700</td>\n",
       "      <td>2800</td>\n",
       "    </tr>\n",
       "    <tr>\n",
       "      <th>1</th>\n",
       "      <td>2</td>\n",
       "      <td>640</td>\n",
       "      <td>4500</td>\n",
       "    </tr>\n",
       "    <tr>\n",
       "      <th>2</th>\n",
       "      <td>3</td>\n",
       "      <td>590</td>\n",
       "      <td>2600</td>\n",
       "    </tr>\n",
       "    <tr>\n",
       "      <th>3</th>\n",
       "      <td>4</td>\n",
       "      <td>550</td>\n",
       "      <td>2700</td>\n",
       "    </tr>\n",
       "    <tr>\n",
       "      <th>4</th>\n",
       "      <td>5</td>\n",
       "      <td>510</td>\n",
       "      <td>2400</td>\n",
       "    </tr>\n",
       "  </tbody>\n",
       "</table>\n",
       "</div>"
      ],
      "text/plain": [
       "   Subject  CPM/d  EnergyExpenditure\n",
       "0        1    700               2800\n",
       "1        2    640               4500\n",
       "2        3    590               2600\n",
       "3        4    550               2700\n",
       "4        5    510               2400"
      ]
     },
     "execution_count": 10,
     "metadata": {},
     "output_type": "execute_result"
    }
   ],
   "source": [
    "exercise = pd.read_csv(\"eg05-05exerc.csv\")\n",
    "exercise.head()"
   ]
  },
  {
   "cell_type": "code",
   "execution_count": 11,
   "id": "09863fb4",
   "metadata": {},
   "outputs": [
    {
     "data": {
      "image/png": "[encoded data removed]",
      "text/plain": [
       "<Figure size 360x360 with 1 Axes>"
      ]
     },
     "metadata": {
      "needs_background": "light"
     },
     "output_type": "display_data"
    }
   ],
   "source": [
    "sns.lmplot(x = \"CPM/d\", y = \"EnergyExpenditure\", data = exercise,ci=None)\n",
    "plt.xlabel(\"CPM/d\")\n",
    "plt.ylabel(\"Energy expenditure (kcal/d)\")\n",
    "plt.show()"
   ]
  },
  {
   "cell_type": "code",
   "execution_count": 12,
   "id": "facc7b4b",
   "metadata": {},
   "outputs": [
    {
     "name": "stdout",
     "output_type": "stream",
     "text": [
      "2467.549357864118\n",
      "1.011082124022258\n"
     ]
    }
   ],
   "source": [
    "lm2 = stats.linregress(x=exercise['CPM/d'],y=exercise['EnergyExpenditure'])\n",
    "print(lm2.intercept) # intercept\n",
    "print(lm2.slope) #slope"
   ]
  },
  {
   "cell_type": "code",
   "execution_count": 13,
   "id": "bf23cb3e",
   "metadata": {},
   "outputs": [],
   "source": [
    "#calculating the residuals\n",
    "x = exercise['CPM/d']\n",
    "y_hat = lm2.intercept + lm2.slope*x ## predicted energy expenditures\n",
    "y = exercise['EnergyExpenditure'] ## observed energy expenditures\n",
    "residuals = y - y_hat"
   ]
  },
  {
   "cell_type": "code",
   "execution_count": 14,
   "id": "7ae25011",
   "metadata": {},
   "outputs": [
    {
     "data": {
      "image/png": "[encoded data removed]",
      "text/plain": [
       "<Figure size 432x288 with 1 Axes>"
      ]
     },
     "metadata": {
      "needs_background": "light"
     },
     "output_type": "display_data"
    }
   ],
   "source": [
    "sns.scatterplot(x = exercise['CPM/d'], y = residuals)\n",
    "plt.xlabel('CPM/d')\n",
    "plt.ylabel(\"Residuals\")\n",
    "plt.axhline(y=0,color=\"black\",linestyle=\"--\") \n",
    "plt.show()"
   ]
  },
  {
   "cell_type": "code",
   "execution_count": null,
   "id": "d71b0903",
   "metadata": {},
   "outputs": [],
   "source": []
  }
 ],
 "metadata": {
  "kernelspec": {
   "display_name": "Python 3",
   "language": "python",
   "name": "python3"
  },
  "language_info": {
   "codemirror_mode": {
    "name": "ipython",
    "version": 3
   },
   "file_extension": ".py",
   "mimetype": "text/x-python",
   "name": "python",
   "nbconvert_exporter": "python",
   "pygments_lexer": "ipython3",
   "version": "3.8.8"
  }
 },
 "nbformat": 4,
 "nbformat_minor": 5
}
