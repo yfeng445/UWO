{
 "cells": [
  {
   "cell_type": "code",
   "execution_count": 1,
   "id": "20c4fb29",
   "metadata": {},
   "outputs": [],
   "source": [
    "import pandas as pd\n",
    "import random\n",
    "from random import sample"
   ]
  },
  {
   "cell_type": "code",
   "execution_count": 2,
   "id": "ed7e5f5c",
   "metadata": {},
   "outputs": [
    {
     "name": "stdout",
     "output_type": "stream",
     "text": [
      "[1, 3, 5]\n"
     ]
    }
   ],
   "source": [
    "# simple example \n",
    "list1 = [1, 2, 3, 4, 5]   \n",
    "print(sample(list1,3))"
   ]
  },
  {
   "cell_type": "code",
   "execution_count": 3,
   "id": "b76183a4",
   "metadata": {},
   "outputs": [],
   "source": [
    "Hotels=[\"Aloha Kai\",\"Captiva\",\"Palm Tree\",\"Sea Shell\",\"Anchor Down\",\n",
    "        \"Casa del Mar\",\"Radisson\",\"Silver Beach\",\"Banana Bay\", \"Coconuts\",\n",
    "        \"Ramada\",\"Sunset Beach\",\"Banyan Tree\",\"Diplomat\",\"Sandpiper\",\"Tradewinds\",\n",
    "        \"Beach Castle\",\"Holiday Inn\",\"Sea Castle\",\"Tropical Breeze\", \"Best Western\",\"Lime Tree\",\n",
    "        \"Sea Club\",\"Tropical Shores\",\"Cabana\",\"Outrigger\",\"Sea Grape\",\"Veranda\"]"
   ]
  },
  {
   "cell_type": "code",
   "execution_count": 4,
   "id": "84284159",
   "metadata": {},
   "outputs": [
    {
     "name": "stdout",
     "output_type": "stream",
     "text": [
      "['Outrigger', 'Tropical Breeze', 'Palm Tree', 'Banana Bay']\n"
     ]
    }
   ],
   "source": [
    "print(sample(Hotels,4))"
   ]
  },
  {
   "cell_type": "code",
   "execution_count": 5,
   "id": "935eca88",
   "metadata": {},
   "outputs": [
    {
     "data": {
      "text/html": [
       "<div>\n",
       "<style scoped>\n",
       "    .dataframe tbody tr th:only-of-type {\n",
       "        vertical-align: middle;\n",
       "    }\n",
       "\n",
       "    .dataframe tbody tr th {\n",
       "        vertical-align: top;\n",
       "    }\n",
       "\n",
       "    .dataframe thead th {\n",
       "        text-align: right;\n",
       "    }\n",
       "</style>\n",
       "<table border=\"1\" class=\"dataframe\">\n",
       "  <thead>\n",
       "    <tr style=\"text-align: right;\">\n",
       "      <th></th>\n",
       "      <th>ID</th>\n",
       "      <th>Name</th>\n",
       "    </tr>\n",
       "  </thead>\n",
       "  <tbody>\n",
       "    <tr>\n",
       "      <th>0</th>\n",
       "      <td>1</td>\n",
       "      <td>Aloha Kai</td>\n",
       "    </tr>\n",
       "    <tr>\n",
       "      <th>1</th>\n",
       "      <td>2</td>\n",
       "      <td>Anchor Down</td>\n",
       "    </tr>\n",
       "    <tr>\n",
       "      <th>2</th>\n",
       "      <td>3</td>\n",
       "      <td>Banana Bay</td>\n",
       "    </tr>\n",
       "    <tr>\n",
       "      <th>3</th>\n",
       "      <td>4</td>\n",
       "      <td>Banyan Tree</td>\n",
       "    </tr>\n",
       "    <tr>\n",
       "      <th>4</th>\n",
       "      <td>5</td>\n",
       "      <td>Beach Castle</td>\n",
       "    </tr>\n",
       "  </tbody>\n",
       "</table>\n",
       "</div>"
      ],
      "text/plain": [
       "   ID          Name\n",
       "0   1     Aloha Kai\n",
       "1   2   Anchor Down\n",
       "2   3    Banana Bay\n",
       "3   4   Banyan Tree\n",
       "4   5  Beach Castle"
      ]
     },
     "execution_count": 5,
     "metadata": {},
     "output_type": "execute_result"
    }
   ],
   "source": [
    "# What about if you read the data from a CSV file? \n",
    "Hotels=pd.read_csv(\"Hotels.csv\")\n",
    "Hotels.head(5) "
   ]
  },
  {
   "cell_type": "code",
   "execution_count": 6,
   "id": "01d7b99a",
   "metadata": {},
   "outputs": [],
   "source": [
    "# Try this: print(sample(Hotels[\"Name\"],4)). It will give you an error. Hotels[\"Name\"] needs to be a list or set.\n",
    "# sample(Hotels[\"Name\"],4)"
   ]
  },
  {
   "cell_type": "code",
   "execution_count": 7,
   "id": "f806556b",
   "metadata": {},
   "outputs": [
    {
     "name": "stdout",
     "output_type": "stream",
     "text": [
      "['Sea Castle', 'Tropical Breeze', 'Casa del Mar', 'Radisson']\n"
     ]
    }
   ],
   "source": [
    "print(sample(list(Hotels[\"Name\"]),4))"
   ]
  },
  {
   "cell_type": "code",
   "execution_count": 8,
   "id": "d21ded55",
   "metadata": {},
   "outputs": [
    {
     "name": "stdout",
     "output_type": "stream",
     "text": [
      "['Veranda', 'Silver Beach', 'Outrigger', 'Beach Castle']\n"
     ]
    }
   ],
   "source": [
    "print(sample(set(Hotels[\"Name\"]),4))"
   ]
  },
  {
   "cell_type": "code",
   "execution_count": 9,
   "id": "3e5d3da5",
   "metadata": {},
   "outputs": [
    {
     "name": "stdout",
     "output_type": "stream",
     "text": [
      "['Sea Club', 'Sea Shell', 'Ramada', 'Tropical Shores']\n"
     ]
    }
   ],
   "source": [
    "random.seed(a=36)\n",
    "print(sample(set(Hotels[\"Name\"]),4))"
   ]
  },
  {
   "cell_type": "code",
   "execution_count": 10,
   "id": "20422e86",
   "metadata": {},
   "outputs": [
    {
     "name": "stdout",
     "output_type": "stream",
     "text": [
      "['Sea Club', 'Sea Shell', 'Ramada', 'Tropical Shores']\n"
     ]
    }
   ],
   "source": [
    "random.seed(a=36)\n",
    "print(sample(set(Hotels[\"Name\"]),4))"
   ]
  },
  {
   "cell_type": "code",
   "execution_count": null,
   "id": "39a16b1e",
   "metadata": {},
   "outputs": [],
   "source": []
  }
 ],
 "metadata": {
  "kernelspec": {
   "display_name": "Python 3",
   "language": "python",
   "name": "python3"
  },
  "language_info": {
   "codemirror_mode": {
    "name": "ipython",
    "version": 3
   },
   "file_extension": ".py",
   "mimetype": "text/x-python",
   "name": "python",
   "nbconvert_exporter": "python",
   "pygments_lexer": "ipython3",
   "version": "3.8.8"
  }
 },
 "nbformat": 4,
 "nbformat_minor": 5
}
