{
 "cells": [
  {
   "cell_type": "markdown",
   "id": "miniature-southeast",
   "metadata": {},
   "source": [
    "# Lab 2"
   ]
  },
  {
   "cell_type": "markdown",
   "id": "laden-barcelona",
   "metadata": {},
   "source": [
    "In this lab we discuss some basic commands and functions in Python."
   ]
  },
  {
   "cell_type": "markdown",
   "id": "different-outreach",
   "metadata": {},
   "source": [
    "## Strings"
   ]
  },
  {
   "cell_type": "markdown",
   "id": "increased-lightning",
   "metadata": {},
   "source": [
    "**Python Strings:** https://www.w3schools.com/python/python_strings.asp"
   ]
  },
  {
   "cell_type": "code",
   "execution_count": 1,
   "id": "dimensional-cross",
   "metadata": {},
   "outputs": [],
   "source": [
    "print(\"data\" + \"science\")"
   ]
  },
  {
   "cell_type": "code",
   "execution_count": 2,
   "id": "about-philadelphia",
   "metadata": {},
   "outputs": [],
   "source": [
    "print(\"data\" + \" \" + \"science\")"
   ]
  },
  {
   "cell_type": "code",
   "execution_count": 3,
   "id": "hungarian-arrival",
   "metadata": {},
   "outputs": [
    {
     "name": "stdout",
     "output_type": "stream",
     "text": [
      "This won't work with a single-quoted string!\n"
     ]
    }
   ],
   "source": [
    "print(\"This won't work with a single-quoted string!\")"
   ]
  },
  {
   "cell_type": "code",
   "execution_count": 4,
   "id": "changed-apparel",
   "metadata": {},
   "outputs": [
    {
     "name": "stdout",
     "output_type": "stream",
     "text": [
      "That's 2 True\n"
     ]
    }
   ],
   "source": [
    "print(\"That's \" + str(1 + 1) + ' ' + str(True))"
   ]
  },
  {
   "cell_type": "code",
   "execution_count": 5,
   "id": "bored-planet",
   "metadata": {},
   "outputs": [
    {
     "name": "stdout",
     "output_type": "stream",
     "text": [
      "13\n"
     ]
    }
   ],
   "source": [
    "# The len() function returns the number of items in an object.\n",
    "a = \"Hello, World!\"\n",
    "print(len(a))"
   ]
  },
  {
   "cell_type": "code",
   "execution_count": 6,
   "id": "announced-football",
   "metadata": {},
   "outputs": [
    {
     "name": "stdout",
     "output_type": "stream",
     "text": [
      "H !\n"
     ]
    }
   ],
   "source": [
    "a = \"Hello, World!\"\n",
    "print(a[0], a[12])"
   ]
  },
  {
   "cell_type": "markdown",
   "id": "african-distinction",
   "metadata": {},
   "source": [
    "## Boolean Logic"
   ]
  },
  {
   "cell_type": "markdown",
   "id": "empirical-trick",
   "metadata": {},
   "source": [
    "Basic if statement: if condition is met run this code, if it is not met do something else"
   ]
  },
  {
   "cell_type": "markdown",
   "id": "dressed-addiction",
   "metadata": {},
   "source": [
    "**Logical Operators** : https://www.w3schools.com/python/gloss_python_logical_operators.asp <br/>\n",
    "**Conditional Statements** : https://www.w3schools.com/python/python_conditions.asp"
   ]
  },
  {
   "cell_type": "code",
   "execution_count": 7,
   "id": "finished-device",
   "metadata": {},
   "outputs": [
    {
     "name": "stdout",
     "output_type": "stream",
     "text": [
      "5\n"
     ]
    }
   ],
   "source": [
    "statment = True\n",
    "if statment == True:\n",
    "    x = 5\n",
    "else:\n",
    "    x = 6\n",
    "    \n",
    "print(x)"
   ]
  },
  {
   "cell_type": "code",
   "execution_count": 8,
   "id": "determined-eleven",
   "metadata": {},
   "outputs": [
    {
     "name": "stdout",
     "output_type": "stream",
     "text": [
      "6\n"
     ]
    }
   ],
   "source": [
    "# != does not equal operator\n",
    "if statment != True:\n",
    "    x = 5\n",
    "else:\n",
    "    x = 6\n",
    "\n",
    "print(x)"
   ]
  },
  {
   "cell_type": "code",
   "execution_count": 9,
   "id": "diagnostic-amazon",
   "metadata": {},
   "outputs": [
    {
     "name": "stdout",
     "output_type": "stream",
     "text": [
      "yes\n"
     ]
    }
   ],
   "source": [
    "# Operator : and\n",
    "if statment == True and x == 6:\n",
    "    y = \"yes\"\n",
    "else:\n",
    "    y = \"no\"\n",
    "\n",
    "print(y)"
   ]
  },
  {
   "cell_type": "code",
   "execution_count": 10,
   "id": "designing-alignment",
   "metadata": {},
   "outputs": [
    {
     "name": "stdout",
     "output_type": "stream",
     "text": [
      "yes\n"
     ]
    }
   ],
   "source": [
    "# Operator : or\n",
    "if statment == True or x == 10:\n",
    "    y = \"yes\"\n",
    "else:\n",
    "    y = \"no\"\n",
    "\n",
    "print(y)"
   ]
  },
  {
   "cell_type": "code",
   "execution_count": 11,
   "id": "finished-kruger",
   "metadata": {},
   "outputs": [
    {
     "name": "stdout",
     "output_type": "stream",
     "text": [
      "no\n"
     ]
    }
   ],
   "source": [
    "# elif (short for else if) operator\n",
    "if statment == True and x == 10:\n",
    "    y = \"yes\"\n",
    "elif x == 6:\n",
    "    y = \"no\"\n",
    "else:\n",
    "    y = \"maybe\"\n",
    "\n",
    "print(y)"
   ]
  },
  {
   "cell_type": "markdown",
   "id": "solid-front",
   "metadata": {},
   "source": [
    "## Loops"
   ]
  },
  {
   "cell_type": "markdown",
   "id": "perceived-hormone",
   "metadata": {},
   "source": [
    "**For Looping:** https://www.w3schools.com/python/python_for_loops.asp"
   ]
  },
  {
   "cell_type": "code",
   "execution_count": 12,
   "id": "respected-expansion",
   "metadata": {},
   "outputs": [
    {
     "name": "stdout",
     "output_type": "stream",
     "text": [
      "0\n",
      "1\n",
      "2\n",
      "3\n",
      "4\n",
      "5\n",
      "6\n",
      "7\n",
      "8\n",
      "9\n"
     ]
    }
   ],
   "source": [
    "# Simple sequential sequence\n",
    "# range(start, end, increment) will specify the desired range you want to loop for.\n",
    "# Parameters have to be valid integer values.\n",
    "for i in range(0, 10, 1):\n",
    "    print(i)"
   ]
  },
  {
   "cell_type": "code",
   "execution_count": 13,
   "id": "noble-replication",
   "metadata": {},
   "outputs": [
    {
     "name": "stdout",
     "output_type": "stream",
     "text": [
      "10\n",
      "9\n",
      "8\n",
      "7\n",
      "6\n",
      "5\n",
      "4\n",
      "3\n",
      "2\n",
      "1\n"
     ]
    }
   ],
   "source": [
    "# Backwards loop\n",
    "for j in range(10, 0, -1):\n",
    "    print(j)"
   ]
  },
  {
   "cell_type": "markdown",
   "id": "academic-cholesterol",
   "metadata": {},
   "source": [
    "**While Looping:** https://www.w3schools.com/python/python_conditions.asp"
   ]
  },
  {
   "cell_type": "code",
   "execution_count": 14,
   "id": "marked-average",
   "metadata": {},
   "outputs": [
    {
     "name": "stdout",
     "output_type": "stream",
     "text": [
      "x is 1\n",
      "x is 2\n",
      "x is 3\n",
      "x is 4\n",
      "x is 5\n",
      "x is 6\n",
      "x is 7\n",
      "x is 8\n",
      "x is 9\n"
     ]
    }
   ],
   "source": [
    "# .format function allows you to insert variables into strings dynamically.\n",
    "# while loop will run until condition is met.\n",
    "# var += y will add  y to var with each iteration it is called.\n",
    "x = 1\n",
    "while x != 10:\n",
    "    print((\"x is {}\").format(x))\n",
    "    x += 1"
   ]
  },
  {
   "cell_type": "markdown",
   "id": "smooth-fault",
   "metadata": {},
   "source": [
    "**List/indexed Object Itreation:** https://www.geeksforgeeks.org/iterate-over-a-list-in-python/"
   ]
  },
  {
   "cell_type": "code",
   "execution_count": 15,
   "id": "differential-bearing",
   "metadata": {},
   "outputs": [
    {
     "name": "stdout",
     "output_type": "stream",
     "text": [
      "stats\n",
      "math\n",
      "exams\n",
      "python\n"
     ]
    }
   ],
   "source": [
    "# Iterating through lists\n",
    "happy = [\"stats\", \"math\", \"exams\", \"python\"]\n",
    "for i in happy:\n",
    "    print(i)"
   ]
  },
  {
   "cell_type": "code",
   "execution_count": 16,
   "id": "genuine-explosion",
   "metadata": {},
   "outputs": [
    {
     "name": "stdout",
     "output_type": "stream",
     "text": [
      "stats\n",
      "math\n",
      "exams\n",
      "python\n"
     ]
    }
   ],
   "source": [
    "# Iterating through lists using index\n",
    "happy = [\"stats\", \"math\", \"exams\", \"python\"]\n",
    "for i in range(len(happy)):\n",
    "    print(happy[i])"
   ]
  },
  {
   "cell_type": "code",
   "execution_count": 17,
   "id": "suspended-connectivity",
   "metadata": {},
   "outputs": [
    {
     "name": "stdout",
     "output_type": "stream",
     "text": [
      "Today is a sunny day!\n",
      "Today is a rainy day!\n",
      "Today is a rainy day!\n",
      "Today is a rainy day!\n"
     ]
    }
   ],
   "source": [
    "for i in happy:\n",
    "    if i == \"stats\":\n",
    "        print(\"Today is a sunny day!\")\n",
    "    else:\n",
    "        print(\"Today is a rainy day!\")"
   ]
  },
  {
   "cell_type": "markdown",
   "id": "national-qatar",
   "metadata": {},
   "source": [
    "## Functions"
   ]
  },
  {
   "cell_type": "markdown",
   "id": "conventional-anthropology",
   "metadata": {},
   "source": [
    "**Python Functions:** https://www.w3schools.com/python/python_functions.asp"
   ]
  },
  {
   "cell_type": "code",
   "execution_count": 18,
   "id": "enormous-amateur",
   "metadata": {},
   "outputs": [
    {
     "data": {
      "text/plain": [
       "34"
      ]
     },
     "execution_count": 18,
     "metadata": {},
     "output_type": "execute_result"
    }
   ],
   "source": [
    "# Our first function definition\n",
    "def double(x):\n",
    "    return 2 * x\n",
    "\n",
    "double(17)"
   ]
  },
  {
   "cell_type": "code",
   "execution_count": 19,
   "id": "psychological-plain",
   "metadata": {},
   "outputs": [
    {
     "data": {
      "text/plain": [
       "array([ 6,  8, 10])"
      ]
     },
     "execution_count": 19,
     "metadata": {},
     "output_type": "execute_result"
    }
   ],
   "source": [
    "import numpy as np\n",
    "double(np.array([3, 4, 5]))"
   ]
  },
  {
   "cell_type": "code",
   "execution_count": 20,
   "id": "pediatric-jumping",
   "metadata": {},
   "outputs": [
    {
     "data": {
      "text/plain": [
       "16.5"
      ]
     },
     "execution_count": 20,
     "metadata": {},
     "output_type": "execute_result"
    }
   ],
   "source": [
    "# A function with more than one argument\n",
    "def percent(x, total):\n",
    "    return round((x / total) * 100, 2)\n",
    "\n",
    "percent(33, 200)"
   ]
  },
  {
   "cell_type": "code",
   "execution_count": 21,
   "id": "lined-allocation",
   "metadata": {},
   "outputs": [
    {
     "data": {
      "text/plain": [
       "array([33.33, 47.62, 19.05])"
      ]
     },
     "execution_count": 21,
     "metadata": {},
     "output_type": "execute_result"
    }
   ],
   "source": [
    "# Converting the values in array_x to percents out of the total of array_x\n",
    "# The sum() function adds the items of an iterable and returns the sum.\n",
    "# np.round rounds to the given number of decimals.\n",
    "def percents(counts):\n",
    "    total = counts.sum()\n",
    "    return np.round((counts / total) * 100, 2)\n",
    "\n",
    "some_array = np.array([7, 10, 4])\n",
    "percents(some_array)"
   ]
  },
  {
   "cell_type": "code",
   "execution_count": 22,
   "id": "naked-catch",
   "metadata": {},
   "outputs": [
    {
     "name": "stdout",
     "output_type": "stream",
     "text": [
      "Rounded to 1 decimal place:  [28.6 14.3 57.1]\n",
      "Rounded to 2 decimal places: [28.57 14.29 57.14]\n",
      "Rounded to 3 decimal places: [28.571 14.286 57.143]\n"
     ]
    }
   ],
   "source": [
    "# A function with multiple arguments\n",
    "def percents(counts, decimal_places):\n",
    "    total = counts.sum()\n",
    "    return np.round((counts / total) * 100, decimal_places)\n",
    "\n",
    "parts = np.array([2, 1, 4])\n",
    "print(\"Rounded to 1 decimal place: \", percents(parts, 1))\n",
    "print(\"Rounded to 2 decimal places:\", percents(parts, 2))\n",
    "print(\"Rounded to 3 decimal places:\", percents(parts, 3))"
   ]
  }
 ],
 "metadata": {
  "kernelspec": {
   "display_name": "Python 3",
   "language": "python",
   "name": "python3"
  },
  "language_info": {
   "codemirror_mode": {
    "name": "ipython",
    "version": 3
   },
   "file_extension": ".py",
   "mimetype": "text/x-python",
   "name": "python",
   "nbconvert_exporter": "python",
   "pygments_lexer": "ipython3",
   "version": "3.7.6"
  }
 },
 "nbformat": 4,
 "nbformat_minor": 5
}
