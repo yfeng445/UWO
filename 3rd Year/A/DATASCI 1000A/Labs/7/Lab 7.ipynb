{
 "cells": [
  {
   "cell_type": "markdown",
   "id": "alpine-sitting",
   "metadata": {},
   "source": [
    "# Lab 7"
   ]
  },
  {
   "cell_type": "markdown",
   "id": "flying-ability",
   "metadata": {},
   "source": [
    "In this lab we discuss two-way table, conditional and marginal proportions, relative risk, and odds ratio."
   ]
  },
  {
   "cell_type": "markdown",
   "id": "brazilian-scanning",
   "metadata": {},
   "source": [
    "## Two-way Table"
   ]
  },
  {
   "cell_type": "code",
   "execution_count": 1,
   "id": "serious-probability",
   "metadata": {},
   "outputs": [],
   "source": [
    "import numpy as np\n",
    "import pandas as pd\n",
    "import seaborn as sns\n",
    "import matplotlib.pyplot as plt\n",
    "import statsmodels.api as sm\n",
    "from statsmodels.graphics.mosaicplot import mosaic"
   ]
  },
  {
   "cell_type": "code",
   "execution_count": 2,
   "id": "incoming-peoples",
   "metadata": {},
   "outputs": [
    {
     "data": {
      "text/html": [
       "<div>\n",
       "<style scoped>\n",
       "    .dataframe tbody tr th:only-of-type {\n",
       "        vertical-align: middle;\n",
       "    }\n",
       "\n",
       "    .dataframe tbody tr th {\n",
       "        vertical-align: top;\n",
       "    }\n",
       "\n",
       "    .dataframe thead th {\n",
       "        text-align: right;\n",
       "    }\n",
       "</style>\n",
       "<table border=\"1\" class=\"dataframe\">\n",
       "  <thead>\n",
       "    <tr style=\"text-align: right;\">\n",
       "      <th></th>\n",
       "      <th>PassengerID</th>\n",
       "      <th>LivingStatus</th>\n",
       "      <th>TicketClass</th>\n",
       "      <th>Sex</th>\n",
       "    </tr>\n",
       "  </thead>\n",
       "  <tbody>\n",
       "    <tr>\n",
       "      <th>0</th>\n",
       "      <td>1</td>\n",
       "      <td>Died</td>\n",
       "      <td>3</td>\n",
       "      <td>male</td>\n",
       "    </tr>\n",
       "    <tr>\n",
       "      <th>1</th>\n",
       "      <td>2</td>\n",
       "      <td>Survived</td>\n",
       "      <td>1</td>\n",
       "      <td>female</td>\n",
       "    </tr>\n",
       "    <tr>\n",
       "      <th>2</th>\n",
       "      <td>3</td>\n",
       "      <td>Survived</td>\n",
       "      <td>3</td>\n",
       "      <td>female</td>\n",
       "    </tr>\n",
       "    <tr>\n",
       "      <th>3</th>\n",
       "      <td>4</td>\n",
       "      <td>Survived</td>\n",
       "      <td>1</td>\n",
       "      <td>female</td>\n",
       "    </tr>\n",
       "    <tr>\n",
       "      <th>4</th>\n",
       "      <td>5</td>\n",
       "      <td>Died</td>\n",
       "      <td>3</td>\n",
       "      <td>male</td>\n",
       "    </tr>\n",
       "  </tbody>\n",
       "</table>\n",
       "</div>"
      ],
      "text/plain": [
       "   PassengerID LivingStatus  TicketClass     Sex\n",
       "0            1         Died            3    male\n",
       "1            2     Survived            1  female\n",
       "2            3     Survived            3  female\n",
       "3            4     Survived            1  female\n",
       "4            5         Died            3    male"
      ]
     },
     "execution_count": 2,
     "metadata": {},
     "output_type": "execute_result"
    }
   ],
   "source": [
    "# Read .csv data\n",
    "df = pd.read_csv(\"titanic.csv\")\n",
    "# The titanic.csv file contains data for 891 of the real Titanic passengers.\n",
    "# Each row represents one person. The columns describe different attributes about the person including\n",
    "# whether they survived, their ID, their ticket-class, and their gender.\n",
    "df.head(5)"
   ]
  },
  {
   "cell_type": "markdown",
   "id": "executed-arrow",
   "metadata": {},
   "source": [
    "**pd.crosstab:** https://pandas.pydata.org/docs/reference/api/pandas.crosstab.html"
   ]
  },
  {
   "cell_type": "code",
   "execution_count": 3,
   "id": "normal-touch",
   "metadata": {},
   "outputs": [
    {
     "data": {
      "text/html": [
       "<div>\n",
       "<style scoped>\n",
       "    .dataframe tbody tr th:only-of-type {\n",
       "        vertical-align: middle;\n",
       "    }\n",
       "\n",
       "    .dataframe tbody tr th {\n",
       "        vertical-align: top;\n",
       "    }\n",
       "\n",
       "    .dataframe thead th {\n",
       "        text-align: right;\n",
       "    }\n",
       "</style>\n",
       "<table border=\"1\" class=\"dataframe\">\n",
       "  <thead>\n",
       "    <tr style=\"text-align: right;\">\n",
       "      <th>Sex</th>\n",
       "      <th>female</th>\n",
       "      <th>male</th>\n",
       "    </tr>\n",
       "    <tr>\n",
       "      <th>LivingStatus</th>\n",
       "      <th></th>\n",
       "      <th></th>\n",
       "    </tr>\n",
       "  </thead>\n",
       "  <tbody>\n",
       "    <tr>\n",
       "      <th>Died</th>\n",
       "      <td>81</td>\n",
       "      <td>468</td>\n",
       "    </tr>\n",
       "    <tr>\n",
       "      <th>Survived</th>\n",
       "      <td>233</td>\n",
       "      <td>109</td>\n",
       "    </tr>\n",
       "  </tbody>\n",
       "</table>\n",
       "</div>"
      ],
      "text/plain": [
       "Sex           female  male\n",
       "LivingStatus              \n",
       "Died              81   468\n",
       "Survived         233   109"
      ]
     },
     "execution_count": 3,
     "metadata": {},
     "output_type": "execute_result"
    }
   ],
   "source": [
    "# Two-way Table of LivingStatus vs. Sex\n",
    "twoway_table = pd.crosstab(index = df[\"LivingStatus\"], columns = df[\"Sex\"])\n",
    "twoway_table"
   ]
  },
  {
   "cell_type": "code",
   "execution_count": 4,
   "id": "pressing-missouri",
   "metadata": {},
   "outputs": [
    {
     "data": {
      "text/html": [
       "<div>\n",
       "<style scoped>\n",
       "    .dataframe tbody tr th:only-of-type {\n",
       "        vertical-align: middle;\n",
       "    }\n",
       "\n",
       "    .dataframe tbody tr th {\n",
       "        vertical-align: top;\n",
       "    }\n",
       "\n",
       "    .dataframe thead th {\n",
       "        text-align: right;\n",
       "    }\n",
       "</style>\n",
       "<table border=\"1\" class=\"dataframe\">\n",
       "  <thead>\n",
       "    <tr style=\"text-align: right;\">\n",
       "      <th></th>\n",
       "      <th>LivingStatus</th>\n",
       "      <th>Sex</th>\n",
       "      <th>Count</th>\n",
       "    </tr>\n",
       "  </thead>\n",
       "  <tbody>\n",
       "    <tr>\n",
       "      <th>0</th>\n",
       "      <td>Died</td>\n",
       "      <td>female</td>\n",
       "      <td>81</td>\n",
       "    </tr>\n",
       "    <tr>\n",
       "      <th>1</th>\n",
       "      <td>Died</td>\n",
       "      <td>male</td>\n",
       "      <td>468</td>\n",
       "    </tr>\n",
       "    <tr>\n",
       "      <th>2</th>\n",
       "      <td>Survived</td>\n",
       "      <td>female</td>\n",
       "      <td>233</td>\n",
       "    </tr>\n",
       "    <tr>\n",
       "      <th>3</th>\n",
       "      <td>Survived</td>\n",
       "      <td>male</td>\n",
       "      <td>109</td>\n",
       "    </tr>\n",
       "  </tbody>\n",
       "</table>\n",
       "</div>"
      ],
      "text/plain": [
       "  LivingStatus     Sex  Count\n",
       "0         Died  female     81\n",
       "1         Died    male    468\n",
       "2     Survived  female    233\n",
       "3     Survived    male    109"
      ]
     },
     "execution_count": 4,
     "metadata": {},
     "output_type": "execute_result"
    }
   ],
   "source": [
    "# We can also present the table in another way.\n",
    "table_new = twoway_table.stack().reset_index().rename(columns = {0:'Count'})\n",
    "table_new"
   ]
  },
  {
   "cell_type": "markdown",
   "id": "crude-legislature",
   "metadata": {},
   "source": [
    "**sns.barplot:** https://seaborn.pydata.org/generated/seaborn.barplot.html"
   ]
  },
  {
   "cell_type": "code",
   "execution_count": 5,
   "id": "progressive-glory",
   "metadata": {},
   "outputs": [
    {
     "data": {
      "image/png": "[encoded data removed]",
      "text/plain": [
       "<Figure size 432x288 with 1 Axes>"
      ]
     },
     "metadata": {
      "needs_background": "light"
     },
     "output_type": "display_data"
    }
   ],
   "source": [
    "# Let's create a bidimensional barplot.\n",
    "sns.barplot(x = \"LivingStatus\", hue = \"Sex\", y = \"Count\", data = table_new)\n",
    "plt.show()"
   ]
  },
  {
   "cell_type": "markdown",
   "id": "suited-correspondence",
   "metadata": {},
   "source": [
    "**mosaicplot:** https://www.statsmodels.org/stable/generated/statsmodels.graphics.mosaicplot.mosaic.html"
   ]
  },
  {
   "cell_type": "code",
   "execution_count": 8,
   "id": "f25b2193",
   "metadata": {},
   "outputs": [
    {
     "data": {
      "image/png": "[encoded data removed]",
      "text/plain": [
       "<Figure size 432x288 with 3 Axes>"
      ]
     },
     "metadata": {
      "needs_background": "light"
     },
     "output_type": "display_data"
    }
   ],
   "source": [
    "# the mosaic plot is a graphical method for visualizing data from two categorical variables.\n",
    "# Simple mosaic plot, without counts or percentages\n",
    "mosaic(df, ['LivingStatus', 'Sex'])\n",
    "plt.show()"
   ]
  },
  {
   "cell_type": "code",
   "execution_count": 9,
   "id": "fifteen-establishment",
   "metadata": {},
   "outputs": [
    {
     "data": {
      "image/png": "[encoded data removed]",
      "text/plain": [
       "<Figure size 432x288 with 3 Axes>"
      ]
     },
     "metadata": {
      "needs_background": "light"
     },
     "output_type": "display_data"
    }
   ],
   "source": [
    "# Bonus! Adding the counts to the mosaic plot \n",
    "labelizer = lambda k:{('Died', 'female'):81, ('Died', 'male'):468,\n",
    "                      ('Survived', 'female'):233, ('Survived', 'male'):109}[k]\n",
    "mosaic(df, ['LivingStatus', 'Sex'], labelizer = labelizer)\n",
    "plt.show()"
   ]
  },
  {
   "cell_type": "markdown",
   "id": "recorded-beaver",
   "metadata": {},
   "source": [
    "## Marginal and Conditional Proportions"
   ]
  },
  {
   "cell_type": "code",
   "execution_count": 10,
   "id": "surprising-outdoors",
   "metadata": {},
   "outputs": [
    {
     "data": {
      "text/html": [
       "<div>\n",
       "<style scoped>\n",
       "    .dataframe tbody tr th:only-of-type {\n",
       "        vertical-align: middle;\n",
       "    }\n",
       "\n",
       "    .dataframe tbody tr th {\n",
       "        vertical-align: top;\n",
       "    }\n",
       "\n",
       "    .dataframe thead th {\n",
       "        text-align: right;\n",
       "    }\n",
       "</style>\n",
       "<table border=\"1\" class=\"dataframe\">\n",
       "  <thead>\n",
       "    <tr style=\"text-align: right;\">\n",
       "      <th>TicketClass</th>\n",
       "      <th>1</th>\n",
       "      <th>2</th>\n",
       "      <th>3</th>\n",
       "      <th>All</th>\n",
       "    </tr>\n",
       "    <tr>\n",
       "      <th>LivingStatus</th>\n",
       "      <th></th>\n",
       "      <th></th>\n",
       "      <th></th>\n",
       "      <th></th>\n",
       "    </tr>\n",
       "  </thead>\n",
       "  <tbody>\n",
       "    <tr>\n",
       "      <th>Died</th>\n",
       "      <td>80</td>\n",
       "      <td>97</td>\n",
       "      <td>372</td>\n",
       "      <td>549</td>\n",
       "    </tr>\n",
       "    <tr>\n",
       "      <th>Survived</th>\n",
       "      <td>136</td>\n",
       "      <td>87</td>\n",
       "      <td>119</td>\n",
       "      <td>342</td>\n",
       "    </tr>\n",
       "    <tr>\n",
       "      <th>All</th>\n",
       "      <td>216</td>\n",
       "      <td>184</td>\n",
       "      <td>491</td>\n",
       "      <td>891</td>\n",
       "    </tr>\n",
       "  </tbody>\n",
       "</table>\n",
       "</div>"
      ],
      "text/plain": [
       "TicketClass     1    2    3  All\n",
       "LivingStatus                    \n",
       "Died           80   97  372  549\n",
       "Survived      136   87  119  342\n",
       "All           216  184  491  891"
      ]
     },
     "execution_count": 10,
     "metadata": {},
     "output_type": "execute_result"
    }
   ],
   "source": [
    "# Table of LivingStatus vs. TicketClass\n",
    "# Getting the marginal counts (totals for each row and column)\n",
    "pd.crosstab(index = df[\"LivingStatus\"], columns = df[\"TicketClass\"], margins = True)"
   ]
  },
  {
   "cell_type": "code",
   "execution_count": 8,
   "id": "aggressive-assessment",
   "metadata": {},
   "outputs": [
    {
     "data": {
      "text/html": [
       "<div>\n",
       "<style scoped>\n",
       "    .dataframe tbody tr th:only-of-type {\n",
       "        vertical-align: middle;\n",
       "    }\n",
       "\n",
       "    .dataframe tbody tr th {\n",
       "        vertical-align: top;\n",
       "    }\n",
       "\n",
       "    .dataframe thead th {\n",
       "        text-align: right;\n",
       "    }\n",
       "</style>\n",
       "<table border=\"1\" class=\"dataframe\">\n",
       "  <thead>\n",
       "    <tr style=\"text-align: right;\">\n",
       "      <th>TicketClass</th>\n",
       "      <th>1</th>\n",
       "      <th>2</th>\n",
       "      <th>3</th>\n",
       "    </tr>\n",
       "    <tr>\n",
       "      <th>LivingStatus</th>\n",
       "      <th></th>\n",
       "      <th></th>\n",
       "      <th></th>\n",
       "    </tr>\n",
       "  </thead>\n",
       "  <tbody>\n",
       "    <tr>\n",
       "      <th>Died</th>\n",
       "      <td>0.37037</td>\n",
       "      <td>0.527174</td>\n",
       "      <td>0.757637</td>\n",
       "    </tr>\n",
       "    <tr>\n",
       "      <th>Survived</th>\n",
       "      <td>0.62963</td>\n",
       "      <td>0.472826</td>\n",
       "      <td>0.242363</td>\n",
       "    </tr>\n",
       "  </tbody>\n",
       "</table>\n",
       "</div>"
      ],
      "text/plain": [
       "TicketClass         1         2         3\n",
       "LivingStatus                             \n",
       "Died          0.37037  0.527174  0.757637\n",
       "Survived      0.62963  0.472826  0.242363"
      ]
     },
     "execution_count": 8,
     "metadata": {},
     "output_type": "execute_result"
    }
   ],
   "source": [
    "# Getting the proportion of counts along each column,\n",
    "# i.e. the survival proportions conditional on ticket-class (dividing by the column totals)\n",
    "pd.crosstab(index = df[\"LivingStatus\"], columns = df[\"TicketClass\"], normalize = 'columns')"
   ]
  },
  {
   "cell_type": "code",
   "execution_count": 11,
   "id": "tender-restriction",
   "metadata": {},
   "outputs": [
    {
     "data": {
      "text/html": [
       "<div>\n",
       "<style scoped>\n",
       "    .dataframe tbody tr th:only-of-type {\n",
       "        vertical-align: middle;\n",
       "    }\n",
       "\n",
       "    .dataframe tbody tr th {\n",
       "        vertical-align: top;\n",
       "    }\n",
       "\n",
       "    .dataframe thead th {\n",
       "        text-align: right;\n",
       "    }\n",
       "</style>\n",
       "<table border=\"1\" class=\"dataframe\">\n",
       "  <thead>\n",
       "    <tr style=\"text-align: right;\">\n",
       "      <th>TicketClass</th>\n",
       "      <th>1</th>\n",
       "      <th>2</th>\n",
       "      <th>3</th>\n",
       "    </tr>\n",
       "    <tr>\n",
       "      <th>LivingStatus</th>\n",
       "      <th></th>\n",
       "      <th></th>\n",
       "      <th></th>\n",
       "    </tr>\n",
       "  </thead>\n",
       "  <tbody>\n",
       "    <tr>\n",
       "      <th>Died</th>\n",
       "      <td>0.145719</td>\n",
       "      <td>0.176685</td>\n",
       "      <td>0.677596</td>\n",
       "    </tr>\n",
       "    <tr>\n",
       "      <th>Survived</th>\n",
       "      <td>0.397661</td>\n",
       "      <td>0.254386</td>\n",
       "      <td>0.347953</td>\n",
       "    </tr>\n",
       "  </tbody>\n",
       "</table>\n",
       "</div>"
      ],
      "text/plain": [
       "TicketClass          1         2         3\n",
       "LivingStatus                              \n",
       "Died          0.145719  0.176685  0.677596\n",
       "Survived      0.397661  0.254386  0.347953"
      ]
     },
     "execution_count": 11,
     "metadata": {},
     "output_type": "execute_result"
    }
   ],
   "source": [
    "# Getting the proportion of counts along each row (dividing by the row totals)\n",
    "# i.e. the class proportions conditional on living status\n",
    "pd.crosstab(index = df[\"LivingStatus\"], columns = df[\"TicketClass\"], normalize = 'index')"
   ]
  },
  {
   "cell_type": "code",
   "execution_count": 14,
   "id": "broadband-formation",
   "metadata": {},
   "outputs": [
    {
     "data": {
      "text/html": [
       "<div>\n",
       "<style scoped>\n",
       "    .dataframe tbody tr th:only-of-type {\n",
       "        vertical-align: middle;\n",
       "    }\n",
       "\n",
       "    .dataframe tbody tr th {\n",
       "        vertical-align: top;\n",
       "    }\n",
       "\n",
       "    .dataframe thead th {\n",
       "        text-align: right;\n",
       "    }\n",
       "</style>\n",
       "<table border=\"1\" class=\"dataframe\">\n",
       "  <thead>\n",
       "    <tr style=\"text-align: right;\">\n",
       "      <th>TicketClass</th>\n",
       "      <th>1</th>\n",
       "      <th>2</th>\n",
       "      <th>3</th>\n",
       "      <th>All</th>\n",
       "    </tr>\n",
       "    <tr>\n",
       "      <th>LivingStatus</th>\n",
       "      <th></th>\n",
       "      <th></th>\n",
       "      <th></th>\n",
       "      <th></th>\n",
       "    </tr>\n",
       "  </thead>\n",
       "  <tbody>\n",
       "    <tr>\n",
       "      <th>Died</th>\n",
       "      <td>0.089787</td>\n",
       "      <td>0.108866</td>\n",
       "      <td>0.417508</td>\n",
       "      <td>0.616162</td>\n",
       "    </tr>\n",
       "    <tr>\n",
       "      <th>Survived</th>\n",
       "      <td>0.152637</td>\n",
       "      <td>0.097643</td>\n",
       "      <td>0.133558</td>\n",
       "      <td>0.383838</td>\n",
       "    </tr>\n",
       "    <tr>\n",
       "      <th>All</th>\n",
       "      <td>0.242424</td>\n",
       "      <td>0.206510</td>\n",
       "      <td>0.551066</td>\n",
       "      <td>1.000000</td>\n",
       "    </tr>\n",
       "  </tbody>\n",
       "</table>\n",
       "</div>"
      ],
      "text/plain": [
       "TicketClass          1         2         3       All\n",
       "LivingStatus                                        \n",
       "Died          0.089787  0.108866  0.417508  0.616162\n",
       "Survived      0.152637  0.097643  0.133558  0.383838\n",
       "All           0.242424  0.206510  0.551066  1.000000"
      ]
     },
     "execution_count": 14,
     "metadata": {},
     "output_type": "execute_result"
    }
   ],
   "source": [
    "# Getting the total proportion of counts in each cell (dividing the table by the grand total)\n",
    "# and the marginal proportions \n",
    "pd.crosstab(index = df[\"LivingStatus\"], columns = df[\"TicketClass\"], normalize = 'all', margins=True)"
   ]
  },
  {
   "cell_type": "code",
   "execution_count": 18,
   "id": "159215c7",
   "metadata": {},
   "outputs": [],
   "source": [
    "#help(pd.crosstab)"
   ]
  },
  {
   "cell_type": "markdown",
   "id": "communist-leonard",
   "metadata": {},
   "source": [
    "## Relative Risk and Odds Ratio"
   ]
  },
  {
   "cell_type": "code",
   "execution_count": 37,
   "id": "naked-avenue",
   "metadata": {},
   "outputs": [
    {
     "data": {
      "text/html": [
       "<div>\n",
       "<style scoped>\n",
       "    .dataframe tbody tr th:only-of-type {\n",
       "        vertical-align: middle;\n",
       "    }\n",
       "\n",
       "    .dataframe tbody tr th {\n",
       "        vertical-align: top;\n",
       "    }\n",
       "\n",
       "    .dataframe thead th {\n",
       "        text-align: right;\n",
       "    }\n",
       "</style>\n",
       "<table border=\"1\" class=\"dataframe\">\n",
       "  <thead>\n",
       "    <tr style=\"text-align: right;\">\n",
       "      <th></th>\n",
       "      <th>Cancer-Yes</th>\n",
       "      <th>Cancer-No</th>\n",
       "    </tr>\n",
       "  </thead>\n",
       "  <tbody>\n",
       "    <tr>\n",
       "      <th>Smoker</th>\n",
       "      <td>30</td>\n",
       "      <td>70</td>\n",
       "    </tr>\n",
       "    <tr>\n",
       "      <th>Non-Smoker</th>\n",
       "      <td>10</td>\n",
       "      <td>90</td>\n",
       "    </tr>\n",
       "  </tbody>\n",
       "</table>\n",
       "</div>"
      ],
      "text/plain": [
       "            Cancer-Yes  Cancer-No\n",
       "Smoker              30         70\n",
       "Non-Smoker          10         90"
      ]
     },
     "execution_count": 37,
     "metadata": {},
     "output_type": "execute_result"
    }
   ],
   "source": [
    "# The following 2x2 table illustrates the number of cancer cases versus non-cancer cases for smokers and non-smokers.\n",
    "df_new = pd.DataFrame({'Cancer-Yes':[30, 10], 'Cancer-No':[70, 90]}, index = ['Smoker', 'Non-Smoker'])\n",
    "df_new"
   ]
  },
  {
   "cell_type": "code",
   "execution_count": 38,
   "id": "e99ea5ab",
   "metadata": {},
   "outputs": [],
   "source": [
    "# let us calculate the proportions of developing cancer conditional on smoking status\n",
    "p_smoker = 30/100\n",
    "p_nonsmoker = 10/100"
   ]
  },
  {
   "cell_type": "code",
   "execution_count": 39,
   "id": "8e087109",
   "metadata": {},
   "outputs": [
    {
     "name": "stdout",
     "output_type": "stream",
     "text": [
      "2.9999999999999996\n"
     ]
    },
    {
     "data": {
      "text/plain": [
       "3.0"
      ]
     },
     "execution_count": 39,
     "metadata": {},
     "output_type": "execute_result"
    }
   ],
   "source": [
    "# the relative risk of developing cancer in the smoker group compared to non-smokers is:\n",
    "RR = p_smoker/p_nonsmoker\n",
    "print(RR)\n",
    "round(RR,2) "
   ]
  },
  {
   "cell_type": "markdown",
   "id": "martial-edward",
   "metadata": {},
   "source": [
    "**sm.stats.Table2x2:** https://www.statsmodels.org/stable/generated/statsmodels.stats.contingency_tables.Table2x2.html"
   ]
  },
  {
   "cell_type": "code",
   "execution_count": 40,
   "id": "breathing-remark",
   "metadata": {},
   "outputs": [
    {
     "name": "stdout",
     "output_type": "stream",
     "text": [
      "Relative Risk = 3.0\n"
     ]
    }
   ],
   "source": [
    "# Alternative way to find the relative risk\n",
    "array = np.array([[30, 70], [10, 90]])\n",
    "relative_risk = sm.stats.Table2x2(array).riskratio\n",
    "print('Relative Risk =',round(relative_risk,2))"
   ]
  },
  {
   "cell_type": "code",
   "execution_count": 41,
   "id": "endless-commander",
   "metadata": {},
   "outputs": [
    {
     "name": "stdout",
     "output_type": "stream",
     "text": [
      "The odds ratio is 3.86\n"
     ]
    }
   ],
   "source": [
    "# Now we can also find the odds ratio (OR) of developing cancer in the smoker group compared to non-smokers:\n",
    "odds_smoker = 30/70\n",
    "odds_nonsmoker = 10/90\n",
    "OR = odds_smoker/odds_nonsmoker\n",
    "print('The odds ratio is', round(OR,2))"
   ]
  },
  {
   "cell_type": "code",
   "execution_count": 42,
   "id": "floppy-child",
   "metadata": {},
   "outputs": [
    {
     "name": "stdout",
     "output_type": "stream",
     "text": [
      "Odds Ratio = 3.86\n"
     ]
    }
   ],
   "source": [
    "# Alternative way to find the odds ratio\n",
    "odds_ratio = sm.stats.Table2x2(array).oddsratio\n",
    "print('Odds Ratio =', odds_ratio.round(2))"
   ]
  },
  {
   "cell_type": "code",
   "execution_count": null,
   "id": "0bc967ad",
   "metadata": {},
   "outputs": [],
   "source": []
  }
 ],
 "metadata": {
  "kernelspec": {
   "display_name": "Python 3",
   "language": "python",
   "name": "python3"
  },
  "language_info": {
   "codemirror_mode": {
    "name": "ipython",
    "version": 3
   },
   "file_extension": ".py",
   "mimetype": "text/x-python",
   "name": "python",
   "nbconvert_exporter": "python",
   "pygments_lexer": "ipython3",
   "version": "3.8.8"
  }
 },
 "nbformat": 4,
 "nbformat_minor": 5
}
