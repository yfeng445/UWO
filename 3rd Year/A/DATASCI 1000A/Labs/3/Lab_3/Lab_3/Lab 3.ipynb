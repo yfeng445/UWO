{
 "cells": [
  {
   "cell_type": "markdown",
   "id": "perceived-headline",
   "metadata": {},
   "source": [
    "In this lab we discuss some tools for data visualization in Python."
   ]
  },
  {
   "cell_type": "markdown",
   "id": "correct-christianity",
   "metadata": {},
   "source": [
    "# Import necessary Python libraries"
   ]
  },
  {
   "cell_type": "markdown",
   "id": "advisory-plenty",
   "metadata": {},
   "source": [
    "**matplotlib.pyplot:** https://matplotlib.org/3.1.1/gallery/index.html\n",
    "\n",
    "**Seaborn:** https://seaborn.pydata.org/examples/index.html"
   ]
  },
  {
   "cell_type": "code",
   "execution_count": 1,
   "id": "meaningful-design",
   "metadata": {},
   "outputs": [],
   "source": [
    "import numpy as np\n",
    "import pandas as pd\n",
    "import seaborn as sns\n",
    "import matplotlib.pyplot as plt\n",
    "from numpy import percentile\n",
    "%matplotlib inline"
   ]
  },
  {
   "cell_type": "markdown",
   "id": "67552c21",
   "metadata": {},
   "source": [
    "# Import the data"
   ]
  },
  {
   "cell_type": "markdown",
   "id": "concerned-nepal",
   "metadata": {},
   "source": [
    "**pd.read_csv:** https://pandas.pydata.org/pandas-docs/stable/reference/api/pandas.read_csv.html"
   ]
  },
  {
   "cell_type": "code",
   "execution_count": 2,
   "id": "vietnamese-balloon",
   "metadata": {},
   "outputs": [
    {
     "data": {
      "text/html": [
       "<div>\n",
       "<style scoped>\n",
       "    .dataframe tbody tr th:only-of-type {\n",
       "        vertical-align: middle;\n",
       "    }\n",
       "\n",
       "    .dataframe tbody tr th {\n",
       "        vertical-align: top;\n",
       "    }\n",
       "\n",
       "    .dataframe thead th {\n",
       "        text-align: right;\n",
       "    }\n",
       "</style>\n",
       "<table border=\"1\" class=\"dataframe\">\n",
       "  <thead>\n",
       "    <tr style=\"text-align: right;\">\n",
       "      <th></th>\n",
       "      <th>sex</th>\n",
       "      <th>age</th>\n",
       "      <th>headL</th>\n",
       "      <th>skullW</th>\n",
       "      <th>totalL</th>\n",
       "      <th>tailL</th>\n",
       "    </tr>\n",
       "  </thead>\n",
       "  <tbody>\n",
       "    <tr>\n",
       "      <th>0</th>\n",
       "      <td>m</td>\n",
       "      <td>8</td>\n",
       "      <td>94.1</td>\n",
       "      <td>60.4</td>\n",
       "      <td>89.0</td>\n",
       "      <td>36.0</td>\n",
       "    </tr>\n",
       "    <tr>\n",
       "      <th>1</th>\n",
       "      <td>f</td>\n",
       "      <td>6</td>\n",
       "      <td>92.5</td>\n",
       "      <td>57.6</td>\n",
       "      <td>91.5</td>\n",
       "      <td>36.5</td>\n",
       "    </tr>\n",
       "    <tr>\n",
       "      <th>2</th>\n",
       "      <td>f</td>\n",
       "      <td>6</td>\n",
       "      <td>94.0</td>\n",
       "      <td>60.0</td>\n",
       "      <td>95.5</td>\n",
       "      <td>39.0</td>\n",
       "    </tr>\n",
       "    <tr>\n",
       "      <th>3</th>\n",
       "      <td>f</td>\n",
       "      <td>6</td>\n",
       "      <td>93.2</td>\n",
       "      <td>57.1</td>\n",
       "      <td>92.0</td>\n",
       "      <td>38.0</td>\n",
       "    </tr>\n",
       "    <tr>\n",
       "      <th>4</th>\n",
       "      <td>f</td>\n",
       "      <td>2</td>\n",
       "      <td>91.5</td>\n",
       "      <td>56.3</td>\n",
       "      <td>85.5</td>\n",
       "      <td>36.0</td>\n",
       "    </tr>\n",
       "  </tbody>\n",
       "</table>\n",
       "</div>"
      ],
      "text/plain": [
       "  sex  age  headL  skullW  totalL  tailL\n",
       "0   m    8   94.1    60.4    89.0   36.0\n",
       "1   f    6   92.5    57.6    91.5   36.5\n",
       "2   f    6   94.0    60.0    95.5   39.0\n",
       "3   f    6   93.2    57.1    92.0   38.0\n",
       "4   f    2   91.5    56.3    85.5   36.0"
      ]
     },
     "execution_count": 2,
     "metadata": {},
     "output_type": "execute_result"
    }
   ],
   "source": [
    "# Read .csv data\n",
    "possum = pd.read_csv(\"possum.csv\")\n",
    "# The possum dataset consists of morphometric measurements on 46 possums.\n",
    "# The head() function is used to get the first 5 rows.\n",
    "possum.head()"
   ]
  },
  {
   "cell_type": "markdown",
   "id": "67c5cbde",
   "metadata": {},
   "source": [
    "# Data visualization"
   ]
  },
  {
   "cell_type": "markdown",
   "id": "a305d30b",
   "metadata": {},
   "source": [
    "## Line plots"
   ]
  },
  {
   "cell_type": "markdown",
   "id": "flexible-minnesota",
   "metadata": {},
   "source": [
    "**plt.plot:** https://matplotlib.org/3.3.3/api/_as_gen/matplotlib.pyplot.plot.html"
   ]
  },
  {
   "cell_type": "code",
   "execution_count": 3,
   "id": "institutional-ethnic",
   "metadata": {},
   "outputs": [
    {
     "data": {
      "image/png": "[encoded data removed]",
      "text/plain": [
       "<Figure size 432x288 with 1 Axes>"
      ]
     },
     "metadata": {
      "needs_background": "light"
     },
     "output_type": "display_data"
    }
   ],
   "source": [
    "# Plotting tailL (tail length) versus index\n",
    "plt.plot(possum[\"tailL\"], color = \"red\")\n",
    "\n",
    "# Adding title and labels\n",
    "plt.title(\"Tail\")\n",
    "plt.xlabel(\"index\")\n",
    "plt.ylabel(\"length\")\n",
    "plt.show()"
   ]
  },
  {
   "cell_type": "markdown",
   "id": "747befb7",
   "metadata": {},
   "source": [
    "## Histograms"
   ]
  },
  {
   "cell_type": "markdown",
   "id": "confirmed-catalyst",
   "metadata": {},
   "source": [
    "**plt.hist:** https://matplotlib.org/3.1.1/api/_as_gen/matplotlib.pyplot.hist.html"
   ]
  },
  {
   "cell_type": "code",
   "execution_count": 4,
   "id": "auburn-scenario",
   "metadata": {},
   "outputs": [
    {
     "data": {
      "image/png": "[encoded data removed]",
      "text/plain": [
       "<Figure size 432x288 with 1 Axes>"
      ]
     },
     "metadata": {
      "needs_background": "light"
     },
     "output_type": "display_data"
    }
   ],
   "source": [
    "# Plotting the histogram for skullW (skull width)\n",
    "# A histogram represents a frequency distribution by means of rectangles whose widths represent class intervals\n",
    "# and whose areas are proportional to the corresponding frequencies.\n",
    "plt.hist(possum['skullW'], bins = 10)\n",
    "plt.show()"
   ]
  },
  {
   "cell_type": "markdown",
   "id": "03a94c23",
   "metadata": {},
   "source": [
    "Doing the histogram using the library seaborn: sns.histplot: https://seaborn.pydata.org/generated/seaborn.histplot.html"
   ]
  },
  {
   "cell_type": "code",
   "execution_count": 5,
   "id": "acab494c",
   "metadata": {},
   "outputs": [
    {
     "data": {
      "image/png": "[encoded data removed]",
      "text/plain": [
       "<Figure size 432x288 with 1 Axes>"
      ]
     },
     "metadata": {
      "needs_background": "light"
     },
     "output_type": "display_data"
    }
   ],
   "source": [
    "sns.histplot(data=possum, x=\"skullW\",bins=10) # it looks much better!\n",
    "plt.show()"
   ]
  },
  {
   "cell_type": "code",
   "execution_count": 6,
   "id": "optional-death",
   "metadata": {},
   "outputs": [
    {
     "data": {
      "image/png": "[encoded data removed]",
      "text/plain": [
       "<Figure size 432x288 with 1 Axes>"
      ]
     },
     "metadata": {
      "needs_background": "light"
     },
     "output_type": "display_data"
    }
   ],
   "source": [
    "# Plotting the histogram/distribution for age\n",
    "sns.histplot(data = possum[\"age\"], binwidth = 1)\n",
    "plt.title(\"Distribution of Age\")\n",
    "plt.xlabel(\"age\")\n",
    "plt.show()"
   ]
  },
  {
   "cell_type": "markdown",
   "id": "ab182041",
   "metadata": {},
   "source": [
    "## Boxplots"
   ]
  },
  {
   "cell_type": "markdown",
   "id": "fitted-static",
   "metadata": {},
   "source": [
    "**sns.boxplot:** https://seaborn.pydata.org/generated/seaborn.boxplot.html"
   ]
  },
  {
   "cell_type": "code",
   "execution_count": 7,
   "id": "sticky-conspiracy",
   "metadata": {},
   "outputs": [
    {
     "data": {
      "image/png": "[encoded data removed]",
      "text/plain": [
       "<Figure size 432x288 with 1 Axes>"
      ]
     },
     "metadata": {
      "needs_background": "light"
     },
     "output_type": "display_data"
    }
   ],
   "source": [
    "# Plotting the boxplot for headL (head length)\n",
    "# A boxplot is a graph that gives you a good indication of how the values in the data are spread out.\n",
    "sns.boxplot(x = possum[\"headL\"])\n",
    "plt.show()"
   ]
  },
  {
   "cell_type": "markdown",
   "id": "democratic-sessions",
   "metadata": {},
   "source": [
    "# Five-number Summary "
   ]
  },
  {
   "cell_type": "code",
   "execution_count": 8,
   "id": "acute-former",
   "metadata": {},
   "outputs": [
    {
     "name": "stdout",
     "output_type": "stream",
     "text": [
      "Min: 84.7\n",
      "Q1: 91.1\n",
      "Median: 92.85\n",
      "Q3: 94.4\n",
      "Max: 96.3\n"
     ]
    }
   ],
   "source": [
    "# Obtaining the 5-number summary for headL (head length)\n",
    "# The five-number summary is a set of descriptive statistics that provides information about a dataset.\n",
    "# It consists of the five most important sample percentiles:\n",
    "# 1. the sample minimum (smallest observation)\n",
    "# 2. the lower quartile or first quartile\n",
    "# 3. the median (the middle value)\n",
    "# 4. the upper quartile or third quartile\n",
    "# 5. the sample maximum (largest observation)\n",
    "quartiles = percentile(possum[\"headL\"], [25, 50, 75])\n",
    "minimum = np.min(possum[\"headL\"])\n",
    "maximum = np.max(possum[\"headL\"])\n",
    "print('Min:', minimum)\n",
    "print('Q1:', quartiles[0])\n",
    "print('Median:', quartiles[1])\n",
    "print('Q3:', quartiles[2])\n",
    "print('Max:', maximum)"
   ]
  },
  {
   "cell_type": "markdown",
   "id": "73e4f28e",
   "metadata": {},
   "source": [
    "## Mean and standard deviation"
   ]
  },
  {
   "cell_type": "code",
   "execution_count": 9,
   "id": "underlying-mystery",
   "metadata": {},
   "outputs": [
    {
     "name": "stdout",
     "output_type": "stream",
     "text": [
      "Mean: 92.31086956521742\n",
      "Standard Deviation 2.929332746234926\n"
     ]
    }
   ],
   "source": [
    "# Obtaining the mean and standard deviation for headL (head length)\n",
    "mean = np.mean(possum[\"headL\"])\n",
    "standard_devaiation = np.std(possum[\"headL\"], ddof = 1)\n",
    "print('Mean:', mean)\n",
    "print('Standard Deviation', standard_devaiation)"
   ]
  },
  {
   "cell_type": "code",
   "execution_count": 10,
   "id": "verified-disaster",
   "metadata": {},
   "outputs": [
    {
     "data": {
      "text/plain": [
       "count    46.000000\n",
       "mean     92.310870\n",
       "std       2.929333\n",
       "min      84.700000\n",
       "25%      91.100000\n",
       "50%      92.850000\n",
       "75%      94.400000\n",
       "max      96.300000\n",
       "Name: headL, dtype: float64"
      ]
     },
     "execution_count": 10,
     "metadata": {},
     "output_type": "execute_result"
    }
   ],
   "source": [
    "# Alternative way to get those numbers for headL (head length)\n",
    "possum[\"headL\"].describe()"
   ]
  },
  {
   "cell_type": "markdown",
   "id": "nasty-mouse",
   "metadata": {},
   "source": [
    "# Other Types of Plots - Bar Plots and Pie Charts"
   ]
  },
  {
   "cell_type": "markdown",
   "id": "verified-thomas",
   "metadata": {},
   "source": [
    "**plt.bar :** https://matplotlib.org/stable/api/_as_gen/matplotlib.pyplot.bar.html"
   ]
  },
  {
   "cell_type": "code",
   "execution_count": 11,
   "id": "curious-plaintiff",
   "metadata": {},
   "outputs": [
    {
     "data": {
      "image/png": "[encoded data removed]",
      "text/plain": [
       "<Figure size 432x288 with 1 Axes>"
      ]
     },
     "metadata": {
      "needs_background": "light"
     },
     "output_type": "display_data"
    }
   ],
   "source": [
    "# Plotting a simple bar plot\n",
    "# A bar plot is a plot that presents categorical data with rectangular bars\n",
    "# with heights proportional to the values that they represent.\n",
    "data = {'A':6, 'B':3, 'C':8, 'D':9, 'E':3}\n",
    "letters = list(data.keys())\n",
    "values = list(data.values())\n",
    "plt.bar(letters, values, color = 'olive')\n",
    "plt.xlabel('letters')\n",
    "plt.ylabel('Count')\n",
    "plt.title('Bar Plot')\n",
    "plt.show()"
   ]
  },
  {
   "cell_type": "code",
   "execution_count": 12,
   "id": "universal-birth",
   "metadata": {},
   "outputs": [
    {
     "data": {
      "text/plain": [
       "array([1, 2, 3, 4, 5, 6, 7, 8, 9])"
      ]
     },
     "execution_count": 12,
     "metadata": {},
     "output_type": "execute_result"
    }
   ],
   "source": [
    "# Getting back to the possum dataset\n",
    "# The code below returns the unique values for age.\n",
    "# unique() is used to find the unique elements of an array.\n",
    "np.sort(possum[\"age\"].unique())"
   ]
  },
  {
   "cell_type": "code",
   "execution_count": 13,
   "id": "saving-words",
   "metadata": {},
   "outputs": [
    {
     "data": {
      "text/plain": [
       "1     3\n",
       "2    10\n",
       "3    11\n",
       "4     6\n",
       "5     5\n",
       "6     5\n",
       "7     3\n",
       "8     1\n",
       "9     2\n",
       "Name: age, dtype: int64"
      ]
     },
     "execution_count": 13,
     "metadata": {},
     "output_type": "execute_result"
    }
   ],
   "source": [
    "# The code below returns the counts for each value of age.\n",
    "# value_counts() returns a Series containing counts of unique values.\n",
    "possum[\"age\"].value_counts(sort = False)"
   ]
  },
  {
   "cell_type": "code",
   "execution_count": 14,
   "id": "existing-somewhere",
   "metadata": {},
   "outputs": [
    {
     "data": {
      "image/png": "[encoded data removed]",
      "text/plain": [
       "<Figure size 432x288 with 1 Axes>"
      ]
     },
     "metadata": {
      "needs_background": "light"
     },
     "output_type": "display_data"
    }
   ],
   "source": [
    "# Plotting the bar plot for age\n",
    "plt.bar(np.sort(possum[\"age\"].unique()), possum[\"age\"].value_counts(sort = False))\n",
    "plt.xlabel('age')\n",
    "plt.ylabel('Count')\n",
    "plt.title('Bar Plot')\n",
    "plt.show()"
   ]
  },
  {
   "cell_type": "markdown",
   "id": "apart-insurance",
   "metadata": {},
   "source": [
    "**plt.pie :** https://matplotlib.org/stable/api/_as_gen/matplotlib.pyplot.pie.html"
   ]
  },
  {
   "cell_type": "code",
   "execution_count": 15,
   "id": "composite-fraud",
   "metadata": {},
   "outputs": [
    {
     "data": {
      "image/png": "[encoded data removed]",
      "text/plain": [
       "<Figure size 432x288 with 1 Axes>"
      ]
     },
     "metadata": {},
     "output_type": "display_data"
    }
   ],
   "source": [
    "# Plotting the pie chart for different activities\n",
    "# A pie chart is a circular statistical graphic which is divided into slices to illustrate numerical proportion.\n",
    "sizes = [8, 3, 3, 14]\n",
    "activities = ['sleeping', 'eating', 'working', 'playing']\n",
    "colors = ['red', 'pink', 'gray', 'green']\n",
    "plt.pie(sizes, labels = activities, colors = colors, startangle = 90, autopct = '%1.1f%%')\n",
    "plt.title('Pie Chart')\n",
    "plt.show()"
   ]
  },
  {
   "cell_type": "code",
   "execution_count": 16,
   "id": "psychological-holder",
   "metadata": {},
   "outputs": [
    {
     "data": {
      "text/plain": [
       "array(['f', 'm'], dtype=object)"
      ]
     },
     "execution_count": 16,
     "metadata": {},
     "output_type": "execute_result"
    }
   ],
   "source": [
    "# Getting back to the possum dataset\n",
    "# The code below returns the unique values.\n",
    "# unique() is used to find the unique elements of an array.\n",
    "np.sort(possum[\"sex\"].unique())"
   ]
  },
  {
   "cell_type": "code",
   "execution_count": 17,
   "id": "thick-analysis",
   "metadata": {},
   "outputs": [
    {
     "data": {
      "text/plain": [
       "f    24\n",
       "m    22\n",
       "Name: sex, dtype: int64"
      ]
     },
     "execution_count": 17,
     "metadata": {},
     "output_type": "execute_result"
    }
   ],
   "source": [
    "# The code below returns the counts for each value.\n",
    "# value_counts() returns a Series containing counts of unique values.\n",
    "possum[\"sex\"].value_counts(sort = True)"
   ]
  },
  {
   "cell_type": "code",
   "execution_count": 18,
   "id": "commercial-culture",
   "metadata": {},
   "outputs": [
    {
     "data": {
      "image/png": "[encoded data removed]",
      "text/plain": [
       "<Figure size 432x288 with 1 Axes>"
      ]
     },
     "metadata": {},
     "output_type": "display_data"
    }
   ],
   "source": [
    "# Plotting the pie chart\n",
    "plt.pie(possum[\"sex\"].value_counts(sort = True), labels = np.sort(possum[\"sex\"].unique()), autopct = '%1.1f%%')\n",
    "plt.title('Pie Chart')\n",
    "plt.show()"
   ]
  }
 ],
 "metadata": {
  "kernelspec": {
   "display_name": "Python 3",
   "language": "python",
   "name": "python3"
  },
  "language_info": {
   "codemirror_mode": {
    "name": "ipython",
    "version": 3
   },
   "file_extension": ".py",
   "mimetype": "text/x-python",
   "name": "python",
   "nbconvert_exporter": "python",
   "pygments_lexer": "ipython3",
   "version": "3.8.8"
  }
 },
 "nbformat": 4,
 "nbformat_minor": 5
}
