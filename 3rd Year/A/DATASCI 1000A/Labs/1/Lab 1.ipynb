{
 "cells": [
  {
   "cell_type": "markdown",
   "id": "silver-hayes",
   "metadata": {},
   "source": [
    "# Lab 1"
   ]
  },
  {
   "cell_type": "markdown",
   "id": "latter-poker",
   "metadata": {},
   "source": [
    "Jupyter Notebook is an open source web application that you can use to create and share documents that contain live code, equations, visualizations, and text. In this lab we provide an introduction to Python."
   ]
  },
  {
   "cell_type": "markdown",
   "id": "right-journalist",
   "metadata": {},
   "source": [
    "## Basic Python Instances"
   ]
  },
  {
   "cell_type": "markdown",
   "id": "excited-inventory",
   "metadata": {},
   "source": [
    "**Python Operatos:** https://www.w3schools.com/python/python_operators.asp"
   ]
  },
  {
   "cell_type": "code",
   "execution_count": 1,
   "id": "satellite-founder",
   "metadata": {},
   "outputs": [
    {
     "name": "stdout",
     "output_type": "stream",
     "text": [
      "Hello World\n"
     ]
    }
   ],
   "source": [
    "print(\"Hello World\")"
   ]
  },
  {
   "cell_type": "code",
   "execution_count": 2,
   "id": "genuine-atlas",
   "metadata": {},
   "outputs": [
    {
     "name": "stdout",
     "output_type": "stream",
     "text": [
      "Hello World\n"
     ]
    }
   ],
   "source": [
    "# Variable names can start with a letter or _, but not a number or any other operator.\n",
    "hello = \"Hello World\"\n",
    "print(hello)"
   ]
  },
  {
   "cell_type": "code",
   "execution_count": 3,
   "id": "sixth-prediction",
   "metadata": {},
   "outputs": [],
   "source": [
    "x = 5 \n",
    "y = 7"
   ]
  },
  {
   "cell_type": "code",
   "execution_count": 4,
   "id": "dimensional-hormone",
   "metadata": {},
   "outputs": [
    {
     "data": {
      "text/plain": [
       "12"
      ]
     },
     "execution_count": 4,
     "metadata": {},
     "output_type": "execute_result"
    }
   ],
   "source": [
    "x + 7"
   ]
  },
  {
   "cell_type": "code",
   "execution_count": 5,
   "id": "circular-symposium",
   "metadata": {},
   "outputs": [
    {
     "data": {
      "text/plain": [
       "9"
      ]
     },
     "execution_count": 5,
     "metadata": {},
     "output_type": "execute_result"
    }
   ],
   "source": [
    "y + 2"
   ]
  },
  {
   "cell_type": "code",
   "execution_count": 6,
   "id": "recreational-honolulu",
   "metadata": {},
   "outputs": [
    {
     "name": "stdout",
     "output_type": "stream",
     "text": [
      "12\n"
     ]
    }
   ],
   "source": [
    "# Operators +, -, *, /, **\n",
    "print(x + 7)"
   ]
  },
  {
   "cell_type": "code",
   "execution_count": 7,
   "id": "structured-connecticut",
   "metadata": {},
   "outputs": [
    {
     "data": {
      "text/plain": [
       "49"
      ]
     },
     "execution_count": 7,
     "metadata": {},
     "output_type": "execute_result"
    }
   ],
   "source": [
    "y ** 2"
   ]
  },
  {
   "cell_type": "markdown",
   "id": "subject-league",
   "metadata": {},
   "source": [
    "A class has objects which belong to it and their classs is refered to as their \"type\"."
   ]
  },
  {
   "cell_type": "code",
   "execution_count": 8,
   "id": "honest-treat",
   "metadata": {},
   "outputs": [
    {
     "name": "stdout",
     "output_type": "stream",
     "text": [
      "Variable x is: <class 'int'> Variable hello is: <class 'str'>\n"
     ]
    }
   ],
   "source": [
    "# Printing multiple things by seperating them with a ,\n",
    "print(\"Variable x is:\", type(x), \"Variable hello is:\", type(hello))"
   ]
  },
  {
   "cell_type": "markdown",
   "id": "silent-director",
   "metadata": {},
   "source": [
    "## Data Structures"
   ]
  },
  {
   "cell_type": "markdown",
   "id": "mathematical-participation",
   "metadata": {},
   "source": [
    "**Dictionaries:** https://www.w3schools.com/python/python_dictionaries.asp"
   ]
  },
  {
   "cell_type": "code",
   "execution_count": 9,
   "id": "adjustable-paragraph",
   "metadata": {},
   "outputs": [
    {
     "name": "stdout",
     "output_type": "stream",
     "text": [
      "The dictionay holds {'Stats': 'Happy'} and the 'Stats' value is: Happy\n"
     ]
    }
   ],
   "source": [
    "# Dictionaries have a Key and a value.\n",
    "dict_1 = {\"Stats\" : \"Happy\"}\n",
    "print(\"The dictionay holds\", dict_1, \"and the 'Stats' value is:\", dict_1[\"Stats\"])"
   ]
  },
  {
   "cell_type": "code",
   "execution_count": 10,
   "id": "median-round",
   "metadata": {},
   "outputs": [
    {
     "name": "stdout",
     "output_type": "stream",
     "text": [
      "{'Stats': 'Happy', 'Math': 'Exited'}\n"
     ]
    }
   ],
   "source": [
    "# Update allows you to add more dictionaries to an existing one dynamically making the original one bigger.\n",
    "dict_2 = {\"Math\" : \"Exited\"}\n",
    "dict_1.update(dict_2)\n",
    "print(dict_1)"
   ]
  },
  {
   "cell_type": "markdown",
   "id": "ambient-hydrogen",
   "metadata": {},
   "source": [
    "**Python lists:** https://www.w3schools.com/python/python_lists.asp"
   ]
  },
  {
   "cell_type": "code",
   "execution_count": 11,
   "id": "collectible-friendship",
   "metadata": {},
   "outputs": [
    {
     "name": "stdout",
     "output_type": "stream",
     "text": [
      "[1, 2, 3]\n"
     ]
    }
   ],
   "source": [
    "# List is a subscriptable object that holds data of any type.\n",
    "list_1 = [1, 2, 3]\n",
    "print(list_1)"
   ]
  },
  {
   "cell_type": "code",
   "execution_count": 12,
   "id": "contained-replication",
   "metadata": {},
   "outputs": [
    {
     "name": "stdout",
     "output_type": "stream",
     "text": [
      "[1, 2, 3, 5]\n"
     ]
    }
   ],
   "source": [
    "list_1.append(5)\n",
    "print(list_1)"
   ]
  },
  {
   "cell_type": "code",
   "execution_count": 13,
   "id": "outdoor-group",
   "metadata": {},
   "outputs": [
    {
     "data": {
      "text/plain": [
       "1"
      ]
     },
     "execution_count": 13,
     "metadata": {},
     "output_type": "execute_result"
    }
   ],
   "source": [
    "# Python lists are 0-indexed. So the first element is 0, second is 1, and so on.\n",
    "# So if there are n elements in a list, the last element is n - 1.\n",
    "list_1[0]"
   ]
  },
  {
   "cell_type": "markdown",
   "id": "automotive-profession",
   "metadata": {},
   "source": [
    "**Pandas:** https://pandas.pydata.org/docs/ <br/>\n",
    "**Numpy:** https://numpy.org/doc/1.20/user/absolute_beginners.html"
   ]
  },
  {
   "cell_type": "code",
   "execution_count": 14,
   "id": "seeing-trash",
   "metadata": {},
   "outputs": [],
   "source": [
    "# The Python language has only very basic operations. Most math functions are in various math libraries.\n",
    "# The numpy and pandas are convenient libraries. We can import numpy with the prefix np, and pandas with the prefix pd.\n",
    "import pandas as pd\n",
    "import numpy as np"
   ]
  },
  {
   "cell_type": "markdown",
   "id": "racial-intro",
   "metadata": {},
   "source": [
    "**pd.DataFrame:** https://pandas.pydata.org/pandas-docs/stable/reference/api/pandas.DataFrame.html"
   ]
  },
  {
   "cell_type": "code",
   "execution_count": 15,
   "id": "latest-statistics",
   "metadata": {},
   "outputs": [
    {
     "data": {
      "text/html": [
       "<div>\n",
       "<style scoped>\n",
       "    .dataframe tbody tr th:only-of-type {\n",
       "        vertical-align: middle;\n",
       "    }\n",
       "\n",
       "    .dataframe tbody tr th {\n",
       "        vertical-align: top;\n",
       "    }\n",
       "\n",
       "    .dataframe thead th {\n",
       "        text-align: right;\n",
       "    }\n",
       "</style>\n",
       "<table border=\"1\" class=\"dataframe\">\n",
       "  <thead>\n",
       "    <tr style=\"text-align: right;\">\n",
       "      <th></th>\n",
       "      <th>Age</th>\n",
       "      <th>Height</th>\n",
       "    </tr>\n",
       "  </thead>\n",
       "  <tbody>\n",
       "    <tr>\n",
       "      <th>0</th>\n",
       "      <td>1</td>\n",
       "      <td>3</td>\n",
       "    </tr>\n",
       "    <tr>\n",
       "      <th>1</th>\n",
       "      <td>2</td>\n",
       "      <td>4</td>\n",
       "    </tr>\n",
       "  </tbody>\n",
       "</table>\n",
       "</div>"
      ],
      "text/plain": [
       "   Age  Height\n",
       "0    1       3\n",
       "1    2       4"
      ]
     },
     "execution_count": 15,
     "metadata": {},
     "output_type": "execute_result"
    }
   ],
   "source": [
    "df_data = {\"Age\" : [1, 2], \"Height\" : [3, 4]}\n",
    "df = pd.DataFrame(data = df_data)\n",
    "df"
   ]
  },
  {
   "cell_type": "code",
   "execution_count": 16,
   "id": "external-tumor",
   "metadata": {},
   "outputs": [
    {
     "data": {
      "text/html": [
       "<div>\n",
       "<style scoped>\n",
       "    .dataframe tbody tr th:only-of-type {\n",
       "        vertical-align: middle;\n",
       "    }\n",
       "\n",
       "    .dataframe tbody tr th {\n",
       "        vertical-align: top;\n",
       "    }\n",
       "\n",
       "    .dataframe thead th {\n",
       "        text-align: right;\n",
       "    }\n",
       "</style>\n",
       "<table border=\"1\" class=\"dataframe\">\n",
       "  <thead>\n",
       "    <tr style=\"text-align: right;\">\n",
       "      <th></th>\n",
       "      <th>Age</th>\n",
       "      <th>Height</th>\n",
       "      <th>Weight</th>\n",
       "    </tr>\n",
       "  </thead>\n",
       "  <tbody>\n",
       "    <tr>\n",
       "      <th>0</th>\n",
       "      <td>1</td>\n",
       "      <td>3</td>\n",
       "      <td>2</td>\n",
       "    </tr>\n",
       "    <tr>\n",
       "      <th>1</th>\n",
       "      <td>2</td>\n",
       "      <td>4</td>\n",
       "      <td>5</td>\n",
       "    </tr>\n",
       "  </tbody>\n",
       "</table>\n",
       "</div>"
      ],
      "text/plain": [
       "   Age  Height  Weight\n",
       "0    1       3       2\n",
       "1    2       4       5"
      ]
     },
     "execution_count": 16,
     "metadata": {},
     "output_type": "execute_result"
    }
   ],
   "source": [
    "df[\"Weight\"] = [2, 5]\n",
    "df"
   ]
  },
  {
   "cell_type": "code",
   "execution_count": 17,
   "id": "endless-credits",
   "metadata": {},
   "outputs": [
    {
     "name": "stdout",
     "output_type": "stream",
     "text": [
      "5\n"
     ]
    }
   ],
   "source": [
    "# Extracting specific data point (second row and third column)\n",
    "print(df.iloc[1, 2])"
   ]
  },
  {
   "cell_type": "code",
   "execution_count": 18,
   "id": "thorough-vacation",
   "metadata": {},
   "outputs": [
    {
     "name": "stdout",
     "output_type": "stream",
     "text": [
      "0    1\n",
      "1    2\n",
      "Name: Age, dtype: int64\n"
     ]
    }
   ],
   "source": [
    "print(df[\"Age\"])"
   ]
  },
  {
   "cell_type": "code",
   "execution_count": 19,
   "id": "brazilian-gates",
   "metadata": {},
   "outputs": [
    {
     "data": {
      "text/html": [
       "<div>\n",
       "<style scoped>\n",
       "    .dataframe tbody tr th:only-of-type {\n",
       "        vertical-align: middle;\n",
       "    }\n",
       "\n",
       "    .dataframe tbody tr th {\n",
       "        vertical-align: top;\n",
       "    }\n",
       "\n",
       "    .dataframe thead th {\n",
       "        text-align: right;\n",
       "    }\n",
       "</style>\n",
       "<table border=\"1\" class=\"dataframe\">\n",
       "  <thead>\n",
       "    <tr style=\"text-align: right;\">\n",
       "      <th></th>\n",
       "      <th>Age</th>\n",
       "      <th>Height</th>\n",
       "      <th>Weight</th>\n",
       "    </tr>\n",
       "  </thead>\n",
       "  <tbody>\n",
       "    <tr>\n",
       "      <th>1</th>\n",
       "      <td>2</td>\n",
       "      <td>4</td>\n",
       "      <td>5</td>\n",
       "    </tr>\n",
       "  </tbody>\n",
       "</table>\n",
       "</div>"
      ],
      "text/plain": [
       "   Age  Height  Weight\n",
       "1    2       4       5"
      ]
     },
     "execution_count": 19,
     "metadata": {},
     "output_type": "execute_result"
    }
   ],
   "source": [
    "# Extracting a specific row\n",
    "df[df[\"Age\"] == 2]"
   ]
  },
  {
   "cell_type": "code",
   "execution_count": 20,
   "id": "conventional-importance",
   "metadata": {},
   "outputs": [
    {
     "data": {
      "text/html": [
       "<div>\n",
       "<style scoped>\n",
       "    .dataframe tbody tr th:only-of-type {\n",
       "        vertical-align: middle;\n",
       "    }\n",
       "\n",
       "    .dataframe tbody tr th {\n",
       "        vertical-align: top;\n",
       "    }\n",
       "\n",
       "    .dataframe thead th {\n",
       "        text-align: right;\n",
       "    }\n",
       "</style>\n",
       "<table border=\"1\" class=\"dataframe\">\n",
       "  <thead>\n",
       "    <tr style=\"text-align: right;\">\n",
       "      <th></th>\n",
       "      <th>Age</th>\n",
       "      <th>Height</th>\n",
       "      <th>Weight</th>\n",
       "    </tr>\n",
       "  </thead>\n",
       "  <tbody>\n",
       "    <tr>\n",
       "      <th>1</th>\n",
       "      <td>2</td>\n",
       "      <td>4</td>\n",
       "      <td>5</td>\n",
       "    </tr>\n",
       "  </tbody>\n",
       "</table>\n",
       "</div>"
      ],
      "text/plain": [
       "   Age  Height  Weight\n",
       "1    2       4       5"
      ]
     },
     "execution_count": 20,
     "metadata": {},
     "output_type": "execute_result"
    }
   ],
   "source": [
    "# Another way to extract a specific row\n",
    "df[df.Age == 2]"
   ]
  },
  {
   "cell_type": "code",
   "execution_count": 21,
   "id": "dutch-reality",
   "metadata": {},
   "outputs": [
    {
     "data": {
      "text/html": [
       "<div>\n",
       "<style scoped>\n",
       "    .dataframe tbody tr th:only-of-type {\n",
       "        vertical-align: middle;\n",
       "    }\n",
       "\n",
       "    .dataframe tbody tr th {\n",
       "        vertical-align: top;\n",
       "    }\n",
       "\n",
       "    .dataframe thead th {\n",
       "        text-align: right;\n",
       "    }\n",
       "</style>\n",
       "<table border=\"1\" class=\"dataframe\">\n",
       "  <thead>\n",
       "    <tr style=\"text-align: right;\">\n",
       "      <th></th>\n",
       "      <th>Age</th>\n",
       "      <th>Height</th>\n",
       "      <th>Weight</th>\n",
       "    </tr>\n",
       "  </thead>\n",
       "  <tbody>\n",
       "    <tr>\n",
       "      <th>0</th>\n",
       "      <td>1</td>\n",
       "      <td>3</td>\n",
       "      <td>2</td>\n",
       "    </tr>\n",
       "    <tr>\n",
       "      <th>1</th>\n",
       "      <td>2</td>\n",
       "      <td>4</td>\n",
       "      <td>5</td>\n",
       "    </tr>\n",
       "  </tbody>\n",
       "</table>\n",
       "</div>"
      ],
      "text/plain": [
       "   Age  Height  Weight\n",
       "0    1       3       2\n",
       "1    2       4       5"
      ]
     },
     "execution_count": 21,
     "metadata": {},
     "output_type": "execute_result"
    }
   ],
   "source": [
    "# Showing the whole dataframe\n",
    "df.iloc[:]"
   ]
  },
  {
   "cell_type": "code",
   "execution_count": 22,
   "id": "eligible-begin",
   "metadata": {},
   "outputs": [
    {
     "data": {
      "text/plain": [
       "Age       1\n",
       "Height    3\n",
       "Weight    2\n",
       "Name: 0, dtype: int64"
      ]
     },
     "execution_count": 22,
     "metadata": {},
     "output_type": "execute_result"
    }
   ],
   "source": [
    "# Showing the first row\n",
    "df.iloc[0, :]"
   ]
  },
  {
   "cell_type": "code",
   "execution_count": 23,
   "id": "accepted-jordan",
   "metadata": {},
   "outputs": [
    {
     "data": {
      "text/plain": [
       "0    3\n",
       "1    4\n",
       "Name: Height, dtype: int64"
      ]
     },
     "execution_count": 23,
     "metadata": {},
     "output_type": "execute_result"
    }
   ],
   "source": [
    "# Showing the second column\n",
    "df.iloc[:, 1]"
   ]
  },
  {
   "cell_type": "markdown",
   "id": "parental-courtesy",
   "metadata": {},
   "source": [
    "**np.array**: https://numpy.org/doc/stable/reference/generated/numpy.array.html"
   ]
  },
  {
   "cell_type": "code",
   "execution_count": 24,
   "id": "wound-hamburg",
   "metadata": {},
   "outputs": [
    {
     "name": "stdout",
     "output_type": "stream",
     "text": [
      "arr_1 = \n",
      " [[1 2]\n",
      " [3 2]] \n",
      "arr_2 = \n",
      " [[5 4]\n",
      " [6 7]]\n"
     ]
    }
   ],
   "source": [
    "# Creating 2D arrays\n",
    "arr_1 = np.array([[1, 2], [3, 2]])\n",
    "arr_2 = np.array([[5, 4], [6, 7]])\n",
    "print(\"arr_1 = \\n\", arr_1, \"\\narr_2 = \\n\", arr_2)"
   ]
  },
  {
   "cell_type": "code",
   "execution_count": 25,
   "id": "martial-wheat",
   "metadata": {},
   "outputs": [
    {
     "name": "stdout",
     "output_type": "stream",
     "text": [
      "Shape of arr_1: (2, 2)\n",
      "Shape of arr_2: (2, 2)\n"
     ]
    }
   ],
   "source": [
    "print(\"Shape of arr_1:\", np.shape(arr_1))\n",
    "print(\"Shape of arr_2:\", np.shape(arr_2))"
   ]
  },
  {
   "cell_type": "code",
   "execution_count": 26,
   "id": "heavy-settle",
   "metadata": {},
   "outputs": [
    {
     "name": "stdout",
     "output_type": "stream",
     "text": [
      "dot product:\n",
      " [[17 18]\n",
      " [27 26]]\n"
     ]
    }
   ],
   "source": [
    "# Array operators\n",
    "print(\"dot product:\\n\", arr_1 @ arr_2)"
   ]
  },
  {
   "cell_type": "code",
   "execution_count": 27,
   "id": "single-treatment",
   "metadata": {},
   "outputs": [
    {
     "name": "stdout",
     "output_type": "stream",
     "text": [
      "exponents:\n",
      " [[1 4]\n",
      " [9 4]]\n"
     ]
    }
   ],
   "source": [
    "# Elementwise exponential\n",
    "print(\"exponents:\\n\", arr_1 ** 2)"
   ]
  },
  {
   "cell_type": "code",
   "execution_count": 28,
   "id": "floppy-tongue",
   "metadata": {},
   "outputs": [
    {
     "name": "stdout",
     "output_type": "stream",
     "text": [
      "scalars\n",
      " [[ 5 10]\n",
      " [15 10]]\n"
     ]
    }
   ],
   "source": [
    "# Elementwise multiplication\n",
    "print(\"scalars\\n\", arr_1 * 5)"
   ]
  },
  {
   "cell_type": "code",
   "execution_count": 29,
   "id": "sticky-tragedy",
   "metadata": {},
   "outputs": [
    {
     "name": "stdout",
     "output_type": "stream",
     "text": [
      "Array with entries of 1: \n",
      " [[1. 1. 1.]\n",
      " [1. 1. 1.]\n",
      " [1. 1. 1.]]\n"
     ]
    }
   ],
   "source": [
    "# Array of given shape and type filled with ones\n",
    "print(\"Array with entries of 1: \\n\", np.ones((3, 3)))"
   ]
  },
  {
   "cell_type": "code",
   "execution_count": 30,
   "id": "sought-rachel",
   "metadata": {},
   "outputs": [
    {
     "name": "stdout",
     "output_type": "stream",
     "text": [
      "Array with entries of 0: \n",
      " [[0. 0. 0.]\n",
      " [0. 0. 0.]\n",
      " [0. 0. 0.]]\n"
     ]
    }
   ],
   "source": [
    "# Array of given shape and type filled with zeros\n",
    "print(\"Array with entries of 0: \\n\", np.zeros((3, 3)))"
   ]
  },
  {
   "cell_type": "code",
   "execution_count": 31,
   "id": "operating-embassy",
   "metadata": {},
   "outputs": [
    {
     "name": "stdout",
     "output_type": "stream",
     "text": [
      "Sequence:\n",
      " [2. 3. 4. 5. 6. 7. 8. 9.]\n"
     ]
    }
   ],
   "source": [
    "# Evenly spaced numbers over a specified interval\n",
    "print(\"Sequence:\\n\", np.linspace(2, 9, 8))"
   ]
  },
  {
   "cell_type": "code",
   "execution_count": 32,
   "id": "operating-dressing",
   "metadata": {},
   "outputs": [
    {
     "name": "stdout",
     "output_type": "stream",
     "text": [
      "Sorted arr_1:\n",
      " [[1 2]\n",
      " [2 3]]\n"
     ]
    }
   ],
   "source": [
    "# A sorted copy of an array\n",
    "print(\"Sorted arr_1:\\n\", np.sort(arr_1))"
   ]
  }
 ],
 "metadata": {
  "kernelspec": {
   "display_name": "Python 3",
   "language": "python",
   "name": "python3"
  },
  "language_info": {
   "codemirror_mode": {
    "name": "ipython",
    "version": 3
   },
   "file_extension": ".py",
   "mimetype": "text/x-python",
   "name": "python",
   "nbconvert_exporter": "python",
   "pygments_lexer": "ipython3",
   "version": "3.7.6"
  }
 },
 "nbformat": 4,
 "nbformat_minor": 5
}
