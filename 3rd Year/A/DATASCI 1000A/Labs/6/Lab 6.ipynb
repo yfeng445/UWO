{
 "cells": [
  {
   "cell_type": "markdown",
   "id": "dominant-bathroom",
   "metadata": {},
   "source": [
    "# Lab 6"
   ]
  },
  {
   "cell_type": "markdown",
   "id": "changed-billion",
   "metadata": {},
   "source": [
    "In this lab we discuss statistical modelling and least squares regression."
   ]
  },
  {
   "cell_type": "markdown",
   "id": "comic-ticket",
   "metadata": {},
   "source": [
    "## Simple Linear Regression"
   ]
  },
  {
   "cell_type": "code",
   "execution_count": 1,
   "id": "committed-citizen",
   "metadata": {},
   "outputs": [],
   "source": [
    "import numpy as np\n",
    "import pandas as pd\n",
    "import seaborn as sns\n",
    "import matplotlib.pyplot as plt\n",
    "from scipy import stats"
   ]
  },
  {
   "cell_type": "code",
   "execution_count": 2,
   "id": "ultimate-albany",
   "metadata": {},
   "outputs": [
    {
     "data": {
      "text/html": [
       "<div>\n",
       "<style scoped>\n",
       "    .dataframe tbody tr th:only-of-type {\n",
       "        vertical-align: middle;\n",
       "    }\n",
       "\n",
       "    .dataframe tbody tr th {\n",
       "        vertical-align: top;\n",
       "    }\n",
       "\n",
       "    .dataframe thead th {\n",
       "        text-align: right;\n",
       "    }\n",
       "</style>\n",
       "<table border=\"1\" class=\"dataframe\">\n",
       "  <thead>\n",
       "    <tr style=\"text-align: right;\">\n",
       "      <th></th>\n",
       "      <th>sex</th>\n",
       "      <th>age</th>\n",
       "      <th>headL</th>\n",
       "      <th>skullW</th>\n",
       "      <th>totalL</th>\n",
       "      <th>tailL</th>\n",
       "    </tr>\n",
       "  </thead>\n",
       "  <tbody>\n",
       "    <tr>\n",
       "      <th>0</th>\n",
       "      <td>m</td>\n",
       "      <td>8</td>\n",
       "      <td>94.1</td>\n",
       "      <td>60.4</td>\n",
       "      <td>89.0</td>\n",
       "      <td>36.0</td>\n",
       "    </tr>\n",
       "    <tr>\n",
       "      <th>1</th>\n",
       "      <td>f</td>\n",
       "      <td>6</td>\n",
       "      <td>92.5</td>\n",
       "      <td>57.6</td>\n",
       "      <td>91.5</td>\n",
       "      <td>36.5</td>\n",
       "    </tr>\n",
       "    <tr>\n",
       "      <th>2</th>\n",
       "      <td>f</td>\n",
       "      <td>6</td>\n",
       "      <td>94.0</td>\n",
       "      <td>60.0</td>\n",
       "      <td>95.5</td>\n",
       "      <td>39.0</td>\n",
       "    </tr>\n",
       "    <tr>\n",
       "      <th>3</th>\n",
       "      <td>f</td>\n",
       "      <td>6</td>\n",
       "      <td>93.2</td>\n",
       "      <td>57.1</td>\n",
       "      <td>92.0</td>\n",
       "      <td>38.0</td>\n",
       "    </tr>\n",
       "    <tr>\n",
       "      <th>4</th>\n",
       "      <td>f</td>\n",
       "      <td>2</td>\n",
       "      <td>91.5</td>\n",
       "      <td>56.3</td>\n",
       "      <td>85.5</td>\n",
       "      <td>36.0</td>\n",
       "    </tr>\n",
       "  </tbody>\n",
       "</table>\n",
       "</div>"
      ],
      "text/plain": [
       "  sex  age  headL  skullW  totalL  tailL\n",
       "0   m    8   94.1    60.4    89.0   36.0\n",
       "1   f    6   92.5    57.6    91.5   36.5\n",
       "2   f    6   94.0    60.0    95.5   39.0\n",
       "3   f    6   93.2    57.1    92.0   38.0\n",
       "4   f    2   91.5    56.3    85.5   36.0"
      ]
     },
     "execution_count": 2,
     "metadata": {},
     "output_type": "execute_result"
    }
   ],
   "source": [
    "# Read .csv data\n",
    "possum = pd.read_csv(\"possum.csv\")\n",
    "# The possum dataset consists of morphometric measurements on 46 possums.\n",
    "possum.head()"
   ]
  },
  {
   "cell_type": "markdown",
   "id": "progressive-angle",
   "metadata": {},
   "source": [
    "**stats.linregress:** https://docs.scipy.org/doc/scipy/reference/generated/scipy.stats.linregress.html"
   ]
  },
  {
   "cell_type": "code",
   "execution_count": 3,
   "id": "possible-premises",
   "metadata": {},
   "outputs": [],
   "source": [
    "# Building a simple model with only one term\n",
    "# Simple linear regression is a linear regression model with a single explanatory variable.\n",
    "model = stats.linregress(x = possum['age'], y = possum['headL'])"
   ]
  },
  {
   "cell_type": "code",
   "execution_count": 4,
   "id": "entertaining-oliver",
   "metadata": {},
   "outputs": [
    {
     "data": {
      "text/plain": [
       "0.5631158455392805"
      ]
     },
     "execution_count": 4,
     "metadata": {},
     "output_type": "execute_result"
    }
   ],
   "source": [
    "# Finding the slope of the regression line\n",
    "model.slope"
   ]
  },
  {
   "cell_type": "code",
   "execution_count": 5,
   "id": "productive-albert",
   "metadata": {},
   "outputs": [
    {
     "data": {
      "text/plain": [
       "90.08288948069242"
      ]
     },
     "execution_count": 5,
     "metadata": {},
     "output_type": "execute_result"
    }
   ],
   "source": [
    "# Finding the intercept of the regression line\n",
    "model.intercept"
   ]
  },
  {
   "cell_type": "code",
   "execution_count": 6,
   "id": "historical-adjustment",
   "metadata": {},
   "outputs": [
    {
     "data": {
      "text/plain": [
       "0.4011016610119052"
      ]
     },
     "execution_count": 6,
     "metadata": {},
     "output_type": "execute_result"
    }
   ],
   "source": [
    "# Finding the correlation coefficient (R)\n",
    "model.rvalue"
   ]
  },
  {
   "cell_type": "code",
   "execution_count": 7,
   "id": "cardiovascular-forth",
   "metadata": {},
   "outputs": [
    {
     "data": {
      "text/plain": [
       "0.16088254246650932"
      ]
     },
     "execution_count": 7,
     "metadata": {},
     "output_type": "execute_result"
    }
   ],
   "source": [
    "# Calculating the R-squared\n",
    "(model.rvalue ** 2)"
   ]
  },
  {
   "cell_type": "code",
   "execution_count": 8,
   "id": "affecting-purchase",
   "metadata": {},
   "outputs": [
    {
     "data": {
      "image/png": "[encoded data removed]",
      "text/plain": [
       "<Figure size 432x288 with 1 Axes>"
      ]
     },
     "metadata": {
      "needs_background": "light"
     },
     "output_type": "display_data"
    }
   ],
   "source": [
    "# Plotting the fitted line\n",
    "X = pd.DataFrame({\"age\":np.linspace(0, 9, 45)})\n",
    "y_pred = model.intercept + model.slope * X\n",
    "plt.scatter(possum['age'], possum['headL'], label = 'original data')\n",
    "plt.plot(X, y_pred, color = 'red', label = 'fitted line')\n",
    "plt.xlabel(\"age\")\n",
    "plt.ylabel(\"headL\")\n",
    "plt.legend()\n",
    "plt.show()"
   ]
  },
  {
   "cell_type": "markdown",
   "id": "norwegian-chuck",
   "metadata": {},
   "source": [
    "**sns.lmplot:** https://seaborn.pydata.org/generated/seaborn.lmplot.html"
   ]
  },
  {
   "cell_type": "code",
   "execution_count": 9,
   "id": "specialized-replacement",
   "metadata": {},
   "outputs": [
    {
     "data": {
      "image/png": "[encoded data removed]",
      "text/plain": [
       "<Figure size 360x360 with 1 Axes>"
      ]
     },
     "metadata": {
      "needs_background": "light"
     },
     "output_type": "display_data"
    }
   ],
   "source": [
    "# Alternative way to plot the fitted line\n",
    "sns.lmplot(x = \"age\", y = \"headL\", data = possum, ci = None)\n",
    "plt.xlim(0,10)\n",
    "plt.show()"
   ]
  },
  {
   "cell_type": "code",
   "execution_count": 10,
   "id": "dominant-secondary",
   "metadata": {},
   "outputs": [
    {
     "data": {
      "image/png": "[encoded data removed]",
      "text/plain": [
       "<Figure size 405.625x360 with 1 Axes>"
      ]
     },
     "metadata": {
      "needs_background": "light"
     },
     "output_type": "display_data"
    }
   ],
   "source": [
    "# Plotting two fitted lines, one for female and another for male possums\n",
    "sns.lmplot(x = \"age\", y = \"headL\", data = possum, hue = \"sex\", ci = None);\n",
    "plt.xlim(0,10)\n",
    "plt.show()"
   ]
  },
  {
   "cell_type": "markdown",
   "id": "tutorial-settlement",
   "metadata": {},
   "source": [
    "## Effect of an Influential Point"
   ]
  },
  {
   "cell_type": "code",
   "execution_count": 11,
   "id": "indonesian-judgment",
   "metadata": {},
   "outputs": [
    {
     "data": {
      "text/html": [
       "<div>\n",
       "<style scoped>\n",
       "    .dataframe tbody tr th:only-of-type {\n",
       "        vertical-align: middle;\n",
       "    }\n",
       "\n",
       "    .dataframe tbody tr th {\n",
       "        vertical-align: top;\n",
       "    }\n",
       "\n",
       "    .dataframe thead th {\n",
       "        text-align: right;\n",
       "    }\n",
       "</style>\n",
       "<table border=\"1\" class=\"dataframe\">\n",
       "  <thead>\n",
       "    <tr style=\"text-align: right;\">\n",
       "      <th></th>\n",
       "      <th>sex</th>\n",
       "      <th>age</th>\n",
       "      <th>headL</th>\n",
       "      <th>skullW</th>\n",
       "      <th>totalL</th>\n",
       "      <th>tailL</th>\n",
       "    </tr>\n",
       "  </thead>\n",
       "  <tbody>\n",
       "    <tr>\n",
       "      <th>41</th>\n",
       "      <td>m</td>\n",
       "      <td>3</td>\n",
       "      <td>85.3</td>\n",
       "      <td>54.1</td>\n",
       "      <td>77.0</td>\n",
       "      <td>32.0</td>\n",
       "    </tr>\n",
       "    <tr>\n",
       "      <th>42</th>\n",
       "      <td>f</td>\n",
       "      <td>2</td>\n",
       "      <td>90.0</td>\n",
       "      <td>55.5</td>\n",
       "      <td>81.0</td>\n",
       "      <td>32.0</td>\n",
       "    </tr>\n",
       "    <tr>\n",
       "      <th>43</th>\n",
       "      <td>m</td>\n",
       "      <td>3</td>\n",
       "      <td>85.1</td>\n",
       "      <td>51.5</td>\n",
       "      <td>76.0</td>\n",
       "      <td>35.5</td>\n",
       "    </tr>\n",
       "    <tr>\n",
       "      <th>44</th>\n",
       "      <td>m</td>\n",
       "      <td>3</td>\n",
       "      <td>90.7</td>\n",
       "      <td>55.9</td>\n",
       "      <td>81.0</td>\n",
       "      <td>34.0</td>\n",
       "    </tr>\n",
       "    <tr>\n",
       "      <th>45</th>\n",
       "      <td>m</td>\n",
       "      <td>2</td>\n",
       "      <td>91.4</td>\n",
       "      <td>54.4</td>\n",
       "      <td>84.0</td>\n",
       "      <td>35.0</td>\n",
       "    </tr>\n",
       "  </tbody>\n",
       "</table>\n",
       "</div>"
      ],
      "text/plain": [
       "   sex  age  headL  skullW  totalL  tailL\n",
       "41   m    3   85.3    54.1    77.0   32.0\n",
       "42   f    2   90.0    55.5    81.0   32.0\n",
       "43   m    3   85.1    51.5    76.0   35.5\n",
       "44   m    3   90.7    55.9    81.0   34.0\n",
       "45   m    2   91.4    54.4    84.0   35.0"
      ]
     },
     "execution_count": 11,
     "metadata": {},
     "output_type": "execute_result"
    }
   ],
   "source": [
    "# Let's look at the last 5 rows of the original dataset!\n",
    "# The original dataset has 46 rows and 6 columns.\n",
    "possum.tail()"
   ]
  },
  {
   "cell_type": "markdown",
   "id": "charged-overhead",
   "metadata": {},
   "source": [
    "**pd.DataFrame.copy:** https://pandas.pydata.org/docs/reference/api/pandas.DataFrame.copy.html"
   ]
  },
  {
   "cell_type": "code",
   "execution_count": 12,
   "id": "documentary-distribution",
   "metadata": {},
   "outputs": [],
   "source": [
    "# Now we would like to add an influential point and see how this affects the regression line.\n",
    "# We decide to add a point that behaves like an outlier to the bottom of the dataframe.\n",
    "# Let's add a point representing \"age\" = 9 and \"headL\" = 86.\n",
    "# We call the new dataframe \"possum_modified\".\n",
    "possum_modified = possum.copy()\n",
    "possum_modified.loc[46, 'age'] = 9\n",
    "possum_modified.loc[46, 'headL'] = 86"
   ]
  },
  {
   "cell_type": "code",
   "execution_count": 13,
   "id": "bright-beach",
   "metadata": {},
   "outputs": [
    {
     "data": {
      "text/html": [
       "<div>\n",
       "<style scoped>\n",
       "    .dataframe tbody tr th:only-of-type {\n",
       "        vertical-align: middle;\n",
       "    }\n",
       "\n",
       "    .dataframe tbody tr th {\n",
       "        vertical-align: top;\n",
       "    }\n",
       "\n",
       "    .dataframe thead th {\n",
       "        text-align: right;\n",
       "    }\n",
       "</style>\n",
       "<table border=\"1\" class=\"dataframe\">\n",
       "  <thead>\n",
       "    <tr style=\"text-align: right;\">\n",
       "      <th></th>\n",
       "      <th>sex</th>\n",
       "      <th>age</th>\n",
       "      <th>headL</th>\n",
       "      <th>skullW</th>\n",
       "      <th>totalL</th>\n",
       "      <th>tailL</th>\n",
       "    </tr>\n",
       "  </thead>\n",
       "  <tbody>\n",
       "    <tr>\n",
       "      <th>42</th>\n",
       "      <td>f</td>\n",
       "      <td>2.0</td>\n",
       "      <td>90.0</td>\n",
       "      <td>55.5</td>\n",
       "      <td>81.0</td>\n",
       "      <td>32.0</td>\n",
       "    </tr>\n",
       "    <tr>\n",
       "      <th>43</th>\n",
       "      <td>m</td>\n",
       "      <td>3.0</td>\n",
       "      <td>85.1</td>\n",
       "      <td>51.5</td>\n",
       "      <td>76.0</td>\n",
       "      <td>35.5</td>\n",
       "    </tr>\n",
       "    <tr>\n",
       "      <th>44</th>\n",
       "      <td>m</td>\n",
       "      <td>3.0</td>\n",
       "      <td>90.7</td>\n",
       "      <td>55.9</td>\n",
       "      <td>81.0</td>\n",
       "      <td>34.0</td>\n",
       "    </tr>\n",
       "    <tr>\n",
       "      <th>45</th>\n",
       "      <td>m</td>\n",
       "      <td>2.0</td>\n",
       "      <td>91.4</td>\n",
       "      <td>54.4</td>\n",
       "      <td>84.0</td>\n",
       "      <td>35.0</td>\n",
       "    </tr>\n",
       "    <tr>\n",
       "      <th>46</th>\n",
       "      <td>NaN</td>\n",
       "      <td>9.0</td>\n",
       "      <td>86.0</td>\n",
       "      <td>NaN</td>\n",
       "      <td>NaN</td>\n",
       "      <td>NaN</td>\n",
       "    </tr>\n",
       "  </tbody>\n",
       "</table>\n",
       "</div>"
      ],
      "text/plain": [
       "    sex  age  headL  skullW  totalL  tailL\n",
       "42    f  2.0   90.0    55.5    81.0   32.0\n",
       "43    m  3.0   85.1    51.5    76.0   35.5\n",
       "44    m  3.0   90.7    55.9    81.0   34.0\n",
       "45    m  2.0   91.4    54.4    84.0   35.0\n",
       "46  NaN  9.0   86.0     NaN     NaN    NaN"
      ]
     },
     "execution_count": 13,
     "metadata": {},
     "output_type": "execute_result"
    }
   ],
   "source": [
    "# Now let's look at the last 5 rows of the modified dataframe!\n",
    "possum_modified.tail()"
   ]
  },
  {
   "cell_type": "code",
   "execution_count": 14,
   "id": "acute-spank",
   "metadata": {},
   "outputs": [
    {
     "data": {
      "image/png": "[encoded data removed]",
      "text/plain": [
       "<Figure size 432x288 with 1 Axes>"
      ]
     },
     "metadata": {
      "needs_background": "light"
     },
     "output_type": "display_data"
    }
   ],
   "source": [
    "# The new point that is added to the dataframe is identified in red in the scatterplot below.\n",
    "plt.scatter(possum_modified.loc[0:45, 'age'], possum_modified.loc[0:45, 'headL'], color = 'blue')\n",
    "plt.scatter(possum_modified.loc[46, 'age'], possum_modified.loc[46, 'headL'], color = 'red')\n",
    "plt.xlabel(\"age\")\n",
    "plt.ylabel(\"headL\")\n",
    "plt.show()"
   ]
  },
  {
   "cell_type": "code",
   "execution_count": 15,
   "id": "arabic-detector",
   "metadata": {},
   "outputs": [],
   "source": [
    "# Building a new model using the modified dataframe\n",
    "model_modified = stats.linregress(x = possum_modified['age'], y = possum_modified['headL'])"
   ]
  },
  {
   "cell_type": "code",
   "execution_count": 16,
   "id": "secure-murder",
   "metadata": {},
   "outputs": [
    {
     "data": {
      "text/plain": [
       "0.3585469261900172"
      ]
     },
     "execution_count": 16,
     "metadata": {},
     "output_type": "execute_result"
    }
   ],
   "source": [
    "# Finding the slope of the regression line\n",
    "model_modified.slope"
   ]
  },
  {
   "cell_type": "code",
   "execution_count": 17,
   "id": "skilled-diesel",
   "metadata": {},
   "outputs": [
    {
     "data": {
      "text/plain": [
       "90.71952206590865"
      ]
     },
     "execution_count": 17,
     "metadata": {},
     "output_type": "execute_result"
    }
   ],
   "source": [
    "# Finding the intercept of the regression line\n",
    "model_modified.intercept"
   ]
  },
  {
   "cell_type": "code",
   "execution_count": 18,
   "id": "planned-xerox",
   "metadata": {},
   "outputs": [
    {
     "data": {
      "text/plain": [
       "0.2584020565559145"
      ]
     },
     "execution_count": 18,
     "metadata": {},
     "output_type": "execute_result"
    }
   ],
   "source": [
    "# Finding the correlation coefficient (R)\n",
    "model_modified.rvalue"
   ]
  },
  {
   "cell_type": "code",
   "execution_count": 19,
   "id": "talented-colon",
   "metadata": {},
   "outputs": [
    {
     "data": {
      "text/plain": [
       "0.06677162283232604"
      ]
     },
     "execution_count": 19,
     "metadata": {},
     "output_type": "execute_result"
    }
   ],
   "source": [
    "# Calculating the R-squared\n",
    "(model_modified.rvalue ** 2)"
   ]
  },
  {
   "cell_type": "code",
   "execution_count": 20,
   "id": "seeing-wiring",
   "metadata": {},
   "outputs": [
    {
     "data": {
      "image/png": "[encoded data removed]",
      "text/plain": [
       "<Figure size 360x360 with 1 Axes>"
      ]
     },
     "metadata": {
      "needs_background": "light"
     },
     "output_type": "display_data"
    }
   ],
   "source": [
    "# Plotting the fitted line\n",
    "sns.lmplot(x = \"age\", y = \"headL\", data = possum_modified, ci = None)\n",
    "plt.xlim(0,10)\n",
    "plt.show()"
   ]
  },
  {
   "cell_type": "code",
   "execution_count": null,
   "id": "54ff9e2f",
   "metadata": {},
   "outputs": [],
   "source": []
  }
 ],
 "metadata": {
  "kernelspec": {
   "display_name": "Python 3",
   "language": "python",
   "name": "python3"
  },
  "language_info": {
   "codemirror_mode": {
    "name": "ipython",
    "version": 3
   },
   "file_extension": ".py",
   "mimetype": "text/x-python",
   "name": "python",
   "nbconvert_exporter": "python",
   "pygments_lexer": "ipython3",
   "version": "3.8.8"
  }
 },
 "nbformat": 4,
 "nbformat_minor": 5
}
